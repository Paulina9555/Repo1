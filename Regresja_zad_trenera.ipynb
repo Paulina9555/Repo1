{
  "nbformat": 4,
  "nbformat_minor": 0,
  "metadata": {
    "colab": {
      "provenance": [],
      "collapsed_sections": [
        "Pgfo_gJqrJo1"
      ],
      "include_colab_link": true
    },
    "kernelspec": {
      "name": "python3",
      "display_name": "Python 3"
    },
    "language_info": {
      "name": "python"
    },
    "widgets": {
      "application/vnd.jupyter.widget-state+json": {
        "485f19a6d4464be68b8bce2e0bdef84c": {
          "model_module": "@jupyter-widgets/controls",
          "model_name": "HBoxModel",
          "model_module_version": "1.5.0",
          "state": {
            "_dom_classes": [],
            "_model_module": "@jupyter-widgets/controls",
            "_model_module_version": "1.5.0",
            "_model_name": "HBoxModel",
            "_view_count": null,
            "_view_module": "@jupyter-widgets/controls",
            "_view_module_version": "1.5.0",
            "_view_name": "HBoxView",
            "box_style": "",
            "children": [
              "IPY_MODEL_57b4c2155b1a453fbed24349962814aa",
              "IPY_MODEL_2242aa86ee904eea98c591d9de4c61f4",
              "IPY_MODEL_e4f21a6c6697471cbcde5d18c0a19314"
            ],
            "layout": "IPY_MODEL_19bb671e16104517ab5d9c825fa416f0"
          }
        },
        "57b4c2155b1a453fbed24349962814aa": {
          "model_module": "@jupyter-widgets/controls",
          "model_name": "HTMLModel",
          "model_module_version": "1.5.0",
          "state": {
            "_dom_classes": [],
            "_model_module": "@jupyter-widgets/controls",
            "_model_module_version": "1.5.0",
            "_model_name": "HTMLModel",
            "_view_count": null,
            "_view_module": "@jupyter-widgets/controls",
            "_view_module_version": "1.5.0",
            "_view_name": "HTMLView",
            "description": "",
            "description_tooltip": null,
            "layout": "IPY_MODEL_7d725c15aa15405d924c5aa924731ccb",
            "placeholder": "​",
            "style": "IPY_MODEL_c21595a4fb314c5aa0fdbd2030fca192",
            "value": "Summarize dataset: 100%"
          }
        },
        "2242aa86ee904eea98c591d9de4c61f4": {
          "model_module": "@jupyter-widgets/controls",
          "model_name": "FloatProgressModel",
          "model_module_version": "1.5.0",
          "state": {
            "_dom_classes": [],
            "_model_module": "@jupyter-widgets/controls",
            "_model_module_version": "1.5.0",
            "_model_name": "FloatProgressModel",
            "_view_count": null,
            "_view_module": "@jupyter-widgets/controls",
            "_view_module_version": "1.5.0",
            "_view_name": "ProgressView",
            "bar_style": "success",
            "description": "",
            "description_tooltip": null,
            "layout": "IPY_MODEL_18a8120b209944e3ac29f3d3e5d321cd",
            "max": 5,
            "min": 0,
            "orientation": "horizontal",
            "style": "IPY_MODEL_f1ca1ee643104ba18b42282ce2046fcc",
            "value": 5
          }
        },
        "e4f21a6c6697471cbcde5d18c0a19314": {
          "model_module": "@jupyter-widgets/controls",
          "model_name": "HTMLModel",
          "model_module_version": "1.5.0",
          "state": {
            "_dom_classes": [],
            "_model_module": "@jupyter-widgets/controls",
            "_model_module_version": "1.5.0",
            "_model_name": "HTMLModel",
            "_view_count": null,
            "_view_module": "@jupyter-widgets/controls",
            "_view_module_version": "1.5.0",
            "_view_name": "HTMLView",
            "description": "",
            "description_tooltip": null,
            "layout": "IPY_MODEL_ad5a0b8c5c2a4e5f91bfedd8b00b3e33",
            "placeholder": "​",
            "style": "IPY_MODEL_08af796f4f54497cab5983ac24e4fb04",
            "value": " 24/24 [00:05&lt;00:00,  4.19it/s, Completed]"
          }
        },
        "19bb671e16104517ab5d9c825fa416f0": {
          "model_module": "@jupyter-widgets/base",
          "model_name": "LayoutModel",
          "model_module_version": "1.2.0",
          "state": {
            "_model_module": "@jupyter-widgets/base",
            "_model_module_version": "1.2.0",
            "_model_name": "LayoutModel",
            "_view_count": null,
            "_view_module": "@jupyter-widgets/base",
            "_view_module_version": "1.2.0",
            "_view_name": "LayoutView",
            "align_content": null,
            "align_items": null,
            "align_self": null,
            "border": null,
            "bottom": null,
            "display": null,
            "flex": null,
            "flex_flow": null,
            "grid_area": null,
            "grid_auto_columns": null,
            "grid_auto_flow": null,
            "grid_auto_rows": null,
            "grid_column": null,
            "grid_gap": null,
            "grid_row": null,
            "grid_template_areas": null,
            "grid_template_columns": null,
            "grid_template_rows": null,
            "height": null,
            "justify_content": null,
            "justify_items": null,
            "left": null,
            "margin": null,
            "max_height": null,
            "max_width": null,
            "min_height": null,
            "min_width": null,
            "object_fit": null,
            "object_position": null,
            "order": null,
            "overflow": null,
            "overflow_x": null,
            "overflow_y": null,
            "padding": null,
            "right": null,
            "top": null,
            "visibility": null,
            "width": null
          }
        },
        "7d725c15aa15405d924c5aa924731ccb": {
          "model_module": "@jupyter-widgets/base",
          "model_name": "LayoutModel",
          "model_module_version": "1.2.0",
          "state": {
            "_model_module": "@jupyter-widgets/base",
            "_model_module_version": "1.2.0",
            "_model_name": "LayoutModel",
            "_view_count": null,
            "_view_module": "@jupyter-widgets/base",
            "_view_module_version": "1.2.0",
            "_view_name": "LayoutView",
            "align_content": null,
            "align_items": null,
            "align_self": null,
            "border": null,
            "bottom": null,
            "display": null,
            "flex": null,
            "flex_flow": null,
            "grid_area": null,
            "grid_auto_columns": null,
            "grid_auto_flow": null,
            "grid_auto_rows": null,
            "grid_column": null,
            "grid_gap": null,
            "grid_row": null,
            "grid_template_areas": null,
            "grid_template_columns": null,
            "grid_template_rows": null,
            "height": null,
            "justify_content": null,
            "justify_items": null,
            "left": null,
            "margin": null,
            "max_height": null,
            "max_width": null,
            "min_height": null,
            "min_width": null,
            "object_fit": null,
            "object_position": null,
            "order": null,
            "overflow": null,
            "overflow_x": null,
            "overflow_y": null,
            "padding": null,
            "right": null,
            "top": null,
            "visibility": null,
            "width": null
          }
        },
        "c21595a4fb314c5aa0fdbd2030fca192": {
          "model_module": "@jupyter-widgets/controls",
          "model_name": "DescriptionStyleModel",
          "model_module_version": "1.5.0",
          "state": {
            "_model_module": "@jupyter-widgets/controls",
            "_model_module_version": "1.5.0",
            "_model_name": "DescriptionStyleModel",
            "_view_count": null,
            "_view_module": "@jupyter-widgets/base",
            "_view_module_version": "1.2.0",
            "_view_name": "StyleView",
            "description_width": ""
          }
        },
        "18a8120b209944e3ac29f3d3e5d321cd": {
          "model_module": "@jupyter-widgets/base",
          "model_name": "LayoutModel",
          "model_module_version": "1.2.0",
          "state": {
            "_model_module": "@jupyter-widgets/base",
            "_model_module_version": "1.2.0",
            "_model_name": "LayoutModel",
            "_view_count": null,
            "_view_module": "@jupyter-widgets/base",
            "_view_module_version": "1.2.0",
            "_view_name": "LayoutView",
            "align_content": null,
            "align_items": null,
            "align_self": null,
            "border": null,
            "bottom": null,
            "display": null,
            "flex": null,
            "flex_flow": null,
            "grid_area": null,
            "grid_auto_columns": null,
            "grid_auto_flow": null,
            "grid_auto_rows": null,
            "grid_column": null,
            "grid_gap": null,
            "grid_row": null,
            "grid_template_areas": null,
            "grid_template_columns": null,
            "grid_template_rows": null,
            "height": null,
            "justify_content": null,
            "justify_items": null,
            "left": null,
            "margin": null,
            "max_height": null,
            "max_width": null,
            "min_height": null,
            "min_width": null,
            "object_fit": null,
            "object_position": null,
            "order": null,
            "overflow": null,
            "overflow_x": null,
            "overflow_y": null,
            "padding": null,
            "right": null,
            "top": null,
            "visibility": null,
            "width": null
          }
        },
        "f1ca1ee643104ba18b42282ce2046fcc": {
          "model_module": "@jupyter-widgets/controls",
          "model_name": "ProgressStyleModel",
          "model_module_version": "1.5.0",
          "state": {
            "_model_module": "@jupyter-widgets/controls",
            "_model_module_version": "1.5.0",
            "_model_name": "ProgressStyleModel",
            "_view_count": null,
            "_view_module": "@jupyter-widgets/base",
            "_view_module_version": "1.2.0",
            "_view_name": "StyleView",
            "bar_color": null,
            "description_width": ""
          }
        },
        "ad5a0b8c5c2a4e5f91bfedd8b00b3e33": {
          "model_module": "@jupyter-widgets/base",
          "model_name": "LayoutModel",
          "model_module_version": "1.2.0",
          "state": {
            "_model_module": "@jupyter-widgets/base",
            "_model_module_version": "1.2.0",
            "_model_name": "LayoutModel",
            "_view_count": null,
            "_view_module": "@jupyter-widgets/base",
            "_view_module_version": "1.2.0",
            "_view_name": "LayoutView",
            "align_content": null,
            "align_items": null,
            "align_self": null,
            "border": null,
            "bottom": null,
            "display": null,
            "flex": null,
            "flex_flow": null,
            "grid_area": null,
            "grid_auto_columns": null,
            "grid_auto_flow": null,
            "grid_auto_rows": null,
            "grid_column": null,
            "grid_gap": null,
            "grid_row": null,
            "grid_template_areas": null,
            "grid_template_columns": null,
            "grid_template_rows": null,
            "height": null,
            "justify_content": null,
            "justify_items": null,
            "left": null,
            "margin": null,
            "max_height": null,
            "max_width": null,
            "min_height": null,
            "min_width": null,
            "object_fit": null,
            "object_position": null,
            "order": null,
            "overflow": null,
            "overflow_x": null,
            "overflow_y": null,
            "padding": null,
            "right": null,
            "top": null,
            "visibility": null,
            "width": null
          }
        },
        "08af796f4f54497cab5983ac24e4fb04": {
          "model_module": "@jupyter-widgets/controls",
          "model_name": "DescriptionStyleModel",
          "model_module_version": "1.5.0",
          "state": {
            "_model_module": "@jupyter-widgets/controls",
            "_model_module_version": "1.5.0",
            "_model_name": "DescriptionStyleModel",
            "_view_count": null,
            "_view_module": "@jupyter-widgets/base",
            "_view_module_version": "1.2.0",
            "_view_name": "StyleView",
            "description_width": ""
          }
        },
        "d1da6a60a0cb42dfb1c935e835add57c": {
          "model_module": "@jupyter-widgets/controls",
          "model_name": "HBoxModel",
          "model_module_version": "1.5.0",
          "state": {
            "_dom_classes": [],
            "_model_module": "@jupyter-widgets/controls",
            "_model_module_version": "1.5.0",
            "_model_name": "HBoxModel",
            "_view_count": null,
            "_view_module": "@jupyter-widgets/controls",
            "_view_module_version": "1.5.0",
            "_view_name": "HBoxView",
            "box_style": "",
            "children": [
              "IPY_MODEL_0444cc4c83cf496ebe43f6fdeb5f4ae6",
              "IPY_MODEL_6552c6baf9a04df6b3b609297b72d559",
              "IPY_MODEL_5375880b50014468aeb8710ff2aa261f"
            ],
            "layout": "IPY_MODEL_f428731b738c4f0aae628e8055dd0600"
          }
        },
        "0444cc4c83cf496ebe43f6fdeb5f4ae6": {
          "model_module": "@jupyter-widgets/controls",
          "model_name": "HTMLModel",
          "model_module_version": "1.5.0",
          "state": {
            "_dom_classes": [],
            "_model_module": "@jupyter-widgets/controls",
            "_model_module_version": "1.5.0",
            "_model_name": "HTMLModel",
            "_view_count": null,
            "_view_module": "@jupyter-widgets/controls",
            "_view_module_version": "1.5.0",
            "_view_name": "HTMLView",
            "description": "",
            "description_tooltip": null,
            "layout": "IPY_MODEL_c432bc6c52c44dabbc903ac8a25a06d1",
            "placeholder": "​",
            "style": "IPY_MODEL_34185f4354b34f8dbbae7d3ad986330a",
            "value": "Generate report structure: 100%"
          }
        },
        "6552c6baf9a04df6b3b609297b72d559": {
          "model_module": "@jupyter-widgets/controls",
          "model_name": "FloatProgressModel",
          "model_module_version": "1.5.0",
          "state": {
            "_dom_classes": [],
            "_model_module": "@jupyter-widgets/controls",
            "_model_module_version": "1.5.0",
            "_model_name": "FloatProgressModel",
            "_view_count": null,
            "_view_module": "@jupyter-widgets/controls",
            "_view_module_version": "1.5.0",
            "_view_name": "ProgressView",
            "bar_style": "success",
            "description": "",
            "description_tooltip": null,
            "layout": "IPY_MODEL_dfd45e356e824852884e4ead12da61af",
            "max": 1,
            "min": 0,
            "orientation": "horizontal",
            "style": "IPY_MODEL_fa1aca452c7f4a4c910b80f84ce5170f",
            "value": 1
          }
        },
        "5375880b50014468aeb8710ff2aa261f": {
          "model_module": "@jupyter-widgets/controls",
          "model_name": "HTMLModel",
          "model_module_version": "1.5.0",
          "state": {
            "_dom_classes": [],
            "_model_module": "@jupyter-widgets/controls",
            "_model_module_version": "1.5.0",
            "_model_name": "HTMLModel",
            "_view_count": null,
            "_view_module": "@jupyter-widgets/controls",
            "_view_module_version": "1.5.0",
            "_view_name": "HTMLView",
            "description": "",
            "description_tooltip": null,
            "layout": "IPY_MODEL_e3ed43a9b2a94198a95e989e569c2be2",
            "placeholder": "​",
            "style": "IPY_MODEL_fded3839a79847fe9ad0fd6463a6a964",
            "value": " 1/1 [00:03&lt;00:00,  3.11s/it]"
          }
        },
        "f428731b738c4f0aae628e8055dd0600": {
          "model_module": "@jupyter-widgets/base",
          "model_name": "LayoutModel",
          "model_module_version": "1.2.0",
          "state": {
            "_model_module": "@jupyter-widgets/base",
            "_model_module_version": "1.2.0",
            "_model_name": "LayoutModel",
            "_view_count": null,
            "_view_module": "@jupyter-widgets/base",
            "_view_module_version": "1.2.0",
            "_view_name": "LayoutView",
            "align_content": null,
            "align_items": null,
            "align_self": null,
            "border": null,
            "bottom": null,
            "display": null,
            "flex": null,
            "flex_flow": null,
            "grid_area": null,
            "grid_auto_columns": null,
            "grid_auto_flow": null,
            "grid_auto_rows": null,
            "grid_column": null,
            "grid_gap": null,
            "grid_row": null,
            "grid_template_areas": null,
            "grid_template_columns": null,
            "grid_template_rows": null,
            "height": null,
            "justify_content": null,
            "justify_items": null,
            "left": null,
            "margin": null,
            "max_height": null,
            "max_width": null,
            "min_height": null,
            "min_width": null,
            "object_fit": null,
            "object_position": null,
            "order": null,
            "overflow": null,
            "overflow_x": null,
            "overflow_y": null,
            "padding": null,
            "right": null,
            "top": null,
            "visibility": null,
            "width": null
          }
        },
        "c432bc6c52c44dabbc903ac8a25a06d1": {
          "model_module": "@jupyter-widgets/base",
          "model_name": "LayoutModel",
          "model_module_version": "1.2.0",
          "state": {
            "_model_module": "@jupyter-widgets/base",
            "_model_module_version": "1.2.0",
            "_model_name": "LayoutModel",
            "_view_count": null,
            "_view_module": "@jupyter-widgets/base",
            "_view_module_version": "1.2.0",
            "_view_name": "LayoutView",
            "align_content": null,
            "align_items": null,
            "align_self": null,
            "border": null,
            "bottom": null,
            "display": null,
            "flex": null,
            "flex_flow": null,
            "grid_area": null,
            "grid_auto_columns": null,
            "grid_auto_flow": null,
            "grid_auto_rows": null,
            "grid_column": null,
            "grid_gap": null,
            "grid_row": null,
            "grid_template_areas": null,
            "grid_template_columns": null,
            "grid_template_rows": null,
            "height": null,
            "justify_content": null,
            "justify_items": null,
            "left": null,
            "margin": null,
            "max_height": null,
            "max_width": null,
            "min_height": null,
            "min_width": null,
            "object_fit": null,
            "object_position": null,
            "order": null,
            "overflow": null,
            "overflow_x": null,
            "overflow_y": null,
            "padding": null,
            "right": null,
            "top": null,
            "visibility": null,
            "width": null
          }
        },
        "34185f4354b34f8dbbae7d3ad986330a": {
          "model_module": "@jupyter-widgets/controls",
          "model_name": "DescriptionStyleModel",
          "model_module_version": "1.5.0",
          "state": {
            "_model_module": "@jupyter-widgets/controls",
            "_model_module_version": "1.5.0",
            "_model_name": "DescriptionStyleModel",
            "_view_count": null,
            "_view_module": "@jupyter-widgets/base",
            "_view_module_version": "1.2.0",
            "_view_name": "StyleView",
            "description_width": ""
          }
        },
        "dfd45e356e824852884e4ead12da61af": {
          "model_module": "@jupyter-widgets/base",
          "model_name": "LayoutModel",
          "model_module_version": "1.2.0",
          "state": {
            "_model_module": "@jupyter-widgets/base",
            "_model_module_version": "1.2.0",
            "_model_name": "LayoutModel",
            "_view_count": null,
            "_view_module": "@jupyter-widgets/base",
            "_view_module_version": "1.2.0",
            "_view_name": "LayoutView",
            "align_content": null,
            "align_items": null,
            "align_self": null,
            "border": null,
            "bottom": null,
            "display": null,
            "flex": null,
            "flex_flow": null,
            "grid_area": null,
            "grid_auto_columns": null,
            "grid_auto_flow": null,
            "grid_auto_rows": null,
            "grid_column": null,
            "grid_gap": null,
            "grid_row": null,
            "grid_template_areas": null,
            "grid_template_columns": null,
            "grid_template_rows": null,
            "height": null,
            "justify_content": null,
            "justify_items": null,
            "left": null,
            "margin": null,
            "max_height": null,
            "max_width": null,
            "min_height": null,
            "min_width": null,
            "object_fit": null,
            "object_position": null,
            "order": null,
            "overflow": null,
            "overflow_x": null,
            "overflow_y": null,
            "padding": null,
            "right": null,
            "top": null,
            "visibility": null,
            "width": null
          }
        },
        "fa1aca452c7f4a4c910b80f84ce5170f": {
          "model_module": "@jupyter-widgets/controls",
          "model_name": "ProgressStyleModel",
          "model_module_version": "1.5.0",
          "state": {
            "_model_module": "@jupyter-widgets/controls",
            "_model_module_version": "1.5.0",
            "_model_name": "ProgressStyleModel",
            "_view_count": null,
            "_view_module": "@jupyter-widgets/base",
            "_view_module_version": "1.2.0",
            "_view_name": "StyleView",
            "bar_color": null,
            "description_width": ""
          }
        },
        "e3ed43a9b2a94198a95e989e569c2be2": {
          "model_module": "@jupyter-widgets/base",
          "model_name": "LayoutModel",
          "model_module_version": "1.2.0",
          "state": {
            "_model_module": "@jupyter-widgets/base",
            "_model_module_version": "1.2.0",
            "_model_name": "LayoutModel",
            "_view_count": null,
            "_view_module": "@jupyter-widgets/base",
            "_view_module_version": "1.2.0",
            "_view_name": "LayoutView",
            "align_content": null,
            "align_items": null,
            "align_self": null,
            "border": null,
            "bottom": null,
            "display": null,
            "flex": null,
            "flex_flow": null,
            "grid_area": null,
            "grid_auto_columns": null,
            "grid_auto_flow": null,
            "grid_auto_rows": null,
            "grid_column": null,
            "grid_gap": null,
            "grid_row": null,
            "grid_template_areas": null,
            "grid_template_columns": null,
            "grid_template_rows": null,
            "height": null,
            "justify_content": null,
            "justify_items": null,
            "left": null,
            "margin": null,
            "max_height": null,
            "max_width": null,
            "min_height": null,
            "min_width": null,
            "object_fit": null,
            "object_position": null,
            "order": null,
            "overflow": null,
            "overflow_x": null,
            "overflow_y": null,
            "padding": null,
            "right": null,
            "top": null,
            "visibility": null,
            "width": null
          }
        },
        "fded3839a79847fe9ad0fd6463a6a964": {
          "model_module": "@jupyter-widgets/controls",
          "model_name": "DescriptionStyleModel",
          "model_module_version": "1.5.0",
          "state": {
            "_model_module": "@jupyter-widgets/controls",
            "_model_module_version": "1.5.0",
            "_model_name": "DescriptionStyleModel",
            "_view_count": null,
            "_view_module": "@jupyter-widgets/base",
            "_view_module_version": "1.2.0",
            "_view_name": "StyleView",
            "description_width": ""
          }
        },
        "a8163fe8e33148b982821b100d781767": {
          "model_module": "@jupyter-widgets/controls",
          "model_name": "HBoxModel",
          "model_module_version": "1.5.0",
          "state": {
            "_dom_classes": [],
            "_model_module": "@jupyter-widgets/controls",
            "_model_module_version": "1.5.0",
            "_model_name": "HBoxModel",
            "_view_count": null,
            "_view_module": "@jupyter-widgets/controls",
            "_view_module_version": "1.5.0",
            "_view_name": "HBoxView",
            "box_style": "",
            "children": [
              "IPY_MODEL_ebdec1c3a0564730902571f2fc812f70",
              "IPY_MODEL_cc4ecea485744d97a75c0f963e6b2014",
              "IPY_MODEL_a0203d2bf82b42d1b3b7180b7fbc7027"
            ],
            "layout": "IPY_MODEL_28d64cc848aa4aef85bc7e1cbe591175"
          }
        },
        "ebdec1c3a0564730902571f2fc812f70": {
          "model_module": "@jupyter-widgets/controls",
          "model_name": "HTMLModel",
          "model_module_version": "1.5.0",
          "state": {
            "_dom_classes": [],
            "_model_module": "@jupyter-widgets/controls",
            "_model_module_version": "1.5.0",
            "_model_name": "HTMLModel",
            "_view_count": null,
            "_view_module": "@jupyter-widgets/controls",
            "_view_module_version": "1.5.0",
            "_view_name": "HTMLView",
            "description": "",
            "description_tooltip": null,
            "layout": "IPY_MODEL_91ed232024fa4dda9e8558735e99c817",
            "placeholder": "​",
            "style": "IPY_MODEL_8ea044120acd4a61a9981a317a2e8c76",
            "value": "Render HTML: 100%"
          }
        },
        "cc4ecea485744d97a75c0f963e6b2014": {
          "model_module": "@jupyter-widgets/controls",
          "model_name": "FloatProgressModel",
          "model_module_version": "1.5.0",
          "state": {
            "_dom_classes": [],
            "_model_module": "@jupyter-widgets/controls",
            "_model_module_version": "1.5.0",
            "_model_name": "FloatProgressModel",
            "_view_count": null,
            "_view_module": "@jupyter-widgets/controls",
            "_view_module_version": "1.5.0",
            "_view_name": "ProgressView",
            "bar_style": "success",
            "description": "",
            "description_tooltip": null,
            "layout": "IPY_MODEL_2517fd9ccf9a4326879d70b9af23f9f5",
            "max": 1,
            "min": 0,
            "orientation": "horizontal",
            "style": "IPY_MODEL_fe9c59f27fc142c28383e79107bf2076",
            "value": 1
          }
        },
        "a0203d2bf82b42d1b3b7180b7fbc7027": {
          "model_module": "@jupyter-widgets/controls",
          "model_name": "HTMLModel",
          "model_module_version": "1.5.0",
          "state": {
            "_dom_classes": [],
            "_model_module": "@jupyter-widgets/controls",
            "_model_module_version": "1.5.0",
            "_model_name": "HTMLModel",
            "_view_count": null,
            "_view_module": "@jupyter-widgets/controls",
            "_view_module_version": "1.5.0",
            "_view_name": "HTMLView",
            "description": "",
            "description_tooltip": null,
            "layout": "IPY_MODEL_72ecf7f4b5c142d7a2b278ef2dc409aa",
            "placeholder": "​",
            "style": "IPY_MODEL_66d40cbba6224b6e9404b80a04faa665",
            "value": " 1/1 [00:01&lt;00:00,  1.22s/it]"
          }
        },
        "28d64cc848aa4aef85bc7e1cbe591175": {
          "model_module": "@jupyter-widgets/base",
          "model_name": "LayoutModel",
          "model_module_version": "1.2.0",
          "state": {
            "_model_module": "@jupyter-widgets/base",
            "_model_module_version": "1.2.0",
            "_model_name": "LayoutModel",
            "_view_count": null,
            "_view_module": "@jupyter-widgets/base",
            "_view_module_version": "1.2.0",
            "_view_name": "LayoutView",
            "align_content": null,
            "align_items": null,
            "align_self": null,
            "border": null,
            "bottom": null,
            "display": null,
            "flex": null,
            "flex_flow": null,
            "grid_area": null,
            "grid_auto_columns": null,
            "grid_auto_flow": null,
            "grid_auto_rows": null,
            "grid_column": null,
            "grid_gap": null,
            "grid_row": null,
            "grid_template_areas": null,
            "grid_template_columns": null,
            "grid_template_rows": null,
            "height": null,
            "justify_content": null,
            "justify_items": null,
            "left": null,
            "margin": null,
            "max_height": null,
            "max_width": null,
            "min_height": null,
            "min_width": null,
            "object_fit": null,
            "object_position": null,
            "order": null,
            "overflow": null,
            "overflow_x": null,
            "overflow_y": null,
            "padding": null,
            "right": null,
            "top": null,
            "visibility": null,
            "width": null
          }
        },
        "91ed232024fa4dda9e8558735e99c817": {
          "model_module": "@jupyter-widgets/base",
          "model_name": "LayoutModel",
          "model_module_version": "1.2.0",
          "state": {
            "_model_module": "@jupyter-widgets/base",
            "_model_module_version": "1.2.0",
            "_model_name": "LayoutModel",
            "_view_count": null,
            "_view_module": "@jupyter-widgets/base",
            "_view_module_version": "1.2.0",
            "_view_name": "LayoutView",
            "align_content": null,
            "align_items": null,
            "align_self": null,
            "border": null,
            "bottom": null,
            "display": null,
            "flex": null,
            "flex_flow": null,
            "grid_area": null,
            "grid_auto_columns": null,
            "grid_auto_flow": null,
            "grid_auto_rows": null,
            "grid_column": null,
            "grid_gap": null,
            "grid_row": null,
            "grid_template_areas": null,
            "grid_template_columns": null,
            "grid_template_rows": null,
            "height": null,
            "justify_content": null,
            "justify_items": null,
            "left": null,
            "margin": null,
            "max_height": null,
            "max_width": null,
            "min_height": null,
            "min_width": null,
            "object_fit": null,
            "object_position": null,
            "order": null,
            "overflow": null,
            "overflow_x": null,
            "overflow_y": null,
            "padding": null,
            "right": null,
            "top": null,
            "visibility": null,
            "width": null
          }
        },
        "8ea044120acd4a61a9981a317a2e8c76": {
          "model_module": "@jupyter-widgets/controls",
          "model_name": "DescriptionStyleModel",
          "model_module_version": "1.5.0",
          "state": {
            "_model_module": "@jupyter-widgets/controls",
            "_model_module_version": "1.5.0",
            "_model_name": "DescriptionStyleModel",
            "_view_count": null,
            "_view_module": "@jupyter-widgets/base",
            "_view_module_version": "1.2.0",
            "_view_name": "StyleView",
            "description_width": ""
          }
        },
        "2517fd9ccf9a4326879d70b9af23f9f5": {
          "model_module": "@jupyter-widgets/base",
          "model_name": "LayoutModel",
          "model_module_version": "1.2.0",
          "state": {
            "_model_module": "@jupyter-widgets/base",
            "_model_module_version": "1.2.0",
            "_model_name": "LayoutModel",
            "_view_count": null,
            "_view_module": "@jupyter-widgets/base",
            "_view_module_version": "1.2.0",
            "_view_name": "LayoutView",
            "align_content": null,
            "align_items": null,
            "align_self": null,
            "border": null,
            "bottom": null,
            "display": null,
            "flex": null,
            "flex_flow": null,
            "grid_area": null,
            "grid_auto_columns": null,
            "grid_auto_flow": null,
            "grid_auto_rows": null,
            "grid_column": null,
            "grid_gap": null,
            "grid_row": null,
            "grid_template_areas": null,
            "grid_template_columns": null,
            "grid_template_rows": null,
            "height": null,
            "justify_content": null,
            "justify_items": null,
            "left": null,
            "margin": null,
            "max_height": null,
            "max_width": null,
            "min_height": null,
            "min_width": null,
            "object_fit": null,
            "object_position": null,
            "order": null,
            "overflow": null,
            "overflow_x": null,
            "overflow_y": null,
            "padding": null,
            "right": null,
            "top": null,
            "visibility": null,
            "width": null
          }
        },
        "fe9c59f27fc142c28383e79107bf2076": {
          "model_module": "@jupyter-widgets/controls",
          "model_name": "ProgressStyleModel",
          "model_module_version": "1.5.0",
          "state": {
            "_model_module": "@jupyter-widgets/controls",
            "_model_module_version": "1.5.0",
            "_model_name": "ProgressStyleModel",
            "_view_count": null,
            "_view_module": "@jupyter-widgets/base",
            "_view_module_version": "1.2.0",
            "_view_name": "StyleView",
            "bar_color": null,
            "description_width": ""
          }
        },
        "72ecf7f4b5c142d7a2b278ef2dc409aa": {
          "model_module": "@jupyter-widgets/base",
          "model_name": "LayoutModel",
          "model_module_version": "1.2.0",
          "state": {
            "_model_module": "@jupyter-widgets/base",
            "_model_module_version": "1.2.0",
            "_model_name": "LayoutModel",
            "_view_count": null,
            "_view_module": "@jupyter-widgets/base",
            "_view_module_version": "1.2.0",
            "_view_name": "LayoutView",
            "align_content": null,
            "align_items": null,
            "align_self": null,
            "border": null,
            "bottom": null,
            "display": null,
            "flex": null,
            "flex_flow": null,
            "grid_area": null,
            "grid_auto_columns": null,
            "grid_auto_flow": null,
            "grid_auto_rows": null,
            "grid_column": null,
            "grid_gap": null,
            "grid_row": null,
            "grid_template_areas": null,
            "grid_template_columns": null,
            "grid_template_rows": null,
            "height": null,
            "justify_content": null,
            "justify_items": null,
            "left": null,
            "margin": null,
            "max_height": null,
            "max_width": null,
            "min_height": null,
            "min_width": null,
            "object_fit": null,
            "object_position": null,
            "order": null,
            "overflow": null,
            "overflow_x": null,
            "overflow_y": null,
            "padding": null,
            "right": null,
            "top": null,
            "visibility": null,
            "width": null
          }
        },
        "66d40cbba6224b6e9404b80a04faa665": {
          "model_module": "@jupyter-widgets/controls",
          "model_name": "DescriptionStyleModel",
          "model_module_version": "1.5.0",
          "state": {
            "_model_module": "@jupyter-widgets/controls",
            "_model_module_version": "1.5.0",
            "_model_name": "DescriptionStyleModel",
            "_view_count": null,
            "_view_module": "@jupyter-widgets/base",
            "_view_module_version": "1.2.0",
            "_view_name": "StyleView",
            "description_width": ""
          }
        },
        "ffdc3cfd85d049be81bf41921076540b": {
          "model_module": "@jupyter-widgets/controls",
          "model_name": "HBoxModel",
          "model_module_version": "1.5.0",
          "state": {
            "_dom_classes": [],
            "_model_module": "@jupyter-widgets/controls",
            "_model_module_version": "1.5.0",
            "_model_name": "HBoxModel",
            "_view_count": null,
            "_view_module": "@jupyter-widgets/controls",
            "_view_module_version": "1.5.0",
            "_view_name": "HBoxView",
            "box_style": "",
            "children": [
              "IPY_MODEL_86200e1b669e40c9ad3af2f0d752bb40",
              "IPY_MODEL_32d971bac7b641b1b2bf7e8b93ec4e22",
              "IPY_MODEL_b9cb9d5fe5c840a8bf60f6c70e099345"
            ],
            "layout": "IPY_MODEL_0c261779bde845ddbe9a08dd0c724cfa"
          }
        },
        "86200e1b669e40c9ad3af2f0d752bb40": {
          "model_module": "@jupyter-widgets/controls",
          "model_name": "HTMLModel",
          "model_module_version": "1.5.0",
          "state": {
            "_dom_classes": [],
            "_model_module": "@jupyter-widgets/controls",
            "_model_module_version": "1.5.0",
            "_model_name": "HTMLModel",
            "_view_count": null,
            "_view_module": "@jupyter-widgets/controls",
            "_view_module_version": "1.5.0",
            "_view_name": "HTMLView",
            "description": "",
            "description_tooltip": null,
            "layout": "IPY_MODEL_f4736f986dd341bcb514d5bd021dc01e",
            "placeholder": "​",
            "style": "IPY_MODEL_277908bcffec4c89809d97a8b026d089",
            "value": "Export report to file: 100%"
          }
        },
        "32d971bac7b641b1b2bf7e8b93ec4e22": {
          "model_module": "@jupyter-widgets/controls",
          "model_name": "FloatProgressModel",
          "model_module_version": "1.5.0",
          "state": {
            "_dom_classes": [],
            "_model_module": "@jupyter-widgets/controls",
            "_model_module_version": "1.5.0",
            "_model_name": "FloatProgressModel",
            "_view_count": null,
            "_view_module": "@jupyter-widgets/controls",
            "_view_module_version": "1.5.0",
            "_view_name": "ProgressView",
            "bar_style": "success",
            "description": "",
            "description_tooltip": null,
            "layout": "IPY_MODEL_1fab771e639f43e98238a6c1c4e0a718",
            "max": 1,
            "min": 0,
            "orientation": "horizontal",
            "style": "IPY_MODEL_da3366fc97574f2eba418ffe32b39940",
            "value": 1
          }
        },
        "b9cb9d5fe5c840a8bf60f6c70e099345": {
          "model_module": "@jupyter-widgets/controls",
          "model_name": "HTMLModel",
          "model_module_version": "1.5.0",
          "state": {
            "_dom_classes": [],
            "_model_module": "@jupyter-widgets/controls",
            "_model_module_version": "1.5.0",
            "_model_name": "HTMLModel",
            "_view_count": null,
            "_view_module": "@jupyter-widgets/controls",
            "_view_module_version": "1.5.0",
            "_view_name": "HTMLView",
            "description": "",
            "description_tooltip": null,
            "layout": "IPY_MODEL_c1f1747279c14c3da20c1f40da9dd44a",
            "placeholder": "​",
            "style": "IPY_MODEL_436961160d2c4c6997a306c23ff78e2f",
            "value": " 1/1 [00:00&lt;00:00, 28.55it/s]"
          }
        },
        "0c261779bde845ddbe9a08dd0c724cfa": {
          "model_module": "@jupyter-widgets/base",
          "model_name": "LayoutModel",
          "model_module_version": "1.2.0",
          "state": {
            "_model_module": "@jupyter-widgets/base",
            "_model_module_version": "1.2.0",
            "_model_name": "LayoutModel",
            "_view_count": null,
            "_view_module": "@jupyter-widgets/base",
            "_view_module_version": "1.2.0",
            "_view_name": "LayoutView",
            "align_content": null,
            "align_items": null,
            "align_self": null,
            "border": null,
            "bottom": null,
            "display": null,
            "flex": null,
            "flex_flow": null,
            "grid_area": null,
            "grid_auto_columns": null,
            "grid_auto_flow": null,
            "grid_auto_rows": null,
            "grid_column": null,
            "grid_gap": null,
            "grid_row": null,
            "grid_template_areas": null,
            "grid_template_columns": null,
            "grid_template_rows": null,
            "height": null,
            "justify_content": null,
            "justify_items": null,
            "left": null,
            "margin": null,
            "max_height": null,
            "max_width": null,
            "min_height": null,
            "min_width": null,
            "object_fit": null,
            "object_position": null,
            "order": null,
            "overflow": null,
            "overflow_x": null,
            "overflow_y": null,
            "padding": null,
            "right": null,
            "top": null,
            "visibility": null,
            "width": null
          }
        },
        "f4736f986dd341bcb514d5bd021dc01e": {
          "model_module": "@jupyter-widgets/base",
          "model_name": "LayoutModel",
          "model_module_version": "1.2.0",
          "state": {
            "_model_module": "@jupyter-widgets/base",
            "_model_module_version": "1.2.0",
            "_model_name": "LayoutModel",
            "_view_count": null,
            "_view_module": "@jupyter-widgets/base",
            "_view_module_version": "1.2.0",
            "_view_name": "LayoutView",
            "align_content": null,
            "align_items": null,
            "align_self": null,
            "border": null,
            "bottom": null,
            "display": null,
            "flex": null,
            "flex_flow": null,
            "grid_area": null,
            "grid_auto_columns": null,
            "grid_auto_flow": null,
            "grid_auto_rows": null,
            "grid_column": null,
            "grid_gap": null,
            "grid_row": null,
            "grid_template_areas": null,
            "grid_template_columns": null,
            "grid_template_rows": null,
            "height": null,
            "justify_content": null,
            "justify_items": null,
            "left": null,
            "margin": null,
            "max_height": null,
            "max_width": null,
            "min_height": null,
            "min_width": null,
            "object_fit": null,
            "object_position": null,
            "order": null,
            "overflow": null,
            "overflow_x": null,
            "overflow_y": null,
            "padding": null,
            "right": null,
            "top": null,
            "visibility": null,
            "width": null
          }
        },
        "277908bcffec4c89809d97a8b026d089": {
          "model_module": "@jupyter-widgets/controls",
          "model_name": "DescriptionStyleModel",
          "model_module_version": "1.5.0",
          "state": {
            "_model_module": "@jupyter-widgets/controls",
            "_model_module_version": "1.5.0",
            "_model_name": "DescriptionStyleModel",
            "_view_count": null,
            "_view_module": "@jupyter-widgets/base",
            "_view_module_version": "1.2.0",
            "_view_name": "StyleView",
            "description_width": ""
          }
        },
        "1fab771e639f43e98238a6c1c4e0a718": {
          "model_module": "@jupyter-widgets/base",
          "model_name": "LayoutModel",
          "model_module_version": "1.2.0",
          "state": {
            "_model_module": "@jupyter-widgets/base",
            "_model_module_version": "1.2.0",
            "_model_name": "LayoutModel",
            "_view_count": null,
            "_view_module": "@jupyter-widgets/base",
            "_view_module_version": "1.2.0",
            "_view_name": "LayoutView",
            "align_content": null,
            "align_items": null,
            "align_self": null,
            "border": null,
            "bottom": null,
            "display": null,
            "flex": null,
            "flex_flow": null,
            "grid_area": null,
            "grid_auto_columns": null,
            "grid_auto_flow": null,
            "grid_auto_rows": null,
            "grid_column": null,
            "grid_gap": null,
            "grid_row": null,
            "grid_template_areas": null,
            "grid_template_columns": null,
            "grid_template_rows": null,
            "height": null,
            "justify_content": null,
            "justify_items": null,
            "left": null,
            "margin": null,
            "max_height": null,
            "max_width": null,
            "min_height": null,
            "min_width": null,
            "object_fit": null,
            "object_position": null,
            "order": null,
            "overflow": null,
            "overflow_x": null,
            "overflow_y": null,
            "padding": null,
            "right": null,
            "top": null,
            "visibility": null,
            "width": null
          }
        },
        "da3366fc97574f2eba418ffe32b39940": {
          "model_module": "@jupyter-widgets/controls",
          "model_name": "ProgressStyleModel",
          "model_module_version": "1.5.0",
          "state": {
            "_model_module": "@jupyter-widgets/controls",
            "_model_module_version": "1.5.0",
            "_model_name": "ProgressStyleModel",
            "_view_count": null,
            "_view_module": "@jupyter-widgets/base",
            "_view_module_version": "1.2.0",
            "_view_name": "StyleView",
            "bar_color": null,
            "description_width": ""
          }
        },
        "c1f1747279c14c3da20c1f40da9dd44a": {
          "model_module": "@jupyter-widgets/base",
          "model_name": "LayoutModel",
          "model_module_version": "1.2.0",
          "state": {
            "_model_module": "@jupyter-widgets/base",
            "_model_module_version": "1.2.0",
            "_model_name": "LayoutModel",
            "_view_count": null,
            "_view_module": "@jupyter-widgets/base",
            "_view_module_version": "1.2.0",
            "_view_name": "LayoutView",
            "align_content": null,
            "align_items": null,
            "align_self": null,
            "border": null,
            "bottom": null,
            "display": null,
            "flex": null,
            "flex_flow": null,
            "grid_area": null,
            "grid_auto_columns": null,
            "grid_auto_flow": null,
            "grid_auto_rows": null,
            "grid_column": null,
            "grid_gap": null,
            "grid_row": null,
            "grid_template_areas": null,
            "grid_template_columns": null,
            "grid_template_rows": null,
            "height": null,
            "justify_content": null,
            "justify_items": null,
            "left": null,
            "margin": null,
            "max_height": null,
            "max_width": null,
            "min_height": null,
            "min_width": null,
            "object_fit": null,
            "object_position": null,
            "order": null,
            "overflow": null,
            "overflow_x": null,
            "overflow_y": null,
            "padding": null,
            "right": null,
            "top": null,
            "visibility": null,
            "width": null
          }
        },
        "436961160d2c4c6997a306c23ff78e2f": {
          "model_module": "@jupyter-widgets/controls",
          "model_name": "DescriptionStyleModel",
          "model_module_version": "1.5.0",
          "state": {
            "_model_module": "@jupyter-widgets/controls",
            "_model_module_version": "1.5.0",
            "_model_name": "DescriptionStyleModel",
            "_view_count": null,
            "_view_module": "@jupyter-widgets/base",
            "_view_module_version": "1.2.0",
            "_view_name": "StyleView",
            "description_width": ""
          }
        },
        "673805b425c041fcae0aba2357221c69": {
          "model_module": "@jupyter-widgets/controls",
          "model_name": "HBoxModel",
          "model_module_version": "1.5.0",
          "state": {
            "_dom_classes": [],
            "_model_module": "@jupyter-widgets/controls",
            "_model_module_version": "1.5.0",
            "_model_name": "HBoxModel",
            "_view_count": null,
            "_view_module": "@jupyter-widgets/controls",
            "_view_module_version": "1.5.0",
            "_view_name": "HBoxView",
            "box_style": "",
            "children": [
              "IPY_MODEL_102f01c07a7f48eaa62f32ca0b6c2b4d",
              "IPY_MODEL_e96c5abfb2624c228bb30e32c0fcfba1",
              "IPY_MODEL_bc0426e87c244d05a4e95bc396f1fa71"
            ],
            "layout": "IPY_MODEL_bad1a61aa6e04d39adf7390ad08b7036"
          }
        },
        "102f01c07a7f48eaa62f32ca0b6c2b4d": {
          "model_module": "@jupyter-widgets/controls",
          "model_name": "HTMLModel",
          "model_module_version": "1.5.0",
          "state": {
            "_dom_classes": [],
            "_model_module": "@jupyter-widgets/controls",
            "_model_module_version": "1.5.0",
            "_model_name": "HTMLModel",
            "_view_count": null,
            "_view_module": "@jupyter-widgets/controls",
            "_view_module_version": "1.5.0",
            "_view_name": "HTMLView",
            "description": "",
            "description_tooltip": null,
            "layout": "IPY_MODEL_a91684894eff4e4d8189153032c40620",
            "placeholder": "​",
            "style": "IPY_MODEL_17a0733ca6df42b087e1a58010a5449d",
            "value": "Summarize dataset: 100%"
          }
        },
        "e96c5abfb2624c228bb30e32c0fcfba1": {
          "model_module": "@jupyter-widgets/controls",
          "model_name": "FloatProgressModel",
          "model_module_version": "1.5.0",
          "state": {
            "_dom_classes": [],
            "_model_module": "@jupyter-widgets/controls",
            "_model_module_version": "1.5.0",
            "_model_name": "FloatProgressModel",
            "_view_count": null,
            "_view_module": "@jupyter-widgets/controls",
            "_view_module_version": "1.5.0",
            "_view_name": "ProgressView",
            "bar_style": "success",
            "description": "",
            "description_tooltip": null,
            "layout": "IPY_MODEL_54cc62b2a60b416ba1a7cfe9984e5aa6",
            "max": 5,
            "min": 0,
            "orientation": "horizontal",
            "style": "IPY_MODEL_e58ba11a2acb459fa379b99facfa8783",
            "value": 5
          }
        },
        "bc0426e87c244d05a4e95bc396f1fa71": {
          "model_module": "@jupyter-widgets/controls",
          "model_name": "HTMLModel",
          "model_module_version": "1.5.0",
          "state": {
            "_dom_classes": [],
            "_model_module": "@jupyter-widgets/controls",
            "_model_module_version": "1.5.0",
            "_model_name": "HTMLModel",
            "_view_count": null,
            "_view_module": "@jupyter-widgets/controls",
            "_view_module_version": "1.5.0",
            "_view_name": "HTMLView",
            "description": "",
            "description_tooltip": null,
            "layout": "IPY_MODEL_205ddb16057e45538086cdf6254add61",
            "placeholder": "​",
            "style": "IPY_MODEL_d94f103dc0f24e8a9b51548048bbbd82",
            "value": " 23/23 [00:03&lt;00:00,  5.32it/s, Completed]"
          }
        },
        "bad1a61aa6e04d39adf7390ad08b7036": {
          "model_module": "@jupyter-widgets/base",
          "model_name": "LayoutModel",
          "model_module_version": "1.2.0",
          "state": {
            "_model_module": "@jupyter-widgets/base",
            "_model_module_version": "1.2.0",
            "_model_name": "LayoutModel",
            "_view_count": null,
            "_view_module": "@jupyter-widgets/base",
            "_view_module_version": "1.2.0",
            "_view_name": "LayoutView",
            "align_content": null,
            "align_items": null,
            "align_self": null,
            "border": null,
            "bottom": null,
            "display": null,
            "flex": null,
            "flex_flow": null,
            "grid_area": null,
            "grid_auto_columns": null,
            "grid_auto_flow": null,
            "grid_auto_rows": null,
            "grid_column": null,
            "grid_gap": null,
            "grid_row": null,
            "grid_template_areas": null,
            "grid_template_columns": null,
            "grid_template_rows": null,
            "height": null,
            "justify_content": null,
            "justify_items": null,
            "left": null,
            "margin": null,
            "max_height": null,
            "max_width": null,
            "min_height": null,
            "min_width": null,
            "object_fit": null,
            "object_position": null,
            "order": null,
            "overflow": null,
            "overflow_x": null,
            "overflow_y": null,
            "padding": null,
            "right": null,
            "top": null,
            "visibility": null,
            "width": null
          }
        },
        "a91684894eff4e4d8189153032c40620": {
          "model_module": "@jupyter-widgets/base",
          "model_name": "LayoutModel",
          "model_module_version": "1.2.0",
          "state": {
            "_model_module": "@jupyter-widgets/base",
            "_model_module_version": "1.2.0",
            "_model_name": "LayoutModel",
            "_view_count": null,
            "_view_module": "@jupyter-widgets/base",
            "_view_module_version": "1.2.0",
            "_view_name": "LayoutView",
            "align_content": null,
            "align_items": null,
            "align_self": null,
            "border": null,
            "bottom": null,
            "display": null,
            "flex": null,
            "flex_flow": null,
            "grid_area": null,
            "grid_auto_columns": null,
            "grid_auto_flow": null,
            "grid_auto_rows": null,
            "grid_column": null,
            "grid_gap": null,
            "grid_row": null,
            "grid_template_areas": null,
            "grid_template_columns": null,
            "grid_template_rows": null,
            "height": null,
            "justify_content": null,
            "justify_items": null,
            "left": null,
            "margin": null,
            "max_height": null,
            "max_width": null,
            "min_height": null,
            "min_width": null,
            "object_fit": null,
            "object_position": null,
            "order": null,
            "overflow": null,
            "overflow_x": null,
            "overflow_y": null,
            "padding": null,
            "right": null,
            "top": null,
            "visibility": null,
            "width": null
          }
        },
        "17a0733ca6df42b087e1a58010a5449d": {
          "model_module": "@jupyter-widgets/controls",
          "model_name": "DescriptionStyleModel",
          "model_module_version": "1.5.0",
          "state": {
            "_model_module": "@jupyter-widgets/controls",
            "_model_module_version": "1.5.0",
            "_model_name": "DescriptionStyleModel",
            "_view_count": null,
            "_view_module": "@jupyter-widgets/base",
            "_view_module_version": "1.2.0",
            "_view_name": "StyleView",
            "description_width": ""
          }
        },
        "54cc62b2a60b416ba1a7cfe9984e5aa6": {
          "model_module": "@jupyter-widgets/base",
          "model_name": "LayoutModel",
          "model_module_version": "1.2.0",
          "state": {
            "_model_module": "@jupyter-widgets/base",
            "_model_module_version": "1.2.0",
            "_model_name": "LayoutModel",
            "_view_count": null,
            "_view_module": "@jupyter-widgets/base",
            "_view_module_version": "1.2.0",
            "_view_name": "LayoutView",
            "align_content": null,
            "align_items": null,
            "align_self": null,
            "border": null,
            "bottom": null,
            "display": null,
            "flex": null,
            "flex_flow": null,
            "grid_area": null,
            "grid_auto_columns": null,
            "grid_auto_flow": null,
            "grid_auto_rows": null,
            "grid_column": null,
            "grid_gap": null,
            "grid_row": null,
            "grid_template_areas": null,
            "grid_template_columns": null,
            "grid_template_rows": null,
            "height": null,
            "justify_content": null,
            "justify_items": null,
            "left": null,
            "margin": null,
            "max_height": null,
            "max_width": null,
            "min_height": null,
            "min_width": null,
            "object_fit": null,
            "object_position": null,
            "order": null,
            "overflow": null,
            "overflow_x": null,
            "overflow_y": null,
            "padding": null,
            "right": null,
            "top": null,
            "visibility": null,
            "width": null
          }
        },
        "e58ba11a2acb459fa379b99facfa8783": {
          "model_module": "@jupyter-widgets/controls",
          "model_name": "ProgressStyleModel",
          "model_module_version": "1.5.0",
          "state": {
            "_model_module": "@jupyter-widgets/controls",
            "_model_module_version": "1.5.0",
            "_model_name": "ProgressStyleModel",
            "_view_count": null,
            "_view_module": "@jupyter-widgets/base",
            "_view_module_version": "1.2.0",
            "_view_name": "StyleView",
            "bar_color": null,
            "description_width": ""
          }
        },
        "205ddb16057e45538086cdf6254add61": {
          "model_module": "@jupyter-widgets/base",
          "model_name": "LayoutModel",
          "model_module_version": "1.2.0",
          "state": {
            "_model_module": "@jupyter-widgets/base",
            "_model_module_version": "1.2.0",
            "_model_name": "LayoutModel",
            "_view_count": null,
            "_view_module": "@jupyter-widgets/base",
            "_view_module_version": "1.2.0",
            "_view_name": "LayoutView",
            "align_content": null,
            "align_items": null,
            "align_self": null,
            "border": null,
            "bottom": null,
            "display": null,
            "flex": null,
            "flex_flow": null,
            "grid_area": null,
            "grid_auto_columns": null,
            "grid_auto_flow": null,
            "grid_auto_rows": null,
            "grid_column": null,
            "grid_gap": null,
            "grid_row": null,
            "grid_template_areas": null,
            "grid_template_columns": null,
            "grid_template_rows": null,
            "height": null,
            "justify_content": null,
            "justify_items": null,
            "left": null,
            "margin": null,
            "max_height": null,
            "max_width": null,
            "min_height": null,
            "min_width": null,
            "object_fit": null,
            "object_position": null,
            "order": null,
            "overflow": null,
            "overflow_x": null,
            "overflow_y": null,
            "padding": null,
            "right": null,
            "top": null,
            "visibility": null,
            "width": null
          }
        },
        "d94f103dc0f24e8a9b51548048bbbd82": {
          "model_module": "@jupyter-widgets/controls",
          "model_name": "DescriptionStyleModel",
          "model_module_version": "1.5.0",
          "state": {
            "_model_module": "@jupyter-widgets/controls",
            "_model_module_version": "1.5.0",
            "_model_name": "DescriptionStyleModel",
            "_view_count": null,
            "_view_module": "@jupyter-widgets/base",
            "_view_module_version": "1.2.0",
            "_view_name": "StyleView",
            "description_width": ""
          }
        },
        "04781ba878f4446db97c1c336832823b": {
          "model_module": "@jupyter-widgets/controls",
          "model_name": "HBoxModel",
          "model_module_version": "1.5.0",
          "state": {
            "_dom_classes": [],
            "_model_module": "@jupyter-widgets/controls",
            "_model_module_version": "1.5.0",
            "_model_name": "HBoxModel",
            "_view_count": null,
            "_view_module": "@jupyter-widgets/controls",
            "_view_module_version": "1.5.0",
            "_view_name": "HBoxView",
            "box_style": "",
            "children": [
              "IPY_MODEL_9671645c01d54ee1aa075f60a473705e",
              "IPY_MODEL_0bbf0c133fee4165a81d7e58a4f58430",
              "IPY_MODEL_647da13ed5944764b3624fab24b347fa"
            ],
            "layout": "IPY_MODEL_75cb5da5fd7144e59556c5421a767b1c"
          }
        },
        "9671645c01d54ee1aa075f60a473705e": {
          "model_module": "@jupyter-widgets/controls",
          "model_name": "HTMLModel",
          "model_module_version": "1.5.0",
          "state": {
            "_dom_classes": [],
            "_model_module": "@jupyter-widgets/controls",
            "_model_module_version": "1.5.0",
            "_model_name": "HTMLModel",
            "_view_count": null,
            "_view_module": "@jupyter-widgets/controls",
            "_view_module_version": "1.5.0",
            "_view_name": "HTMLView",
            "description": "",
            "description_tooltip": null,
            "layout": "IPY_MODEL_a8d8442f2d4a4a49b94f6bc3921661a2",
            "placeholder": "​",
            "style": "IPY_MODEL_2347dd2aa5d149699ab255953ff6043c",
            "value": "Generate report structure: 100%"
          }
        },
        "0bbf0c133fee4165a81d7e58a4f58430": {
          "model_module": "@jupyter-widgets/controls",
          "model_name": "FloatProgressModel",
          "model_module_version": "1.5.0",
          "state": {
            "_dom_classes": [],
            "_model_module": "@jupyter-widgets/controls",
            "_model_module_version": "1.5.0",
            "_model_name": "FloatProgressModel",
            "_view_count": null,
            "_view_module": "@jupyter-widgets/controls",
            "_view_module_version": "1.5.0",
            "_view_name": "ProgressView",
            "bar_style": "success",
            "description": "",
            "description_tooltip": null,
            "layout": "IPY_MODEL_3695e819528d446fa6608e4ebc9a17d9",
            "max": 1,
            "min": 0,
            "orientation": "horizontal",
            "style": "IPY_MODEL_e8c201bf716646f2a39dce6bae7302eb",
            "value": 1
          }
        },
        "647da13ed5944764b3624fab24b347fa": {
          "model_module": "@jupyter-widgets/controls",
          "model_name": "HTMLModel",
          "model_module_version": "1.5.0",
          "state": {
            "_dom_classes": [],
            "_model_module": "@jupyter-widgets/controls",
            "_model_module_version": "1.5.0",
            "_model_name": "HTMLModel",
            "_view_count": null,
            "_view_module": "@jupyter-widgets/controls",
            "_view_module_version": "1.5.0",
            "_view_name": "HTMLView",
            "description": "",
            "description_tooltip": null,
            "layout": "IPY_MODEL_c09537893b18431c9c742e0ac6e397db",
            "placeholder": "​",
            "style": "IPY_MODEL_81266f4df19d442aae8a4287d4260a2a",
            "value": " 1/1 [00:04&lt;00:00,  4.27s/it]"
          }
        },
        "75cb5da5fd7144e59556c5421a767b1c": {
          "model_module": "@jupyter-widgets/base",
          "model_name": "LayoutModel",
          "model_module_version": "1.2.0",
          "state": {
            "_model_module": "@jupyter-widgets/base",
            "_model_module_version": "1.2.0",
            "_model_name": "LayoutModel",
            "_view_count": null,
            "_view_module": "@jupyter-widgets/base",
            "_view_module_version": "1.2.0",
            "_view_name": "LayoutView",
            "align_content": null,
            "align_items": null,
            "align_self": null,
            "border": null,
            "bottom": null,
            "display": null,
            "flex": null,
            "flex_flow": null,
            "grid_area": null,
            "grid_auto_columns": null,
            "grid_auto_flow": null,
            "grid_auto_rows": null,
            "grid_column": null,
            "grid_gap": null,
            "grid_row": null,
            "grid_template_areas": null,
            "grid_template_columns": null,
            "grid_template_rows": null,
            "height": null,
            "justify_content": null,
            "justify_items": null,
            "left": null,
            "margin": null,
            "max_height": null,
            "max_width": null,
            "min_height": null,
            "min_width": null,
            "object_fit": null,
            "object_position": null,
            "order": null,
            "overflow": null,
            "overflow_x": null,
            "overflow_y": null,
            "padding": null,
            "right": null,
            "top": null,
            "visibility": null,
            "width": null
          }
        },
        "a8d8442f2d4a4a49b94f6bc3921661a2": {
          "model_module": "@jupyter-widgets/base",
          "model_name": "LayoutModel",
          "model_module_version": "1.2.0",
          "state": {
            "_model_module": "@jupyter-widgets/base",
            "_model_module_version": "1.2.0",
            "_model_name": "LayoutModel",
            "_view_count": null,
            "_view_module": "@jupyter-widgets/base",
            "_view_module_version": "1.2.0",
            "_view_name": "LayoutView",
            "align_content": null,
            "align_items": null,
            "align_self": null,
            "border": null,
            "bottom": null,
            "display": null,
            "flex": null,
            "flex_flow": null,
            "grid_area": null,
            "grid_auto_columns": null,
            "grid_auto_flow": null,
            "grid_auto_rows": null,
            "grid_column": null,
            "grid_gap": null,
            "grid_row": null,
            "grid_template_areas": null,
            "grid_template_columns": null,
            "grid_template_rows": null,
            "height": null,
            "justify_content": null,
            "justify_items": null,
            "left": null,
            "margin": null,
            "max_height": null,
            "max_width": null,
            "min_height": null,
            "min_width": null,
            "object_fit": null,
            "object_position": null,
            "order": null,
            "overflow": null,
            "overflow_x": null,
            "overflow_y": null,
            "padding": null,
            "right": null,
            "top": null,
            "visibility": null,
            "width": null
          }
        },
        "2347dd2aa5d149699ab255953ff6043c": {
          "model_module": "@jupyter-widgets/controls",
          "model_name": "DescriptionStyleModel",
          "model_module_version": "1.5.0",
          "state": {
            "_model_module": "@jupyter-widgets/controls",
            "_model_module_version": "1.5.0",
            "_model_name": "DescriptionStyleModel",
            "_view_count": null,
            "_view_module": "@jupyter-widgets/base",
            "_view_module_version": "1.2.0",
            "_view_name": "StyleView",
            "description_width": ""
          }
        },
        "3695e819528d446fa6608e4ebc9a17d9": {
          "model_module": "@jupyter-widgets/base",
          "model_name": "LayoutModel",
          "model_module_version": "1.2.0",
          "state": {
            "_model_module": "@jupyter-widgets/base",
            "_model_module_version": "1.2.0",
            "_model_name": "LayoutModel",
            "_view_count": null,
            "_view_module": "@jupyter-widgets/base",
            "_view_module_version": "1.2.0",
            "_view_name": "LayoutView",
            "align_content": null,
            "align_items": null,
            "align_self": null,
            "border": null,
            "bottom": null,
            "display": null,
            "flex": null,
            "flex_flow": null,
            "grid_area": null,
            "grid_auto_columns": null,
            "grid_auto_flow": null,
            "grid_auto_rows": null,
            "grid_column": null,
            "grid_gap": null,
            "grid_row": null,
            "grid_template_areas": null,
            "grid_template_columns": null,
            "grid_template_rows": null,
            "height": null,
            "justify_content": null,
            "justify_items": null,
            "left": null,
            "margin": null,
            "max_height": null,
            "max_width": null,
            "min_height": null,
            "min_width": null,
            "object_fit": null,
            "object_position": null,
            "order": null,
            "overflow": null,
            "overflow_x": null,
            "overflow_y": null,
            "padding": null,
            "right": null,
            "top": null,
            "visibility": null,
            "width": null
          }
        },
        "e8c201bf716646f2a39dce6bae7302eb": {
          "model_module": "@jupyter-widgets/controls",
          "model_name": "ProgressStyleModel",
          "model_module_version": "1.5.0",
          "state": {
            "_model_module": "@jupyter-widgets/controls",
            "_model_module_version": "1.5.0",
            "_model_name": "ProgressStyleModel",
            "_view_count": null,
            "_view_module": "@jupyter-widgets/base",
            "_view_module_version": "1.2.0",
            "_view_name": "StyleView",
            "bar_color": null,
            "description_width": ""
          }
        },
        "c09537893b18431c9c742e0ac6e397db": {
          "model_module": "@jupyter-widgets/base",
          "model_name": "LayoutModel",
          "model_module_version": "1.2.0",
          "state": {
            "_model_module": "@jupyter-widgets/base",
            "_model_module_version": "1.2.0",
            "_model_name": "LayoutModel",
            "_view_count": null,
            "_view_module": "@jupyter-widgets/base",
            "_view_module_version": "1.2.0",
            "_view_name": "LayoutView",
            "align_content": null,
            "align_items": null,
            "align_self": null,
            "border": null,
            "bottom": null,
            "display": null,
            "flex": null,
            "flex_flow": null,
            "grid_area": null,
            "grid_auto_columns": null,
            "grid_auto_flow": null,
            "grid_auto_rows": null,
            "grid_column": null,
            "grid_gap": null,
            "grid_row": null,
            "grid_template_areas": null,
            "grid_template_columns": null,
            "grid_template_rows": null,
            "height": null,
            "justify_content": null,
            "justify_items": null,
            "left": null,
            "margin": null,
            "max_height": null,
            "max_width": null,
            "min_height": null,
            "min_width": null,
            "object_fit": null,
            "object_position": null,
            "order": null,
            "overflow": null,
            "overflow_x": null,
            "overflow_y": null,
            "padding": null,
            "right": null,
            "top": null,
            "visibility": null,
            "width": null
          }
        },
        "81266f4df19d442aae8a4287d4260a2a": {
          "model_module": "@jupyter-widgets/controls",
          "model_name": "DescriptionStyleModel",
          "model_module_version": "1.5.0",
          "state": {
            "_model_module": "@jupyter-widgets/controls",
            "_model_module_version": "1.5.0",
            "_model_name": "DescriptionStyleModel",
            "_view_count": null,
            "_view_module": "@jupyter-widgets/base",
            "_view_module_version": "1.2.0",
            "_view_name": "StyleView",
            "description_width": ""
          }
        },
        "4fa04a5e31b2459ea461e1ee8f0a3461": {
          "model_module": "@jupyter-widgets/controls",
          "model_name": "HBoxModel",
          "model_module_version": "1.5.0",
          "state": {
            "_dom_classes": [],
            "_model_module": "@jupyter-widgets/controls",
            "_model_module_version": "1.5.0",
            "_model_name": "HBoxModel",
            "_view_count": null,
            "_view_module": "@jupyter-widgets/controls",
            "_view_module_version": "1.5.0",
            "_view_name": "HBoxView",
            "box_style": "",
            "children": [
              "IPY_MODEL_9edc78d6b2174e77ae6b9b53177c1f9a",
              "IPY_MODEL_118904d7bec44197922c3795622d2172",
              "IPY_MODEL_8b3011cdc11a451e80cf3d521d06bc9e"
            ],
            "layout": "IPY_MODEL_0519267718f64b15a222b61488c352f1"
          }
        },
        "9edc78d6b2174e77ae6b9b53177c1f9a": {
          "model_module": "@jupyter-widgets/controls",
          "model_name": "HTMLModel",
          "model_module_version": "1.5.0",
          "state": {
            "_dom_classes": [],
            "_model_module": "@jupyter-widgets/controls",
            "_model_module_version": "1.5.0",
            "_model_name": "HTMLModel",
            "_view_count": null,
            "_view_module": "@jupyter-widgets/controls",
            "_view_module_version": "1.5.0",
            "_view_name": "HTMLView",
            "description": "",
            "description_tooltip": null,
            "layout": "IPY_MODEL_7253bafb0c7d417394ad02c838edee4c",
            "placeholder": "​",
            "style": "IPY_MODEL_522b0be5fb6544039813e75db7b6f878",
            "value": "Render HTML: 100%"
          }
        },
        "118904d7bec44197922c3795622d2172": {
          "model_module": "@jupyter-widgets/controls",
          "model_name": "FloatProgressModel",
          "model_module_version": "1.5.0",
          "state": {
            "_dom_classes": [],
            "_model_module": "@jupyter-widgets/controls",
            "_model_module_version": "1.5.0",
            "_model_name": "FloatProgressModel",
            "_view_count": null,
            "_view_module": "@jupyter-widgets/controls",
            "_view_module_version": "1.5.0",
            "_view_name": "ProgressView",
            "bar_style": "success",
            "description": "",
            "description_tooltip": null,
            "layout": "IPY_MODEL_dbcca5e78427473697b6dc32cb44bfed",
            "max": 1,
            "min": 0,
            "orientation": "horizontal",
            "style": "IPY_MODEL_a284742c5934449b973cd48c0f753134",
            "value": 1
          }
        },
        "8b3011cdc11a451e80cf3d521d06bc9e": {
          "model_module": "@jupyter-widgets/controls",
          "model_name": "HTMLModel",
          "model_module_version": "1.5.0",
          "state": {
            "_dom_classes": [],
            "_model_module": "@jupyter-widgets/controls",
            "_model_module_version": "1.5.0",
            "_model_name": "HTMLModel",
            "_view_count": null,
            "_view_module": "@jupyter-widgets/controls",
            "_view_module_version": "1.5.0",
            "_view_name": "HTMLView",
            "description": "",
            "description_tooltip": null,
            "layout": "IPY_MODEL_b82c01bb30a649568636012cdadd020e",
            "placeholder": "​",
            "style": "IPY_MODEL_65e4a2620efc4974b50cd281081b15cf",
            "value": " 1/1 [00:00&lt;00:00,  1.82it/s]"
          }
        },
        "0519267718f64b15a222b61488c352f1": {
          "model_module": "@jupyter-widgets/base",
          "model_name": "LayoutModel",
          "model_module_version": "1.2.0",
          "state": {
            "_model_module": "@jupyter-widgets/base",
            "_model_module_version": "1.2.0",
            "_model_name": "LayoutModel",
            "_view_count": null,
            "_view_module": "@jupyter-widgets/base",
            "_view_module_version": "1.2.0",
            "_view_name": "LayoutView",
            "align_content": null,
            "align_items": null,
            "align_self": null,
            "border": null,
            "bottom": null,
            "display": null,
            "flex": null,
            "flex_flow": null,
            "grid_area": null,
            "grid_auto_columns": null,
            "grid_auto_flow": null,
            "grid_auto_rows": null,
            "grid_column": null,
            "grid_gap": null,
            "grid_row": null,
            "grid_template_areas": null,
            "grid_template_columns": null,
            "grid_template_rows": null,
            "height": null,
            "justify_content": null,
            "justify_items": null,
            "left": null,
            "margin": null,
            "max_height": null,
            "max_width": null,
            "min_height": null,
            "min_width": null,
            "object_fit": null,
            "object_position": null,
            "order": null,
            "overflow": null,
            "overflow_x": null,
            "overflow_y": null,
            "padding": null,
            "right": null,
            "top": null,
            "visibility": null,
            "width": null
          }
        },
        "7253bafb0c7d417394ad02c838edee4c": {
          "model_module": "@jupyter-widgets/base",
          "model_name": "LayoutModel",
          "model_module_version": "1.2.0",
          "state": {
            "_model_module": "@jupyter-widgets/base",
            "_model_module_version": "1.2.0",
            "_model_name": "LayoutModel",
            "_view_count": null,
            "_view_module": "@jupyter-widgets/base",
            "_view_module_version": "1.2.0",
            "_view_name": "LayoutView",
            "align_content": null,
            "align_items": null,
            "align_self": null,
            "border": null,
            "bottom": null,
            "display": null,
            "flex": null,
            "flex_flow": null,
            "grid_area": null,
            "grid_auto_columns": null,
            "grid_auto_flow": null,
            "grid_auto_rows": null,
            "grid_column": null,
            "grid_gap": null,
            "grid_row": null,
            "grid_template_areas": null,
            "grid_template_columns": null,
            "grid_template_rows": null,
            "height": null,
            "justify_content": null,
            "justify_items": null,
            "left": null,
            "margin": null,
            "max_height": null,
            "max_width": null,
            "min_height": null,
            "min_width": null,
            "object_fit": null,
            "object_position": null,
            "order": null,
            "overflow": null,
            "overflow_x": null,
            "overflow_y": null,
            "padding": null,
            "right": null,
            "top": null,
            "visibility": null,
            "width": null
          }
        },
        "522b0be5fb6544039813e75db7b6f878": {
          "model_module": "@jupyter-widgets/controls",
          "model_name": "DescriptionStyleModel",
          "model_module_version": "1.5.0",
          "state": {
            "_model_module": "@jupyter-widgets/controls",
            "_model_module_version": "1.5.0",
            "_model_name": "DescriptionStyleModel",
            "_view_count": null,
            "_view_module": "@jupyter-widgets/base",
            "_view_module_version": "1.2.0",
            "_view_name": "StyleView",
            "description_width": ""
          }
        },
        "dbcca5e78427473697b6dc32cb44bfed": {
          "model_module": "@jupyter-widgets/base",
          "model_name": "LayoutModel",
          "model_module_version": "1.2.0",
          "state": {
            "_model_module": "@jupyter-widgets/base",
            "_model_module_version": "1.2.0",
            "_model_name": "LayoutModel",
            "_view_count": null,
            "_view_module": "@jupyter-widgets/base",
            "_view_module_version": "1.2.0",
            "_view_name": "LayoutView",
            "align_content": null,
            "align_items": null,
            "align_self": null,
            "border": null,
            "bottom": null,
            "display": null,
            "flex": null,
            "flex_flow": null,
            "grid_area": null,
            "grid_auto_columns": null,
            "grid_auto_flow": null,
            "grid_auto_rows": null,
            "grid_column": null,
            "grid_gap": null,
            "grid_row": null,
            "grid_template_areas": null,
            "grid_template_columns": null,
            "grid_template_rows": null,
            "height": null,
            "justify_content": null,
            "justify_items": null,
            "left": null,
            "margin": null,
            "max_height": null,
            "max_width": null,
            "min_height": null,
            "min_width": null,
            "object_fit": null,
            "object_position": null,
            "order": null,
            "overflow": null,
            "overflow_x": null,
            "overflow_y": null,
            "padding": null,
            "right": null,
            "top": null,
            "visibility": null,
            "width": null
          }
        },
        "a284742c5934449b973cd48c0f753134": {
          "model_module": "@jupyter-widgets/controls",
          "model_name": "ProgressStyleModel",
          "model_module_version": "1.5.0",
          "state": {
            "_model_module": "@jupyter-widgets/controls",
            "_model_module_version": "1.5.0",
            "_model_name": "ProgressStyleModel",
            "_view_count": null,
            "_view_module": "@jupyter-widgets/base",
            "_view_module_version": "1.2.0",
            "_view_name": "StyleView",
            "bar_color": null,
            "description_width": ""
          }
        },
        "b82c01bb30a649568636012cdadd020e": {
          "model_module": "@jupyter-widgets/base",
          "model_name": "LayoutModel",
          "model_module_version": "1.2.0",
          "state": {
            "_model_module": "@jupyter-widgets/base",
            "_model_module_version": "1.2.0",
            "_model_name": "LayoutModel",
            "_view_count": null,
            "_view_module": "@jupyter-widgets/base",
            "_view_module_version": "1.2.0",
            "_view_name": "LayoutView",
            "align_content": null,
            "align_items": null,
            "align_self": null,
            "border": null,
            "bottom": null,
            "display": null,
            "flex": null,
            "flex_flow": null,
            "grid_area": null,
            "grid_auto_columns": null,
            "grid_auto_flow": null,
            "grid_auto_rows": null,
            "grid_column": null,
            "grid_gap": null,
            "grid_row": null,
            "grid_template_areas": null,
            "grid_template_columns": null,
            "grid_template_rows": null,
            "height": null,
            "justify_content": null,
            "justify_items": null,
            "left": null,
            "margin": null,
            "max_height": null,
            "max_width": null,
            "min_height": null,
            "min_width": null,
            "object_fit": null,
            "object_position": null,
            "order": null,
            "overflow": null,
            "overflow_x": null,
            "overflow_y": null,
            "padding": null,
            "right": null,
            "top": null,
            "visibility": null,
            "width": null
          }
        },
        "65e4a2620efc4974b50cd281081b15cf": {
          "model_module": "@jupyter-widgets/controls",
          "model_name": "DescriptionStyleModel",
          "model_module_version": "1.5.0",
          "state": {
            "_model_module": "@jupyter-widgets/controls",
            "_model_module_version": "1.5.0",
            "_model_name": "DescriptionStyleModel",
            "_view_count": null,
            "_view_module": "@jupyter-widgets/base",
            "_view_module_version": "1.2.0",
            "_view_name": "StyleView",
            "description_width": ""
          }
        },
        "96f3e441876240878e3a3db5e4458e45": {
          "model_module": "@jupyter-widgets/controls",
          "model_name": "HBoxModel",
          "model_module_version": "1.5.0",
          "state": {
            "_dom_classes": [],
            "_model_module": "@jupyter-widgets/controls",
            "_model_module_version": "1.5.0",
            "_model_name": "HBoxModel",
            "_view_count": null,
            "_view_module": "@jupyter-widgets/controls",
            "_view_module_version": "1.5.0",
            "_view_name": "HBoxView",
            "box_style": "",
            "children": [
              "IPY_MODEL_5a4f258a7b4c410e9f23ed06d8f50018",
              "IPY_MODEL_5ed579b2608e42ad91427bd23aa567af",
              "IPY_MODEL_f06bf4b9aac148b8bb1a2b58e67eb7eb"
            ],
            "layout": "IPY_MODEL_0a96a68303c1412aa33dca52741af588"
          }
        },
        "5a4f258a7b4c410e9f23ed06d8f50018": {
          "model_module": "@jupyter-widgets/controls",
          "model_name": "HTMLModel",
          "model_module_version": "1.5.0",
          "state": {
            "_dom_classes": [],
            "_model_module": "@jupyter-widgets/controls",
            "_model_module_version": "1.5.0",
            "_model_name": "HTMLModel",
            "_view_count": null,
            "_view_module": "@jupyter-widgets/controls",
            "_view_module_version": "1.5.0",
            "_view_name": "HTMLView",
            "description": "",
            "description_tooltip": null,
            "layout": "IPY_MODEL_fd43d530d93b49aba4f2f2b2387e0adf",
            "placeholder": "​",
            "style": "IPY_MODEL_3049b2429a6b4ce883b5c48ffd737d0e",
            "value": "Export report to file: 100%"
          }
        },
        "5ed579b2608e42ad91427bd23aa567af": {
          "model_module": "@jupyter-widgets/controls",
          "model_name": "FloatProgressModel",
          "model_module_version": "1.5.0",
          "state": {
            "_dom_classes": [],
            "_model_module": "@jupyter-widgets/controls",
            "_model_module_version": "1.5.0",
            "_model_name": "FloatProgressModel",
            "_view_count": null,
            "_view_module": "@jupyter-widgets/controls",
            "_view_module_version": "1.5.0",
            "_view_name": "ProgressView",
            "bar_style": "success",
            "description": "",
            "description_tooltip": null,
            "layout": "IPY_MODEL_1b0fddc60f664647abf80bad06fe23c6",
            "max": 1,
            "min": 0,
            "orientation": "horizontal",
            "style": "IPY_MODEL_8b3239578bac4571b4bcba4c691006b0",
            "value": 1
          }
        },
        "f06bf4b9aac148b8bb1a2b58e67eb7eb": {
          "model_module": "@jupyter-widgets/controls",
          "model_name": "HTMLModel",
          "model_module_version": "1.5.0",
          "state": {
            "_dom_classes": [],
            "_model_module": "@jupyter-widgets/controls",
            "_model_module_version": "1.5.0",
            "_model_name": "HTMLModel",
            "_view_count": null,
            "_view_module": "@jupyter-widgets/controls",
            "_view_module_version": "1.5.0",
            "_view_name": "HTMLView",
            "description": "",
            "description_tooltip": null,
            "layout": "IPY_MODEL_90ecb1bcca2245f4a816ff1590252c7f",
            "placeholder": "​",
            "style": "IPY_MODEL_4008314605904cbb85071df459ed052b",
            "value": " 1/1 [00:00&lt;00:00, 35.39it/s]"
          }
        },
        "0a96a68303c1412aa33dca52741af588": {
          "model_module": "@jupyter-widgets/base",
          "model_name": "LayoutModel",
          "model_module_version": "1.2.0",
          "state": {
            "_model_module": "@jupyter-widgets/base",
            "_model_module_version": "1.2.0",
            "_model_name": "LayoutModel",
            "_view_count": null,
            "_view_module": "@jupyter-widgets/base",
            "_view_module_version": "1.2.0",
            "_view_name": "LayoutView",
            "align_content": null,
            "align_items": null,
            "align_self": null,
            "border": null,
            "bottom": null,
            "display": null,
            "flex": null,
            "flex_flow": null,
            "grid_area": null,
            "grid_auto_columns": null,
            "grid_auto_flow": null,
            "grid_auto_rows": null,
            "grid_column": null,
            "grid_gap": null,
            "grid_row": null,
            "grid_template_areas": null,
            "grid_template_columns": null,
            "grid_template_rows": null,
            "height": null,
            "justify_content": null,
            "justify_items": null,
            "left": null,
            "margin": null,
            "max_height": null,
            "max_width": null,
            "min_height": null,
            "min_width": null,
            "object_fit": null,
            "object_position": null,
            "order": null,
            "overflow": null,
            "overflow_x": null,
            "overflow_y": null,
            "padding": null,
            "right": null,
            "top": null,
            "visibility": null,
            "width": null
          }
        },
        "fd43d530d93b49aba4f2f2b2387e0adf": {
          "model_module": "@jupyter-widgets/base",
          "model_name": "LayoutModel",
          "model_module_version": "1.2.0",
          "state": {
            "_model_module": "@jupyter-widgets/base",
            "_model_module_version": "1.2.0",
            "_model_name": "LayoutModel",
            "_view_count": null,
            "_view_module": "@jupyter-widgets/base",
            "_view_module_version": "1.2.0",
            "_view_name": "LayoutView",
            "align_content": null,
            "align_items": null,
            "align_self": null,
            "border": null,
            "bottom": null,
            "display": null,
            "flex": null,
            "flex_flow": null,
            "grid_area": null,
            "grid_auto_columns": null,
            "grid_auto_flow": null,
            "grid_auto_rows": null,
            "grid_column": null,
            "grid_gap": null,
            "grid_row": null,
            "grid_template_areas": null,
            "grid_template_columns": null,
            "grid_template_rows": null,
            "height": null,
            "justify_content": null,
            "justify_items": null,
            "left": null,
            "margin": null,
            "max_height": null,
            "max_width": null,
            "min_height": null,
            "min_width": null,
            "object_fit": null,
            "object_position": null,
            "order": null,
            "overflow": null,
            "overflow_x": null,
            "overflow_y": null,
            "padding": null,
            "right": null,
            "top": null,
            "visibility": null,
            "width": null
          }
        },
        "3049b2429a6b4ce883b5c48ffd737d0e": {
          "model_module": "@jupyter-widgets/controls",
          "model_name": "DescriptionStyleModel",
          "model_module_version": "1.5.0",
          "state": {
            "_model_module": "@jupyter-widgets/controls",
            "_model_module_version": "1.5.0",
            "_model_name": "DescriptionStyleModel",
            "_view_count": null,
            "_view_module": "@jupyter-widgets/base",
            "_view_module_version": "1.2.0",
            "_view_name": "StyleView",
            "description_width": ""
          }
        },
        "1b0fddc60f664647abf80bad06fe23c6": {
          "model_module": "@jupyter-widgets/base",
          "model_name": "LayoutModel",
          "model_module_version": "1.2.0",
          "state": {
            "_model_module": "@jupyter-widgets/base",
            "_model_module_version": "1.2.0",
            "_model_name": "LayoutModel",
            "_view_count": null,
            "_view_module": "@jupyter-widgets/base",
            "_view_module_version": "1.2.0",
            "_view_name": "LayoutView",
            "align_content": null,
            "align_items": null,
            "align_self": null,
            "border": null,
            "bottom": null,
            "display": null,
            "flex": null,
            "flex_flow": null,
            "grid_area": null,
            "grid_auto_columns": null,
            "grid_auto_flow": null,
            "grid_auto_rows": null,
            "grid_column": null,
            "grid_gap": null,
            "grid_row": null,
            "grid_template_areas": null,
            "grid_template_columns": null,
            "grid_template_rows": null,
            "height": null,
            "justify_content": null,
            "justify_items": null,
            "left": null,
            "margin": null,
            "max_height": null,
            "max_width": null,
            "min_height": null,
            "min_width": null,
            "object_fit": null,
            "object_position": null,
            "order": null,
            "overflow": null,
            "overflow_x": null,
            "overflow_y": null,
            "padding": null,
            "right": null,
            "top": null,
            "visibility": null,
            "width": null
          }
        },
        "8b3239578bac4571b4bcba4c691006b0": {
          "model_module": "@jupyter-widgets/controls",
          "model_name": "ProgressStyleModel",
          "model_module_version": "1.5.0",
          "state": {
            "_model_module": "@jupyter-widgets/controls",
            "_model_module_version": "1.5.0",
            "_model_name": "ProgressStyleModel",
            "_view_count": null,
            "_view_module": "@jupyter-widgets/base",
            "_view_module_version": "1.2.0",
            "_view_name": "StyleView",
            "bar_color": null,
            "description_width": ""
          }
        },
        "90ecb1bcca2245f4a816ff1590252c7f": {
          "model_module": "@jupyter-widgets/base",
          "model_name": "LayoutModel",
          "model_module_version": "1.2.0",
          "state": {
            "_model_module": "@jupyter-widgets/base",
            "_model_module_version": "1.2.0",
            "_model_name": "LayoutModel",
            "_view_count": null,
            "_view_module": "@jupyter-widgets/base",
            "_view_module_version": "1.2.0",
            "_view_name": "LayoutView",
            "align_content": null,
            "align_items": null,
            "align_self": null,
            "border": null,
            "bottom": null,
            "display": null,
            "flex": null,
            "flex_flow": null,
            "grid_area": null,
            "grid_auto_columns": null,
            "grid_auto_flow": null,
            "grid_auto_rows": null,
            "grid_column": null,
            "grid_gap": null,
            "grid_row": null,
            "grid_template_areas": null,
            "grid_template_columns": null,
            "grid_template_rows": null,
            "height": null,
            "justify_content": null,
            "justify_items": null,
            "left": null,
            "margin": null,
            "max_height": null,
            "max_width": null,
            "min_height": null,
            "min_width": null,
            "object_fit": null,
            "object_position": null,
            "order": null,
            "overflow": null,
            "overflow_x": null,
            "overflow_y": null,
            "padding": null,
            "right": null,
            "top": null,
            "visibility": null,
            "width": null
          }
        },
        "4008314605904cbb85071df459ed052b": {
          "model_module": "@jupyter-widgets/controls",
          "model_name": "DescriptionStyleModel",
          "model_module_version": "1.5.0",
          "state": {
            "_model_module": "@jupyter-widgets/controls",
            "_model_module_version": "1.5.0",
            "_model_name": "DescriptionStyleModel",
            "_view_count": null,
            "_view_module": "@jupyter-widgets/base",
            "_view_module_version": "1.2.0",
            "_view_name": "StyleView",
            "description_width": ""
          }
        }
      }
    }
  },
  "cells": [
    {
      "cell_type": "markdown",
      "metadata": {
        "id": "view-in-github",
        "colab_type": "text"
      },
      "source": [
        "<a href=\"https://colab.research.google.com/github/Paulina9555/Repo1/blob/master/Regresja_zad_trenera.ipynb\" target=\"_parent\"><img src=\"https://colab.research.google.com/assets/colab-badge.svg\" alt=\"Open In Colab\"/></a>"
      ]
    },
    {
      "cell_type": "markdown",
      "source": [
        "# Importy\n",
        "\n"
      ],
      "metadata": {
        "id": "SF56vvTJqUAs"
      }
    },
    {
      "cell_type": "code",
      "execution_count": null,
      "metadata": {
        "id": "2dyPoBkMoomL"
      },
      "outputs": [],
      "source": [
        "import requests\n",
        "from bs4 import BeautifulSoup\n",
        "import json\n",
        "import numpy as np\n",
        "import pandas as pd\n",
        "from time import sleep\n",
        "from matplotlib import pyplot as plt"
      ]
    },
    {
      "cell_type": "markdown",
      "source": [
        "# Scrapping"
      ],
      "metadata": {
        "id": "Pgfo_gJqrJo1"
      }
    },
    {
      "cell_type": "code",
      "source": [
        "page_number = 1\n",
        "url = f'https://www.otodom.pl/pl/wyniki/sprzedaz/mieszkanie/slaskie/katowice/katowice/katowice?viewType=listing&limit=72&page={page_number}'\n",
        "headers = {'User-Agent': 'Mozilla/5.0 (Macintosh; Intel Mac OS X 10_10_1) AppleWebKit/537.36 (KHTML, like Gecko) Chrome/39.0.2171.95 Safari/537.36'}"
      ],
      "metadata": {
        "id": "sSQ_TpwEqdK4"
      },
      "execution_count": null,
      "outputs": []
    },
    {
      "cell_type": "code",
      "source": [
        "response = requests.get(url, headers=headers)"
      ],
      "metadata": {
        "id": "TYTFNzoMr3VX"
      },
      "execution_count": null,
      "outputs": []
    },
    {
      "cell_type": "code",
      "source": [
        "response"
      ],
      "metadata": {
        "colab": {
          "base_uri": "https://localhost:8080/"
        },
        "id": "OuS-m3k-sI_o",
        "outputId": "a27ac774-784b-4d2c-f395-9065afbddff0"
      },
      "execution_count": null,
      "outputs": [
        {
          "output_type": "execute_result",
          "data": {
            "text/plain": [
              "<Response [200]>"
            ]
          },
          "metadata": {},
          "execution_count": 4
        }
      ]
    },
    {
      "cell_type": "code",
      "source": [
        "content = response.text"
      ],
      "metadata": {
        "id": "RkwRa0Nzss1b"
      },
      "execution_count": null,
      "outputs": []
    },
    {
      "cell_type": "code",
      "source": [
        "soup = BeautifulSoup(content, 'html.parser')"
      ],
      "metadata": {
        "id": "YIsw044Fsxod"
      },
      "execution_count": null,
      "outputs": []
    },
    {
      "cell_type": "markdown",
      "source": [
        "## I sposób"
      ],
      "metadata": {
        "id": "apiqc6_zP00W"
      }
    },
    {
      "cell_type": "code",
      "source": [
        "offers = soup.find_all('li', {'class': 'css-o9b79t e1dfeild0'})"
      ],
      "metadata": {
        "id": "tbfm9wvuu_c6"
      },
      "execution_count": null,
      "outputs": []
    },
    {
      "cell_type": "code",
      "source": [
        "len(offers)"
      ],
      "metadata": {
        "colab": {
          "base_uri": "https://localhost:8080/"
        },
        "id": "kOi6xGOvvhQI",
        "outputId": "efd0dc85-42db-41a3-afee-47835eab8b8f"
      },
      "execution_count": null,
      "outputs": [
        {
          "output_type": "execute_result",
          "data": {
            "text/plain": [
              "76"
            ]
          },
          "metadata": {},
          "execution_count": 8
        }
      ]
    },
    {
      "cell_type": "code",
      "source": [
        "offer = offers[0]"
      ],
      "metadata": {
        "id": "8gKSWXxOvt74"
      },
      "execution_count": null,
      "outputs": []
    },
    {
      "cell_type": "code",
      "source": [
        "offer_url = 'https://www.otodom.pl' + offer.find('a', {'data-cy': 'listing-item-link'})['href']\n",
        "details = offer.find_all('span', {'class': 'css-1cyxwvy ei6hyam2'})\n",
        "price = float(details[0].get_text().replace('\\xa0','').replace('zł','')) if details[0].get_text() != 'Zapytaj o cenę' else None\n",
        "rooms = int(details[2].get_text().split(' ')[0])\n",
        "area = float(details[3].get_text().split(' ')[0])\n",
        "location = offer.find('p', {'class': 'css-19dkezj e1n06ry54'}).get_text().split(',')[-3].strip()"
      ],
      "metadata": {
        "id": "uV1D0FRuw08n",
        "colab": {
          "base_uri": "https://localhost:8080/",
          "height": 211
        },
        "outputId": "b13e5146-cb35-4492-e4b4-32bd754e7ea8"
      },
      "execution_count": null,
      "outputs": [
        {
          "output_type": "error",
          "ename": "AttributeError",
          "evalue": "ignored",
          "traceback": [
            "\u001b[0;31m---------------------------------------------------------------------------\u001b[0m",
            "\u001b[0;31mAttributeError\u001b[0m                            Traceback (most recent call last)",
            "\u001b[0;32m<ipython-input-10-282b6a9fc0ac>\u001b[0m in \u001b[0;36m<cell line: 6>\u001b[0;34m()\u001b[0m\n\u001b[1;32m      4\u001b[0m \u001b[0mrooms\u001b[0m \u001b[0;34m=\u001b[0m \u001b[0mint\u001b[0m\u001b[0;34m(\u001b[0m\u001b[0mdetails\u001b[0m\u001b[0;34m[\u001b[0m\u001b[0;36m2\u001b[0m\u001b[0;34m]\u001b[0m\u001b[0;34m.\u001b[0m\u001b[0mget_text\u001b[0m\u001b[0;34m(\u001b[0m\u001b[0;34m)\u001b[0m\u001b[0;34m.\u001b[0m\u001b[0msplit\u001b[0m\u001b[0;34m(\u001b[0m\u001b[0;34m' '\u001b[0m\u001b[0;34m)\u001b[0m\u001b[0;34m[\u001b[0m\u001b[0;36m0\u001b[0m\u001b[0;34m]\u001b[0m\u001b[0;34m)\u001b[0m\u001b[0;34m\u001b[0m\u001b[0;34m\u001b[0m\u001b[0m\n\u001b[1;32m      5\u001b[0m \u001b[0marea\u001b[0m \u001b[0;34m=\u001b[0m \u001b[0mfloat\u001b[0m\u001b[0;34m(\u001b[0m\u001b[0mdetails\u001b[0m\u001b[0;34m[\u001b[0m\u001b[0;36m3\u001b[0m\u001b[0;34m]\u001b[0m\u001b[0;34m.\u001b[0m\u001b[0mget_text\u001b[0m\u001b[0;34m(\u001b[0m\u001b[0;34m)\u001b[0m\u001b[0;34m.\u001b[0m\u001b[0msplit\u001b[0m\u001b[0;34m(\u001b[0m\u001b[0;34m' '\u001b[0m\u001b[0;34m)\u001b[0m\u001b[0;34m[\u001b[0m\u001b[0;36m0\u001b[0m\u001b[0;34m]\u001b[0m\u001b[0;34m)\u001b[0m\u001b[0;34m\u001b[0m\u001b[0;34m\u001b[0m\u001b[0m\n\u001b[0;32m----> 6\u001b[0;31m \u001b[0mlocation\u001b[0m \u001b[0;34m=\u001b[0m \u001b[0moffer\u001b[0m\u001b[0;34m.\u001b[0m\u001b[0mfind\u001b[0m\u001b[0;34m(\u001b[0m\u001b[0;34m'p'\u001b[0m\u001b[0;34m,\u001b[0m \u001b[0;34m{\u001b[0m\u001b[0;34m'class'\u001b[0m\u001b[0;34m:\u001b[0m \u001b[0;34m'css-19dkezj e1n06ry54'\u001b[0m\u001b[0;34m}\u001b[0m\u001b[0;34m)\u001b[0m\u001b[0;34m.\u001b[0m\u001b[0mget_text\u001b[0m\u001b[0;34m(\u001b[0m\u001b[0;34m)\u001b[0m\u001b[0;34m.\u001b[0m\u001b[0msplit\u001b[0m\u001b[0;34m(\u001b[0m\u001b[0;34m','\u001b[0m\u001b[0;34m)\u001b[0m\u001b[0;34m[\u001b[0m\u001b[0;34m-\u001b[0m\u001b[0;36m3\u001b[0m\u001b[0;34m]\u001b[0m\u001b[0;34m.\u001b[0m\u001b[0mstrip\u001b[0m\u001b[0;34m(\u001b[0m\u001b[0;34m)\u001b[0m\u001b[0;34m\u001b[0m\u001b[0;34m\u001b[0m\u001b[0m\n\u001b[0m",
            "\u001b[0;31mAttributeError\u001b[0m: 'NoneType' object has no attribute 'get_text'"
          ]
        }
      ]
    },
    {
      "cell_type": "code",
      "source": [
        "print(soup.prettify())"
      ],
      "metadata": {
        "id": "CgJmGQdtsyyp"
      },
      "execution_count": null,
      "outputs": []
    },
    {
      "cell_type": "code",
      "source": [
        "def get_offers(page_number):\n",
        "  url = f'https://www.otodom.pl/pl/wyniki/sprzedaz/mieszkanie/slaskie/katowice/katowice/katowice?viewType=listing&limit=72&page={page_number}'\n",
        "  headers = {'User-Agent': 'Mozilla/5.0 (Macintosh; Intel Mac OS X 10_10_1) AppleWebKit/537.36 (KHTML, like Gecko) Chrome/39.0.2171.95 Safari/537.36'}\n",
        "  response = requests.get(url, headers=headers)\n",
        "  sleep(3)\n",
        "  content = response.text\n",
        "  soup = BeautifulSoup(content, 'html.parser')\n",
        "  return soup.find_all('li', {'class': 'css-o9b79t e1dfeild0'})\n",
        "\n",
        "\n",
        "def get_url(offer):\n",
        "  return 'https://www.otodom.pl' + offer.find('a', {'data-cy': 'listing-item-link'})['href']\n",
        "\n",
        "\n",
        "def get_details(offer):\n",
        "  return offer.find_all('span', {'class': 'css-1cyxwvy ei6hyam2'})\n",
        "\n",
        "\n",
        "def get_price(details):\n",
        "  return float(details[0].get_text().replace('\\xa0','').replace('zł','')) if details[0].get_text() != 'Zapytaj o cenę' else None\n",
        "\n",
        "\n",
        "def get_rooms(details):\n",
        "  return int(details[2].get_text().split(' ')[0])\n",
        "\n",
        "\n",
        "def get_area(details):\n",
        "  return float(details[3].get_text().split(' ')[0])\n",
        "\n",
        "\n",
        "def get_location(offer):\n",
        "  return offer.find('p', {'class': 'css-19dkezj e1n06ry53'}).get_text().split(',')[-3].strip()\n",
        "\n",
        "\n",
        "def parse_offer(offer):\n",
        "  url = get_url(offer)\n",
        "  details = get_details(offer)\n",
        "  price = get_price(details)\n",
        "  rooms = get_rooms(details)\n",
        "  area = get_area(details)\n",
        "  location = get_location(offer)\n",
        "  return {'url': url,\n",
        "          'price': price,\n",
        "          'rooms': rooms,\n",
        "          'area': area,\n",
        "          'location': location}"
      ],
      "metadata": {
        "id": "JlTPA5cF3rB2"
      },
      "execution_count": null,
      "outputs": []
    },
    {
      "cell_type": "code",
      "source": [
        "data = []\n",
        "\n",
        "for page_number in range(1,11):\n",
        "  offers = get_offers(page_number)\n",
        "  for i, offer in enumerate(offers):\n",
        "    try:\n",
        "      data.append(parse_offer(offer))\n",
        "      if (i + 1) % 10 == 0:\n",
        "        print(f'Parsed {i} offers from page {page_number}')\n",
        "    except:\n",
        "      print('warning')"
      ],
      "metadata": {
        "id": "T0uNvycu5PCA"
      },
      "execution_count": null,
      "outputs": []
    },
    {
      "cell_type": "code",
      "source": [
        "data[0]"
      ],
      "metadata": {
        "colab": {
          "base_uri": "https://localhost:8080/"
        },
        "id": "h_OcqT2587EQ",
        "outputId": "b311b864-d780-4a8d-9621-787b25ecca03"
      },
      "execution_count": null,
      "outputs": [
        {
          "output_type": "execute_result",
          "data": {
            "text/plain": [
              "{'url': 'https://www.otodom.pl/pl/oferta/muchowiec-4-pokojowe-mieszkanie-uklad-doskonaly-ID4naTt',\n",
              " 'price': 1209000.0,\n",
              " 'rooms': 4,\n",
              " 'area': 93.0,\n",
              " 'location': 'Osiedle Paderewskiego-Muchowiec'}"
            ]
          },
          "metadata": {},
          "execution_count": 20
        }
      ]
    },
    {
      "cell_type": "code",
      "source": [
        "df = pd.DataFrame(data)"
      ],
      "metadata": {
        "id": "9JuDPlQZ96Ev"
      },
      "execution_count": null,
      "outputs": []
    },
    {
      "cell_type": "code",
      "source": [
        "df"
      ],
      "metadata": {
        "colab": {
          "base_uri": "https://localhost:8080/",
          "height": 423
        },
        "id": "ArpXFh2biHAW",
        "outputId": "e5708a15-d8af-4350-e379-e26ee71f6009"
      },
      "execution_count": null,
      "outputs": [
        {
          "output_type": "execute_result",
          "data": {
            "text/plain": [
              "                                                   url      price  rooms  \\\n",
              "0    https://www.otodom.pl/pl/oferta/muchowiec-4-po...  1209000.0      4   \n",
              "1    https://www.otodom.pl/pl/oferta/3-pokojowe-mie...   436000.0      3   \n",
              "2    https://www.otodom.pl/pl/oferta/mieszkanie-na-...   690000.0      3   \n",
              "3    https://www.otodom.pl/pl/oferta/rzepakowa-3-po...   858000.0      3   \n",
              "4    https://www.otodom.pl/pl/oferta/ochojec-nowe-b...   699000.0      3   \n",
              "..                                                 ...        ...    ...   \n",
              "739  https://www.otodom.pl/pl/oferta/49m2-2-pokoje-...   201000.0      2   \n",
              "740  https://www.otodom.pl/pl/oferta/m3-w-bloku-tuz...   269000.0      2   \n",
              "741  https://www.otodom.pl/pl/oferta/sprzedam-wynaj...   449000.0      3   \n",
              "742  https://www.otodom.pl/pl/oferta/katowice-giszo...   255000.0      2   \n",
              "743  https://www.otodom.pl/pl/oferta/osiedle-dworsk...   694921.0      3   \n",
              "\n",
              "      area                         location  \n",
              "0    93.00  Osiedle Paderewskiego-Muchowiec  \n",
              "1    50.00              Osiedle Tysiąclecia  \n",
              "2    60.00                 Ligota-Panewniki  \n",
              "3    65.74               Piotrowice-Ochojec  \n",
              "4    72.72               Piotrowice-Ochojec  \n",
              "..     ...                              ...  \n",
              "739  49.00                           Załęże  \n",
              "740  44.00                           Załęże  \n",
              "741  64.00               Piotrowice-Ochojec  \n",
              "742  43.00                        Giszowiec  \n",
              "743  73.10       Brynów-Osiedle Zgrzebnioka  \n",
              "\n",
              "[744 rows x 5 columns]"
            ],
            "text/html": [
              "\n",
              "  <div id=\"df-88a44c44-ab5a-4e86-83f5-c2b805ec0432\" class=\"colab-df-container\">\n",
              "    <div>\n",
              "<style scoped>\n",
              "    .dataframe tbody tr th:only-of-type {\n",
              "        vertical-align: middle;\n",
              "    }\n",
              "\n",
              "    .dataframe tbody tr th {\n",
              "        vertical-align: top;\n",
              "    }\n",
              "\n",
              "    .dataframe thead th {\n",
              "        text-align: right;\n",
              "    }\n",
              "</style>\n",
              "<table border=\"1\" class=\"dataframe\">\n",
              "  <thead>\n",
              "    <tr style=\"text-align: right;\">\n",
              "      <th></th>\n",
              "      <th>url</th>\n",
              "      <th>price</th>\n",
              "      <th>rooms</th>\n",
              "      <th>area</th>\n",
              "      <th>location</th>\n",
              "    </tr>\n",
              "  </thead>\n",
              "  <tbody>\n",
              "    <tr>\n",
              "      <th>0</th>\n",
              "      <td>https://www.otodom.pl/pl/oferta/muchowiec-4-po...</td>\n",
              "      <td>1209000.0</td>\n",
              "      <td>4</td>\n",
              "      <td>93.00</td>\n",
              "      <td>Osiedle Paderewskiego-Muchowiec</td>\n",
              "    </tr>\n",
              "    <tr>\n",
              "      <th>1</th>\n",
              "      <td>https://www.otodom.pl/pl/oferta/3-pokojowe-mie...</td>\n",
              "      <td>436000.0</td>\n",
              "      <td>3</td>\n",
              "      <td>50.00</td>\n",
              "      <td>Osiedle Tysiąclecia</td>\n",
              "    </tr>\n",
              "    <tr>\n",
              "      <th>2</th>\n",
              "      <td>https://www.otodom.pl/pl/oferta/mieszkanie-na-...</td>\n",
              "      <td>690000.0</td>\n",
              "      <td>3</td>\n",
              "      <td>60.00</td>\n",
              "      <td>Ligota-Panewniki</td>\n",
              "    </tr>\n",
              "    <tr>\n",
              "      <th>3</th>\n",
              "      <td>https://www.otodom.pl/pl/oferta/rzepakowa-3-po...</td>\n",
              "      <td>858000.0</td>\n",
              "      <td>3</td>\n",
              "      <td>65.74</td>\n",
              "      <td>Piotrowice-Ochojec</td>\n",
              "    </tr>\n",
              "    <tr>\n",
              "      <th>4</th>\n",
              "      <td>https://www.otodom.pl/pl/oferta/ochojec-nowe-b...</td>\n",
              "      <td>699000.0</td>\n",
              "      <td>3</td>\n",
              "      <td>72.72</td>\n",
              "      <td>Piotrowice-Ochojec</td>\n",
              "    </tr>\n",
              "    <tr>\n",
              "      <th>...</th>\n",
              "      <td>...</td>\n",
              "      <td>...</td>\n",
              "      <td>...</td>\n",
              "      <td>...</td>\n",
              "      <td>...</td>\n",
              "    </tr>\n",
              "    <tr>\n",
              "      <th>739</th>\n",
              "      <td>https://www.otodom.pl/pl/oferta/49m2-2-pokoje-...</td>\n",
              "      <td>201000.0</td>\n",
              "      <td>2</td>\n",
              "      <td>49.00</td>\n",
              "      <td>Załęże</td>\n",
              "    </tr>\n",
              "    <tr>\n",
              "      <th>740</th>\n",
              "      <td>https://www.otodom.pl/pl/oferta/m3-w-bloku-tuz...</td>\n",
              "      <td>269000.0</td>\n",
              "      <td>2</td>\n",
              "      <td>44.00</td>\n",
              "      <td>Załęże</td>\n",
              "    </tr>\n",
              "    <tr>\n",
              "      <th>741</th>\n",
              "      <td>https://www.otodom.pl/pl/oferta/sprzedam-wynaj...</td>\n",
              "      <td>449000.0</td>\n",
              "      <td>3</td>\n",
              "      <td>64.00</td>\n",
              "      <td>Piotrowice-Ochojec</td>\n",
              "    </tr>\n",
              "    <tr>\n",
              "      <th>742</th>\n",
              "      <td>https://www.otodom.pl/pl/oferta/katowice-giszo...</td>\n",
              "      <td>255000.0</td>\n",
              "      <td>2</td>\n",
              "      <td>43.00</td>\n",
              "      <td>Giszowiec</td>\n",
              "    </tr>\n",
              "    <tr>\n",
              "      <th>743</th>\n",
              "      <td>https://www.otodom.pl/pl/oferta/osiedle-dworsk...</td>\n",
              "      <td>694921.0</td>\n",
              "      <td>3</td>\n",
              "      <td>73.10</td>\n",
              "      <td>Brynów-Osiedle Zgrzebnioka</td>\n",
              "    </tr>\n",
              "  </tbody>\n",
              "</table>\n",
              "<p>744 rows × 5 columns</p>\n",
              "</div>\n",
              "    <div class=\"colab-df-buttons\">\n",
              "\n",
              "  <div class=\"colab-df-container\">\n",
              "    <button class=\"colab-df-convert\" onclick=\"convertToInteractive('df-88a44c44-ab5a-4e86-83f5-c2b805ec0432')\"\n",
              "            title=\"Convert this dataframe to an interactive table.\"\n",
              "            style=\"display:none;\">\n",
              "\n",
              "  <svg xmlns=\"http://www.w3.org/2000/svg\" height=\"24px\" viewBox=\"0 -960 960 960\">\n",
              "    <path d=\"M120-120v-720h720v720H120Zm60-500h600v-160H180v160Zm220 220h160v-160H400v160Zm0 220h160v-160H400v160ZM180-400h160v-160H180v160Zm440 0h160v-160H620v160ZM180-180h160v-160H180v160Zm440 0h160v-160H620v160Z\"/>\n",
              "  </svg>\n",
              "    </button>\n",
              "\n",
              "  <style>\n",
              "    .colab-df-container {\n",
              "      display:flex;\n",
              "      gap: 12px;\n",
              "    }\n",
              "\n",
              "    .colab-df-convert {\n",
              "      background-color: #E8F0FE;\n",
              "      border: none;\n",
              "      border-radius: 50%;\n",
              "      cursor: pointer;\n",
              "      display: none;\n",
              "      fill: #1967D2;\n",
              "      height: 32px;\n",
              "      padding: 0 0 0 0;\n",
              "      width: 32px;\n",
              "    }\n",
              "\n",
              "    .colab-df-convert:hover {\n",
              "      background-color: #E2EBFA;\n",
              "      box-shadow: 0px 1px 2px rgba(60, 64, 67, 0.3), 0px 1px 3px 1px rgba(60, 64, 67, 0.15);\n",
              "      fill: #174EA6;\n",
              "    }\n",
              "\n",
              "    .colab-df-buttons div {\n",
              "      margin-bottom: 4px;\n",
              "    }\n",
              "\n",
              "    [theme=dark] .colab-df-convert {\n",
              "      background-color: #3B4455;\n",
              "      fill: #D2E3FC;\n",
              "    }\n",
              "\n",
              "    [theme=dark] .colab-df-convert:hover {\n",
              "      background-color: #434B5C;\n",
              "      box-shadow: 0px 1px 3px 1px rgba(0, 0, 0, 0.15);\n",
              "      filter: drop-shadow(0px 1px 2px rgba(0, 0, 0, 0.3));\n",
              "      fill: #FFFFFF;\n",
              "    }\n",
              "  </style>\n",
              "\n",
              "    <script>\n",
              "      const buttonEl =\n",
              "        document.querySelector('#df-88a44c44-ab5a-4e86-83f5-c2b805ec0432 button.colab-df-convert');\n",
              "      buttonEl.style.display =\n",
              "        google.colab.kernel.accessAllowed ? 'block' : 'none';\n",
              "\n",
              "      async function convertToInteractive(key) {\n",
              "        const element = document.querySelector('#df-88a44c44-ab5a-4e86-83f5-c2b805ec0432');\n",
              "        const dataTable =\n",
              "          await google.colab.kernel.invokeFunction('convertToInteractive',\n",
              "                                                    [key], {});\n",
              "        if (!dataTable) return;\n",
              "\n",
              "        const docLinkHtml = 'Like what you see? Visit the ' +\n",
              "          '<a target=\"_blank\" href=https://colab.research.google.com/notebooks/data_table.ipynb>data table notebook</a>'\n",
              "          + ' to learn more about interactive tables.';\n",
              "        element.innerHTML = '';\n",
              "        dataTable['output_type'] = 'display_data';\n",
              "        await google.colab.output.renderOutput(dataTable, element);\n",
              "        const docLink = document.createElement('div');\n",
              "        docLink.innerHTML = docLinkHtml;\n",
              "        element.appendChild(docLink);\n",
              "      }\n",
              "    </script>\n",
              "  </div>\n",
              "\n",
              "\n",
              "<div id=\"df-d3dbae68-9d8d-4ab9-bb72-564973d09eb0\">\n",
              "  <button class=\"colab-df-quickchart\" onclick=\"quickchart('df-d3dbae68-9d8d-4ab9-bb72-564973d09eb0')\"\n",
              "            title=\"Suggest charts.\"\n",
              "            style=\"display:none;\">\n",
              "\n",
              "<svg xmlns=\"http://www.w3.org/2000/svg\" height=\"24px\"viewBox=\"0 0 24 24\"\n",
              "     width=\"24px\">\n",
              "    <g>\n",
              "        <path d=\"M19 3H5c-1.1 0-2 .9-2 2v14c0 1.1.9 2 2 2h14c1.1 0 2-.9 2-2V5c0-1.1-.9-2-2-2zM9 17H7v-7h2v7zm4 0h-2V7h2v10zm4 0h-2v-4h2v4z\"/>\n",
              "    </g>\n",
              "</svg>\n",
              "  </button>\n",
              "\n",
              "<style>\n",
              "  .colab-df-quickchart {\n",
              "      --bg-color: #E8F0FE;\n",
              "      --fill-color: #1967D2;\n",
              "      --hover-bg-color: #E2EBFA;\n",
              "      --hover-fill-color: #174EA6;\n",
              "      --disabled-fill-color: #AAA;\n",
              "      --disabled-bg-color: #DDD;\n",
              "  }\n",
              "\n",
              "  [theme=dark] .colab-df-quickchart {\n",
              "      --bg-color: #3B4455;\n",
              "      --fill-color: #D2E3FC;\n",
              "      --hover-bg-color: #434B5C;\n",
              "      --hover-fill-color: #FFFFFF;\n",
              "      --disabled-bg-color: #3B4455;\n",
              "      --disabled-fill-color: #666;\n",
              "  }\n",
              "\n",
              "  .colab-df-quickchart {\n",
              "    background-color: var(--bg-color);\n",
              "    border: none;\n",
              "    border-radius: 50%;\n",
              "    cursor: pointer;\n",
              "    display: none;\n",
              "    fill: var(--fill-color);\n",
              "    height: 32px;\n",
              "    padding: 0;\n",
              "    width: 32px;\n",
              "  }\n",
              "\n",
              "  .colab-df-quickchart:hover {\n",
              "    background-color: var(--hover-bg-color);\n",
              "    box-shadow: 0 1px 2px rgba(60, 64, 67, 0.3), 0 1px 3px 1px rgba(60, 64, 67, 0.15);\n",
              "    fill: var(--button-hover-fill-color);\n",
              "  }\n",
              "\n",
              "  .colab-df-quickchart-complete:disabled,\n",
              "  .colab-df-quickchart-complete:disabled:hover {\n",
              "    background-color: var(--disabled-bg-color);\n",
              "    fill: var(--disabled-fill-color);\n",
              "    box-shadow: none;\n",
              "  }\n",
              "\n",
              "  .colab-df-spinner {\n",
              "    border: 2px solid var(--fill-color);\n",
              "    border-color: transparent;\n",
              "    border-bottom-color: var(--fill-color);\n",
              "    animation:\n",
              "      spin 1s steps(1) infinite;\n",
              "  }\n",
              "\n",
              "  @keyframes spin {\n",
              "    0% {\n",
              "      border-color: transparent;\n",
              "      border-bottom-color: var(--fill-color);\n",
              "      border-left-color: var(--fill-color);\n",
              "    }\n",
              "    20% {\n",
              "      border-color: transparent;\n",
              "      border-left-color: var(--fill-color);\n",
              "      border-top-color: var(--fill-color);\n",
              "    }\n",
              "    30% {\n",
              "      border-color: transparent;\n",
              "      border-left-color: var(--fill-color);\n",
              "      border-top-color: var(--fill-color);\n",
              "      border-right-color: var(--fill-color);\n",
              "    }\n",
              "    40% {\n",
              "      border-color: transparent;\n",
              "      border-right-color: var(--fill-color);\n",
              "      border-top-color: var(--fill-color);\n",
              "    }\n",
              "    60% {\n",
              "      border-color: transparent;\n",
              "      border-right-color: var(--fill-color);\n",
              "    }\n",
              "    80% {\n",
              "      border-color: transparent;\n",
              "      border-right-color: var(--fill-color);\n",
              "      border-bottom-color: var(--fill-color);\n",
              "    }\n",
              "    90% {\n",
              "      border-color: transparent;\n",
              "      border-bottom-color: var(--fill-color);\n",
              "    }\n",
              "  }\n",
              "</style>\n",
              "\n",
              "  <script>\n",
              "    async function quickchart(key) {\n",
              "      const quickchartButtonEl =\n",
              "        document.querySelector('#' + key + ' button');\n",
              "      quickchartButtonEl.disabled = true;  // To prevent multiple clicks.\n",
              "      quickchartButtonEl.classList.add('colab-df-spinner');\n",
              "      try {\n",
              "        const charts = await google.colab.kernel.invokeFunction(\n",
              "            'suggestCharts', [key], {});\n",
              "      } catch (error) {\n",
              "        console.error('Error during call to suggestCharts:', error);\n",
              "      }\n",
              "      quickchartButtonEl.classList.remove('colab-df-spinner');\n",
              "      quickchartButtonEl.classList.add('colab-df-quickchart-complete');\n",
              "    }\n",
              "    (() => {\n",
              "      let quickchartButtonEl =\n",
              "        document.querySelector('#df-d3dbae68-9d8d-4ab9-bb72-564973d09eb0 button');\n",
              "      quickchartButtonEl.style.display =\n",
              "        google.colab.kernel.accessAllowed ? 'block' : 'none';\n",
              "    })();\n",
              "  </script>\n",
              "</div>\n",
              "    </div>\n",
              "  </div>\n"
            ]
          },
          "metadata": {},
          "execution_count": 23
        }
      ]
    },
    {
      "cell_type": "code",
      "source": [
        "df.to_csv('otodom.csv')"
      ],
      "metadata": {
        "id": "vT78xWi29_F9"
      },
      "execution_count": null,
      "outputs": []
    },
    {
      "cell_type": "markdown",
      "source": [
        "## II sposób"
      ],
      "metadata": {
        "id": "OqSI-OynP5Pg"
      }
    },
    {
      "cell_type": "code",
      "source": [
        "print(soup.prettify())"
      ],
      "metadata": {
        "id": "Qsx__Zfl9_yA"
      },
      "execution_count": null,
      "outputs": []
    },
    {
      "cell_type": "code",
      "source": [
        "text = soup.find('script', {'id': \"__NEXT_DATA__\"}).get_text()"
      ],
      "metadata": {
        "id": "X1TVTey6RTJ9"
      },
      "execution_count": null,
      "outputs": []
    },
    {
      "cell_type": "code",
      "source": [
        "import json"
      ],
      "metadata": {
        "id": "J4fNs0AgReBQ"
      },
      "execution_count": null,
      "outputs": []
    },
    {
      "cell_type": "code",
      "source": [
        "data_json = json.loads(text)"
      ],
      "metadata": {
        "id": "XIHlKA1HRf0W"
      },
      "execution_count": null,
      "outputs": []
    },
    {
      "cell_type": "code",
      "source": [
        "offers = data_json['props']['pageProps']['data']['searchAds']['items']"
      ],
      "metadata": {
        "id": "YnPt57e8R1Uf"
      },
      "execution_count": null,
      "outputs": []
    },
    {
      "cell_type": "code",
      "source": [
        "offers[0]['areaInSquareMeters']"
      ],
      "metadata": {
        "colab": {
          "base_uri": "https://localhost:8080/"
        },
        "id": "_qRPy0M1R9r9",
        "outputId": "624d6cdf-76ee-4fbc-dc0a-0265bb1f930c"
      },
      "execution_count": null,
      "outputs": [
        {
          "output_type": "execute_result",
          "data": {
            "text/plain": [
              "44.18"
            ]
          },
          "metadata": {},
          "execution_count": 21
        }
      ]
    },
    {
      "cell_type": "code",
      "source": [
        "offers[0]['totalPrice']['value']"
      ],
      "metadata": {
        "colab": {
          "base_uri": "https://localhost:8080/"
        },
        "id": "IKGP1Qo3UB1Y",
        "outputId": "8f8ec2b0-b469-4d71-be14-3ddefadcacba"
      },
      "execution_count": null,
      "outputs": [
        {
          "output_type": "execute_result",
          "data": {
            "text/plain": [
              "665000"
            ]
          },
          "metadata": {},
          "execution_count": 24
        }
      ]
    },
    {
      "cell_type": "code",
      "source": [
        "offers[0]['title']"
      ],
      "metadata": {
        "colab": {
          "base_uri": "https://localhost:8080/",
          "height": 36
        },
        "id": "Q57R9bAqUhDm",
        "outputId": "f1d549aa-4ace-456b-8cdc-9f1462e0864d"
      },
      "execution_count": null,
      "outputs": [
        {
          "output_type": "execute_result",
          "data": {
            "text/plain": [
              "'Apartament w Dolinie Trzech Stawów - Pułaskiego 19'"
            ],
            "application/vnd.google.colaboratory.intrinsic+json": {
              "type": "string"
            }
          },
          "metadata": {},
          "execution_count": 26
        }
      ]
    },
    {
      "cell_type": "code",
      "source": [
        "data = []\n",
        "\n",
        "for offer in offers:\n",
        "  try:\n",
        "    price = offer['totalPrice']['value']\n",
        "  except:\n",
        "    price = None\n",
        "\n",
        "  data.append({'title': offer['title'],\n",
        "               'price': price})"
      ],
      "metadata": {
        "id": "3K5kz8hUU7v1"
      },
      "execution_count": null,
      "outputs": []
    },
    {
      "cell_type": "code",
      "source": [
        "df = pd.DataFrame(data)\n",
        "df"
      ],
      "metadata": {
        "id": "d56-ODviVHbw"
      },
      "execution_count": null,
      "outputs": []
    },
    {
      "cell_type": "code",
      "source": [],
      "metadata": {
        "id": "nQDLWA1aVzCA"
      },
      "execution_count": null,
      "outputs": []
    },
    {
      "cell_type": "markdown",
      "source": [
        "# EDA (eksploracyjna analiza danych)"
      ],
      "metadata": {
        "id": "Bdri90UKZL1X"
      }
    },
    {
      "cell_type": "code",
      "source": [
        "df = pd.read_csv('otodom.csv')"
      ],
      "metadata": {
        "id": "rwCKUR7IZNnP"
      },
      "execution_count": null,
      "outputs": []
    },
    {
      "cell_type": "code",
      "source": [
        "df"
      ],
      "metadata": {
        "id": "2LD5KD3WZu5k"
      },
      "execution_count": null,
      "outputs": []
    },
    {
      "cell_type": "code",
      "source": [
        "df.describe()"
      ],
      "metadata": {
        "colab": {
          "base_uri": "https://localhost:8080/",
          "height": 309
        },
        "id": "XxxYmnEgZXGM",
        "outputId": "a23ea6e0-b473-4a88-a235-161b3992f9cd"
      },
      "execution_count": null,
      "outputs": [
        {
          "output_type": "execute_result",
          "data": {
            "text/plain": [
              "              price        rooms         area\n",
              "count  2.680000e+03  3613.000000  3615.000000\n",
              "mean   5.841718e+05     2.575145    60.609585\n",
              "std    3.013024e+05     0.971471    29.532946\n",
              "min    8.588800e+04     1.000000    12.700000\n",
              "25%    4.089795e+05     2.000000    42.640000\n",
              "50%    5.175120e+05     2.000000    53.200000\n",
              "75%    6.806310e+05     3.000000    71.430000\n",
              "max    4.050000e+06     9.000000   745.000000"
            ],
            "text/html": [
              "\n",
              "  <div id=\"df-1b52a680-0dd4-406f-8c7a-fa4ec282928b\" class=\"colab-df-container\">\n",
              "    <div>\n",
              "<style scoped>\n",
              "    .dataframe tbody tr th:only-of-type {\n",
              "        vertical-align: middle;\n",
              "    }\n",
              "\n",
              "    .dataframe tbody tr th {\n",
              "        vertical-align: top;\n",
              "    }\n",
              "\n",
              "    .dataframe thead th {\n",
              "        text-align: right;\n",
              "    }\n",
              "</style>\n",
              "<table border=\"1\" class=\"dataframe\">\n",
              "  <thead>\n",
              "    <tr style=\"text-align: right;\">\n",
              "      <th></th>\n",
              "      <th>price</th>\n",
              "      <th>rooms</th>\n",
              "      <th>area</th>\n",
              "    </tr>\n",
              "  </thead>\n",
              "  <tbody>\n",
              "    <tr>\n",
              "      <th>count</th>\n",
              "      <td>2.680000e+03</td>\n",
              "      <td>3613.000000</td>\n",
              "      <td>3615.000000</td>\n",
              "    </tr>\n",
              "    <tr>\n",
              "      <th>mean</th>\n",
              "      <td>5.841718e+05</td>\n",
              "      <td>2.575145</td>\n",
              "      <td>60.609585</td>\n",
              "    </tr>\n",
              "    <tr>\n",
              "      <th>std</th>\n",
              "      <td>3.013024e+05</td>\n",
              "      <td>0.971471</td>\n",
              "      <td>29.532946</td>\n",
              "    </tr>\n",
              "    <tr>\n",
              "      <th>min</th>\n",
              "      <td>8.588800e+04</td>\n",
              "      <td>1.000000</td>\n",
              "      <td>12.700000</td>\n",
              "    </tr>\n",
              "    <tr>\n",
              "      <th>25%</th>\n",
              "      <td>4.089795e+05</td>\n",
              "      <td>2.000000</td>\n",
              "      <td>42.640000</td>\n",
              "    </tr>\n",
              "    <tr>\n",
              "      <th>50%</th>\n",
              "      <td>5.175120e+05</td>\n",
              "      <td>2.000000</td>\n",
              "      <td>53.200000</td>\n",
              "    </tr>\n",
              "    <tr>\n",
              "      <th>75%</th>\n",
              "      <td>6.806310e+05</td>\n",
              "      <td>3.000000</td>\n",
              "      <td>71.430000</td>\n",
              "    </tr>\n",
              "    <tr>\n",
              "      <th>max</th>\n",
              "      <td>4.050000e+06</td>\n",
              "      <td>9.000000</td>\n",
              "      <td>745.000000</td>\n",
              "    </tr>\n",
              "  </tbody>\n",
              "</table>\n",
              "</div>\n",
              "    <div class=\"colab-df-buttons\">\n",
              "\n",
              "  <div class=\"colab-df-container\">\n",
              "    <button class=\"colab-df-convert\" onclick=\"convertToInteractive('df-1b52a680-0dd4-406f-8c7a-fa4ec282928b')\"\n",
              "            title=\"Convert this dataframe to an interactive table.\"\n",
              "            style=\"display:none;\">\n",
              "\n",
              "  <svg xmlns=\"http://www.w3.org/2000/svg\" height=\"24px\" viewBox=\"0 -960 960 960\">\n",
              "    <path d=\"M120-120v-720h720v720H120Zm60-500h600v-160H180v160Zm220 220h160v-160H400v160Zm0 220h160v-160H400v160ZM180-400h160v-160H180v160Zm440 0h160v-160H620v160ZM180-180h160v-160H180v160Zm440 0h160v-160H620v160Z\"/>\n",
              "  </svg>\n",
              "    </button>\n",
              "\n",
              "  <style>\n",
              "    .colab-df-container {\n",
              "      display:flex;\n",
              "      gap: 12px;\n",
              "    }\n",
              "\n",
              "    .colab-df-convert {\n",
              "      background-color: #E8F0FE;\n",
              "      border: none;\n",
              "      border-radius: 50%;\n",
              "      cursor: pointer;\n",
              "      display: none;\n",
              "      fill: #1967D2;\n",
              "      height: 32px;\n",
              "      padding: 0 0 0 0;\n",
              "      width: 32px;\n",
              "    }\n",
              "\n",
              "    .colab-df-convert:hover {\n",
              "      background-color: #E2EBFA;\n",
              "      box-shadow: 0px 1px 2px rgba(60, 64, 67, 0.3), 0px 1px 3px 1px rgba(60, 64, 67, 0.15);\n",
              "      fill: #174EA6;\n",
              "    }\n",
              "\n",
              "    .colab-df-buttons div {\n",
              "      margin-bottom: 4px;\n",
              "    }\n",
              "\n",
              "    [theme=dark] .colab-df-convert {\n",
              "      background-color: #3B4455;\n",
              "      fill: #D2E3FC;\n",
              "    }\n",
              "\n",
              "    [theme=dark] .colab-df-convert:hover {\n",
              "      background-color: #434B5C;\n",
              "      box-shadow: 0px 1px 3px 1px rgba(0, 0, 0, 0.15);\n",
              "      filter: drop-shadow(0px 1px 2px rgba(0, 0, 0, 0.3));\n",
              "      fill: #FFFFFF;\n",
              "    }\n",
              "  </style>\n",
              "\n",
              "    <script>\n",
              "      const buttonEl =\n",
              "        document.querySelector('#df-1b52a680-0dd4-406f-8c7a-fa4ec282928b button.colab-df-convert');\n",
              "      buttonEl.style.display =\n",
              "        google.colab.kernel.accessAllowed ? 'block' : 'none';\n",
              "\n",
              "      async function convertToInteractive(key) {\n",
              "        const element = document.querySelector('#df-1b52a680-0dd4-406f-8c7a-fa4ec282928b');\n",
              "        const dataTable =\n",
              "          await google.colab.kernel.invokeFunction('convertToInteractive',\n",
              "                                                    [key], {});\n",
              "        if (!dataTable) return;\n",
              "\n",
              "        const docLinkHtml = 'Like what you see? Visit the ' +\n",
              "          '<a target=\"_blank\" href=https://colab.research.google.com/notebooks/data_table.ipynb>data table notebook</a>'\n",
              "          + ' to learn more about interactive tables.';\n",
              "        element.innerHTML = '';\n",
              "        dataTable['output_type'] = 'display_data';\n",
              "        await google.colab.output.renderOutput(dataTable, element);\n",
              "        const docLink = document.createElement('div');\n",
              "        docLink.innerHTML = docLinkHtml;\n",
              "        element.appendChild(docLink);\n",
              "      }\n",
              "    </script>\n",
              "  </div>\n",
              "\n",
              "\n",
              "<div id=\"df-859651ee-3768-4165-b52a-aa2afcf20da6\">\n",
              "  <button class=\"colab-df-quickchart\" onclick=\"quickchart('df-859651ee-3768-4165-b52a-aa2afcf20da6')\"\n",
              "            title=\"Suggest charts.\"\n",
              "            style=\"display:none;\">\n",
              "\n",
              "<svg xmlns=\"http://www.w3.org/2000/svg\" height=\"24px\"viewBox=\"0 0 24 24\"\n",
              "     width=\"24px\">\n",
              "    <g>\n",
              "        <path d=\"M19 3H5c-1.1 0-2 .9-2 2v14c0 1.1.9 2 2 2h14c1.1 0 2-.9 2-2V5c0-1.1-.9-2-2-2zM9 17H7v-7h2v7zm4 0h-2V7h2v10zm4 0h-2v-4h2v4z\"/>\n",
              "    </g>\n",
              "</svg>\n",
              "  </button>\n",
              "\n",
              "<style>\n",
              "  .colab-df-quickchart {\n",
              "      --bg-color: #E8F0FE;\n",
              "      --fill-color: #1967D2;\n",
              "      --hover-bg-color: #E2EBFA;\n",
              "      --hover-fill-color: #174EA6;\n",
              "      --disabled-fill-color: #AAA;\n",
              "      --disabled-bg-color: #DDD;\n",
              "  }\n",
              "\n",
              "  [theme=dark] .colab-df-quickchart {\n",
              "      --bg-color: #3B4455;\n",
              "      --fill-color: #D2E3FC;\n",
              "      --hover-bg-color: #434B5C;\n",
              "      --hover-fill-color: #FFFFFF;\n",
              "      --disabled-bg-color: #3B4455;\n",
              "      --disabled-fill-color: #666;\n",
              "  }\n",
              "\n",
              "  .colab-df-quickchart {\n",
              "    background-color: var(--bg-color);\n",
              "    border: none;\n",
              "    border-radius: 50%;\n",
              "    cursor: pointer;\n",
              "    display: none;\n",
              "    fill: var(--fill-color);\n",
              "    height: 32px;\n",
              "    padding: 0;\n",
              "    width: 32px;\n",
              "  }\n",
              "\n",
              "  .colab-df-quickchart:hover {\n",
              "    background-color: var(--hover-bg-color);\n",
              "    box-shadow: 0 1px 2px rgba(60, 64, 67, 0.3), 0 1px 3px 1px rgba(60, 64, 67, 0.15);\n",
              "    fill: var(--button-hover-fill-color);\n",
              "  }\n",
              "\n",
              "  .colab-df-quickchart-complete:disabled,\n",
              "  .colab-df-quickchart-complete:disabled:hover {\n",
              "    background-color: var(--disabled-bg-color);\n",
              "    fill: var(--disabled-fill-color);\n",
              "    box-shadow: none;\n",
              "  }\n",
              "\n",
              "  .colab-df-spinner {\n",
              "    border: 2px solid var(--fill-color);\n",
              "    border-color: transparent;\n",
              "    border-bottom-color: var(--fill-color);\n",
              "    animation:\n",
              "      spin 1s steps(1) infinite;\n",
              "  }\n",
              "\n",
              "  @keyframes spin {\n",
              "    0% {\n",
              "      border-color: transparent;\n",
              "      border-bottom-color: var(--fill-color);\n",
              "      border-left-color: var(--fill-color);\n",
              "    }\n",
              "    20% {\n",
              "      border-color: transparent;\n",
              "      border-left-color: var(--fill-color);\n",
              "      border-top-color: var(--fill-color);\n",
              "    }\n",
              "    30% {\n",
              "      border-color: transparent;\n",
              "      border-left-color: var(--fill-color);\n",
              "      border-top-color: var(--fill-color);\n",
              "      border-right-color: var(--fill-color);\n",
              "    }\n",
              "    40% {\n",
              "      border-color: transparent;\n",
              "      border-right-color: var(--fill-color);\n",
              "      border-top-color: var(--fill-color);\n",
              "    }\n",
              "    60% {\n",
              "      border-color: transparent;\n",
              "      border-right-color: var(--fill-color);\n",
              "    }\n",
              "    80% {\n",
              "      border-color: transparent;\n",
              "      border-right-color: var(--fill-color);\n",
              "      border-bottom-color: var(--fill-color);\n",
              "    }\n",
              "    90% {\n",
              "      border-color: transparent;\n",
              "      border-bottom-color: var(--fill-color);\n",
              "    }\n",
              "  }\n",
              "</style>\n",
              "\n",
              "  <script>\n",
              "    async function quickchart(key) {\n",
              "      const quickchartButtonEl =\n",
              "        document.querySelector('#' + key + ' button');\n",
              "      quickchartButtonEl.disabled = true;  // To prevent multiple clicks.\n",
              "      quickchartButtonEl.classList.add('colab-df-spinner');\n",
              "      try {\n",
              "        const charts = await google.colab.kernel.invokeFunction(\n",
              "            'suggestCharts', [key], {});\n",
              "      } catch (error) {\n",
              "        console.error('Error during call to suggestCharts:', error);\n",
              "      }\n",
              "      quickchartButtonEl.classList.remove('colab-df-spinner');\n",
              "      quickchartButtonEl.classList.add('colab-df-quickchart-complete');\n",
              "    }\n",
              "    (() => {\n",
              "      let quickchartButtonEl =\n",
              "        document.querySelector('#df-859651ee-3768-4165-b52a-aa2afcf20da6 button');\n",
              "      quickchartButtonEl.style.display =\n",
              "        google.colab.kernel.accessAllowed ? 'block' : 'none';\n",
              "    })();\n",
              "  </script>\n",
              "</div>\n",
              "    </div>\n",
              "  </div>\n"
            ]
          },
          "metadata": {},
          "execution_count": 36
        }
      ]
    },
    {
      "cell_type": "code",
      "source": [
        "df['location'].str.strip().value_counts()"
      ],
      "metadata": {
        "id": "e1aDX98HZbyZ"
      },
      "execution_count": null,
      "outputs": []
    },
    {
      "cell_type": "code",
      "source": [
        "df.info()"
      ],
      "metadata": {
        "colab": {
          "base_uri": "https://localhost:8080/"
        },
        "id": "BwMi3dBNbbiv",
        "outputId": "f408834f-e87d-4d68-cc30-89637d131c57"
      },
      "execution_count": null,
      "outputs": [
        {
          "output_type": "stream",
          "name": "stdout",
          "text": [
            "<class 'pandas.core.frame.DataFrame'>\n",
            "RangeIndex: 3615 entries, 0 to 3614\n",
            "Data columns (total 5 columns):\n",
            " #   Column    Non-Null Count  Dtype  \n",
            "---  ------    --------------  -----  \n",
            " 0   url       3615 non-null   object \n",
            " 1   price     2680 non-null   float64\n",
            " 2   rooms     3613 non-null   float64\n",
            " 3   area      3615 non-null   float64\n",
            " 4   location  3614 non-null   object \n",
            "dtypes: float64(3), object(2)\n",
            "memory usage: 141.3+ KB\n"
          ]
        }
      ]
    },
    {
      "cell_type": "code",
      "source": [
        "df.duplicated().sum()"
      ],
      "metadata": {
        "colab": {
          "base_uri": "https://localhost:8080/"
        },
        "id": "Bf1tZg-NcXO3",
        "outputId": "7e250b05-17a8-4948-a589-457236882151"
      },
      "execution_count": null,
      "outputs": [
        {
          "output_type": "execute_result",
          "data": {
            "text/plain": [
              "147"
            ]
          },
          "metadata": {},
          "execution_count": 45
        }
      ]
    },
    {
      "cell_type": "markdown",
      "source": [
        "### Pandas profilling"
      ],
      "metadata": {
        "id": "zy-DRtsuhUpO"
      }
    },
    {
      "cell_type": "code",
      "source": [
        "!pip install pandas_profiling --upgrade\n",
        "!pip install markupsafe==2.0.1"
      ],
      "metadata": {
        "id": "r-sa9-bpfXAT"
      },
      "execution_count": null,
      "outputs": []
    },
    {
      "cell_type": "code",
      "source": [
        "from pandas_profiling import ProfileReport"
      ],
      "metadata": {
        "colab": {
          "base_uri": "https://localhost:8080/"
        },
        "id": "Vb5GdmffhZFk",
        "outputId": "0be4643f-f109-46c9-e3db-97df3048eaf9"
      },
      "execution_count": null,
      "outputs": [
        {
          "output_type": "stream",
          "name": "stderr",
          "text": [
            "<ipython-input-53-e2a33329b6f0>:1: DeprecationWarning: `import pandas_profiling` is going to be deprecated by April 1st. Please use `import ydata_profiling` instead.\n",
            "  from pandas_profiling import ProfileReport\n"
          ]
        }
      ]
    },
    {
      "cell_type": "code",
      "source": [
        "from pandas._libs.lib import infer_dtype\n",
        "prof = ProfileReport(df, infer_dtypes=False)"
      ],
      "metadata": {
        "id": "WRcLBb2fhpBC"
      },
      "execution_count": null,
      "outputs": []
    },
    {
      "cell_type": "code",
      "source": [
        "prof.to_file('report.html')"
      ],
      "metadata": {
        "colab": {
          "base_uri": "https://localhost:8080/",
          "height": 145,
          "referenced_widgets": [
            "485f19a6d4464be68b8bce2e0bdef84c",
            "57b4c2155b1a453fbed24349962814aa",
            "2242aa86ee904eea98c591d9de4c61f4",
            "e4f21a6c6697471cbcde5d18c0a19314",
            "19bb671e16104517ab5d9c825fa416f0",
            "7d725c15aa15405d924c5aa924731ccb",
            "c21595a4fb314c5aa0fdbd2030fca192",
            "18a8120b209944e3ac29f3d3e5d321cd",
            "f1ca1ee643104ba18b42282ce2046fcc",
            "ad5a0b8c5c2a4e5f91bfedd8b00b3e33",
            "08af796f4f54497cab5983ac24e4fb04",
            "d1da6a60a0cb42dfb1c935e835add57c",
            "0444cc4c83cf496ebe43f6fdeb5f4ae6",
            "6552c6baf9a04df6b3b609297b72d559",
            "5375880b50014468aeb8710ff2aa261f",
            "f428731b738c4f0aae628e8055dd0600",
            "c432bc6c52c44dabbc903ac8a25a06d1",
            "34185f4354b34f8dbbae7d3ad986330a",
            "dfd45e356e824852884e4ead12da61af",
            "fa1aca452c7f4a4c910b80f84ce5170f",
            "e3ed43a9b2a94198a95e989e569c2be2",
            "fded3839a79847fe9ad0fd6463a6a964",
            "a8163fe8e33148b982821b100d781767",
            "ebdec1c3a0564730902571f2fc812f70",
            "cc4ecea485744d97a75c0f963e6b2014",
            "a0203d2bf82b42d1b3b7180b7fbc7027",
            "28d64cc848aa4aef85bc7e1cbe591175",
            "91ed232024fa4dda9e8558735e99c817",
            "8ea044120acd4a61a9981a317a2e8c76",
            "2517fd9ccf9a4326879d70b9af23f9f5",
            "fe9c59f27fc142c28383e79107bf2076",
            "72ecf7f4b5c142d7a2b278ef2dc409aa",
            "66d40cbba6224b6e9404b80a04faa665",
            "ffdc3cfd85d049be81bf41921076540b",
            "86200e1b669e40c9ad3af2f0d752bb40",
            "32d971bac7b641b1b2bf7e8b93ec4e22",
            "b9cb9d5fe5c840a8bf60f6c70e099345",
            "0c261779bde845ddbe9a08dd0c724cfa",
            "f4736f986dd341bcb514d5bd021dc01e",
            "277908bcffec4c89809d97a8b026d089",
            "1fab771e639f43e98238a6c1c4e0a718",
            "da3366fc97574f2eba418ffe32b39940",
            "c1f1747279c14c3da20c1f40da9dd44a",
            "436961160d2c4c6997a306c23ff78e2f"
          ]
        },
        "id": "eUqqddMSiYy0",
        "outputId": "cd688edc-4cfd-49a7-c24d-0c19143c0c73"
      },
      "execution_count": null,
      "outputs": [
        {
          "output_type": "display_data",
          "data": {
            "text/plain": [
              "Summarize dataset:   0%|          | 0/5 [00:00<?, ?it/s]"
            ],
            "application/vnd.jupyter.widget-view+json": {
              "version_major": 2,
              "version_minor": 0,
              "model_id": "485f19a6d4464be68b8bce2e0bdef84c"
            }
          },
          "metadata": {}
        },
        {
          "output_type": "display_data",
          "data": {
            "text/plain": [
              "Generate report structure:   0%|          | 0/1 [00:00<?, ?it/s]"
            ],
            "application/vnd.jupyter.widget-view+json": {
              "version_major": 2,
              "version_minor": 0,
              "model_id": "d1da6a60a0cb42dfb1c935e835add57c"
            }
          },
          "metadata": {}
        },
        {
          "output_type": "display_data",
          "data": {
            "text/plain": [
              "Render HTML:   0%|          | 0/1 [00:00<?, ?it/s]"
            ],
            "application/vnd.jupyter.widget-view+json": {
              "version_major": 2,
              "version_minor": 0,
              "model_id": "a8163fe8e33148b982821b100d781767"
            }
          },
          "metadata": {}
        },
        {
          "output_type": "display_data",
          "data": {
            "text/plain": [
              "Export report to file:   0%|          | 0/1 [00:00<?, ?it/s]"
            ],
            "application/vnd.jupyter.widget-view+json": {
              "version_major": 2,
              "version_minor": 0,
              "model_id": "ffdc3cfd85d049be81bf41921076540b"
            }
          },
          "metadata": {}
        }
      ]
    },
    {
      "cell_type": "code",
      "source": [
        "df = df.drop_duplicates()\n",
        "df = df[df['price'].notnull()]"
      ],
      "metadata": {
        "id": "rBtA1mJCicH8"
      },
      "execution_count": null,
      "outputs": []
    },
    {
      "cell_type": "code",
      "source": [
        "price_95p = df['price'].quantile(0.95)"
      ],
      "metadata": {
        "id": "4Xfjfq_jk-q6"
      },
      "execution_count": null,
      "outputs": []
    },
    {
      "cell_type": "code",
      "source": [
        "df = df[df['price'] <= price_95p]"
      ],
      "metadata": {
        "id": "jzgxDpnNlCqN"
      },
      "execution_count": null,
      "outputs": []
    },
    {
      "cell_type": "code",
      "source": [
        "prof = ProfileReport(df, infer_dtypes=False)\n",
        "prof.to_file('report.html')"
      ],
      "metadata": {
        "colab": {
          "base_uri": "https://localhost:8080/",
          "height": 145,
          "referenced_widgets": [
            "673805b425c041fcae0aba2357221c69",
            "102f01c07a7f48eaa62f32ca0b6c2b4d",
            "e96c5abfb2624c228bb30e32c0fcfba1",
            "bc0426e87c244d05a4e95bc396f1fa71",
            "bad1a61aa6e04d39adf7390ad08b7036",
            "a91684894eff4e4d8189153032c40620",
            "17a0733ca6df42b087e1a58010a5449d",
            "54cc62b2a60b416ba1a7cfe9984e5aa6",
            "e58ba11a2acb459fa379b99facfa8783",
            "205ddb16057e45538086cdf6254add61",
            "d94f103dc0f24e8a9b51548048bbbd82",
            "04781ba878f4446db97c1c336832823b",
            "9671645c01d54ee1aa075f60a473705e",
            "0bbf0c133fee4165a81d7e58a4f58430",
            "647da13ed5944764b3624fab24b347fa",
            "75cb5da5fd7144e59556c5421a767b1c",
            "a8d8442f2d4a4a49b94f6bc3921661a2",
            "2347dd2aa5d149699ab255953ff6043c",
            "3695e819528d446fa6608e4ebc9a17d9",
            "e8c201bf716646f2a39dce6bae7302eb",
            "c09537893b18431c9c742e0ac6e397db",
            "81266f4df19d442aae8a4287d4260a2a",
            "4fa04a5e31b2459ea461e1ee8f0a3461",
            "9edc78d6b2174e77ae6b9b53177c1f9a",
            "118904d7bec44197922c3795622d2172",
            "8b3011cdc11a451e80cf3d521d06bc9e",
            "0519267718f64b15a222b61488c352f1",
            "7253bafb0c7d417394ad02c838edee4c",
            "522b0be5fb6544039813e75db7b6f878",
            "dbcca5e78427473697b6dc32cb44bfed",
            "a284742c5934449b973cd48c0f753134",
            "b82c01bb30a649568636012cdadd020e",
            "65e4a2620efc4974b50cd281081b15cf",
            "96f3e441876240878e3a3db5e4458e45",
            "5a4f258a7b4c410e9f23ed06d8f50018",
            "5ed579b2608e42ad91427bd23aa567af",
            "f06bf4b9aac148b8bb1a2b58e67eb7eb",
            "0a96a68303c1412aa33dca52741af588",
            "fd43d530d93b49aba4f2f2b2387e0adf",
            "3049b2429a6b4ce883b5c48ffd737d0e",
            "1b0fddc60f664647abf80bad06fe23c6",
            "8b3239578bac4571b4bcba4c691006b0",
            "90ecb1bcca2245f4a816ff1590252c7f",
            "4008314605904cbb85071df459ed052b"
          ]
        },
        "id": "Pi4pQxVjlnBI",
        "outputId": "6d9ca066-41db-4c68-d9b7-55b5060553e0"
      },
      "execution_count": null,
      "outputs": [
        {
          "output_type": "display_data",
          "data": {
            "text/plain": [
              "Summarize dataset:   0%|          | 0/5 [00:00<?, ?it/s]"
            ],
            "application/vnd.jupyter.widget-view+json": {
              "version_major": 2,
              "version_minor": 0,
              "model_id": "673805b425c041fcae0aba2357221c69"
            }
          },
          "metadata": {}
        },
        {
          "output_type": "display_data",
          "data": {
            "text/plain": [
              "Generate report structure:   0%|          | 0/1 [00:00<?, ?it/s]"
            ],
            "application/vnd.jupyter.widget-view+json": {
              "version_major": 2,
              "version_minor": 0,
              "model_id": "04781ba878f4446db97c1c336832823b"
            }
          },
          "metadata": {}
        },
        {
          "output_type": "display_data",
          "data": {
            "text/plain": [
              "Render HTML:   0%|          | 0/1 [00:00<?, ?it/s]"
            ],
            "application/vnd.jupyter.widget-view+json": {
              "version_major": 2,
              "version_minor": 0,
              "model_id": "4fa04a5e31b2459ea461e1ee8f0a3461"
            }
          },
          "metadata": {}
        },
        {
          "output_type": "display_data",
          "data": {
            "text/plain": [
              "Export report to file:   0%|          | 0/1 [00:00<?, ?it/s]"
            ],
            "application/vnd.jupyter.widget-view+json": {
              "version_major": 2,
              "version_minor": 0,
              "model_id": "96f3e441876240878e3a3db5e4458e45"
            }
          },
          "metadata": {}
        }
      ]
    },
    {
      "cell_type": "markdown",
      "source": [
        "### Seaborn"
      ],
      "metadata": {
        "id": "wI-gOEJSsAHs"
      }
    },
    {
      "cell_type": "code",
      "source": [
        "import seaborn as sns"
      ],
      "metadata": {
        "id": "3346TvW8lnbU"
      },
      "execution_count": null,
      "outputs": []
    },
    {
      "cell_type": "code",
      "source": [
        "sns.pairplot(df)"
      ],
      "metadata": {
        "colab": {
          "base_uri": "https://localhost:8080/",
          "height": 761
        },
        "id": "NACuhe3_sWKT",
        "outputId": "91339433-f2f6-4ccb-872c-e2bce033c382"
      },
      "execution_count": null,
      "outputs": [
        {
          "output_type": "execute_result",
          "data": {
            "text/plain": [
              "<seaborn.axisgrid.PairGrid at 0x7a7ce07c1780>"
            ]
          },
          "metadata": {},
          "execution_count": 66
        },
        {
          "output_type": "display_data",
          "data": {
            "text/plain": [
              "<Figure size 750x750 with 12 Axes>"
            ],
            "image/png": "[encoded data removed]"
          },
          "metadata": {}
        }
      ]
    },
    {
      "cell_type": "code",
      "source": [
        "cm = df.corr()\n",
        "sns.heatmap(cm, annot=True)"
      ],
      "metadata": {
        "colab": {
          "base_uri": "https://localhost:8080/",
          "height": 507
        },
        "id": "sheMJ-Hjsec7",
        "outputId": "c2f55a49-02a5-427e-8651-7ede141580d1"
      },
      "execution_count": null,
      "outputs": [
        {
          "output_type": "stream",
          "name": "stderr",
          "text": [
            "<ipython-input-67-713f4f55dade>:1: FutureWarning: The default value of numeric_only in DataFrame.corr is deprecated. In a future version, it will default to False. Select only valid columns or specify the value of numeric_only to silence this warning.\n",
            "  cm = df.corr()\n"
          ]
        },
        {
          "output_type": "execute_result",
          "data": {
            "text/plain": [
              "<Axes: >"
            ]
          },
          "metadata": {},
          "execution_count": 67
        },
        {
          "output_type": "display_data",
          "data": {
            "text/plain": [
              "<Figure size 640x480 with 2 Axes>"
            ],
            "image/png": "[encoded data removed]"
          },
          "metadata": {}
        }
      ]
    },
    {
      "cell_type": "code",
      "source": [
        "sns.boxplot(df)"
      ],
      "metadata": {
        "colab": {
          "base_uri": "https://localhost:8080/",
          "height": 462
        },
        "id": "kk-FTf-gtHeb",
        "outputId": "23be666a-61f6-443c-9661-a7a65e499cbe"
      },
      "execution_count": null,
      "outputs": [
        {
          "output_type": "execute_result",
          "data": {
            "text/plain": [
              "<Axes: >"
            ]
          },
          "metadata": {},
          "execution_count": 68
        },
        {
          "output_type": "display_data",
          "data": {
            "text/plain": [
              "<Figure size 640x480 with 1 Axes>"
            ],
            "image/png": "[encoded data removed]"
          },
          "metadata": {}
        }
      ]
    },
    {
      "cell_type": "code",
      "source": [
        "df_std = (df - df.mean()) / df.std()"
      ],
      "metadata": {
        "colab": {
          "base_uri": "https://localhost:8080/"
        },
        "id": "ZanPHP1LuE2H",
        "outputId": "6eca16f9-cbe6-46a5-d69d-f6bc2f92a86b"
      },
      "execution_count": null,
      "outputs": [
        {
          "output_type": "stream",
          "name": "stderr",
          "text": [
            "<ipython-input-69-7c27e3b245df>:1: FutureWarning: The default value of numeric_only in DataFrame.mean is deprecated. In a future version, it will default to False. In addition, specifying 'numeric_only=None' is deprecated. Select only valid columns or specify the value of numeric_only to silence this warning.\n",
            "  df_std = (df - df.mean()) / df.std()\n",
            "<ipython-input-69-7c27e3b245df>:1: FutureWarning: The default value of numeric_only in DataFrame.std is deprecated. In a future version, it will default to False. In addition, specifying 'numeric_only=None' is deprecated. Select only valid columns or specify the value of numeric_only to silence this warning.\n",
            "  df_std = (df - df.mean()) / df.std()\n"
          ]
        }
      ]
    },
    {
      "cell_type": "code",
      "source": [
        "sns.boxplot(df_std)"
      ],
      "metadata": {
        "colab": {
          "base_uri": "https://localhost:8080/",
          "height": 447
        },
        "id": "ry8-s1H3vEX9",
        "outputId": "985a3239-f216-4a5d-db8a-d6ebec80c3de"
      },
      "execution_count": null,
      "outputs": [
        {
          "output_type": "execute_result",
          "data": {
            "text/plain": [
              "<Axes: >"
            ]
          },
          "metadata": {},
          "execution_count": 70
        },
        {
          "output_type": "display_data",
          "data": {
            "text/plain": [
              "<Figure size 640x480 with 1 Axes>"
            ],
            "image/png": "[encoded data removed]"
          },
          "metadata": {}
        }
      ]
    },
    {
      "cell_type": "markdown",
      "source": [
        "# Regresja"
      ],
      "metadata": {
        "id": "NSRKidn6wNTl"
      }
    },
    {
      "cell_type": "markdown",
      "source": [
        "## Regresja jednej zmiennej"
      ],
      "metadata": {
        "id": "0GxJVEuMwRN8"
      }
    },
    {
      "cell_type": "code",
      "source": [
        "df = df[df['area'] <= 250]"
      ],
      "metadata": {
        "id": "RTnHeQr1wsVs"
      },
      "execution_count": null,
      "outputs": []
    },
    {
      "cell_type": "code",
      "source": [
        "X = df['area']\n",
        "y = df['price']\n",
        "\n",
        "plt.plot(X, y, '.')\n",
        "\n",
        "a = 0\n",
        "b = y.mean()\n",
        "\n",
        "y_pred = a * X + b\n",
        "plt.plot(X, y_pred, '.')\n",
        "plt.show()"
      ],
      "metadata": {
        "colab": {
          "base_uri": "https://localhost:8080/",
          "height": 445
        },
        "id": "anVl-azZwOUA",
        "outputId": "0100676e-c62f-403e-e4d1-a09cb384edc7"
      },
      "execution_count": null,
      "outputs": [
        {
          "output_type": "display_data",
          "data": {
            "text/plain": [
              "<Figure size 640x480 with 1 Axes>"
            ],
            "image/png": "[encoded data removed]"
          },
          "metadata": {}
        }
      ]
    },
    {
      "cell_type": "code",
      "source": [
        "from sklearn.linear_model import LinearRegression"
      ],
      "metadata": {
        "id": "x2Fw7tuOwnGL"
      },
      "execution_count": null,
      "outputs": []
    },
    {
      "cell_type": "code",
      "source": [
        "X = df[['area']]\n",
        "y = df['price']"
      ],
      "metadata": {
        "id": "km1a6MyE0Hd7"
      },
      "execution_count": null,
      "outputs": []
    },
    {
      "cell_type": "code",
      "source": [
        "lr = LinearRegression()\n",
        "lr.fit(X, y)"
      ],
      "metadata": {
        "colab": {
          "base_uri": "https://localhost:8080/",
          "height": 74
        },
        "id": "lTMuzxxIzjuD",
        "outputId": "47560a6f-e8c6-4016-cfda-b239fc016736"
      },
      "execution_count": null,
      "outputs": [
        {
          "output_type": "execute_result",
          "data": {
            "text/plain": [
              "LinearRegression()"
            ],
            "text/html": [
              "<style>#sk-container-id-2 {color: black;background-color: white;}#sk-container-id-2 pre{padding: 0;}#sk-container-id-2 div.sk-toggleable {background-color: white;}#sk-container-id-2 label.sk-toggleable__label {cursor: pointer;display: block;width: 100%;margin-bottom: 0;padding: 0.3em;box-sizing: border-box;text-align: center;}#sk-container-id-2 label.sk-toggleable__label-arrow:before {content: \"▸\";float: left;margin-right: 0.25em;color: #696969;}#sk-container-id-2 label.sk-toggleable__label-arrow:hover:before {color: black;}#sk-container-id-2 div.sk-estimator:hover label.sk-toggleable__label-arrow:before {color: black;}#sk-container-id-2 div.sk-toggleable__content {max-height: 0;max-width: 0;overflow: hidden;text-align: left;background-color: #f0f8ff;}#sk-container-id-2 div.sk-toggleable__content pre {margin: 0.2em;color: black;border-radius: 0.25em;background-color: #f0f8ff;}#sk-container-id-2 input.sk-toggleable__control:checked~div.sk-toggleable__content {max-height: 200px;max-width: 100%;overflow: auto;}#sk-container-id-2 input.sk-toggleable__control:checked~label.sk-toggleable__label-arrow:before {content: \"▾\";}#sk-container-id-2 div.sk-estimator input.sk-toggleable__control:checked~label.sk-toggleable__label {background-color: #d4ebff;}#sk-container-id-2 div.sk-label input.sk-toggleable__control:checked~label.sk-toggleable__label {background-color: #d4ebff;}#sk-container-id-2 input.sk-hidden--visually {border: 0;clip: rect(1px 1px 1px 1px);clip: rect(1px, 1px, 1px, 1px);height: 1px;margin: -1px;overflow: hidden;padding: 0;position: absolute;width: 1px;}#sk-container-id-2 div.sk-estimator {font-family: monospace;background-color: #f0f8ff;border: 1px dotted black;border-radius: 0.25em;box-sizing: border-box;margin-bottom: 0.5em;}#sk-container-id-2 div.sk-estimator:hover {background-color: #d4ebff;}#sk-container-id-2 div.sk-parallel-item::after {content: \"\";width: 100%;border-bottom: 1px solid gray;flex-grow: 1;}#sk-container-id-2 div.sk-label:hover label.sk-toggleable__label {background-color: #d4ebff;}#sk-container-id-2 div.sk-serial::before {content: \"\";position: absolute;border-left: 1px solid gray;box-sizing: border-box;top: 0;bottom: 0;left: 50%;z-index: 0;}#sk-container-id-2 div.sk-serial {display: flex;flex-direction: column;align-items: center;background-color: white;padding-right: 0.2em;padding-left: 0.2em;position: relative;}#sk-container-id-2 div.sk-item {position: relative;z-index: 1;}#sk-container-id-2 div.sk-parallel {display: flex;align-items: stretch;justify-content: center;background-color: white;position: relative;}#sk-container-id-2 div.sk-item::before, #sk-container-id-2 div.sk-parallel-item::before {content: \"\";position: absolute;border-left: 1px solid gray;box-sizing: border-box;top: 0;bottom: 0;left: 50%;z-index: -1;}#sk-container-id-2 div.sk-parallel-item {display: flex;flex-direction: column;z-index: 1;position: relative;background-color: white;}#sk-container-id-2 div.sk-parallel-item:first-child::after {align-self: flex-end;width: 50%;}#sk-container-id-2 div.sk-parallel-item:last-child::after {align-self: flex-start;width: 50%;}#sk-container-id-2 div.sk-parallel-item:only-child::after {width: 0;}#sk-container-id-2 div.sk-dashed-wrapped {border: 1px dashed gray;margin: 0 0.4em 0.5em 0.4em;box-sizing: border-box;padding-bottom: 0.4em;background-color: white;}#sk-container-id-2 div.sk-label label {font-family: monospace;font-weight: bold;display: inline-block;line-height: 1.2em;}#sk-container-id-2 div.sk-label-container {text-align: center;}#sk-container-id-2 div.sk-container {/* jupyter's `normalize.less` sets `[hidden] { display: none; }` but bootstrap.min.css set `[hidden] { display: none !important; }` so we also need the `!important` here to be able to override the default hidden behavior on the sphinx rendered scikit-learn.org. See: https://github.com/scikit-learn/scikit-learn/issues/21755 */display: inline-block !important;position: relative;}#sk-container-id-2 div.sk-text-repr-fallback {display: none;}</style><div id=\"sk-container-id-2\" class=\"sk-top-container\"><div class=\"sk-text-repr-fallback\"><pre>LinearRegression()</pre><b>In a Jupyter environment, please rerun this cell to show the HTML representation or trust the notebook. <br />On GitHub, the HTML representation is unable to render, please try loading this page with nbviewer.org.</b></div><div class=\"sk-container\" hidden><div class=\"sk-item\"><div class=\"sk-estimator sk-toggleable\"><input class=\"sk-toggleable__control sk-hidden--visually\" id=\"sk-estimator-id-2\" type=\"checkbox\" checked><label for=\"sk-estimator-id-2\" class=\"sk-toggleable__label sk-toggleable__label-arrow\">LinearRegression</label><div class=\"sk-toggleable__content\"><pre>LinearRegression()</pre></div></div></div></div></div>"
            ]
          },
          "metadata": {},
          "execution_count": 91
        }
      ]
    },
    {
      "cell_type": "code",
      "source": [
        "y_pred = lr.predict(X)"
      ],
      "metadata": {
        "id": "fmCHYAC00RWH"
      },
      "execution_count": null,
      "outputs": []
    },
    {
      "cell_type": "code",
      "source": [
        "y_pred"
      ],
      "metadata": {
        "colab": {
          "base_uri": "https://localhost:8080/"
        },
        "id": "2mgyRhuX08np",
        "outputId": "2f31949b-8203-455e-ae24-4e23453b2b8f"
      },
      "execution_count": null,
      "outputs": [
        {
          "output_type": "execute_result",
          "data": {
            "text/plain": [
              "array([444833.3723473 , 352399.82221739, 735887.11151068, ...,\n",
              "       532469.33337012, 440803.39749735, 341013.5440699 ])"
            ]
          },
          "metadata": {},
          "execution_count": 86
        }
      ]
    },
    {
      "cell_type": "code",
      "source": [
        "plt.plot(X, y, '.')\n",
        "plt.plot(X, y_pred, '.')"
      ],
      "metadata": {
        "colab": {
          "base_uri": "https://localhost:8080/",
          "height": 462
        },
        "id": "MirYcBd709UA",
        "outputId": "4bca21bd-24c1-47d8-9bb1-060bf83e4f78"
      },
      "execution_count": null,
      "outputs": [
        {
          "output_type": "execute_result",
          "data": {
            "text/plain": [
              "[<matplotlib.lines.Line2D at 0x7a7cda793d60>]"
            ]
          },
          "metadata": {},
          "execution_count": 88
        },
        {
          "output_type": "display_data",
          "data": {
            "text/plain": [
              "<Figure size 640x480 with 1 Axes>"
            ],
            "image/png": "[encoded data removed]"
          },
          "metadata": {}
        }
      ]
    },
    {
      "cell_type": "code",
      "source": [
        "lr.coef_"
      ],
      "metadata": {
        "colab": {
          "base_uri": "https://localhost:8080/"
        },
        "id": "RLkfp_921kzi",
        "outputId": "90fd908a-d57d-42e5-a465-b4a4d61b73e7"
      },
      "execution_count": null,
      "outputs": [
        {
          "output_type": "execute_result",
          "data": {
            "text/plain": [
              "array([6396.78547612])"
            ]
          },
          "metadata": {},
          "execution_count": 93
        }
      ]
    },
    {
      "cell_type": "code",
      "source": [
        "lr.intercept_"
      ],
      "metadata": {
        "colab": {
          "base_uri": "https://localhost:8080/"
        },
        "id": "u2nnHTaz1mai",
        "outputId": "fd12b008-1bb9-4538-f5e5-786fd3b679ca"
      },
      "execution_count": null,
      "outputs": [
        {
          "output_type": "execute_result",
          "data": {
            "text/plain": [
              "166573.2041361609"
            ]
          },
          "metadata": {},
          "execution_count": 94
        }
      ]
    },
    {
      "cell_type": "markdown",
      "source": [
        "## Regresja wielu zmiennych"
      ],
      "metadata": {
        "id": "OtsEa1X-5K3v"
      }
    },
    {
      "cell_type": "code",
      "source": [
        "import plotly.express as px"
      ],
      "metadata": {
        "id": "93Snc9Lv16Qy"
      },
      "execution_count": null,
      "outputs": []
    },
    {
      "cell_type": "code",
      "source": [
        "fig = px.scatter_3d(df, x='area', y='rooms', z='price')\n",
        "fig.show()"
      ],
      "metadata": {
        "colab": {
          "base_uri": "https://localhost:8080/",
          "height": 542
        },
        "id": "eDJVZ79N5fFs",
        "outputId": "a2a15f55-d56c-477b-ab81-4ce2cdb6af30"
      },
      "execution_count": null,
      "outputs": [
        {
          "output_type": "display_data",
          "data": {
            "text/html": [
              "<html>\n",
              "<head><meta charset=\"utf-8\" /></head>\n",
              "<body>\n",
              "    <div>            <script src=\"https://cdnjs.cloudflare.com/ajax/libs/mathjax/2.7.5/MathJax.js?config=TeX-AMS-MML_SVG\"></script><script type=\"text/javascript\">if (window.MathJax && window.MathJax.Hub && window.MathJax.Hub.Config) {window.MathJax.Hub.Config({SVG: {font: \"STIX-Web\"}});}</script>                <script type=\"text/javascript\">window.PlotlyConfig = {MathJaxConfig: 'local'};</script>\n",
              "        <script charset=\"utf-8\" src=\"https://cdn.plot.ly/plotly-2.24.1.min.js\"></script>                <div id=\"ad56417e-735d-4503-9825-bccbfcece0d7\" class=\"plotly-graph-div\" style=\"height:525px; width:100%;\"></div>            <script type=\"text/javascript\">                                    window.PLOTLYENV=window.PLOTLYENV || {};                                    if (document.getElementById(\"ad56417e-735d-4503-9825-bccbfcece0d7\")) {                    Plotly.newPlot(                        \"ad56417e-735d-4503-9825-bccbfcece0d7\",                        [{\"hovertemplate\":\"area=%{x}\\u003cbr\\u003erooms=%{y}\\u003cbr\\u003eprice=%{z}\\u003cextra\\u003e\\u003c\\u002fextra\\u003e\",\"legendgroup\":\"\",\"marker\":{\"color\":\"#636efa\",\"symbol\":\"circle\"},\"mode\":\"markers\",\"name\":\"\",\"scene\":\"scene\",\"showlegend\":false,\"x\":[43.5,29.05,89.0,36.49,39.35,37.69,52.75,57.0,33.84,37.49,30.44,78.0,52.0,38.69,101.86,48.0,43.0,76.0,99.31,100.72,52.42,70.0,49.0,54.73,45.05,70.0,99.22,66.0,87.03,54.0,38.42,90.3,34.18,105.8,65.74,72.72,70.56,134.0,47.0,53.68,63.15,48.75,25.71,82.66,64.0,75.0,67.59,56.97,49.33,44.81,47.29,40.58,43.0,69.34,40.0,72.0,101.05,41.48,38.13,61.1,68.04,68.69,48.7,87.85,59.48,43.8,35.13,55.7,71.17,45.0,61.5,50.8,47.0,61.5,49.5,74.08,33.28,41.6,30.7,36.2,38.0,53.0,37.68,66.25,52.48,41.43,45.29,54.06,42.01,50.5,63.31,64.02,85.4,72.54,57.76,68.0,38.89,46.0,32.0,38.13,31.73,40.86,100.05,100.0,135.0,81.0,78.0,78.29,50.88,93.12,68.86,85.4,44.8,39.64,54.89,26.1,54.0,61.43,57.0,49.33,50.0,50.0,44.06,56.8,50.06,33.6,35.35,97.0,62.5,36.0,35.5,63.0,59.92,65.5,62.51,102.31,28.0,57.0,60.0,42.33,50.0,70.0,44.0,71.2,51.55,52.2,53.2,48.7,63.1,42.16,25.68,40.89,61.22,81.27,85.11,49.67,51.84,104.0,35.8,26.04,47.48,42.0,48.92,45.4,43.0,61.2,30.49,68.0,43.1,28.7,36.83,44.66,77.0,49.26,55.0,50.5,45.39,54.0,26.04,53.35,56.91,67.96,47.46,48.98,22.71,29.01,60.0,106.0,73.9,55.7,38.58,29.59,60.79,44.2,39.5,30.9,36.5,53.85,69.52,37.58,62.43,63.22,47.0,42.63,57.0,99.99,115.46,59.0,55.7,68.0,49.4,46.71,56.84,43.0,115.0,76.73,37.6,44.0,34.0,56.62,43.3,31.2,44.8,67.5,86.5,38.0,91.1,59.25,35.0,81.0,45.0,30.0,54.0,47.4,36.0,95.0,32.0,40.0,70.86,57.05,63.0,62.4,42.3,49.78,53.0,100.0,50.0,88.0,31.56,46.8,30.0,32.31,44.95,51.5,46.98,54.87,51.23,78.0,44.68,41.46,38.0,63.0,39.96,47.29,71.98,25.75,84.15,57.77,57.33,59.99,57.33,31.09,57.33,57.33,57.33,57.33,46.0,50.0,76.19,57.0,25.68,41.2,128.0,18.0,37.4,44.55,39.08,45.29,42.01,78.7,55.0,54.21,73.34,40.03,40.0,51.74,55.0,83.0,46.19,64.52,47.56,51.0,110.0,57.0,51.25,54.0,57.25,48.0,49.0,77.0,58.0,72.6,43.0,100.05,55.19,98.1,66.0,72.53,49.1,35.9,103.21,46.98,48.0,60.0,31.68,48.5,43.0,63.48,73.8,40.58,55.3,51.0,43.4,62.58,26.04,54.0,108.0,56.18,51.9,90.15,50.0,53.0,45.0,91.08,29.0,47.48,54.06,35.52,69.75,69.75,49.95,100.29,107.0,35.35,99.0,57.05,42.87,40.58,30.03,38.5,45.31,65.07,62.45,49.0,59.04,62.0,42.61,45.98,56.98,56.0,57.0,52.36,31.5,60.0,31.5,71.0,59.0,31.0,44.96,60.0,62.8,31.0,46.0,62.06,57.25,36.48,38.06,44.38,88.0,26.0,37.1,50.0,50.64,59.0,51.25,115.0,71.0,67.5,60.0,50.65,21.57,17.03,15.71,31.5,62.8,26.16,68.46,32.87,41.48,34.84,56.43,63.0,90.0,85.11,54.0,51.1,39.35,55.0,48.96,84.0,51.4,55.0,33.0,46.02,51.7,39.5,56.0,55.0,74.0,74.16,58.0,97.74,48.63,67.83,47.0,60.0,38.84,71.0,31.0,87.15,30.2,53.11,62.16,89.95,78.3,112.0,43.0,41.57,37.22,41.4,46.54,63.0,36.0,65.33,40.58,26.04,37.7,48.65,93.03,47.34,61.5,58.59,43.5,45.0,60.0,50.0,42.3,115.0,50.0,51.9,42.67,47.48,27.51,66.06,47.29,47.0,56.03,65.07,43.4,33.28,35.6,64.0,30.81,105.0,29.1,50.0,67.43,68.6,36.37,52.1,33.28,46.0,57.05,75.55,68.5,39.0,20.03,55.0,49.0,61.74,56.38,31.3,68.14,90.0,51.0,56.0,54.0,39.16,112.51,51.55,71.0,61.29,40.86,74.0,39.1,26.65,25.68,57.25,40.9,141.5,30.6,63.0,26.0,50.5,58.0,40.0,56.0,102.0,87.0,35.51,51.5,47.29,54.86,71.5,67.62,42.01,45.29,58.0,48.0,54.11,62.24,38.0,26.74,72.0,71.0,39.0,35.0,42.0,106.0,29.0,56.53,38.46,47.14,73.4,68.74,62.0,43.0,60.49,56.03,96.97,54.06,80.0,31.94,55.5,38.97,38.38,49.26,45.2,91.56,37.0,49.5,94.55,27.12,43.5,47.47,34.0,36.5,60.36,55.0,122.0,67.51,53.26,87.0,62.93,62.9,85.12,65.23,78.99,48.05,48.01,66.0,40.64,46.72,64.0,65.0,85.0,43.0,70.0,48.0,118.0,55.52,71.33,85.25,80.48,98.33,115.0,33.0,58.3,25.0,43.4,65.0,37.5,46.54,57.0,42.43,36.0,66.0,44.2,48.9,55.5,26.0,39.65,25.4,38.0,32.5,42.0,57.76,33.2,44.24,72.9,106.0,39.5,42.0,40.58,45.29,26.04,67.0,41.57,60.0,39.35,42.0,110.0,67.96,27.27,154.0,53.0,49.0,44.0,64.0,43.0,73.1,62.4,50.05,48.5,55.5,52.0,59.19,57.0,80.6,55.0,94.0,37.0,43.5,43.0,47.36,81.09,68.04,54.4,61.67,83.0,73.8,59.48,87.31,31.5,39.01,36.7,37.39,50.0,49.36,56.0,58.0,83.0,75.0,76.5,64.0,102.73,26.16,39.01,78.08,80.48,52.0,32.25,63.0,42.01,42.87,72.19,56.03,75.0,43.0,12.7,64.0,50.0,74.89,47.5,39.5,63.0,50.0,46.0,56.0,41.26,52.86,76.0,37.0,73.6,66.72,66.76,49.67,41.19,78.0,51.0,70.0,46.33,66.0,47.0,65.86,63.0,50.0,44.7,46.32,67.4,19.5,15.89,39.5,37.0,48.0,53.0,30.4,58.0,52.0,51.7,38.72,26.04,31.15,72.89,67.59,56.8,51.4,50.0,89.56,58.45,95.49,71.8,75.27,55.27,26.04,41.53,93.13,73.0,70.0,51.4,69.62,35.51,51.48,56.11,55.0,35.0,50.61,50.81,71.98,44.68,90.0,30.0,53.0,61.7,73.0,97.74,46.0,54.68,81.91,42.04,50.8,81.27,105.0,105.0,50.0,65.33,60.92,68.04,105.8,37.0,66.5,32.66,105.0,41.0,55.23,48.33,38.13,83.95,50.5,52.11,45.0,56.97,72.19,47.48,42.64,70.7,43.6,58.0,40.3,80.99,50.88,71.86,67.0,105.54,52.25,52.8,81.09,56.91,41.61,54.06,67.96,40.58,152.43,63.0,38.72,41.0,55.43,56.11,45.6,38.0,59.0,42.7,34.3,26.04,50.1,50.81,69.6,46.5,60.0,62.31,41.0,65.49,48.98,53.55,69.2,93.15,171.41,78.0,60.0,61.09,100.05,34.3,38.72,50.76,54.5,96.2,41.19,60.78,38.72,42.86,56.0,74.02,78.29,50.31,32.0,31.0,50.5,43.0,71.36,54.51,53.0,74.21,49.62,50.8,52.2,100.0,50.0,49.0,68.69,96.77,63.63,47.46,31.5,32.0,38.13,54.51,71.0,50.0,83.65,31.0,30.9,69.14,123.0,76.0,104.9,92.0,42.71,26.16,72.89,38.85,105.0,99.6,81.0,67.54,122.53,36.4,73.0,64.0,47.0,80.33,41.34,39.01,53.74,44.42,58.16,60.0,42.0,57.05,85.0,29.05,53.2,39.16,81.94,38.72,51.8,71.82,52.73,31.24,34.0,38.72,51.7,79.48,35.14,51.4,89.13,38.0,54.16,54.0,62.0,32.32,43.5,36.6,62.0,137.23,30.8,40.0,30.15,69.96,43.1,68.04,31.3,49.12,57.01,76.21,37.49,31.5,56.05,63.0,72.0,52.57,109.0,48.99,42.54,39.0,62.93,30.24,100.02,76.0,16.44,28.19,87.0,64.91,16.31,16.81,25.0,70.85,26.16,56.5,50.29,44.2,44.54,39.5,96.0,71.43,41.79,41.46,40.83,77.11,71.43,83.28,88.48,102.92,40.83,40.62,40.12,100.92,78.69,78.69,40.83,78.69,41.79,71.43,41.91,50.55,103.03,111.76,87.8,53.06,38.13,47.95,41.46,49.23,40.12,41.46,50.55,41.01,40.89,49.23,40.94,77.11,40.65,70.15,41.46,40.83,41.79,83.28,40.94,102.92,83.28,40.94,78.69,41.79,83.28,81.76,41.72,102.92,50.55,50.55,83.44,40.83,40.94,40.83,71.59,40.94,40.12,41.85,79.12,41.07,41.07,41.85,102.92,48.12,43.64,42.67,43.39,88.3,88.3,48.35,83.28,41.46,71.59,103.03,83.65,50.68,41.59,40.94,40.94,47.95,41.72,81.76,79.12,77.11,50.68,41.01,40.65,41.91,41.01,40.65,70.15,40.65,41.01,83.44,41.79,41.59,77.11,40.83,39.99,100.92,39.99,81.76,78.69,49.23,71.43,42.67,95.58,40.12,39.99,40.94,70.15,100.92,39.99,49.23,81.76,40.94,48.19,40.92,71.43,112.74,43.43,83.28,41.46,40.83,78.69,81.76,38.45,88.48,53.06,83.65,40.83,83.65,100.92,41.72,39.05,71.43,38.13,70.15,43.0,48.19,41.72,71.43,102.92,43.43,83.28,41.79,78.69,48.19,50.55,40.94,102.92,41.72,83.48,40.94,41.79,102.92,47.95,100.62,50.55,77.11,42.67,38.71,41.72,41.46,40.12,70.15,39.97,43.0,39.05,112.74,111.76,48.63,49.2,41.72,45.48,38.45,83.48,42.64,53.06,88.48,45.16,45.48,87.8,58.16,38.45,43.96,88.3,52.89,38.13,42.64,45.16,42.67,52.89,42.64,83.48,111.76,52.89,45.16,42.64,42.67,111.77,47.95,87.8,45.16,83.76,87.8,52.89,73.01,73.0,73.0,113.64,73.0,42.67,47.95,44.2,73.0,111.77,45.16,87.8,83.76,42.64,52.89,51.48,50.61,48.63,44.2,51.48,50.61,88.82,48.12,44.2,43.64,43.64,88.82,50.61,48.63,51.48,51.48,48.63,48.12,96.07,50.38,43.64,88.82,88.3,44.2,50.61,51.48,43.64,47.88,95.58,48.12,51.31,44.2,50.61,88.82,96.07,58.16,51.31,47.88,58.16,44.2,43.39,43.96,58.66,88.3,48.11,48.11,43.39,58.16,51.31,50.38,95.58,43.96,95.58,48.11,88.3,43.39,47.88,50.38,47.88,95.58,43.96,51.31,51.31,48.11,48.11,50.38,95.58,88.3,47.88,88.3,113.64,43.96,47.95,83.76,50.38,42.64,111.77,87.8,45.16,52.89,48.11,95.58,48.11,43.39,50.38,50.38,88.3,58.16,43.39,47.88,51.31,51.31,47.88,43.96,43.96,43.39,50.38,47.88,51.31,48.11,95.58,58.16,43.96,48.11,43.39,58.16,84.41,53.13,47.88,50.38,95.58,43.87,43.42,43.96,58.16,38.68,45.7,88.97,39.26,39.05,43.21,45.48,38.45,48.19,43.43,53.06,43.0,43.0,88.48,43.43,45.48,48.19,88.48,39.05,38.45,83.65,48.19,43.43,43.0,45.48,53.06,53.06,39.05,38.45,38.45,83.65,43.43,45.48,88.48,43.0,112.74,48.19,39.05,43.0,45.48,111.77,43.43,83.65,42.64,113.64,39.05,53.06,45.16,88.48,47.95,42.67,87.8,83.76,52.89,45.28,63.19,63.0,45.23,55.0,43.0,46.72,58.88,41.19,44.44,71.2,55.5,30.0,49.29,49.66,34.0,51.55,51.74,42.61,84.24,53.25,48.92,43.31,35.16,78.08,47.0,109.62,63.63,59.48,44.5,25.0,51.16,37.44,85.0,44.0,68.3,31.3,68.3,60.36,52.75,81.27,78.29,64.0,84.48,74.99,65.68,33.6,41.4,42.64,54.11,44.5,73.1,36.6,49.32,66.0,48.7,46.32,100.0,79.0,55.74,72.92,36.0,48.27,39.8,95.0,62.06,102.31,41.8,73.75,41.3,45.23,42.29,83.0,57.24,53.49,45.27,48.39,50.85,55.14,47.7,60.38,61.43,48.22,56.23,44.0,66.76,51.16,47.22,40.4,78.0,48.0,25.3,76.55,52.4,38.2,44.5,80.99,32.25,55.0,35.0,50.56,50.34,39.26,79.01,95.0,27.91,102.73,122.76,41.19,62.51,85.95,101.05,45.23,58.72,42.64,58.88,84.68,46.5,46.05,44.84,75.0,54.45,67.31,88.0,46.71,35.0,34.0,122.0,50.1,79.0,74.82,114.11,38.0,50.85,35.57,41.48,50.0,71.85,60.36,72.19,59.48,41.2,60.36,56.14,56.14,43.47,41.61,25.68,49.5,96.2,61.1,102.73,49.33,47.52,45.43,102.73,40.86,28.0,30.14,104.0,53.55,69.0,75.0,55.42,33.0,66.76,66.06,35.85,42.69,51.96,46.8,49.0,48.0,25.41,80.63,55.56,51.09,57.01,16.8,28.1,64.95,53.0,102.31,82.23,81.27,68.46,66.67,53.25,31.24,59.4,32.0,37.12,41.2,50.65,82.81,74.37,85.95,84.11,73.91,49.2,26.04,54.06,57.0,41.49,41.48,72.47,33.2,67.96,50.0,71.51,54.89,57.87,26.16,39.01,62.0,26.15,39.24,78.08,40.58,40.89,40.64,66.76,49.33,40.58,60.92,56.97,51.09,62.3,59.48,40.58,31.24,51.55,67.54,60.36,53.2,40.54,60.1,62.0,45.19,41.0,50.0,75.0,54.69,55.7,45.27,31.24,60.22,51.55,40.58,40.58,71.0,39.0,38.32,45.19,39.0,95.74,51.35,63.18,40.85,29.21,61.07,19.47,45.19,18.92,16.24,25.59,48.01,44.3,61.7,100.29,44.68,30.0,65.92,42.0,47.81,72.8,73.6,39.0,39.0,82.28,39.24,43.37,44.54,44.0,73.8,41.19,71.2,25.74,68.3,48.27,76.36,60.92,56.03,26.7,138.5,53.0,75.0,26.04,43.0,73.91,48.52,47.0,78.0,48.27,100.05,41.19,68.04,61.26,43.0,52.02,66.15,56.4,36.5,45.05,71.99,44.82,79.0,51.0,25.35,70.24,43.11,25.79,152.0,49.0,35.83,34.21,44.05,39.65,54.06,47.48,35.83,25.68,68.86,47.3,64.13,52.82,73.1,54.72,50.34,46.71,63.0,45.09,53.0,69.04,56.53,68.86,52.12,49.78,104.9,70.0,78.08,44.81,49.67,64.38,80.99,48.71,69.19,48.98,57.87,85.12,80.51,63.15,59.48,78.08,40.58,54.73,84.68,48.97,72.0,37.0,100.0,109.37,95.1,55.0,26.04,41.4,43.1,39.0,50.85,36.5,46.72,56.0,56.0,44.81,63.63,45.27,41.19,41.19,101.05,61.29,71.85,56.0,95.2,67.32,54.51,41.48,48.55,35.57,64.49,108.15,81.98,30.0,45.59,41.46,56.0,46.56,77.56,62.0,110.26,42.64,148.0,42.54,140.2,56.0,42.44,41.3,100.05,44.81,80.22,40.89,63.41,54.16,68.69,50.1,139.54,59.5,110.0,57.25,48.55,34.09,84.43,48.55,41.61,56.98,98.32,56.69,93.13,48.89,44.68,100.29,48.89,59.0,48.89,55.5,44.84,75.0,53.25,51.56,49.0,73.1,48.39,35.86,63.39,60.0,55.5,52.82,63.72,56.12,67.83,68.86,56.14,43.47,32.38,45.19,94.49,44.51,71.49,36.04,62.0,69.33,55.6,56.12,76.08,46.25,48.55,48.25,101.05,41.3,102.73,42.46,46.94,71.61,64.39,62.0,40.58,48.8,43.55,53.9,48.98,44.63,44.13,50.07,69.2,43.55,50.89,71.17,43.55,50.34,51.33,64.79,54.67,69.2,43.55,52.26,41.49,62.77,48.86,45.05,52.69,53.62,56.15,51.33,50.05,46.25,46.25,42.04,48.54,43.29,41.49,56.05,54.73,50.61,50.34,45.05,54.06,42.3,79.44,83.3,58.56,100.0,83.56,48.75,58.63,25.79,100.05,54.17,51.72,40.64,80.0,57.25,72.0,56.5,38.5,58.56,30.0,58.59,75.0,76.08,56.01,38.0,78.08,41.2,25.71,66.0,60.0,66.76,64.0,28.9,113.0,85.62,25.0,41.62,48.0,37.6,67.27,45.48,42.95,54.91,68.0,166.0,45.49,63.15,85.13,48.27,44.66,61.0,73.0,32.84,102.73,101.05,69.33,83.95,65.49,84.68,54.44,69.33,65.49,54.76,65.49,83.95,84.68,84.68,54.76,54.45,57.72,84.68,54.76,76.94,55.23,84.68,78.8,65.49,67.32,65.49,80.98,54.45,94.35,28.53,26.04,113.0,39.0,93.42,66.06,63.41,70.85,35.83,30.0,31.37,56.01,28.0,26.3,148.67,42.32,45.0,60.79,72.47,68.1,64.48,57.37,45.48,39.24,25.0,100.02,83.27,44.0,75.83,60.0,100.02,44.4,84.0,70.86,51.48,68.15,54.79,81.27,105.0,74.16,87.39,55.0,72.0,48.51,40.79,66.06,41.61,53.35,73.75,43.71,61.5,56.14,95.0,33.0,41.61,44.95,71.2,34.96,89.79,72.0,49.82,87.39,68.3,46.65,44.4,48.69,38.0,45.27,53.87,52.95,34.0,25.0,35.0,41.0,36.81,47.19,61.21,45.23,69.94,46.84,50.7,41.8,53.8,61.62,101.09,52.37,75.96,67.27,58.25,45.23,66.85,60.0,44.37,56.0,29.0,30.0,36.5,61.61,47.06,63.84,75.73,62.06,41.8,41.8,45.27,75.27,76.1,84.11,77.0,124.0,51.0,31.24,51.72,31.24,42.54,57.25,76.54,53.41,56.88,65.61,94.76,29.4,50.06,48.08,35.09,53.8,47.3,49.48,98.95,74.58,67.83,60.94,48.46,50.0,72.9,76.1,38.13,44.36,38.97,47.31,55.94,135.0,57.93,41.37,54.71,56.01,52.58,61.03,56.51,50.46,41.0,60.9,26.5,39.2,58.3,48.47,67.0,62.4,46.48,62.0,62.0,68.1,64.48,57.2,85.95,72.63,27.4,42.16,25.71,41.8,68.76,31.89,137.0,41.19,42.16,53.04,102.21,101.05,120.35,61.03,61.08,50.46,56.51,61.22,56.04,53.0,98.6,61.07,32.0,58.0,55.9,102.73,73.75,73.75,102.21,102.73,122.39,62.5,102.21,98.32,40.86,80.33,42.32,100.05,54.0,45.51,72.62,40.86,53.06,82.68,136.0,158.05,138.5,73.75,41.48,41.49,62.1,41.5,42.31,53.0,135.0,31.94,53.06,85.95,90.0,50.46,80.22,80.22,60.49,41.48,41.49,64.21,50.91,62.06,102.73,40.86,42.46,85.95,42.33,84.11,41.8,102.73,102.96,73.91,42.57,74.1,60.78,62.06,73.91,62.59,102.73,41.92,85.95,41.5,73.91,72.6,84.11,62.51,41.48,72.47,60.78,73.95,42.32,86.04,42.46,42.33,61.1,102.96,86.04,62.06,74.1,41.49,42.57,41.49,73.91,42.44,101.05,84.11,41.48,41.8,73.95,42.41,72.6,42.31,73.75,41.92,73.75,42.32,42.32,42.45,62.59,42.44,41.8,72.47,42.41,73.91,42.45,84.11,85.95,41.48,72.6,42.32,72.47,41.5,61.1,60.78,53.06,60.78,72.47,41.48,102.73,73.75,62.06,85.95,73.91,42.33,42.33,42.31,73.75,42.32,62.06,41.5,41.8,72.6,61.1,84.11,41.49,41.48,85.95,41.48,53.38,41.5,40.86,42.46,52.36,41.49,101.05,41.48,72.47,73.75,42.31,42.31,73.91,101.05,72.6,41.48,42.33,102.73,53.25,53.25,84.24,53.17,53.17,53.25,52.36,53.06,53.25,51.97,52.36,51.97,51.97,42.16,102.31,42.33,42.19,53.06,53.06,42.26,41.34,53.25,41.34,53.25,41.34,42.31,98.32,96.2,42.16,42.31,96.2,42.26,98.32,41.19,41.3,41.19,41.3,42.16,63.53,45.0,56.0,72.1,175.0,54.0,45.51,68.69,47.29,38.0,69.0,41.99,95.0,81.09,38.9,155.0,27.69,38.42,103.0,124.0,63.0,130.0,137.0,70.35,83.97,40.8,141.93,137.0,123.0,78.0,86.0,47.13,37.0,135.0,135.0,90.57,54.3,57.2,42.87,27.27],\"y\":[2.0,1.0,4.0,2.0,2.0,2.0,3.0,3.0,1.0,1.0,1.0,4.0,3.0,2.0,3.0,2.0,2.0,4.0,4.0,4.0,2.0,3.0,3.0,2.0,2.0,4.0,3.0,3.0,3.0,2.0,2.0,4.0,2.0,4.0,3.0,3.0,3.0,4.0,2.0,3.0,3.0,2.0,1.0,3.0,3.0,4.0,3.0,3.0,2.0,2.0,2.0,2.0,3.0,3.0,2.0,3.0,4.0,2.0,1.0,3.0,4.0,3.0,2.0,4.0,3.0,2.0,1.0,3.0,3.0,2.0,3.0,2.0,3.0,3.0,2.0,3.0,1.0,2.0,1.0,3.0,2.0,3.0,2.0,3.0,3.0,2.0,2.0,3.0,2.0,3.0,3.0,3.0,4.0,3.0,2.0,3.0,2.0,2.0,1.0,1.0,1.0,2.0,4.0,3.0,4.0,4.0,4.0,4.0,2.0,3.0,3.0,3.0,2.0,2.0,3.0,1.0,3.0,2.0,3.0,2.0,3.0,3.0,2.0,2.0,3.0,2.0,1.0,3.0,3.0,2.0,1.0,2.0,3.0,3.0,3.0,4.0,1.0,3.0,3.0,2.0,2.0,3.0,2.0,3.0,3.0,3.0,3.0,2.0,3.0,2.0,1.0,2.0,2.0,4.0,4.0,2.0,3.0,3.0,1.0,1.0,2.0,2.0,2.0,2.0,2.0,3.0,2.0,4.0,2.0,2.0,2.0,1.0,3.0,2.0,2.0,2.0,2.0,3.0,1.0,2.0,3.0,3.0,2.0,2.0,1.0,2.0,3.0,4.0,3.0,2.0,1.0,2.0,3.0,2.0,1.0,1.0,1.0,3.0,3.0,1.0,3.0,3.0,2.0,2.0,2.0,4.0,4.0,3.0,3.0,3.0,3.0,3.0,2.0,3.0,4.0,3.0,2.0,2.0,2.0,3.0,2.0,1.0,2.0,3.0,5.0,2.0,3.0,3.0,2.0,4.0,2.0,2.0,3.0,2.0,2.0,6.0,1.0,1.0,3.0,3.0,3.0,3.0,3.0,2.0,2.0,3.0,3.0,4.0,2.0,2.0,1.0,1.0,1.0,3.0,2.0,3.0,2.0,4.0,2.0,2.0,2.0,3.0,2.0,2.0,3.0,1.0,4.0,3.0,3.0,3.0,3.0,1.0,3.0,3.0,3.0,3.0,2.0,2.0,3.0,3.0,1.0,2.0,6.0,1.0,2.0,2.0,2.0,2.0,2.0,4.0,3.0,3.0,2.0,2.0,2.0,2.0,3.0,4.0,2.0,3.0,2.0,3.0,4.0,3.0,2.0,3.0,3.0,2.0,3.0,3.0,3.0,3.0,2.0,4.0,2.0,4.0,3.0,4.0,2.0,2.0,4.0,2.0,2.0,3.0,1.0,2.0,2.0,3.0,3.0,2.0,2.0,2.0,2.0,3.0,1.0,3.0,3.0,3.0,3.0,6.0,2.0,3.0,2.0,4.0,1.0,2.0,3.0,2.0,3.0,3.0,4.0,4.0,4.0,2.0,5.0,3.0,2.0,2.0,1.0,2.0,2.0,3.0,2.0,2.0,3.0,3.0,1.0,2.0,3.0,2.0,3.0,2.0,1.0,3.0,2.0,3.0,3.0,1.0,3.0,4.0,3.0,2.0,2.0,3.0,3.0,2.0,1.0,2.0,3.0,1.0,2.0,2.0,2.0,3.0,2.0,4.0,4.0,2.0,3.0,3.0,1.0,1.0,1.0,2.0,3.0,1.0,4.0,2.0,2.0,1.0,3.0,3.0,3.0,4.0,3.0,3.0,2.0,2.0,2.0,4.0,3.0,2.0,1.0,2.0,2.0,1.0,3.0,2.0,3.0,3.0,3.0,4.0,2.0,2.0,3.0,3.0,1.0,4.0,4.0,3.0,1.0,2.0,2.0,3.0,4.0,3.0,2.0,2.0,1.0,2.0,2.0,3.0,1.0,3.0,2.0,1.0,2.0,2.0,4.0,2.0,2.0,3.0,3.0,2.0,2.0,3.0,2.0,4.0,2.0,2.0,2.0,2.0,1.0,3.0,2.0,2.0,3.0,3.0,2.0,1.0,1.0,3.0,1.0,3.0,1.0,2.0,2.0,3.0,1.0,2.0,1.0,2.0,3.0,3.0,3.0,2.0,1.0,3.0,2.0,3.0,2.0,1.0,4.0,5.0,3.0,3.0,2.0,2.0,4.0,3.0,4.0,3.0,2.0,4.0,2.0,1.0,1.0,3.0,2.0,5.0,1.0,3.0,1.0,3.0,3.0,2.0,3.0,5.0,6.0,1.0,2.0,2.0,3.0,3.0,3.0,2.0,2.0,2.0,2.0,3.0,3.0,2.0,1.0,3.0,3.0,2.0,2.0,1.0,4.0,2.0,3.0,2.0,2.0,4.0,3.0,3.0,2.0,3.0,3.0,6.0,3.0,2.0,1.0,1.0,2.0,2.0,2.0,2.0,4.0,2.0,2.0,3.0,1.0,3.0,2.0,2.0,2.0,3.0,3.0,5.0,3.0,2.0,3.0,3.0,3.0,4.0,3.0,4.0,2.0,2.0,3.0,2.0,2.0,3.0,3.0,4.0,2.0,3.0,2.0,4.0,3.0,3.0,4.0,3.0,4.0,4.0,1.0,2.0,2.0,2.0,4.0,2.0,2.0,3.0,2.0,1.0,3.0,2.0,2.0,3.0,1.0,2.0,1.0,2.0,2.0,2.0,2.0,1.0,2.0,3.0,6.0,2.0,2.0,2.0,2.0,1.0,5.0,2.0,3.0,1.0,2.0,4.0,3.0,1.0,5.0,2.0,2.0,2.0,3.0,2.0,3.0,4.0,2.0,2.0,3.0,3.0,3.0,3.0,3.0,2.0,7.0,1.0,2.0,2.0,2.0,4.0,4.0,3.0,2.0,3.0,3.0,3.0,3.0,1.0,2.0,2.0,2.0,2.0,2.0,3.0,3.0,3.0,3.0,3.0,3.0,4.0,1.0,2.0,3.0,3.0,2.0,2.0,2.0,2.0,2.0,4.0,3.0,3.0,2.0,1.0,3.0,2.0,2.0,2.0,1.0,3.0,3.0,2.0,2.0,2.0,3.0,3.0,2.0,3.0,2.0,3.0,2.0,2.0,2.0,3.0,3.0,3.0,3.0,2.0,3.0,3.0,2.0,2.0,2.0,3.0,1.0,1.0,1.0,2.0,2.0,3.0,1.0,3.0,2.0,2.0,1.0,1.0,2.0,3.0,3.0,3.0,3.0,2.0,3.0,2.0,4.0,3.0,4.0,2.0,1.0,2.0,4.0,4.0,3.0,2.0,3.0,1.0,2.0,2.0,2.0,2.0,3.0,2.0,3.0,2.0,3.0,2.0,3.0,2.0,4.0,5.0,2.0,3.0,3.0,2.0,2.0,4.0,3.0,3.0,2.0,3.0,3.0,4.0,4.0,1.0,2.0,1.0,3.0,2.0,2.0,2.0,1.0,4.0,2.0,2.0,2.0,3.0,4.0,2.0,2.0,4.0,2.0,2.0,2.0,3.0,2.0,4.0,3.0,4.0,2.0,3.0,4.0,3.0,2.0,2.0,3.0,2.0,4.0,3.0,1.0,2.0,3.0,2.0,2.0,2.0,3.0,2.0,1.0,1.0,3.0,2.0,3.0,2.0,5.0,3.0,2.0,4.0,2.0,3.0,3.0,3.0,6.0,3.0,3.0,3.0,4.0,1.0,1.0,2.0,3.0,4.0,2.0,3.0,1.0,2.0,3.0,3.0,4.0,2.0,1.0,1.0,3.0,2.0,2.0,3.0,2.0,3.0,2.0,2.0,3.0,3.0,3.0,3.0,3.0,5.0,3.0,2.0,2.0,2.0,1.0,3.0,3.0,2.0,3.0,2.0,1.0,4.0,1.0,3.0,3.0,4.0,2.0,1.0,3.0,2.0,3.0,4.0,2.0,4.0,6.0,2.0,4.0,3.0,2.0,3.0,2.0,2.0,3.0,2.0,2.0,3.0,2.0,3.0,3.0,1.0,3.0,2.0,4.0,1.0,2.0,3.0,3.0,1.0,2.0,1.0,3.0,3.0,2.0,3.0,3.0,2.0,3.0,3.0,3.0,2.0,3.0,2.0,3.0,5.0,1.0,1.0,1.0,3.0,2.0,4.0,2.0,2.0,3.0,3.0,2.0,1.0,2.0,3.0,3.0,2.0,4.0,2.0,2.0,3.0,3.0,1.0,3.0,4.0,1.0,2.0,3.0,3.0,1.0,1.0,1.0,4.0,1.0,3.0,2.0,2.0,2.0,1.0,3.0,3.0,2.0,2.0,2.0,3.0,3.0,3.0,4.0,4.0,2.0,2.0,2.0,4.0,3.0,3.0,2.0,3.0,2.0,3.0,2.0,2.0,4.0,4.0,4.0,2.0,2.0,2.0,2.0,2.0,2.0,2.0,2.0,2.0,2.0,2.0,2.0,3.0,2.0,3.0,2.0,2.0,2.0,3.0,2.0,4.0,3.0,2.0,3.0,2.0,3.0,3.0,2.0,4.0,2.0,2.0,3.0,2.0,2.0,2.0,3.0,2.0,2.0,2.0,3.0,2.0,2.0,2.0,4.0,2.0,2.0,2.0,2.0,3.0,3.0,2.0,3.0,2.0,3.0,4.0,3.0,2.0,2.0,2.0,2.0,2.0,2.0,3.0,3.0,3.0,2.0,2.0,2.0,2.0,2.0,2.0,3.0,2.0,2.0,3.0,2.0,2.0,3.0,2.0,2.0,4.0,2.0,3.0,3.0,2.0,3.0,2.0,4.0,2.0,2.0,2.0,3.0,4.0,2.0,2.0,3.0,2.0,2.0,2.0,3.0,4.0,2.0,3.0,2.0,2.0,3.0,3.0,2.0,4.0,2.0,3.0,2.0,3.0,4.0,2.0,2.0,3.0,2.0,3.0,2.0,2.0,2.0,3.0,4.0,2.0,3.0,2.0,3.0,2.0,2.0,2.0,4.0,2.0,3.0,2.0,2.0,4.0,2.0,4.0,2.0,3.0,2.0,2.0,2.0,2.0,2.0,3.0,2.0,2.0,2.0,4.0,4.0,2.0,2.0,2.0,2.0,2.0,3.0,2.0,2.0,4.0,2.0,2.0,4.0,2.0,2.0,2.0,3.0,2.0,2.0,2.0,2.0,2.0,2.0,2.0,3.0,4.0,2.0,2.0,2.0,2.0,4.0,2.0,4.0,2.0,3.0,4.0,2.0,3.0,3.0,3.0,4.0,3.0,2.0,2.0,2.0,3.0,4.0,2.0,4.0,3.0,2.0,2.0,2.0,2.0,2.0,2.0,2.0,2.0,3.0,2.0,2.0,2.0,2.0,3.0,2.0,2.0,2.0,2.0,2.0,2.0,4.0,2.0,2.0,3.0,3.0,2.0,2.0,2.0,2.0,2.0,4.0,2.0,2.0,2.0,2.0,3.0,4.0,2.0,2.0,2.0,2.0,2.0,2.0,2.0,2.0,3.0,2.0,2.0,2.0,2.0,2.0,2.0,4.0,2.0,4.0,2.0,3.0,2.0,2.0,2.0,2.0,4.0,2.0,2.0,2.0,2.0,2.0,2.0,4.0,3.0,2.0,3.0,4.0,2.0,2.0,3.0,2.0,2.0,4.0,4.0,2.0,2.0,2.0,4.0,2.0,2.0,2.0,2.0,3.0,2.0,2.0,2.0,2.0,2.0,2.0,2.0,2.0,2.0,2.0,2.0,2.0,2.0,4.0,2.0,2.0,2.0,2.0,2.0,3.0,2.0,2.0,2.0,4.0,2.0,2.0,2.0,2.0,2.0,2.0,4.0,2.0,2.0,2.0,2.0,2.0,2.0,2.0,2.0,2.0,2.0,4.0,2.0,2.0,2.0,4.0,2.0,2.0,3.0,2.0,2.0,2.0,2.0,2.0,2.0,2.0,2.0,2.0,3.0,2.0,2.0,4.0,2.0,4.0,2.0,2.0,2.0,2.0,4.0,2.0,3.0,2.0,4.0,2.0,2.0,2.0,4.0,2.0,2.0,4.0,3.0,2.0,2.0,3.0,3.0,2.0,2.0,2.0,3.0,3.0,2.0,2.0,3.0,3.0,1.0,2.0,3.0,2.0,3.0,2.0,2.0,3.0,2.0,2.0,2.0,1.0,3.0,3.0,5.0,3.0,3.0,2.0,1.0,2.0,1.0,3.0,2.0,4.0,3.0,4.0,3.0,3.0,3.0,4.0,3.0,4.0,3.0,3.0,2.0,2.0,2.0,3.0,2.0,3.0,2.0,2.0,3.0,2.0,2.0,3.0,3.0,3.0,4.0,1.0,2.0,1.0,4.0,3.0,4.0,2.0,3.0,2.0,2.0,2.0,4.0,2.0,2.0,2.0,2.0,2.0,3.0,2.0,3.0,2.0,2.0,2.0,2.0,3.0,2.0,2.0,2.0,4.0,2.0,1.0,4.0,2.0,2.0,2.0,3.0,1.0,3.0,1.0,3.0,2.0,2.0,4.0,4.0,1.0,4.0,4.0,2.0,3.0,3.0,4.0,2.0,3.0,2.0,3.0,3.0,2.0,2.0,2.0,3.0,3.0,4.0,4.0,3.0,2.0,2.0,6.0,2.0,3.0,3.0,3.0,2.0,2.0,1.0,2.0,3.0,3.0,3.0,4.0,3.0,2.0,3.0,4.0,4.0,2.0,2.0,1.0,2.0,4.0,3.0,4.0,2.0,3.0,2.0,4.0,2.0,1.0,2.0,3.0,3.0,3.0,5.0,2.0,2.0,3.0,3.0,1.0,2.0,3.0,2.0,2.0,2.0,1.0,3.0,2.0,2.0,3.0,1.0,2.0,3.0,3.0,4.0,3.0,3.0,3.0,3.0,2.0,1.0,3.0,2.0,2.0,2.0,3.0,4.0,4.0,3.0,3.0,3.0,2.0,1.0,3.0,2.0,2.0,2.0,3.0,2.0,3.0,2.0,3.0,2.0,2.0,1.0,2.0,3.0,1.0,2.0,3.0,2.0,2.0,2.0,3.0,2.0,2.0,3.0,3.0,2.0,4.0,3.0,2.0,1.0,2.0,4.0,3.0,3.0,2.0,3.0,2.0,2.0,2.0,3.0,4.0,3.0,3.0,2.0,1.0,3.0,2.0,2.0,2.0,3.0,2.0,2.0,2.0,1.0,3.0,2.0,3.0,1.0,2.0,3.0,1.0,2.0,1.0,1.0,1.0,2.0,2.0,3.0,4.0,2.0,2.0,3.0,2.0,2.0,4.0,4.0,2.0,2.0,3.0,2.0,2.0,2.0,2.0,4.0,2.0,3.0,1.0,4.0,2.0,3.0,3.0,3.0,1.0,6.0,2.0,3.0,1.0,2.0,3.0,2.0,2.0,3.0,2.0,4.0,2.0,4.0,3.0,2.0,2.0,3.0,3.0,1.0,2.0,4.0,2.0,3.0,2.0,1.0,3.0,2.0,1.0,5.0,3.0,1.0,1.0,2.0,2.0,3.0,2.0,1.0,1.0,3.0,2.0,4.0,2.0,4.0,2.0,2.0,3.0,3.0,2.0,3.0,3.0,2.0,3.0,2.0,2.0,6.0,3.0,3.0,2.0,2.0,3.0,3.0,2.0,3.0,3.0,3.0,4.0,3.0,3.0,3.0,3.0,2.0,2.0,3.0,2.0,3.0,2.0,4.0,4.0,4.0,3.0,1.0,2.0,2.0,2.0,2.0,1.0,3.0,3.0,3.0,2.0,3.0,2.0,2.0,2.0,4.0,3.0,4.0,3.0,4.0,4.0,3.0,2.0,2.0,1.0,3.0,4.0,3.0,2.0,2.0,2.0,3.0,2.0,2.0,2.0,3.0,2.0,4.0,2.0,3.0,4.0,2.0,2.0,4.0,2.0,4.0,2.0,3.0,3.0,3.0,2.0,6.0,3.0,4.0,3.0,2.0,1.0,3.0,2.0,2.0,3.0,4.0,3.0,4.0,2.0,2.0,4.0,2.0,3.0,2.0,3.0,2.0,3.0,2.0,3.0,2.0,3.0,2.0,1.0,4.0,5.0,3.0,3.0,3.0,2.0,3.0,3.0,4.0,2.0,2.0,2.0,4.0,3.0,4.0,1.0,3.0,3.0,3.0,2.0,4.0,2.0,2.0,2.0,4.0,2.0,4.0,2.0,2.0,3.0,2.0,2.0,2.0,2.0,2.0,2.0,2.0,2.0,2.0,2.0,3.0,2.0,2.0,3.0,2.0,2.0,2.0,3.0,2.0,3.0,2.0,2.0,2.0,3.0,2.0,2.0,2.0,2.0,2.0,2.0,2.0,2.0,2.0,2.0,2.0,2.0,2.0,2.0,2.0,2.0,2.0,2.0,3.0,3.0,2.0,2.0,3.0,4.0,3.0,2.0,3.0,1.0,4.0,3.0,3.0,2.0,3.0,3.0,3.0,3.0,2.0,3.0,2.0,3.0,4.0,4.0,3.0,2.0,3.0,2.0,1.0,3.0,2.0,3.0,3.0,2.0,1.0,4.0,1.0,2.0,2.0,2.0,3.0,2.0,2.0,3.0,3.0,7.0,2.0,3.0,4.0,2.0,2.0,3.0,4.0,2.0,4.0,4.0,3.0,4.0,4.0,3.0,3.0,3.0,4.0,3.0,4.0,4.0,3.0,3.0,3.0,3.0,3.0,3.0,3.0,4.0,3.0,3.0,3.0,4.0,3.0,4.0,3.0,3.0,4.0,2.0,1.0,1.0,2.0,4.0,3.0,3.0,4.0,1.0,1.0,1.0,3.0,1.0,1.0,5.0,2.0,3.0,3.0,3.0,4.0,3.0,3.0,2.0,2.0,1.0,4.0,4.0,2.0,3.0,3.0,4.0,2.0,3.0,4.0,2.0,3.0,3.0,4.0,5.0,3.0,4.0,2.0,3.0,2.0,2.0,3.0,2.0,2.0,3.0,4.0,3.0,3.0,2.0,1.0,2.0,2.0,3.0,1.0,2.0,3.0,2.0,4.0,4.0,3.0,2.0,2.0,2.0,2.0,3.0,3.0,2.0,1.0,2.0,2.0,1.0,2.0,3.0,2.0,3.0,3.0,3.0,2.0,3.0,3.0,5.0,3.0,4.0,3.0,3.0,2.0,3.0,3.0,2.0,3.0,1.0,1.0,2.0,3.0,2.0,3.0,4.0,3.0,2.0,2.0,2.0,4.0,4.0,3.0,3.0,3.0,2.0,2.0,3.0,1.0,2.0,3.0,4.0,3.0,3.0,3.0,5.0,2.0,3.0,2.0,2.0,3.0,2.0,2.0,3.0,3.0,3.0,3.0,2.0,2.0,4.0,4.0,3.0,2.0,1.0,2.0,3.0,4.0,3.0,2.0,3.0,3.0,3.0,2.0,2.0,2.0,2.0,3.0,1.0,1.0,2.0,2.0,2.0,3.0,2.0,2.0,2.0,4.0,3.0,3.0,3.0,3.0,1.0,2.0,1.0,2.0,3.0,1.0,4.0,2.0,2.0,3.0,4.0,4.0,4.0,1.0,1.0,2.0,2.0,1.0,1.0,2.0,4.0,1.0,2.0,2.0,2.0,4.0,3.0,3.0,4.0,4.0,4.0,3.0,4.0,4.0,2.0,3.0,2.0,4.0,3.0,2.0,3.0,2.0,2.0,4.0,4.0,4.0,6.0,3.0,2.0,2.0,3.0,2.0,2.0,2.0,4.0,1.0,2.0,3.0,6.0,2.0,4.0,4.0,3.0,2.0,2.0,3.0,3.0,3.0,4.0,2.0,2.0,3.0,2.0,3.0,2.0,4.0,4.0,3.0,2.0,3.0,3.0,3.0,3.0,3.0,4.0,2.0,3.0,2.0,3.0,3.0,3.0,3.0,2.0,3.0,3.0,3.0,2.0,3.0,2.0,2.0,3.0,4.0,3.0,3.0,3.0,2.0,2.0,2.0,3.0,2.0,4.0,3.0,2.0,2.0,3.0,2.0,3.0,2.0,3.0,2.0,3.0,2.0,2.0,2.0,3.0,2.0,2.0,3.0,2.0,3.0,2.0,3.0,3.0,2.0,3.0,2.0,3.0,2.0,3.0,3.0,2.0,3.0,3.0,2.0,4.0,3.0,3.0,3.0,3.0,2.0,2.0,2.0,3.0,2.0,3.0,2.0,2.0,3.0,3.0,3.0,2.0,2.0,3.0,2.0,2.0,2.0,2.0,2.0,2.0,2.0,4.0,2.0,3.0,3.0,2.0,2.0,3.0,4.0,3.0,2.0,2.0,4.0,2.0,2.0,3.0,2.0,2.0,2.0,2.0,2.0,2.0,2.0,2.0,2.0,2.0,2.0,4.0,2.0,2.0,2.0,2.0,2.0,2.0,2.0,2.0,2.0,2.0,2.0,4.0,4.0,2.0,2.0,4.0,2.0,4.0,2.0,2.0,2.0,2.0,2.0,3.0,3.0,3.0,3.0,8.0,3.0,2.0,3.0,2.0,2.0,4.0,2.0,3.0,4.0,2.0,5.0,1.0,2.0,3.0,4.0,3.0,9.0,4.0,2.0,2.0,2.0,2.0,3.0,4.0,2.0,4.0,2.0,2.0,7.0,4.0,3.0,2.0,3.0,3.0,1.0],\"z\":[450000.0,476420.0,725000.0,386000.0,416400.0,399000.0,511675.0,506000.0,144900.0,189900.0,159900.0,869500.0,370000.0,359000.0,699000.0,359000.0,365000.0,450000.0,795000.0,950000.0,503232.0,847000.0,309000.0,705474.0,591297.0,295000.0,945945.0,479000.0,560000.0,470000.0,379973.0,769000.0,250000.0,539000.0,858000.0,699000.0,1100000.0,750000.0,402000.0,385000.0,562035.0,219900.0,266000.0,430000.0,519999.0,699900.0,615069.0,569700.0,463702.0,434657.0,444526.0,401742.0,399900.0,589390.0,390000.0,458000.0,805393.0,401142.0,463743.0,555216.0,633702.0,666293.0,375000.0,590000.0,526398.0,268000.0,372378.0,310000.0,499000.0,337500.0,599000.0,379000.0,319000.0,499000.0,390000.0,595000.0,259000.0,194000.0,307000.0,400000.0,267000.0,515000.0,399000.0,949900.0,515590.0,464016.0,604548.0,662235.0,491517.0,370000.0,539000.0,653000.0,674660.0,539670.0,508288.0,646000.0,184900.0,420000.0,460000.0,459930.0,149900.0,394572.0,777897.0,679000.0,739000.0,1099000.0,825000.0,759413.0,735216.0,790500.0,890624.0,710000.0,359900.0,638365.0,609390.0,376704.0,349000.0,415000.0,540000.0,510000.0,559000.0,559000.0,565000.0,549824.0,499990.0,352800.0,290000.0,1069000.0,520000.0,251900.0,154900.0,623000.0,460000.0,799000.0,580408.0,815761.0,255000.0,495000.0,650000.0,417186.0,349000.0,615000.0,370000.0,836600.0,590247.0,307540.0,307920.0,297330.0,379135.0,411286.0,336408.0,390500.0,568588.0,723303.0,808545.0,481799.0,420000.0,830000.0,412045.0,351540.0,567386.0,481014.0,528336.0,520173.0,255000.0,399636.0,301900.0,330000.0,420000.0,199000.0,323900.0,495726.0,735000.0,396000.0,340000.0,375000.0,590000.0,419000.0,351000.0,597520.0,566280.0,652416.0,465108.0,647629.0,172500.0,241000.0,460000.0,735000.0,699281.0,283000.0,174900.0,149900.0,547511.0,310000.0,276500.0,169000.0,300000.0,419000.0,475000.0,206000.0,791154.0,868725.0,350000.0,750000.0,899000.0,775000.0,719900.0,520000.0,419000.0,505000.0,341897.0,481090.0,649900.0,369000.0,499000.0,680000.0,245171.0,370000.0,340000.0,639776.0,467640.0,336960.0,399000.0,715000.0,430000.0,289000.0,999000.0,512500.0,367500.0,873000.0,355000.0,275000.0,378000.0,315000.0,319000.0,590000.0,295000.0,365000.0,359999.0,490630.0,480000.0,389000.0,315000.0,315000.0,410000.0,670000.0,545000.0,875000.0,323242.0,468000.0,294000.0,460000.0,539400.0,425000.0,425000.0,449000.0,688342.0,631800.0,406588.0,435132.0,267000.0,498999.0,559000.0,444526.0,583038.0,262650.0,765765.0,429000.0,521600.0,526000.0,521600.0,311355.0,506600.0,506600.0,506500.0,506500.0,420000.0,329000.0,803000.0,459000.0,331271.0,398000.0,960000.0,187000.0,280500.0,310000.0,379700.0,592006.0,491517.0,799000.0,369999.0,460000.0,420000.0,499000.0,666680.0,543270.0,479000.0,622000.0,599000.0,840325.0,349000.0,419999.0,590000.0,439000.0,514305.0,465000.0,498075.0,456000.0,365000.0,680000.0,520000.0,629256.0,410000.0,787902.0,773640.0,945171.0,479000.0,430000.0,399000.0,262000.0,795000.0,599000.0,499000.0,599000.0,139900.0,249990.0,157000.0,596712.0,686340.0,379423.0,455000.0,475000.0,347200.0,299000.0,352842.0,399999.0,1100000.0,569000.0,287000.0,729000.0,450000.0,550000.0,285000.0,1095000.0,378000.0,567386.0,648720.0,435000.0,450000.0,450000.0,540000.0,922668.0,800000.0,173215.0,849000.0,490630.0,445848.0,375365.0,294294.0,449000.0,425914.0,498000.0,587030.0,299000.0,598900.0,430000.0,315000.0,487158.0,925925.0,375000.0,380000.0,463642.0,185000.0,650000.0,385000.0,659000.0,410000.0,289000.0,270000.0,486000.0,250000.0,199000.0,540000.0,569816.0,503800.0,219900.0,174900.0,488200.0,540000.0,297000.0,408100.0,420000.0,660061.0,299000.0,509180.0,499000.0,745000.0,299000.0,480000.0,430525.0,172560.0,136240.0,125680.0,385000.0,495000.0,422484.0,643524.0,527563.0,400524.0,474605.0,459000.0,695000.0,525000.0,808545.0,465000.0,565000.0,412500.0,385000.0,219900.0,875000.0,614000.0,449000.0,323000.0,318000.0,454960.0,300000.0,334990.0,449000.0,430000.0,741600.0,395000.0,978000.0,410000.0,995000.0,320000.0,498999.0,194900.0,674500.0,410000.0,470000.0,230000.0,270000.0,305000.0,835000.0,743850.0,789000.0,615000.0,423805.0,305000.0,476100.0,558480.0,440000.0,339900.0,620635.0,401742.0,352842.0,377000.0,280000.0,1020000.0,570000.0,340000.0,506803.0,469000.0,310000.0,395000.0,436000.0,294000.0,499000.0,329000.0,327000.0,418166.0,591126.0,299500.0,766296.0,444526.0,299000.0,543491.0,685000.0,455700.0,259000.0,315000.0,680000.0,280000.0,619000.0,289900.0,420000.0,299000.0,637980.0,169000.0,510000.0,259000.0,420000.0,490630.0,838605.0,420000.0,296000.0,85888.0,420000.0,195000.0,770000.0,789000.0,322390.0,626888.0,479000.0,665000.0,540000.0,395000.0,310000.0,920000.0,603135.0,745500.0,582255.0,399276.0,525000.0,355000.0,391755.0,387768.0,503800.0,445810.0,880000.0,250000.0,420000.0,178000.0,339000.0,360000.0,420000.0,290000.0,589000.0,949000.0,376406.0,320000.0,444526.0,526656.0,799000.0,615342.0,491517.0,579463.0,680000.0,479000.0,559000.0,575000.0,285000.0,291466.0,458000.0,379000.0,349000.0,265000.0,299000.0,539000.0,290000.0,458000.0,459000.0,490000.0,598000.0,577000.0,412000.0,283000.0,635145.0,543491.0,475153.0,640611.0,695000.0,544000.0,770000.0,331206.0,326192.0,390000.0,235000.0,995000.0,289000.0,375000.0,710000.0,295608.0,190000.0,529900.0,429700.0,254000.0,591528.0,369000.0,975000.0,505000.0,599999.0,499999.0,549000.0,455000.0,672448.0,574024.0,694720.0,725555.0,513274.0,479000.0,371856.0,299000.0,788000.0,749000.0,570000.0,255000.0,749000.0,240000.0,1050000.0,659000.0,690000.0,673475.0,748464.0,927701.0,499000.0,190000.0,179000.0,200000.0,347200.0,469000.0,449000.0,488670.0,540000.0,377000.0,149000.0,765600.0,495040.0,528120.0,679875.0,351000.0,624487.0,392430.0,185000.0,340000.0,560000.0,508288.0,259000.0,495488.0,399000.0,1090000.0,359000.0,285000.0,409858.0,566921.0,352842.0,690000.0,423805.0,460000.0,184900.0,450000.0,949000.0,638824.0,290440.0,760000.0,349000.0,201000.0,269000.0,449000.0,255000.0,694921.0,596500.0,450450.0,290000.0,666000.0,370000.0,514953.0,558000.0,850000.0,340000.0,665000.0,284500.0,450000.0,325000.0,325000.0,739557.0,643524.0,339000.0,740000.0,999000.0,671580.0,553164.0,960000.0,175000.0,475922.0,289000.0,209000.0,265000.0,399000.0,335000.0,379000.0,635000.0,450000.0,810000.0,639000.0,839211.0,361008.0,440813.0,679296.0,748464.0,399000.0,364000.0,349000.0,481014.0,445848.0,642491.0,543491.0,820000.0,535000.0,102000.0,680000.0,327000.0,298000.0,329000.0,299900.0,499000.0,440000.0,269000.0,399000.0,441322.0,549744.0,835000.0,280000.0,859000.0,409990.0,594164.0,491733.0,370700.0,450000.0,299999.0,819000.0,279000.0,599000.0,259000.0,599000.0,489000.0,450000.0,335000.0,476832.0,603230.0,156000.0,127120.0,300000.0,399000.0,430000.0,519000.0,299000.0,332000.0,538000.0,320000.0,486370.0,352842.0,331144.0,641432.0,637980.0,455000.0,614000.0,265000.0,680000.0,499000.0,783018.0,595940.0,643558.0,690875.0,351540.0,496283.0,884735.0,499000.0,785000.0,399000.0,598732.0,379957.0,465894.0,701096.0,385000.0,550000.0,319000.0,389000.0,604632.0,406588.0,619000.0,175000.0,419999.0,320000.0,430000.0,652848.0,359000.0,489386.0,704512.0,569768.0,360000.0,723303.0,629000.0,629000.0,395000.0,627168.0,603108.0,626888.0,539000.0,329000.0,525000.0,345000.0,619000.0,373000.0,749000.0,650000.0,467556.0,881475.0,635295.0,526311.0,330000.0,541215.0,664148.0,579256.0,390000.0,520000.0,520000.0,439990.0,280000.0,850395.0,648829.0,718600.0,509000.0,939000.0,532093.0,440000.0,723303.0,560560.0,476434.0,729000.0,625232.0,375365.0,1100000.0,509000.0,467010.0,371000.0,654071.0,732193.0,483360.0,295000.0,410000.0,460000.0,389000.0,351540.0,452500.0,447000.0,493500.0,499000.0,390000.0,350000.0,410000.0,635253.0,630126.0,514080.0,894969.0,697800.0,450000.0,648000.0,527000.0,550685.0,787902.0,389000.0,470882.0,649152.0,539550.0,767258.0,397758.0,546012.0,474754.0,443000.0,349000.0,590000.0,735926.0,299000.0,279000.0,365000.0,505000.0,520000.0,799232.0,599610.0,355000.0,310000.0,327800.0,515000.0,478000.0,499000.0,355000.0,367500.0,666293.0,648359.0,572670.0,460362.0,230000.0,369000.0,471369.0,550551.0,840000.0,265000.0,914479.0,555000.0,169000.0,380000.0,680000.0,680000.0,580000.0,650000.0,279000.0,376704.0,626854.0,435120.0,619000.0,651294.0,1050000.0,742940.0,862000.0,380000.0,430000.0,522000.0,423000.0,459000.0,405132.0,446664.0,720116.0,577460.0,750264.0,480000.0,530000.0,490630.0,570000.0,476420.0,521360.0,280000.0,712878.0,482498.0,355000.0,789000.0,516754.0,288970.0,419700.0,478626.0,320000.0,765000.0,270000.0,340000.0,525000.0,249000.0,452236.0,429000.0,433000.0,230000.0,190000.0,465000.0,489000.0,916887.0,280000.0,265000.0,345100.0,666000.0,445200.0,643500.0,322200.0,606815.0,478884.0,990000.0,446131.0,185000.0,336300.0,502000.0,543000.0,339000.0,999000.0,299000.0,393495.0,315000.0,549000.0,210000.0,808000.0,310000.0,131520.0,225520.0,599000.0,789767.0,130480.0,134480.0,275525.0,1084005.0,413328.0,599000.0,327000.0,663000.0,462710.0,300000.0,669000.0,664368.0,487176.0,479202.0,471957.0,686230.0,671511.0,745980.0,870824.0,995502.0,488289.0,457356.0,455768.0,946026.0,747348.0,715872.0,471957.0,715872.0,482997.0,664368.0,484377.0,575073.0,986255.0,1039718.0,846600.0,623466.0,478995.0,563349.0,491640.0,550311.0,455768.0,483348.0,575073.0,465825.0,460380.0,545388.0,465034.0,686230.0,461757.0,638562.0,495786.0,484206.0,499713.0,737652.0,489424.0,1005794.0,729324.0,481236.0,731610.0,482997.0,712668.0,675220.0,482192.0,985210.0,570018.0,570018.0,714028.0,467874.0,477142.0,471957.0,665840.0,473048.0,459780.0,479502.0,719742.0,470436.0,474543.0,483687.0,985210.0,673680.0,645872.0,501609.0,611799.0,980130.0,988960.0,611544.0,712668.0,466764.0,658681.0,975952.0,864289.0,566406.0,480697.0,473048.0,469128.0,572939.0,482192.0,691572.0,711830.0,693941.0,586678.0,469926.0,465822.0,480186.0,469926.0,461757.0,645577.0,465822.0,465825.0,705684.0,487176.0,476538.0,693941.0,476040.0,458124.0,956118.0,454125.0,691572.0,723741.0,545388.0,671511.0,522944.0,1003590.0,459780.0,458124.0,469128.0,645577.0,956118.0,454125.0,550311.0,683396.0,465034.0,585433.0,460716.0,685797.0,1082556.0,540902.0,720996.0,487494.0,476040.0,723741.0,928676.0,502220.0,897368.0,649996.0,906114.0,480123.0,872654.0,946026.0,498880.0,502210.0,678654.0,475182.0,638562.0,531270.0,580614.0,486364.0,685797.0,1016086.0,536559.0,720996.0,495534.0,739479.0,590252.0,585183.0,477142.0,1026378.0,494708.0,854298.0,485330.0,491355.0,995502.0,568144.0,933174.0,580128.0,678519.0,518677.0,490116.0,490536.0,483348.0,451756.0,631547.0,449902.0,535570.0,498305.0,1071282.0,1050894.0,680820.0,540138.0,486364.0,557226.0,494530.0,845950.0,522578.0,628772.0,861976.0,544290.0,552678.0,846600.0,761896.0,490685.0,611044.0,1015450.0,616302.0,482808.0,518314.0,539774.0,514410.0,611013.0,514050.0,837494.0,1028542.0,605724.0,535258.0,509786.0,510143.0,1017456.0,558554.0,837820.0,530742.0,831918.0,829040.0,600435.0,956431.0,949000.0,941700.0,1095456.0,934400.0,505876.0,553759.0,658580.0,927100.0,1006279.0,526226.0,820260.0,823542.0,505522.0,595146.0,715572.0,718662.0,695409.0,654160.0,710424.0,713601.0,1092486.0,688116.0,649740.0,637144.0,641508.0,1083604.0,708540.0,690546.0,705276.0,700128.0,685683.0,683304.0,1095198.0,690206.0,628416.0,1074722.0,1050770.0,645320.0,703479.0,694980.0,632780.0,660744.0,1070496.0,678492.0,692685.0,640900.0,698418.0,1065840.0,1085591.0,767712.0,687554.0,665532.0,773528.0,636480.0,620477.0,628628.0,786044.0,1041940.0,663918.0,668729.0,607460.0,756080.0,682423.0,685168.0,1060938.0,624232.0,1051380.0,659107.0,1033110.0,616138.0,655956.0,680130.0,651168.0,1041822.0,619836.0,677292.0,672161.0,649485.0,654296.0,675092.0,1032264.0,1006620.0,646380.0,1024280.0,1084092.0,615440.0,548964.0,815166.0,670054.0,501258.0,995102.0,811480.0,521710.0,589857.0,644674.0,1022706.0,639863.0,603121.0,659978.0,665016.0,997790.0,744448.0,598782.0,636804.0,661899.0,667030.0,641592.0,606648.0,602252.0,594443.0,654940.0,632016.0,656768.0,635052.0,1013148.0,738632.0,597856.0,630241.0,590104.0,732816.0,931204.0,674751.0,627228.0,649902.0,994032.0,572680.0,586170.0,593460.0,727000.0,520682.0,587330.0,920111.0,528454.0,521735.0,564100.0,579966.0,513755.0,604709.0,562617.0,655302.0,552770.0,557070.0,906216.0,558274.0,575418.0,599890.0,906216.0,517830.0,509910.0,897749.0,595071.0,553931.0,548470.0,570870.0,639384.0,644690.0,513925.0,506065.0,498375.0,889384.0,549588.0,566322.0,888520.0,544170.0,1093830.0,590252.0,510020.0,539870.0,561774.0,983925.0,545245.0,881019.0,496994.0,1072728.0,506115.0,634078.0,517194.0,879672.0,544169.0,497342.0,802700.0,806790.0,584376.0,448272.0,593986.0,549000.0,443254.0,290000.0,349000.0,285000.0,553472.0,395422.0,804100.0,818800.0,629925.0,294000.0,494383.0,399000.0,330000.0,590247.0,538096.0,737153.0,688158.0,482124.0,528336.0,495899.0,464112.0,679296.0,280000.0,420000.0,540855.0,526398.0,333750.0,247500.0,439976.0,275000.0,799000.0,279000.0,478100.0,322390.0,478100.0,591528.0,511675.0,723303.0,759413.0,639000.0,675840.0,459000.0,419000.0,350000.0,239000.0,409344.0,559000.0,333750.0,687611.0,465000.0,224000.0,500000.0,280000.0,472200.0,670000.0,610000.0,425000.0,623466.0,419000.0,446497.0,194000.0,729000.0,582228.0,825992.0,420316.0,646521.0,398814.0,425162.0,401755.0,359000.0,486483.0,454612.0,434592.0,447607.0,634632.0,409000.0,550000.0,410000.0,423300.0,436391.0,726186.0,699000.0,567560.0,439976.0,462756.0,303000.0,663000.0,385000.0,219000.0,654502.0,680339.0,286500.0,333750.0,785590.0,364425.0,359000.0,228000.0,485000.0,642125.0,431860.0,720658.0,729000.0,223280.0,852659.0,822492.0,399543.0,581343.0,730575.0,798295.0,443254.0,941325.0,409344.0,553472.0,914652.0,636236.0,497340.0,454608.0,739000.0,604392.0,659638.0,550000.0,485761.0,329000.0,340000.0,862000.0,452682.0,715000.0,745000.0,795000.0,219000.0,639750.0,384156.0,408820.0,530000.0,711315.0,591528.0,628053.0,533164.0,381000.0,588510.0,735434.0,741048.0,443394.0,532608.0,331272.0,330000.0,776878.0,549106.0,852659.0,463700.0,389000.0,591000.0,849484.0,398658.0,166000.0,346610.0,870000.0,524790.0,414000.0,370000.0,332000.0,470000.0,567460.0,766200.0,394130.0,465300.0,498816.0,249000.0,700000.0,700000.0,438322.0,490000.0,368920.0,464919.0,481734.0,134400.0,224800.0,549000.0,350000.0,825992.0,600279.0,739577.0,643524.0,700035.0,484575.0,295218.0,310000.0,189000.0,229100.0,457000.0,430000.0,770133.0,658170.0,718041.0,685959.0,643017.0,190000.0,346332.0,608175.0,630000.0,400620.0,400524.0,606967.0,360000.0,625232.0,379000.0,379000.0,450000.0,503469.0,385860.0,456417.0,430000.0,265000.0,388476.0,679296.0,385510.0,400722.0,371856.0,567460.0,451370.0,409858.0,603108.0,552609.0,464919.0,514000.0,526398.0,385510.0,295218.0,359000.0,742900.0,588500.0,521360.0,417562.0,395000.0,425000.0,420267.0,309000.0,459000.0,630000.0,456661.0,750000.0,421011.0,298342.0,374999.0,369000.0,385500.0,409858.0,799000.0,270000.0,230000.0,438343.0,256000.0,426043.0,256237.0,315268.0,203842.0,145758.0,490000.0,155565.0,420267.0,149846.0,129757.0,199346.0,508473.0,299000.0,430000.0,942726.0,415524.0,190000.0,600000.0,689947.0,350000.0,425000.0,450000.0,349000.0,329000.0,674696.0,388476.0,451048.0,467164.0,270000.0,515000.0,482742.0,932720.0,267696.0,505420.0,496722.0,633788.0,599250.0,542500.0,373800.0,888000.0,410000.0,820000.0,459606.0,542751.0,776104.0,443958.0,369000.0,780000.0,491895.0,780390.0,395424.0,643524.0,557466.0,315000.0,465579.0,950801.0,189900.0,378000.0,570750.0,608315.0,558789.0,610000.0,259000.0,348689.0,674304.0,448344.0,273374.0,899999.0,359000.0,444291.0,416266.0,570400.0,711718.0,702780.0,636232.0,412045.0,331272.0,897582.0,428065.0,589904.0,641784.0,687611.0,724941.0,647262.0,481090.0,459000.0,552970.0,383000.0,885402.0,764275.0,883666.0,521200.0,315000.0,786750.0,549000.0,694912.0,443619.0,466898.0,796302.0,874692.0,618383.0,901376.0,420000.0,503400.0,672400.0,748400.0,562000.0,553164.0,679296.0,385510.0,699875.0,863738.0,625000.0,549000.0,299900.0,499000.0,389000.0,720000.0,675000.0,352800.0,475000.0,459700.0,475000.0,644868.0,329000.0,285000.0,332000.0,332000.0,421214.0,540855.0,411957.0,389520.0,399543.0,825603.0,600642.0,711315.0,239000.0,790160.0,659736.0,545100.0,404672.0,451515.0,401941.0,320000.0,999000.0,664038.0,360000.0,483254.0,430986.0,335000.0,559000.0,789000.0,425000.0,619000.0,402948.0,879000.0,402003.0,700000.0,741048.0,415912.0,400610.0,757887.0,434657.0,778134.0,400722.0,329000.0,457652.0,666293.0,442662.0,725000.0,279000.0,999000.0,492350.0,441805.0,459900.0,489000.0,441805.0,532608.0,1011395.0,806224.0,549000.0,866109.0,444899.0,406588.0,962784.0,444899.0,365000.0,444899.0,388500.0,452366.0,450000.0,487449.0,577472.0,430000.0,798700.0,442768.0,387288.0,567340.0,390000.0,388500.0,472739.0,576666.0,706875.0,607078.0,921935.0,613600.0,443300.0,378846.0,420267.0,849000.0,292000.0,669000.0,396440.0,650000.0,735322.0,295000.0,712530.0,650484.0,595249.0,441805.0,436662.0,815498.0,398814.0,859757.0,422670.0,430000.0,549999.0,350000.0,420000.0,409858.0,611556.0,556542.0,694638.0,618760.0,602345.0,561115.0,640191.0,933197.0,572001.0,656082.0,940379.0,547708.0,636988.0,662256.0,879525.0,729984.0,908547.0,552125.0,673344.0,549339.0,822808.0,731169.0,575316.0,710636.0,658603.0,695934.0,689687.0,630252.0,688989.0,621027.0,595280.0,610818.0,540093.0,534618.0,718200.0,694276.0,626562.0,665241.0,566184.0,681156.0,315000.0,518000.0,527700.0,500688.0,520000.0,900000.0,320000.0,501286.0,268216.0,757887.0,471279.0,619000.0,371856.0,740000.0,498075.0,895000.0,375000.0,230000.0,506544.0,195000.0,506803.0,425000.0,642876.0,478885.0,355000.0,694912.0,381100.0,298500.0,526500.0,388000.0,567460.0,639000.0,286110.0,649000.0,813390.0,247500.0,424310.0,300000.0,280000.0,608793.0,420690.0,682905.0,496935.0,620000.0,599000.0,420782.0,562035.0,672448.0,441670.0,489027.0,485139.0,625000.0,200000.0,839211.0,797514.0,672508.0,915055.0,687645.0,770590.0,609837.0,748772.0,726939.0,603359.0,713841.0,923450.0,931590.0,939949.0,591408.0,604392.0,698414.0,736803.0,613312.0,807870.0,629624.0,948414.0,756384.0,622155.0,753984.0,700743.0,745018.0,588058.0,1056698.0,397000.0,351540.0,649000.0,349000.0,620000.0,782811.0,449000.0,1084005.0,444292.0,195000.0,314000.0,481686.0,265000.0,260370.0,990000.0,414736.0,279000.0,535353.0,592473.0,565230.0,541632.0,504856.0,432060.0,368856.0,247500.0,928779.0,597000.0,319000.0,899000.0,390000.0,922104.0,406260.0,589000.0,605853.0,471042.0,616757.0,495849.0,739555.0,760000.0,741600.0,756795.0,369000.0,599000.0,215000.0,432374.0,964476.0,497239.0,597520.0,639146.0,508266.0,399000.0,634144.0,550000.0,365000.0,447307.0,505687.0,772520.0,365332.0,710000.0,765000.0,348000.0,756795.0,478100.0,396525.0,406260.0,445513.0,218000.0,418747.0,482136.0,484492.0,188000.0,162000.0,368970.0,379984.0,320000.0,427069.0,547829.0,418377.0,668325.0,259000.0,560000.0,416136.0,486890.0,557661.0,869374.0,468711.0,641862.0,622247.0,532987.0,418377.0,598307.0,480000.0,405985.0,501200.0,179000.0,270000.0,219000.0,569892.0,421187.0,590520.0,639918.0,569816.0,420316.0,420316.0,418747.0,651085.0,650655.0,677548.0,697880.0,719900.0,259000.0,295218.0,619000.0,288970.0,393495.0,498075.0,662071.0,478019.0,514764.0,600331.0,710700.0,180000.0,499990.0,430316.0,265000.0,492270.0,423335.0,504156.0,955031.0,717693.0,576555.0,545413.0,453101.0,385000.0,630585.0,658265.0,269900.0,399240.0,376061.0,451811.0,503460.0,739000.0,518473.0,382672.0,500596.0,501289.0,475849.0,511910.0,486981.0,430976.0,309000.0,900000.0,240000.0,429000.0,429000.0,443500.0,299000.0,389000.0,320000.0,425000.0,425000.0,599280.0,599664.0,560560.0,735231.0,449000.0,290440.0,413168.0,269955.0,249000.0,399000.0,189500.0,739000.0,389520.0,415502.0,599000.0,814971.0,805393.0,788353.0,555762.0,569321.0,457184.0,501577.0,597824.0,558408.0,430000.0,638104.0,615617.0,310000.0,389000.0,503051.0,839211.0,639146.0,639146.0,825192.0,839211.0,826097.0,489000.0,825192.0,803670.0,398658.0,950000.0,417070.0,767892.0,458000.0,433184.0,528000.0,394572.0,485720.0,702780.0,830000.0,899990.0,830000.0,646521.0,400524.0,400620.0,390000.0,400716.0,421185.0,380000.0,899000.0,544000.0,480414.0,726636.0,729000.0,443879.0,778134.0,745500.0,635145.0,401142.0,401238.0,552206.0,432735.0,576022.0,849484.0,402744.0,422670.0,726636.0,421383.0,694370.0,416136.0,859757.0,841074.0,648483.0,423759.0,635316.0,558168.0,576022.0,641092.0,581144.0,849484.0,413132.0,726636.0,409016.0,641092.0,629256.0,702781.0,580408.0,408820.0,614214.0,552090.0,640866.0,421284.0,718788.0,422670.0,421383.0,561326.0,851370.0,727392.0,576022.0,642726.0,408918.0,419502.0,408918.0,648483.0,418228.0,815498.0,702781.0,408820.0,416136.0,648261.0,417934.0,621996.0,421185.0,646521.0,417324.0,653896.0,421284.0,425516.0,422571.0,574885.0,422472.0,420316.0,621461.0,422175.0,641092.0,418326.0,685959.0,735231.0,408820.0,629256.0,421284.0,621461.0,404866.0,555216.0,552090.0,480414.0,558168.0,606967.0,404672.0,859757.0,653896.0,582228.0,735231.0,648483.0,425616.0,425616.0,425416.0,653896.0,425516.0,582228.0,409016.0,420316.0,621996.0,561326.0,694370.0,404769.0,408820.0,735231.0,404672.0,477956.0,404866.0,402744.0,426916.0,463642.0,404769.0,825603.0,404672.0,614214.0,653896.0,425416.0,421185.0,648483.0,797514.0,614736.0,400524.0,421383.0,849484.0,487449.0,482124.0,688158.0,481404.0,476087.0,482124.0,468878.0,480414.0,487449.0,465407.0,468878.0,465407.0,460210.0,419718.0,825992.0,421401.0,420015.0,485720.0,485720.0,416500.0,403332.0,482124.0,403332.0,487449.0,407466.0,416990.0,803670.0,786498.0,419718.0,421203.0,776878.0,420708.0,813502.0,405996.0,402944.0,401877.0,407074.0,419718.0,616241.0,479000.0,365000.0,595000.0,790000.0,280000.0,433186.0,652555.0,444526.0,315000.0,389000.0,424099.0,649000.0,680568.0,334540.0,760000.0,230000.0,449640.0,570000.0,999000.0,510000.0,898000.0,849000.0,316575.0,377865.0,183600.0,950000.0,999000.0,950000.0,499000.0,730000.0,499578.0,275000.0,999000.0,899000.0,679000.0,342000.0,560560.0,445848.0,289000.0],\"type\":\"scatter3d\"}],                        {\"template\":{\"data\":{\"histogram2dcontour\":[{\"type\":\"histogram2dcontour\",\"colorbar\":{\"outlinewidth\":0,\"ticks\":\"\"},\"colorscale\":[[0.0,\"#0d0887\"],[0.1111111111111111,\"#46039f\"],[0.2222222222222222,\"#7201a8\"],[0.3333333333333333,\"#9c179e\"],[0.4444444444444444,\"#bd3786\"],[0.5555555555555556,\"#d8576b\"],[0.6666666666666666,\"#ed7953\"],[0.7777777777777778,\"#fb9f3a\"],[0.8888888888888888,\"#fdca26\"],[1.0,\"#f0f921\"]]}],\"choropleth\":[{\"type\":\"choropleth\",\"colorbar\":{\"outlinewidth\":0,\"ticks\":\"\"}}],\"histogram2d\":[{\"type\":\"histogram2d\",\"colorbar\":{\"outlinewidth\":0,\"ticks\":\"\"},\"colorscale\":[[0.0,\"#0d0887\"],[0.1111111111111111,\"#46039f\"],[0.2222222222222222,\"#7201a8\"],[0.3333333333333333,\"#9c179e\"],[0.4444444444444444,\"#bd3786\"],[0.5555555555555556,\"#d8576b\"],[0.6666666666666666,\"#ed7953\"],[0.7777777777777778,\"#fb9f3a\"],[0.8888888888888888,\"#fdca26\"],[1.0,\"#f0f921\"]]}],\"heatmap\":[{\"type\":\"heatmap\",\"colorbar\":{\"outlinewidth\":0,\"ticks\":\"\"},\"colorscale\":[[0.0,\"#0d0887\"],[0.1111111111111111,\"#46039f\"],[0.2222222222222222,\"#7201a8\"],[0.3333333333333333,\"#9c179e\"],[0.4444444444444444,\"#bd3786\"],[0.5555555555555556,\"#d8576b\"],[0.6666666666666666,\"#ed7953\"],[0.7777777777777778,\"#fb9f3a\"],[0.8888888888888888,\"#fdca26\"],[1.0,\"#f0f921\"]]}],\"heatmapgl\":[{\"type\":\"heatmapgl\",\"colorbar\":{\"outlinewidth\":0,\"ticks\":\"\"},\"colorscale\":[[0.0,\"#0d0887\"],[0.1111111111111111,\"#46039f\"],[0.2222222222222222,\"#7201a8\"],[0.3333333333333333,\"#9c179e\"],[0.4444444444444444,\"#bd3786\"],[0.5555555555555556,\"#d8576b\"],[0.6666666666666666,\"#ed7953\"],[0.7777777777777778,\"#fb9f3a\"],[0.8888888888888888,\"#fdca26\"],[1.0,\"#f0f921\"]]}],\"contourcarpet\":[{\"type\":\"contourcarpet\",\"colorbar\":{\"outlinewidth\":0,\"ticks\":\"\"}}],\"contour\":[{\"type\":\"contour\",\"colorbar\":{\"outlinewidth\":0,\"ticks\":\"\"},\"colorscale\":[[0.0,\"#0d0887\"],[0.1111111111111111,\"#46039f\"],[0.2222222222222222,\"#7201a8\"],[0.3333333333333333,\"#9c179e\"],[0.4444444444444444,\"#bd3786\"],[0.5555555555555556,\"#d8576b\"],[0.6666666666666666,\"#ed7953\"],[0.7777777777777778,\"#fb9f3a\"],[0.8888888888888888,\"#fdca26\"],[1.0,\"#f0f921\"]]}],\"surface\":[{\"type\":\"surface\",\"colorbar\":{\"outlinewidth\":0,\"ticks\":\"\"},\"colorscale\":[[0.0,\"#0d0887\"],[0.1111111111111111,\"#46039f\"],[0.2222222222222222,\"#7201a8\"],[0.3333333333333333,\"#9c179e\"],[0.4444444444444444,\"#bd3786\"],[0.5555555555555556,\"#d8576b\"],[0.6666666666666666,\"#ed7953\"],[0.7777777777777778,\"#fb9f3a\"],[0.8888888888888888,\"#fdca26\"],[1.0,\"#f0f921\"]]}],\"mesh3d\":[{\"type\":\"mesh3d\",\"colorbar\":{\"outlinewidth\":0,\"ticks\":\"\"}}],\"scatter\":[{\"fillpattern\":{\"fillmode\":\"overlay\",\"size\":10,\"solidity\":0.2},\"type\":\"scatter\"}],\"parcoords\":[{\"type\":\"parcoords\",\"line\":{\"colorbar\":{\"outlinewidth\":0,\"ticks\":\"\"}}}],\"scatterpolargl\":[{\"type\":\"scatterpolargl\",\"marker\":{\"colorbar\":{\"outlinewidth\":0,\"ticks\":\"\"}}}],\"bar\":[{\"error_x\":{\"color\":\"#2a3f5f\"},\"error_y\":{\"color\":\"#2a3f5f\"},\"marker\":{\"line\":{\"color\":\"#E5ECF6\",\"width\":0.5},\"pattern\":{\"fillmode\":\"overlay\",\"size\":10,\"solidity\":0.2}},\"type\":\"bar\"}],\"scattergeo\":[{\"type\":\"scattergeo\",\"marker\":{\"colorbar\":{\"outlinewidth\":0,\"ticks\":\"\"}}}],\"scatterpolar\":[{\"type\":\"scatterpolar\",\"marker\":{\"colorbar\":{\"outlinewidth\":0,\"ticks\":\"\"}}}],\"histogram\":[{\"marker\":{\"pattern\":{\"fillmode\":\"overlay\",\"size\":10,\"solidity\":0.2}},\"type\":\"histogram\"}],\"scattergl\":[{\"type\":\"scattergl\",\"marker\":{\"colorbar\":{\"outlinewidth\":0,\"ticks\":\"\"}}}],\"scatter3d\":[{\"type\":\"scatter3d\",\"line\":{\"colorbar\":{\"outlinewidth\":0,\"ticks\":\"\"}},\"marker\":{\"colorbar\":{\"outlinewidth\":0,\"ticks\":\"\"}}}],\"scattermapbox\":[{\"type\":\"scattermapbox\",\"marker\":{\"colorbar\":{\"outlinewidth\":0,\"ticks\":\"\"}}}],\"scatterternary\":[{\"type\":\"scatterternary\",\"marker\":{\"colorbar\":{\"outlinewidth\":0,\"ticks\":\"\"}}}],\"scattercarpet\":[{\"type\":\"scattercarpet\",\"marker\":{\"colorbar\":{\"outlinewidth\":0,\"ticks\":\"\"}}}],\"carpet\":[{\"aaxis\":{\"endlinecolor\":\"#2a3f5f\",\"gridcolor\":\"white\",\"linecolor\":\"white\",\"minorgridcolor\":\"white\",\"startlinecolor\":\"#2a3f5f\"},\"baxis\":{\"endlinecolor\":\"#2a3f5f\",\"gridcolor\":\"white\",\"linecolor\":\"white\",\"minorgridcolor\":\"white\",\"startlinecolor\":\"#2a3f5f\"},\"type\":\"carpet\"}],\"table\":[{\"cells\":{\"fill\":{\"color\":\"#EBF0F8\"},\"line\":{\"color\":\"white\"}},\"header\":{\"fill\":{\"color\":\"#C8D4E3\"},\"line\":{\"color\":\"white\"}},\"type\":\"table\"}],\"barpolar\":[{\"marker\":{\"line\":{\"color\":\"#E5ECF6\",\"width\":0.5},\"pattern\":{\"fillmode\":\"overlay\",\"size\":10,\"solidity\":0.2}},\"type\":\"barpolar\"}],\"pie\":[{\"automargin\":true,\"type\":\"pie\"}]},\"layout\":{\"autotypenumbers\":\"strict\",\"colorway\":[\"#636efa\",\"#EF553B\",\"#00cc96\",\"#ab63fa\",\"#FFA15A\",\"#19d3f3\",\"#FF6692\",\"#B6E880\",\"#FF97FF\",\"#FECB52\"],\"font\":{\"color\":\"#2a3f5f\"},\"hovermode\":\"closest\",\"hoverlabel\":{\"align\":\"left\"},\"paper_bgcolor\":\"white\",\"plot_bgcolor\":\"#E5ECF6\",\"polar\":{\"bgcolor\":\"#E5ECF6\",\"angularaxis\":{\"gridcolor\":\"white\",\"linecolor\":\"white\",\"ticks\":\"\"},\"radialaxis\":{\"gridcolor\":\"white\",\"linecolor\":\"white\",\"ticks\":\"\"}},\"ternary\":{\"bgcolor\":\"#E5ECF6\",\"aaxis\":{\"gridcolor\":\"white\",\"linecolor\":\"white\",\"ticks\":\"\"},\"baxis\":{\"gridcolor\":\"white\",\"linecolor\":\"white\",\"ticks\":\"\"},\"caxis\":{\"gridcolor\":\"white\",\"linecolor\":\"white\",\"ticks\":\"\"}},\"coloraxis\":{\"colorbar\":{\"outlinewidth\":0,\"ticks\":\"\"}},\"colorscale\":{\"sequential\":[[0.0,\"#0d0887\"],[0.1111111111111111,\"#46039f\"],[0.2222222222222222,\"#7201a8\"],[0.3333333333333333,\"#9c179e\"],[0.4444444444444444,\"#bd3786\"],[0.5555555555555556,\"#d8576b\"],[0.6666666666666666,\"#ed7953\"],[0.7777777777777778,\"#fb9f3a\"],[0.8888888888888888,\"#fdca26\"],[1.0,\"#f0f921\"]],\"sequentialminus\":[[0.0,\"#0d0887\"],[0.1111111111111111,\"#46039f\"],[0.2222222222222222,\"#7201a8\"],[0.3333333333333333,\"#9c179e\"],[0.4444444444444444,\"#bd3786\"],[0.5555555555555556,\"#d8576b\"],[0.6666666666666666,\"#ed7953\"],[0.7777777777777778,\"#fb9f3a\"],[0.8888888888888888,\"#fdca26\"],[1.0,\"#f0f921\"]],\"diverging\":[[0,\"#8e0152\"],[0.1,\"#c51b7d\"],[0.2,\"#de77ae\"],[0.3,\"#f1b6da\"],[0.4,\"#fde0ef\"],[0.5,\"#f7f7f7\"],[0.6,\"#e6f5d0\"],[0.7,\"#b8e186\"],[0.8,\"#7fbc41\"],[0.9,\"#4d9221\"],[1,\"#276419\"]]},\"xaxis\":{\"gridcolor\":\"white\",\"linecolor\":\"white\",\"ticks\":\"\",\"title\":{\"standoff\":15},\"zerolinecolor\":\"white\",\"automargin\":true,\"zerolinewidth\":2},\"yaxis\":{\"gridcolor\":\"white\",\"linecolor\":\"white\",\"ticks\":\"\",\"title\":{\"standoff\":15},\"zerolinecolor\":\"white\",\"automargin\":true,\"zerolinewidth\":2},\"scene\":{\"xaxis\":{\"backgroundcolor\":\"#E5ECF6\",\"gridcolor\":\"white\",\"linecolor\":\"white\",\"showbackground\":true,\"ticks\":\"\",\"zerolinecolor\":\"white\",\"gridwidth\":2},\"yaxis\":{\"backgroundcolor\":\"#E5ECF6\",\"gridcolor\":\"white\",\"linecolor\":\"white\",\"showbackground\":true,\"ticks\":\"\",\"zerolinecolor\":\"white\",\"gridwidth\":2},\"zaxis\":{\"backgroundcolor\":\"#E5ECF6\",\"gridcolor\":\"white\",\"linecolor\":\"white\",\"showbackground\":true,\"ticks\":\"\",\"zerolinecolor\":\"white\",\"gridwidth\":2}},\"shapedefaults\":{\"line\":{\"color\":\"#2a3f5f\"}},\"annotationdefaults\":{\"arrowcolor\":\"#2a3f5f\",\"arrowhead\":0,\"arrowwidth\":1},\"geo\":{\"bgcolor\":\"white\",\"landcolor\":\"#E5ECF6\",\"subunitcolor\":\"white\",\"showland\":true,\"showlakes\":true,\"lakecolor\":\"white\"},\"title\":{\"x\":0.05},\"mapbox\":{\"style\":\"light\"}}},\"scene\":{\"domain\":{\"x\":[0.0,1.0],\"y\":[0.0,1.0]},\"xaxis\":{\"title\":{\"text\":\"area\"}},\"yaxis\":{\"title\":{\"text\":\"rooms\"}},\"zaxis\":{\"title\":{\"text\":\"price\"}}},\"legend\":{\"tracegroupgap\":0},\"margin\":{\"t\":60}},                        {\"responsive\": true}                    ).then(function(){\n",
              "                            \n",
              "var gd = document.getElementById('ad56417e-735d-4503-9825-bccbfcece0d7');\n",
              "var x = new MutationObserver(function (mutations, observer) {{\n",
              "        var display = window.getComputedStyle(gd).display;\n",
              "        if (!display || display === 'none') {{\n",
              "            console.log([gd, 'removed!']);\n",
              "            Plotly.purge(gd);\n",
              "            observer.disconnect();\n",
              "        }}\n",
              "}});\n",
              "\n",
              "// Listen for the removal of the full notebook cells\n",
              "var notebookContainer = gd.closest('#notebook-container');\n",
              "if (notebookContainer) {{\n",
              "    x.observe(notebookContainer, {childList: true});\n",
              "}}\n",
              "\n",
              "// Listen for the clearing of the current output cell\n",
              "var outputEl = gd.closest('.output');\n",
              "if (outputEl) {{\n",
              "    x.observe(outputEl, {childList: true});\n",
              "}}\n",
              "\n",
              "                        })                };                            </script>        </div>\n",
              "</body>\n",
              "</html>"
            ]
          },
          "metadata": {}
        }
      ]
    },
    {
      "cell_type": "code",
      "source": [
        "X = df[['area', 'rooms']]\n",
        "y = df[['price']]"
      ],
      "metadata": {
        "id": "rpV01Pic5s36"
      },
      "execution_count": null,
      "outputs": []
    },
    {
      "cell_type": "code",
      "source": [
        "from sklearn.preprocessing import StandardScaler"
      ],
      "metadata": {
        "id": "mMplahCpFYsA"
      },
      "execution_count": null,
      "outputs": []
    },
    {
      "cell_type": "code",
      "source": [
        "sc = StandardScaler()\n",
        "sc.fit(X)"
      ],
      "metadata": {
        "colab": {
          "base_uri": "https://localhost:8080/",
          "height": 74
        },
        "id": "weXRdIRHFe21",
        "outputId": "f9da22c7-84f2-499c-cf07-2b87e537d64a"
      },
      "execution_count": null,
      "outputs": [
        {
          "output_type": "execute_result",
          "data": {
            "text/plain": [
              "StandardScaler()"
            ],
            "text/html": [
              "<style>#sk-container-id-1 {color: black;background-color: white;}#sk-container-id-1 pre{padding: 0;}#sk-container-id-1 div.sk-toggleable {background-color: white;}#sk-container-id-1 label.sk-toggleable__label {cursor: pointer;display: block;width: 100%;margin-bottom: 0;padding: 0.3em;box-sizing: border-box;text-align: center;}#sk-container-id-1 label.sk-toggleable__label-arrow:before {content: \"▸\";float: left;margin-right: 0.25em;color: #696969;}#sk-container-id-1 label.sk-toggleable__label-arrow:hover:before {color: black;}#sk-container-id-1 div.sk-estimator:hover label.sk-toggleable__label-arrow:before {color: black;}#sk-container-id-1 div.sk-toggleable__content {max-height: 0;max-width: 0;overflow: hidden;text-align: left;background-color: #f0f8ff;}#sk-container-id-1 div.sk-toggleable__content pre {margin: 0.2em;color: black;border-radius: 0.25em;background-color: #f0f8ff;}#sk-container-id-1 input.sk-toggleable__control:checked~div.sk-toggleable__content {max-height: 200px;max-width: 100%;overflow: auto;}#sk-container-id-1 input.sk-toggleable__control:checked~label.sk-toggleable__label-arrow:before {content: \"▾\";}#sk-container-id-1 div.sk-estimator input.sk-toggleable__control:checked~label.sk-toggleable__label {background-color: #d4ebff;}#sk-container-id-1 div.sk-label input.sk-toggleable__control:checked~label.sk-toggleable__label {background-color: #d4ebff;}#sk-container-id-1 input.sk-hidden--visually {border: 0;clip: rect(1px 1px 1px 1px);clip: rect(1px, 1px, 1px, 1px);height: 1px;margin: -1px;overflow: hidden;padding: 0;position: absolute;width: 1px;}#sk-container-id-1 div.sk-estimator {font-family: monospace;background-color: #f0f8ff;border: 1px dotted black;border-radius: 0.25em;box-sizing: border-box;margin-bottom: 0.5em;}#sk-container-id-1 div.sk-estimator:hover {background-color: #d4ebff;}#sk-container-id-1 div.sk-parallel-item::after {content: \"\";width: 100%;border-bottom: 1px solid gray;flex-grow: 1;}#sk-container-id-1 div.sk-label:hover label.sk-toggleable__label {background-color: #d4ebff;}#sk-container-id-1 div.sk-serial::before {content: \"\";position: absolute;border-left: 1px solid gray;box-sizing: border-box;top: 0;bottom: 0;left: 50%;z-index: 0;}#sk-container-id-1 div.sk-serial {display: flex;flex-direction: column;align-items: center;background-color: white;padding-right: 0.2em;padding-left: 0.2em;position: relative;}#sk-container-id-1 div.sk-item {position: relative;z-index: 1;}#sk-container-id-1 div.sk-parallel {display: flex;align-items: stretch;justify-content: center;background-color: white;position: relative;}#sk-container-id-1 div.sk-item::before, #sk-container-id-1 div.sk-parallel-item::before {content: \"\";position: absolute;border-left: 1px solid gray;box-sizing: border-box;top: 0;bottom: 0;left: 50%;z-index: -1;}#sk-container-id-1 div.sk-parallel-item {display: flex;flex-direction: column;z-index: 1;position: relative;background-color: white;}#sk-container-id-1 div.sk-parallel-item:first-child::after {align-self: flex-end;width: 50%;}#sk-container-id-1 div.sk-parallel-item:last-child::after {align-self: flex-start;width: 50%;}#sk-container-id-1 div.sk-parallel-item:only-child::after {width: 0;}#sk-container-id-1 div.sk-dashed-wrapped {border: 1px dashed gray;margin: 0 0.4em 0.5em 0.4em;box-sizing: border-box;padding-bottom: 0.4em;background-color: white;}#sk-container-id-1 div.sk-label label {font-family: monospace;font-weight: bold;display: inline-block;line-height: 1.2em;}#sk-container-id-1 div.sk-label-container {text-align: center;}#sk-container-id-1 div.sk-container {/* jupyter's `normalize.less` sets `[hidden] { display: none; }` but bootstrap.min.css set `[hidden] { display: none !important; }` so we also need the `!important` here to be able to override the default hidden behavior on the sphinx rendered scikit-learn.org. See: https://github.com/scikit-learn/scikit-learn/issues/21755 */display: inline-block !important;position: relative;}#sk-container-id-1 div.sk-text-repr-fallback {display: none;}</style><div id=\"sk-container-id-1\" class=\"sk-top-container\"><div class=\"sk-text-repr-fallback\"><pre>StandardScaler()</pre><b>In a Jupyter environment, please rerun this cell to show the HTML representation or trust the notebook. <br />On GitHub, the HTML representation is unable to render, please try loading this page with nbviewer.org.</b></div><div class=\"sk-container\" hidden><div class=\"sk-item\"><div class=\"sk-estimator sk-toggleable\"><input class=\"sk-toggleable__control sk-hidden--visually\" id=\"sk-estimator-id-1\" type=\"checkbox\" checked><label for=\"sk-estimator-id-1\" class=\"sk-toggleable__label sk-toggleable__label-arrow\">StandardScaler</label><div class=\"sk-toggleable__content\"><pre>StandardScaler()</pre></div></div></div></div></div>"
            ]
          },
          "metadata": {},
          "execution_count": 10
        }
      ]
    },
    {
      "cell_type": "code",
      "source": [
        "sc.mean_"
      ],
      "metadata": {
        "colab": {
          "base_uri": "https://localhost:8080/"
        },
        "id": "3YeGJ5J9GKZY",
        "outputId": "c20176ea-1ba3-4931-c9d8-0750a14e50ac"
      },
      "execution_count": null,
      "outputs": [
        {
          "output_type": "execute_result",
          "data": {
            "text/plain": [
              "array([58.31809701,  2.54892206])"
            ]
          },
          "metadata": {},
          "execution_count": 11
        }
      ]
    },
    {
      "cell_type": "code",
      "source": [
        "sc.var_"
      ],
      "metadata": {
        "colab": {
          "base_uri": "https://localhost:8080/"
        },
        "id": "AXvKlsRPGLpy",
        "outputId": "96d07ab1-74d8-4126-f6c5-15b626283789"
      },
      "execution_count": null,
      "outputs": [
        {
          "output_type": "execute_result",
          "data": {
            "text/plain": [
              "array([492.92759551,   0.842134  ])"
            ]
          },
          "metadata": {},
          "execution_count": 12
        }
      ]
    },
    {
      "cell_type": "code",
      "source": [
        "X_std = sc.transform(X)"
      ],
      "metadata": {
        "id": "vJtqmUP2GRV8"
      },
      "execution_count": null,
      "outputs": []
    },
    {
      "cell_type": "code",
      "source": [
        "X.values.mean(axis=0)"
      ],
      "metadata": {
        "colab": {
          "base_uri": "https://localhost:8080/"
        },
        "id": "Lp6bYGqpGuJo",
        "outputId": "8093f6c7-695d-4032-f08f-392171ebcd4d"
      },
      "execution_count": null,
      "outputs": [
        {
          "output_type": "execute_result",
          "data": {
            "text/plain": [
              "array([58.31809701,  2.54892206])"
            ]
          },
          "metadata": {},
          "execution_count": 16
        }
      ]
    },
    {
      "cell_type": "code",
      "source": [
        "X_std.mean(axis=0)\n",
        "X_std.std(axis=0)"
      ],
      "metadata": {
        "colab": {
          "base_uri": "https://localhost:8080/"
        },
        "id": "C5FrRmRnGxtn",
        "outputId": "08a1e7fb-f9f1-46fc-a5c9-b6685e051625"
      },
      "execution_count": null,
      "outputs": [
        {
          "output_type": "execute_result",
          "data": {
            "text/plain": [
              "array([1., 1.])"
            ]
          },
          "metadata": {},
          "execution_count": 18
        }
      ]
    },
    {
      "cell_type": "code",
      "source": [
        "sc = StandardScaler()\n",
        "X_std = sc.fit_transform(X)"
      ],
      "metadata": {
        "id": "Linsw1VeHOcZ"
      },
      "execution_count": null,
      "outputs": []
    },
    {
      "cell_type": "code",
      "source": [
        "from sklearn.linear_model import LinearRegression"
      ],
      "metadata": {
        "id": "pIS5sO50HdYm"
      },
      "execution_count": null,
      "outputs": []
    },
    {
      "cell_type": "code",
      "source": [
        "lr = LinearRegression()\n",
        "lr.fit(X_std, y)"
      ],
      "metadata": {
        "colab": {
          "base_uri": "https://localhost:8080/",
          "height": 74
        },
        "id": "TjhKGLYTHkW8",
        "outputId": "6c0fa4bd-d26f-4138-e034-54151bcc903e"
      },
      "execution_count": null,
      "outputs": [
        {
          "output_type": "execute_result",
          "data": {
            "text/plain": [
              "LinearRegression()"
            ],
            "text/html": [
              "<style>#sk-container-id-2 {color: black;background-color: white;}#sk-container-id-2 pre{padding: 0;}#sk-container-id-2 div.sk-toggleable {background-color: white;}#sk-container-id-2 label.sk-toggleable__label {cursor: pointer;display: block;width: 100%;margin-bottom: 0;padding: 0.3em;box-sizing: border-box;text-align: center;}#sk-container-id-2 label.sk-toggleable__label-arrow:before {content: \"▸\";float: left;margin-right: 0.25em;color: #696969;}#sk-container-id-2 label.sk-toggleable__label-arrow:hover:before {color: black;}#sk-container-id-2 div.sk-estimator:hover label.sk-toggleable__label-arrow:before {color: black;}#sk-container-id-2 div.sk-toggleable__content {max-height: 0;max-width: 0;overflow: hidden;text-align: left;background-color: #f0f8ff;}#sk-container-id-2 div.sk-toggleable__content pre {margin: 0.2em;color: black;border-radius: 0.25em;background-color: #f0f8ff;}#sk-container-id-2 input.sk-toggleable__control:checked~div.sk-toggleable__content {max-height: 200px;max-width: 100%;overflow: auto;}#sk-container-id-2 input.sk-toggleable__control:checked~label.sk-toggleable__label-arrow:before {content: \"▾\";}#sk-container-id-2 div.sk-estimator input.sk-toggleable__control:checked~label.sk-toggleable__label {background-color: #d4ebff;}#sk-container-id-2 div.sk-label input.sk-toggleable__control:checked~label.sk-toggleable__label {background-color: #d4ebff;}#sk-container-id-2 input.sk-hidden--visually {border: 0;clip: rect(1px 1px 1px 1px);clip: rect(1px, 1px, 1px, 1px);height: 1px;margin: -1px;overflow: hidden;padding: 0;position: absolute;width: 1px;}#sk-container-id-2 div.sk-estimator {font-family: monospace;background-color: #f0f8ff;border: 1px dotted black;border-radius: 0.25em;box-sizing: border-box;margin-bottom: 0.5em;}#sk-container-id-2 div.sk-estimator:hover {background-color: #d4ebff;}#sk-container-id-2 div.sk-parallel-item::after {content: \"\";width: 100%;border-bottom: 1px solid gray;flex-grow: 1;}#sk-container-id-2 div.sk-label:hover label.sk-toggleable__label {background-color: #d4ebff;}#sk-container-id-2 div.sk-serial::before {content: \"\";position: absolute;border-left: 1px solid gray;box-sizing: border-box;top: 0;bottom: 0;left: 50%;z-index: 0;}#sk-container-id-2 div.sk-serial {display: flex;flex-direction: column;align-items: center;background-color: white;padding-right: 0.2em;padding-left: 0.2em;position: relative;}#sk-container-id-2 div.sk-item {position: relative;z-index: 1;}#sk-container-id-2 div.sk-parallel {display: flex;align-items: stretch;justify-content: center;background-color: white;position: relative;}#sk-container-id-2 div.sk-item::before, #sk-container-id-2 div.sk-parallel-item::before {content: \"\";position: absolute;border-left: 1px solid gray;box-sizing: border-box;top: 0;bottom: 0;left: 50%;z-index: -1;}#sk-container-id-2 div.sk-parallel-item {display: flex;flex-direction: column;z-index: 1;position: relative;background-color: white;}#sk-container-id-2 div.sk-parallel-item:first-child::after {align-self: flex-end;width: 50%;}#sk-container-id-2 div.sk-parallel-item:last-child::after {align-self: flex-start;width: 50%;}#sk-container-id-2 div.sk-parallel-item:only-child::after {width: 0;}#sk-container-id-2 div.sk-dashed-wrapped {border: 1px dashed gray;margin: 0 0.4em 0.5em 0.4em;box-sizing: border-box;padding-bottom: 0.4em;background-color: white;}#sk-container-id-2 div.sk-label label {font-family: monospace;font-weight: bold;display: inline-block;line-height: 1.2em;}#sk-container-id-2 div.sk-label-container {text-align: center;}#sk-container-id-2 div.sk-container {/* jupyter's `normalize.less` sets `[hidden] { display: none; }` but bootstrap.min.css set `[hidden] { display: none !important; }` so we also need the `!important` here to be able to override the default hidden behavior on the sphinx rendered scikit-learn.org. See: https://github.com/scikit-learn/scikit-learn/issues/21755 */display: inline-block !important;position: relative;}#sk-container-id-2 div.sk-text-repr-fallback {display: none;}</style><div id=\"sk-container-id-2\" class=\"sk-top-container\"><div class=\"sk-text-repr-fallback\"><pre>LinearRegression()</pre><b>In a Jupyter environment, please rerun this cell to show the HTML representation or trust the notebook. <br />On GitHub, the HTML representation is unable to render, please try loading this page with nbviewer.org.</b></div><div class=\"sk-container\" hidden><div class=\"sk-item\"><div class=\"sk-estimator sk-toggleable\"><input class=\"sk-toggleable__control sk-hidden--visually\" id=\"sk-estimator-id-2\" type=\"checkbox\" checked><label for=\"sk-estimator-id-2\" class=\"sk-toggleable__label sk-toggleable__label-arrow\">LinearRegression</label><div class=\"sk-toggleable__content\"><pre>LinearRegression()</pre></div></div></div></div></div>"
            ]
          },
          "metadata": {},
          "execution_count": 21
        }
      ]
    },
    {
      "cell_type": "code",
      "source": [
        "lr.coef_"
      ],
      "metadata": {
        "colab": {
          "base_uri": "https://localhost:8080/"
        },
        "id": "apwjd2gTHwVa",
        "outputId": "ec25b53a-6f04-4208-8fe5-a33e668a1e35"
      },
      "execution_count": null,
      "outputs": [
        {
          "output_type": "execute_result",
          "data": {
            "text/plain": [
              "array([[137490.20014858,   5569.94571298]])"
            ]
          },
          "metadata": {},
          "execution_count": 22
        }
      ]
    },
    {
      "cell_type": "code",
      "source": [
        "sample = X.sample()"
      ],
      "metadata": {
        "id": "TEJOMG9EHybD"
      },
      "execution_count": null,
      "outputs": []
    },
    {
      "cell_type": "code",
      "source": [
        "sample"
      ],
      "metadata": {
        "colab": {
          "base_uri": "https://localhost:8080/",
          "height": 81
        },
        "id": "gCEcGXjlIMLC",
        "outputId": "48bd9b71-78cf-4f86-e3f2-ca02bfc2340d"
      },
      "execution_count": null,
      "outputs": [
        {
          "output_type": "execute_result",
          "data": {
            "text/plain": [
              "     area  rooms\n",
              "683  62.9    3.0"
            ],
            "text/html": [
              "\n",
              "  <div id=\"df-b547e040-8b5c-4538-93b0-53645e81eca6\" class=\"colab-df-container\">\n",
              "    <div>\n",
              "<style scoped>\n",
              "    .dataframe tbody tr th:only-of-type {\n",
              "        vertical-align: middle;\n",
              "    }\n",
              "\n",
              "    .dataframe tbody tr th {\n",
              "        vertical-align: top;\n",
              "    }\n",
              "\n",
              "    .dataframe thead th {\n",
              "        text-align: right;\n",
              "    }\n",
              "</style>\n",
              "<table border=\"1\" class=\"dataframe\">\n",
              "  <thead>\n",
              "    <tr style=\"text-align: right;\">\n",
              "      <th></th>\n",
              "      <th>area</th>\n",
              "      <th>rooms</th>\n",
              "    </tr>\n",
              "  </thead>\n",
              "  <tbody>\n",
              "    <tr>\n",
              "      <th>683</th>\n",
              "      <td>62.9</td>\n",
              "      <td>3.0</td>\n",
              "    </tr>\n",
              "  </tbody>\n",
              "</table>\n",
              "</div>\n",
              "    <div class=\"colab-df-buttons\">\n",
              "\n",
              "  <div class=\"colab-df-container\">\n",
              "    <button class=\"colab-df-convert\" onclick=\"convertToInteractive('df-b547e040-8b5c-4538-93b0-53645e81eca6')\"\n",
              "            title=\"Convert this dataframe to an interactive table.\"\n",
              "            style=\"display:none;\">\n",
              "\n",
              "  <svg xmlns=\"http://www.w3.org/2000/svg\" height=\"24px\" viewBox=\"0 -960 960 960\">\n",
              "    <path d=\"M120-120v-720h720v720H120Zm60-500h600v-160H180v160Zm220 220h160v-160H400v160Zm0 220h160v-160H400v160ZM180-400h160v-160H180v160Zm440 0h160v-160H620v160ZM180-180h160v-160H180v160Zm440 0h160v-160H620v160Z\"/>\n",
              "  </svg>\n",
              "    </button>\n",
              "\n",
              "  <style>\n",
              "    .colab-df-container {\n",
              "      display:flex;\n",
              "      gap: 12px;\n",
              "    }\n",
              "\n",
              "    .colab-df-convert {\n",
              "      background-color: #E8F0FE;\n",
              "      border: none;\n",
              "      border-radius: 50%;\n",
              "      cursor: pointer;\n",
              "      display: none;\n",
              "      fill: #1967D2;\n",
              "      height: 32px;\n",
              "      padding: 0 0 0 0;\n",
              "      width: 32px;\n",
              "    }\n",
              "\n",
              "    .colab-df-convert:hover {\n",
              "      background-color: #E2EBFA;\n",
              "      box-shadow: 0px 1px 2px rgba(60, 64, 67, 0.3), 0px 1px 3px 1px rgba(60, 64, 67, 0.15);\n",
              "      fill: #174EA6;\n",
              "    }\n",
              "\n",
              "    .colab-df-buttons div {\n",
              "      margin-bottom: 4px;\n",
              "    }\n",
              "\n",
              "    [theme=dark] .colab-df-convert {\n",
              "      background-color: #3B4455;\n",
              "      fill: #D2E3FC;\n",
              "    }\n",
              "\n",
              "    [theme=dark] .colab-df-convert:hover {\n",
              "      background-color: #434B5C;\n",
              "      box-shadow: 0px 1px 3px 1px rgba(0, 0, 0, 0.15);\n",
              "      filter: drop-shadow(0px 1px 2px rgba(0, 0, 0, 0.3));\n",
              "      fill: #FFFFFF;\n",
              "    }\n",
              "  </style>\n",
              "\n",
              "    <script>\n",
              "      const buttonEl =\n",
              "        document.querySelector('#df-b547e040-8b5c-4538-93b0-53645e81eca6 button.colab-df-convert');\n",
              "      buttonEl.style.display =\n",
              "        google.colab.kernel.accessAllowed ? 'block' : 'none';\n",
              "\n",
              "      async function convertToInteractive(key) {\n",
              "        const element = document.querySelector('#df-b547e040-8b5c-4538-93b0-53645e81eca6');\n",
              "        const dataTable =\n",
              "          await google.colab.kernel.invokeFunction('convertToInteractive',\n",
              "                                                    [key], {});\n",
              "        if (!dataTable) return;\n",
              "\n",
              "        const docLinkHtml = 'Like what you see? Visit the ' +\n",
              "          '<a target=\"_blank\" href=https://colab.research.google.com/notebooks/data_table.ipynb>data table notebook</a>'\n",
              "          + ' to learn more about interactive tables.';\n",
              "        element.innerHTML = '';\n",
              "        dataTable['output_type'] = 'display_data';\n",
              "        await google.colab.output.renderOutput(dataTable, element);\n",
              "        const docLink = document.createElement('div');\n",
              "        docLink.innerHTML = docLinkHtml;\n",
              "        element.appendChild(docLink);\n",
              "      }\n",
              "    </script>\n",
              "  </div>\n",
              "\n",
              "    </div>\n",
              "  </div>\n"
            ]
          },
          "metadata": {},
          "execution_count": 26
        }
      ]
    },
    {
      "cell_type": "code",
      "source": [
        "sample_std = sc.transform(sample)"
      ],
      "metadata": {
        "id": "O2wE9_4PIxW1"
      },
      "execution_count": null,
      "outputs": []
    },
    {
      "cell_type": "code",
      "source": [
        "lr.predict(sample_std)"
      ],
      "metadata": {
        "colab": {
          "base_uri": "https://localhost:8080/"
        },
        "id": "1Vqcx7DuIT63",
        "outputId": "a3bb2955-868c-4f65-fa2b-4e90a43c5d3f"
      },
      "execution_count": null,
      "outputs": [
        {
          "output_type": "execute_result",
          "data": {
            "text/plain": [
              "array([[570733.78419008]])"
            ]
          },
          "metadata": {},
          "execution_count": 29
        }
      ]
    },
    {
      "cell_type": "code",
      "source": [
        "lr.score(X_std, y)"
      ],
      "metadata": {
        "colab": {
          "base_uri": "https://localhost:8080/"
        },
        "id": "TIMh-1K-IYZZ",
        "outputId": "07d24d71-4b65-49bd-f763-a71ab44a5e76"
      },
      "execution_count": null,
      "outputs": [
        {
          "output_type": "execute_result",
          "data": {
            "text/plain": [
              "0.5350611688821982"
            ]
          },
          "metadata": {},
          "execution_count": 30
        }
      ]
    },
    {
      "cell_type": "code",
      "source": [
        "df['location'].str.strip().value_counts()"
      ],
      "metadata": {
        "id": "fP59Hl2dLer-"
      },
      "execution_count": null,
      "outputs": []
    },
    {
      "cell_type": "code",
      "source": [
        "df['location'] = df['location'].str.strip()"
      ],
      "metadata": {
        "id": "sui0l7OELiMG"
      },
      "execution_count": null,
      "outputs": []
    },
    {
      "cell_type": "code",
      "source": [
        "df['location'].value_counts()"
      ],
      "metadata": {
        "colab": {
          "base_uri": "https://localhost:8080/"
        },
        "id": "Jpg5KhzZLxWS",
        "outputId": "b1f9c8b6-d5e5-4290-fb66-32c7398b4833"
      },
      "execution_count": null,
      "outputs": [
        {
          "output_type": "execute_result",
          "data": {
            "text/plain": [
              "Koszutka                           698\n",
              "Śródmieście                        411\n",
              "Wełnowiec-Józefowiec               322\n",
              "Osiedle Paderewskiego-Muchowiec    157\n",
              "Ligota-Panewniki                   120\n",
              "Dąb                                104\n",
              "Piotrowice-Ochojec                  97\n",
              "Kostuchna                           71\n",
              "Brynów-Osiedle Zgrzebnioka          58\n",
              "Załęska Hałda-Brynów                53\n",
              "Osiedle Tysiąclecia                 49\n",
              "Szopienice-Burowiec                 42\n",
              "Załęże                              37\n",
              "Giszowiec                           32\n",
              "Bogucice                            32\n",
              "Janów-Nikiszowiec                   32\n",
              "Dąbrówka Mała                       30\n",
              "Zawodzie                            26\n",
              "Zarzecze                            10\n",
              "Murcki                               9\n",
              "Osiedle Witosa                       8\n",
              "Podlesie                             5\n",
              "Centrum                              2\n",
              "WPKiW                                2\n",
              "Bytków                               1\n",
              "Chorzów Batory                       1\n",
              "al. Spacerowa                        1\n",
              "ul. Wiosny Ludów                     1\n",
              "Name: location, dtype: int64"
            ]
          },
          "metadata": {},
          "execution_count": 35
        }
      ]
    },
    {
      "cell_type": "markdown",
      "source": [
        "## Regresja ze zmiennymi kategorycznymi"
      ],
      "metadata": {
        "id": "zmJrd_6zNbyZ"
      }
    },
    {
      "cell_type": "code",
      "source": [
        "from sklearn.preprocessing import OneHotEncoder"
      ],
      "metadata": {
        "id": "gKV4pty_Ne9b"
      },
      "execution_count": null,
      "outputs": []
    },
    {
      "cell_type": "code",
      "source": [
        "ohe = OneHotEncoder(min_frequency=0.1,\n",
        "                    handle_unknown='ignore')"
      ],
      "metadata": {
        "id": "EZqj7odcOrkS"
      },
      "execution_count": null,
      "outputs": []
    },
    {
      "cell_type": "code",
      "source": [
        "ohe.fit(df[['location']])"
      ],
      "metadata": {
        "colab": {
          "base_uri": "https://localhost:8080/",
          "height": 74
        },
        "id": "FBA5awCvO3yt",
        "outputId": "a80650c5-d0b9-4fd3-9000-672b02600693"
      },
      "execution_count": null,
      "outputs": [
        {
          "output_type": "execute_result",
          "data": {
            "text/plain": [
              "OneHotEncoder()"
            ],
            "text/html": [
              "<style>#sk-container-id-3 {color: black;background-color: white;}#sk-container-id-3 pre{padding: 0;}#sk-container-id-3 div.sk-toggleable {background-color: white;}#sk-container-id-3 label.sk-toggleable__label {cursor: pointer;display: block;width: 100%;margin-bottom: 0;padding: 0.3em;box-sizing: border-box;text-align: center;}#sk-container-id-3 label.sk-toggleable__label-arrow:before {content: \"▸\";float: left;margin-right: 0.25em;color: #696969;}#sk-container-id-3 label.sk-toggleable__label-arrow:hover:before {color: black;}#sk-container-id-3 div.sk-estimator:hover label.sk-toggleable__label-arrow:before {color: black;}#sk-container-id-3 div.sk-toggleable__content {max-height: 0;max-width: 0;overflow: hidden;text-align: left;background-color: #f0f8ff;}#sk-container-id-3 div.sk-toggleable__content pre {margin: 0.2em;color: black;border-radius: 0.25em;background-color: #f0f8ff;}#sk-container-id-3 input.sk-toggleable__control:checked~div.sk-toggleable__content {max-height: 200px;max-width: 100%;overflow: auto;}#sk-container-id-3 input.sk-toggleable__control:checked~label.sk-toggleable__label-arrow:before {content: \"▾\";}#sk-container-id-3 div.sk-estimator input.sk-toggleable__control:checked~label.sk-toggleable__label {background-color: #d4ebff;}#sk-container-id-3 div.sk-label input.sk-toggleable__control:checked~label.sk-toggleable__label {background-color: #d4ebff;}#sk-container-id-3 input.sk-hidden--visually {border: 0;clip: rect(1px 1px 1px 1px);clip: rect(1px, 1px, 1px, 1px);height: 1px;margin: -1px;overflow: hidden;padding: 0;position: absolute;width: 1px;}#sk-container-id-3 div.sk-estimator {font-family: monospace;background-color: #f0f8ff;border: 1px dotted black;border-radius: 0.25em;box-sizing: border-box;margin-bottom: 0.5em;}#sk-container-id-3 div.sk-estimator:hover {background-color: #d4ebff;}#sk-container-id-3 div.sk-parallel-item::after {content: \"\";width: 100%;border-bottom: 1px solid gray;flex-grow: 1;}#sk-container-id-3 div.sk-label:hover label.sk-toggleable__label {background-color: #d4ebff;}#sk-container-id-3 div.sk-serial::before {content: \"\";position: absolute;border-left: 1px solid gray;box-sizing: border-box;top: 0;bottom: 0;left: 50%;z-index: 0;}#sk-container-id-3 div.sk-serial {display: flex;flex-direction: column;align-items: center;background-color: white;padding-right: 0.2em;padding-left: 0.2em;position: relative;}#sk-container-id-3 div.sk-item {position: relative;z-index: 1;}#sk-container-id-3 div.sk-parallel {display: flex;align-items: stretch;justify-content: center;background-color: white;position: relative;}#sk-container-id-3 div.sk-item::before, #sk-container-id-3 div.sk-parallel-item::before {content: \"\";position: absolute;border-left: 1px solid gray;box-sizing: border-box;top: 0;bottom: 0;left: 50%;z-index: -1;}#sk-container-id-3 div.sk-parallel-item {display: flex;flex-direction: column;z-index: 1;position: relative;background-color: white;}#sk-container-id-3 div.sk-parallel-item:first-child::after {align-self: flex-end;width: 50%;}#sk-container-id-3 div.sk-parallel-item:last-child::after {align-self: flex-start;width: 50%;}#sk-container-id-3 div.sk-parallel-item:only-child::after {width: 0;}#sk-container-id-3 div.sk-dashed-wrapped {border: 1px dashed gray;margin: 0 0.4em 0.5em 0.4em;box-sizing: border-box;padding-bottom: 0.4em;background-color: white;}#sk-container-id-3 div.sk-label label {font-family: monospace;font-weight: bold;display: inline-block;line-height: 1.2em;}#sk-container-id-3 div.sk-label-container {text-align: center;}#sk-container-id-3 div.sk-container {/* jupyter's `normalize.less` sets `[hidden] { display: none; }` but bootstrap.min.css set `[hidden] { display: none !important; }` so we also need the `!important` here to be able to override the default hidden behavior on the sphinx rendered scikit-learn.org. See: https://github.com/scikit-learn/scikit-learn/issues/21755 */display: inline-block !important;position: relative;}#sk-container-id-3 div.sk-text-repr-fallback {display: none;}</style><div id=\"sk-container-id-3\" class=\"sk-top-container\"><div class=\"sk-text-repr-fallback\"><pre>OneHotEncoder()</pre><b>In a Jupyter environment, please rerun this cell to show the HTML representation or trust the notebook. <br />On GitHub, the HTML representation is unable to render, please try loading this page with nbviewer.org.</b></div><div class=\"sk-container\" hidden><div class=\"sk-item\"><div class=\"sk-estimator sk-toggleable\"><input class=\"sk-toggleable__control sk-hidden--visually\" id=\"sk-estimator-id-3\" type=\"checkbox\" checked><label for=\"sk-estimator-id-3\" class=\"sk-toggleable__label sk-toggleable__label-arrow\">OneHotEncoder</label><div class=\"sk-toggleable__content\"><pre>OneHotEncoder()</pre></div></div></div></div></div>"
            ]
          },
          "metadata": {},
          "execution_count": 40
        }
      ]
    },
    {
      "cell_type": "code",
      "source": [
        "location_ohe = ohe.transform(df[['location']])"
      ],
      "metadata": {
        "id": "vwDL21PvO5ZD"
      },
      "execution_count": null,
      "outputs": []
    },
    {
      "cell_type": "code",
      "source": [
        "location_ohe = ohe.fit_transform(df[['location']])"
      ],
      "metadata": {
        "id": "AAprrHjNPL2Z"
      },
      "execution_count": null,
      "outputs": []
    },
    {
      "cell_type": "code",
      "source": [
        "location_ohe.toarray()"
      ],
      "metadata": {
        "colab": {
          "base_uri": "https://localhost:8080/"
        },
        "id": "MNXuZzNhPQOK",
        "outputId": "7d459112-3974-4f56-ded1-54f01c3b8cfd"
      },
      "execution_count": null,
      "outputs": [
        {
          "output_type": "execute_result",
          "data": {
            "text/plain": [
              "array([[0., 0., 0., ..., 0., 0., 0.],\n",
              "       [0., 0., 0., ..., 0., 1., 0.],\n",
              "       [0., 0., 0., ..., 0., 1., 0.],\n",
              "       ...,\n",
              "       [0., 0., 0., ..., 0., 0., 0.],\n",
              "       [0., 0., 0., ..., 0., 0., 0.],\n",
              "       [0., 0., 0., ..., 0., 0., 0.]])"
            ]
          },
          "metadata": {},
          "execution_count": 44
        }
      ]
    },
    {
      "cell_type": "code",
      "source": [
        "ohe.get_feature_names_out()"
      ],
      "metadata": {
        "colab": {
          "base_uri": "https://localhost:8080/"
        },
        "id": "-FzbBlGIPzjg",
        "outputId": "ce5bd249-4461-4fa3-dc1f-4d458b1a84a9"
      },
      "execution_count": null,
      "outputs": [
        {
          "output_type": "execute_result",
          "data": {
            "text/plain": [
              "array(['location_Bogucice', 'location_Brynów-Osiedle Zgrzebnioka',\n",
              "       'location_Bytków', 'location_Centrum', 'location_Chorzów Batory',\n",
              "       'location_Dąb', 'location_Dąbrówka Mała', 'location_Giszowiec',\n",
              "       'location_Janów-Nikiszowiec', 'location_Kostuchna',\n",
              "       'location_Koszutka', 'location_Ligota-Panewniki',\n",
              "       'location_Murcki', 'location_Osiedle Paderewskiego-Muchowiec',\n",
              "       'location_Osiedle Tysiąclecia', 'location_Osiedle Witosa',\n",
              "       'location_Piotrowice-Ochojec', 'location_Podlesie',\n",
              "       'location_Szopienice-Burowiec', 'location_WPKiW',\n",
              "       'location_Wełnowiec-Józefowiec', 'location_Zarzecze',\n",
              "       'location_Zawodzie', 'location_Załęska Hałda-Brynów',\n",
              "       'location_Załęże', 'location_al. Spacerowa',\n",
              "       'location_ul. Wiosny Ludów', 'location_Śródmieście',\n",
              "       'location_nan'], dtype=object)"
            ]
          },
          "metadata": {},
          "execution_count": 45
        }
      ]
    },
    {
      "cell_type": "code",
      "source": [
        "pd.DataFrame(location_ohe.toarray(),\n",
        "             columns = ohe.get_feature_names_out())"
      ],
      "metadata": {
        "colab": {
          "base_uri": "https://localhost:8080/",
          "height": 461
        },
        "id": "y9RC1NOjPsCn",
        "outputId": "31d4ffd7-023c-44e0-cec5-913c5d773071"
      },
      "execution_count": null,
      "outputs": [
        {
          "output_type": "execute_result",
          "data": {
            "text/plain": [
              "      location_Koszutka  location_Wełnowiec-Józefowiec  location_Śródmieście  \\\n",
              "0                   0.0                            0.0                   0.0   \n",
              "1                   0.0                            0.0                   1.0   \n",
              "2                   0.0                            0.0                   1.0   \n",
              "3                   0.0                            0.0                   0.0   \n",
              "4                   0.0                            1.0                   0.0   \n",
              "...                 ...                            ...                   ...   \n",
              "2407                0.0                            0.0                   1.0   \n",
              "2408                0.0                            0.0                   0.0   \n",
              "2409                0.0                            1.0                   0.0   \n",
              "2410                0.0                            1.0                   0.0   \n",
              "2411                0.0                            1.0                   0.0   \n",
              "\n",
              "      location_infrequent_sklearn  \n",
              "0                             1.0  \n",
              "1                             0.0  \n",
              "2                             0.0  \n",
              "3                             1.0  \n",
              "4                             0.0  \n",
              "...                           ...  \n",
              "2407                          0.0  \n",
              "2408                          1.0  \n",
              "2409                          0.0  \n",
              "2410                          0.0  \n",
              "2411                          0.0  \n",
              "\n",
              "[2412 rows x 4 columns]"
            ],
            "text/html": [
              "\n",
              "  <div id=\"df-f1e954d9-47c5-4f70-a767-7af52bcde314\" class=\"colab-df-container\">\n",
              "    <div>\n",
              "<style scoped>\n",
              "    .dataframe tbody tr th:only-of-type {\n",
              "        vertical-align: middle;\n",
              "    }\n",
              "\n",
              "    .dataframe tbody tr th {\n",
              "        vertical-align: top;\n",
              "    }\n",
              "\n",
              "    .dataframe thead th {\n",
              "        text-align: right;\n",
              "    }\n",
              "</style>\n",
              "<table border=\"1\" class=\"dataframe\">\n",
              "  <thead>\n",
              "    <tr style=\"text-align: right;\">\n",
              "      <th></th>\n",
              "      <th>location_Koszutka</th>\n",
              "      <th>location_Wełnowiec-Józefowiec</th>\n",
              "      <th>location_Śródmieście</th>\n",
              "      <th>location_infrequent_sklearn</th>\n",
              "    </tr>\n",
              "  </thead>\n",
              "  <tbody>\n",
              "    <tr>\n",
              "      <th>0</th>\n",
              "      <td>0.0</td>\n",
              "      <td>0.0</td>\n",
              "      <td>0.0</td>\n",
              "      <td>1.0</td>\n",
              "    </tr>\n",
              "    <tr>\n",
              "      <th>1</th>\n",
              "      <td>0.0</td>\n",
              "      <td>0.0</td>\n",
              "      <td>1.0</td>\n",
              "      <td>0.0</td>\n",
              "    </tr>\n",
              "    <tr>\n",
              "      <th>2</th>\n",
              "      <td>0.0</td>\n",
              "      <td>0.0</td>\n",
              "      <td>1.0</td>\n",
              "      <td>0.0</td>\n",
              "    </tr>\n",
              "    <tr>\n",
              "      <th>3</th>\n",
              "      <td>0.0</td>\n",
              "      <td>0.0</td>\n",
              "      <td>0.0</td>\n",
              "      <td>1.0</td>\n",
              "    </tr>\n",
              "    <tr>\n",
              "      <th>4</th>\n",
              "      <td>0.0</td>\n",
              "      <td>1.0</td>\n",
              "      <td>0.0</td>\n",
              "      <td>0.0</td>\n",
              "    </tr>\n",
              "    <tr>\n",
              "      <th>...</th>\n",
              "      <td>...</td>\n",
              "      <td>...</td>\n",
              "      <td>...</td>\n",
              "      <td>...</td>\n",
              "    </tr>\n",
              "    <tr>\n",
              "      <th>2407</th>\n",
              "      <td>0.0</td>\n",
              "      <td>0.0</td>\n",
              "      <td>1.0</td>\n",
              "      <td>0.0</td>\n",
              "    </tr>\n",
              "    <tr>\n",
              "      <th>2408</th>\n",
              "      <td>0.0</td>\n",
              "      <td>0.0</td>\n",
              "      <td>0.0</td>\n",
              "      <td>1.0</td>\n",
              "    </tr>\n",
              "    <tr>\n",
              "      <th>2409</th>\n",
              "      <td>0.0</td>\n",
              "      <td>1.0</td>\n",
              "      <td>0.0</td>\n",
              "      <td>0.0</td>\n",
              "    </tr>\n",
              "    <tr>\n",
              "      <th>2410</th>\n",
              "      <td>0.0</td>\n",
              "      <td>1.0</td>\n",
              "      <td>0.0</td>\n",
              "      <td>0.0</td>\n",
              "    </tr>\n",
              "    <tr>\n",
              "      <th>2411</th>\n",
              "      <td>0.0</td>\n",
              "      <td>1.0</td>\n",
              "      <td>0.0</td>\n",
              "      <td>0.0</td>\n",
              "    </tr>\n",
              "  </tbody>\n",
              "</table>\n",
              "<p>2412 rows × 4 columns</p>\n",
              "</div>\n",
              "    <div class=\"colab-df-buttons\">\n",
              "\n",
              "  <div class=\"colab-df-container\">\n",
              "    <button class=\"colab-df-convert\" onclick=\"convertToInteractive('df-f1e954d9-47c5-4f70-a767-7af52bcde314')\"\n",
              "            title=\"Convert this dataframe to an interactive table.\"\n",
              "            style=\"display:none;\">\n",
              "\n",
              "  <svg xmlns=\"http://www.w3.org/2000/svg\" height=\"24px\" viewBox=\"0 -960 960 960\">\n",
              "    <path d=\"M120-120v-720h720v720H120Zm60-500h600v-160H180v160Zm220 220h160v-160H400v160Zm0 220h160v-160H400v160ZM180-400h160v-160H180v160Zm440 0h160v-160H620v160ZM180-180h160v-160H180v160Zm440 0h160v-160H620v160Z\"/>\n",
              "  </svg>\n",
              "    </button>\n",
              "\n",
              "  <style>\n",
              "    .colab-df-container {\n",
              "      display:flex;\n",
              "      gap: 12px;\n",
              "    }\n",
              "\n",
              "    .colab-df-convert {\n",
              "      background-color: #E8F0FE;\n",
              "      border: none;\n",
              "      border-radius: 50%;\n",
              "      cursor: pointer;\n",
              "      display: none;\n",
              "      fill: #1967D2;\n",
              "      height: 32px;\n",
              "      padding: 0 0 0 0;\n",
              "      width: 32px;\n",
              "    }\n",
              "\n",
              "    .colab-df-convert:hover {\n",
              "      background-color: #E2EBFA;\n",
              "      box-shadow: 0px 1px 2px rgba(60, 64, 67, 0.3), 0px 1px 3px 1px rgba(60, 64, 67, 0.15);\n",
              "      fill: #174EA6;\n",
              "    }\n",
              "\n",
              "    .colab-df-buttons div {\n",
              "      margin-bottom: 4px;\n",
              "    }\n",
              "\n",
              "    [theme=dark] .colab-df-convert {\n",
              "      background-color: #3B4455;\n",
              "      fill: #D2E3FC;\n",
              "    }\n",
              "\n",
              "    [theme=dark] .colab-df-convert:hover {\n",
              "      background-color: #434B5C;\n",
              "      box-shadow: 0px 1px 3px 1px rgba(0, 0, 0, 0.15);\n",
              "      filter: drop-shadow(0px 1px 2px rgba(0, 0, 0, 0.3));\n",
              "      fill: #FFFFFF;\n",
              "    }\n",
              "  </style>\n",
              "\n",
              "    <script>\n",
              "      const buttonEl =\n",
              "        document.querySelector('#df-f1e954d9-47c5-4f70-a767-7af52bcde314 button.colab-df-convert');\n",
              "      buttonEl.style.display =\n",
              "        google.colab.kernel.accessAllowed ? 'block' : 'none';\n",
              "\n",
              "      async function convertToInteractive(key) {\n",
              "        const element = document.querySelector('#df-f1e954d9-47c5-4f70-a767-7af52bcde314');\n",
              "        const dataTable =\n",
              "          await google.colab.kernel.invokeFunction('convertToInteractive',\n",
              "                                                    [key], {});\n",
              "        if (!dataTable) return;\n",
              "\n",
              "        const docLinkHtml = 'Like what you see? Visit the ' +\n",
              "          '<a target=\"_blank\" href=https://colab.research.google.com/notebooks/data_table.ipynb>data table notebook</a>'\n",
              "          + ' to learn more about interactive tables.';\n",
              "        element.innerHTML = '';\n",
              "        dataTable['output_type'] = 'display_data';\n",
              "        await google.colab.output.renderOutput(dataTable, element);\n",
              "        const docLink = document.createElement('div');\n",
              "        docLink.innerHTML = docLinkHtml;\n",
              "        element.appendChild(docLink);\n",
              "      }\n",
              "    </script>\n",
              "  </div>\n",
              "\n",
              "\n",
              "<div id=\"df-371efa40-9498-4280-9f61-20269d5fbd7f\">\n",
              "  <button class=\"colab-df-quickchart\" onclick=\"quickchart('df-371efa40-9498-4280-9f61-20269d5fbd7f')\"\n",
              "            title=\"Suggest charts.\"\n",
              "            style=\"display:none;\">\n",
              "\n",
              "<svg xmlns=\"http://www.w3.org/2000/svg\" height=\"24px\"viewBox=\"0 0 24 24\"\n",
              "     width=\"24px\">\n",
              "    <g>\n",
              "        <path d=\"M19 3H5c-1.1 0-2 .9-2 2v14c0 1.1.9 2 2 2h14c1.1 0 2-.9 2-2V5c0-1.1-.9-2-2-2zM9 17H7v-7h2v7zm4 0h-2V7h2v10zm4 0h-2v-4h2v4z\"/>\n",
              "    </g>\n",
              "</svg>\n",
              "  </button>\n",
              "\n",
              "<style>\n",
              "  .colab-df-quickchart {\n",
              "      --bg-color: #E8F0FE;\n",
              "      --fill-color: #1967D2;\n",
              "      --hover-bg-color: #E2EBFA;\n",
              "      --hover-fill-color: #174EA6;\n",
              "      --disabled-fill-color: #AAA;\n",
              "      --disabled-bg-color: #DDD;\n",
              "  }\n",
              "\n",
              "  [theme=dark] .colab-df-quickchart {\n",
              "      --bg-color: #3B4455;\n",
              "      --fill-color: #D2E3FC;\n",
              "      --hover-bg-color: #434B5C;\n",
              "      --hover-fill-color: #FFFFFF;\n",
              "      --disabled-bg-color: #3B4455;\n",
              "      --disabled-fill-color: #666;\n",
              "  }\n",
              "\n",
              "  .colab-df-quickchart {\n",
              "    background-color: var(--bg-color);\n",
              "    border: none;\n",
              "    border-radius: 50%;\n",
              "    cursor: pointer;\n",
              "    display: none;\n",
              "    fill: var(--fill-color);\n",
              "    height: 32px;\n",
              "    padding: 0;\n",
              "    width: 32px;\n",
              "  }\n",
              "\n",
              "  .colab-df-quickchart:hover {\n",
              "    background-color: var(--hover-bg-color);\n",
              "    box-shadow: 0 1px 2px rgba(60, 64, 67, 0.3), 0 1px 3px 1px rgba(60, 64, 67, 0.15);\n",
              "    fill: var(--button-hover-fill-color);\n",
              "  }\n",
              "\n",
              "  .colab-df-quickchart-complete:disabled,\n",
              "  .colab-df-quickchart-complete:disabled:hover {\n",
              "    background-color: var(--disabled-bg-color);\n",
              "    fill: var(--disabled-fill-color);\n",
              "    box-shadow: none;\n",
              "  }\n",
              "\n",
              "  .colab-df-spinner {\n",
              "    border: 2px solid var(--fill-color);\n",
              "    border-color: transparent;\n",
              "    border-bottom-color: var(--fill-color);\n",
              "    animation:\n",
              "      spin 1s steps(1) infinite;\n",
              "  }\n",
              "\n",
              "  @keyframes spin {\n",
              "    0% {\n",
              "      border-color: transparent;\n",
              "      border-bottom-color: var(--fill-color);\n",
              "      border-left-color: var(--fill-color);\n",
              "    }\n",
              "    20% {\n",
              "      border-color: transparent;\n",
              "      border-left-color: var(--fill-color);\n",
              "      border-top-color: var(--fill-color);\n",
              "    }\n",
              "    30% {\n",
              "      border-color: transparent;\n",
              "      border-left-color: var(--fill-color);\n",
              "      border-top-color: var(--fill-color);\n",
              "      border-right-color: var(--fill-color);\n",
              "    }\n",
              "    40% {\n",
              "      border-color: transparent;\n",
              "      border-right-color: var(--fill-color);\n",
              "      border-top-color: var(--fill-color);\n",
              "    }\n",
              "    60% {\n",
              "      border-color: transparent;\n",
              "      border-right-color: var(--fill-color);\n",
              "    }\n",
              "    80% {\n",
              "      border-color: transparent;\n",
              "      border-right-color: var(--fill-color);\n",
              "      border-bottom-color: var(--fill-color);\n",
              "    }\n",
              "    90% {\n",
              "      border-color: transparent;\n",
              "      border-bottom-color: var(--fill-color);\n",
              "    }\n",
              "  }\n",
              "</style>\n",
              "\n",
              "  <script>\n",
              "    async function quickchart(key) {\n",
              "      const quickchartButtonEl =\n",
              "        document.querySelector('#' + key + ' button');\n",
              "      quickchartButtonEl.disabled = true;  // To prevent multiple clicks.\n",
              "      quickchartButtonEl.classList.add('colab-df-spinner');\n",
              "      try {\n",
              "        const charts = await google.colab.kernel.invokeFunction(\n",
              "            'suggestCharts', [key], {});\n",
              "      } catch (error) {\n",
              "        console.error('Error during call to suggestCharts:', error);\n",
              "      }\n",
              "      quickchartButtonEl.classList.remove('colab-df-spinner');\n",
              "      quickchartButtonEl.classList.add('colab-df-quickchart-complete');\n",
              "    }\n",
              "    (() => {\n",
              "      let quickchartButtonEl =\n",
              "        document.querySelector('#df-371efa40-9498-4280-9f61-20269d5fbd7f button');\n",
              "      quickchartButtonEl.style.display =\n",
              "        google.colab.kernel.accessAllowed ? 'block' : 'none';\n",
              "    })();\n",
              "  </script>\n",
              "</div>\n",
              "    </div>\n",
              "  </div>\n"
            ]
          },
          "metadata": {},
          "execution_count": 55
        }
      ]
    },
    {
      "cell_type": "code",
      "source": [
        "sample = pd.DataFrame([{'location': 'Koszsutka'}])"
      ],
      "metadata": {
        "id": "DB-0tGTJQ9YX"
      },
      "execution_count": null,
      "outputs": []
    },
    {
      "cell_type": "code",
      "source": [
        "sample"
      ],
      "metadata": {
        "colab": {
          "base_uri": "https://localhost:8080/",
          "height": 81
        },
        "id": "4Mmwq3QLRGNl",
        "outputId": "98fdfb37-05e4-497a-8d2a-685da861d785"
      },
      "execution_count": null,
      "outputs": [
        {
          "output_type": "execute_result",
          "data": {
            "text/plain": [
              "    location\n",
              "0  Koszsutka"
            ],
            "text/html": [
              "\n",
              "  <div id=\"df-ce8d8cdc-3f88-4918-bbd3-71f1e5971627\" class=\"colab-df-container\">\n",
              "    <div>\n",
              "<style scoped>\n",
              "    .dataframe tbody tr th:only-of-type {\n",
              "        vertical-align: middle;\n",
              "    }\n",
              "\n",
              "    .dataframe tbody tr th {\n",
              "        vertical-align: top;\n",
              "    }\n",
              "\n",
              "    .dataframe thead th {\n",
              "        text-align: right;\n",
              "    }\n",
              "</style>\n",
              "<table border=\"1\" class=\"dataframe\">\n",
              "  <thead>\n",
              "    <tr style=\"text-align: right;\">\n",
              "      <th></th>\n",
              "      <th>location</th>\n",
              "    </tr>\n",
              "  </thead>\n",
              "  <tbody>\n",
              "    <tr>\n",
              "      <th>0</th>\n",
              "      <td>Koszsutka</td>\n",
              "    </tr>\n",
              "  </tbody>\n",
              "</table>\n",
              "</div>\n",
              "    <div class=\"colab-df-buttons\">\n",
              "\n",
              "  <div class=\"colab-df-container\">\n",
              "    <button class=\"colab-df-convert\" onclick=\"convertToInteractive('df-ce8d8cdc-3f88-4918-bbd3-71f1e5971627')\"\n",
              "            title=\"Convert this dataframe to an interactive table.\"\n",
              "            style=\"display:none;\">\n",
              "\n",
              "  <svg xmlns=\"http://www.w3.org/2000/svg\" height=\"24px\" viewBox=\"0 -960 960 960\">\n",
              "    <path d=\"M120-120v-720h720v720H120Zm60-500h600v-160H180v160Zm220 220h160v-160H400v160Zm0 220h160v-160H400v160ZM180-400h160v-160H180v160Zm440 0h160v-160H620v160ZM180-180h160v-160H180v160Zm440 0h160v-160H620v160Z\"/>\n",
              "  </svg>\n",
              "    </button>\n",
              "\n",
              "  <style>\n",
              "    .colab-df-container {\n",
              "      display:flex;\n",
              "      gap: 12px;\n",
              "    }\n",
              "\n",
              "    .colab-df-convert {\n",
              "      background-color: #E8F0FE;\n",
              "      border: none;\n",
              "      border-radius: 50%;\n",
              "      cursor: pointer;\n",
              "      display: none;\n",
              "      fill: #1967D2;\n",
              "      height: 32px;\n",
              "      padding: 0 0 0 0;\n",
              "      width: 32px;\n",
              "    }\n",
              "\n",
              "    .colab-df-convert:hover {\n",
              "      background-color: #E2EBFA;\n",
              "      box-shadow: 0px 1px 2px rgba(60, 64, 67, 0.3), 0px 1px 3px 1px rgba(60, 64, 67, 0.15);\n",
              "      fill: #174EA6;\n",
              "    }\n",
              "\n",
              "    .colab-df-buttons div {\n",
              "      margin-bottom: 4px;\n",
              "    }\n",
              "\n",
              "    [theme=dark] .colab-df-convert {\n",
              "      background-color: #3B4455;\n",
              "      fill: #D2E3FC;\n",
              "    }\n",
              "\n",
              "    [theme=dark] .colab-df-convert:hover {\n",
              "      background-color: #434B5C;\n",
              "      box-shadow: 0px 1px 3px 1px rgba(0, 0, 0, 0.15);\n",
              "      filter: drop-shadow(0px 1px 2px rgba(0, 0, 0, 0.3));\n",
              "      fill: #FFFFFF;\n",
              "    }\n",
              "  </style>\n",
              "\n",
              "    <script>\n",
              "      const buttonEl =\n",
              "        document.querySelector('#df-ce8d8cdc-3f88-4918-bbd3-71f1e5971627 button.colab-df-convert');\n",
              "      buttonEl.style.display =\n",
              "        google.colab.kernel.accessAllowed ? 'block' : 'none';\n",
              "\n",
              "      async function convertToInteractive(key) {\n",
              "        const element = document.querySelector('#df-ce8d8cdc-3f88-4918-bbd3-71f1e5971627');\n",
              "        const dataTable =\n",
              "          await google.colab.kernel.invokeFunction('convertToInteractive',\n",
              "                                                    [key], {});\n",
              "        if (!dataTable) return;\n",
              "\n",
              "        const docLinkHtml = 'Like what you see? Visit the ' +\n",
              "          '<a target=\"_blank\" href=https://colab.research.google.com/notebooks/data_table.ipynb>data table notebook</a>'\n",
              "          + ' to learn more about interactive tables.';\n",
              "        element.innerHTML = '';\n",
              "        dataTable['output_type'] = 'display_data';\n",
              "        await google.colab.output.renderOutput(dataTable, element);\n",
              "        const docLink = document.createElement('div');\n",
              "        docLink.innerHTML = docLinkHtml;\n",
              "        element.appendChild(docLink);\n",
              "      }\n",
              "    </script>\n",
              "  </div>\n",
              "\n",
              "    </div>\n",
              "  </div>\n"
            ]
          },
          "metadata": {},
          "execution_count": 62
        }
      ]
    },
    {
      "cell_type": "code",
      "source": [
        "ohe.transform(sample).toarray()"
      ],
      "metadata": {
        "colab": {
          "base_uri": "https://localhost:8080/"
        },
        "id": "_h_6rwIORHWf",
        "outputId": "12f27161-f509-4ba6-e738-2470a1c6f60d"
      },
      "execution_count": null,
      "outputs": [
        {
          "output_type": "execute_result",
          "data": {
            "text/plain": [
              "array([[0., 0., 0., 0.]])"
            ]
          },
          "metadata": {},
          "execution_count": 66
        }
      ]
    },
    {
      "cell_type": "code",
      "source": [
        "numeric_features = ['area', 'rooms']\n",
        "categorical_features = ['location']"
      ],
      "metadata": {
        "id": "1m2ya26lRtac"
      },
      "execution_count": null,
      "outputs": []
    },
    {
      "cell_type": "code",
      "source": [
        "from sklearn.compose import ColumnTransformer"
      ],
      "metadata": {
        "id": "hOajkMcvTlsZ"
      },
      "execution_count": null,
      "outputs": []
    },
    {
      "cell_type": "code",
      "source": [
        "sc = StandardScaler()\n",
        "ohe = OneHotEncoder(min_frequency=0.1,\n",
        "                    handle_unknown='ignore')"
      ],
      "metadata": {
        "id": "XVsexT8xUd4-"
      },
      "execution_count": null,
      "outputs": []
    },
    {
      "cell_type": "code",
      "source": [
        "cf = ColumnTransformer(\n",
        "    transformers = [\n",
        "        ('sc', sc, numeric_features),\n",
        "        ('ohe', ohe, categorical_features)\n",
        "    ]\n",
        ")"
      ],
      "metadata": {
        "id": "37bB39MoT-VN"
      },
      "execution_count": null,
      "outputs": []
    },
    {
      "cell_type": "code",
      "source": [
        "X = df[['area', 'rooms', 'location']]\n",
        "X = df[numeric_features + categorical_features]\n",
        "X"
      ],
      "metadata": {
        "id": "8l65-OXuU-8u"
      },
      "execution_count": null,
      "outputs": []
    },
    {
      "cell_type": "code",
      "source": [
        "X_processed = cf.fit_transform(X)"
      ],
      "metadata": {
        "id": "tOlr0LkTVBfv"
      },
      "execution_count": null,
      "outputs": []
    },
    {
      "cell_type": "code",
      "source": [
        "cf.get_feature_names_out()"
      ],
      "metadata": {
        "colab": {
          "base_uri": "https://localhost:8080/"
        },
        "id": "giIQl6zGVqIM",
        "outputId": "5e52aa87-e60c-4c1c-c014-e863c5c6e6bc"
      },
      "execution_count": null,
      "outputs": [
        {
          "output_type": "execute_result",
          "data": {
            "text/plain": [
              "array(['sc__area', 'sc__rooms', 'ohe__location_Koszutka',\n",
              "       'ohe__location_Wełnowiec-Józefowiec', 'ohe__location_Śródmieście',\n",
              "       'ohe__location_infrequent_sklearn'], dtype=object)"
            ]
          },
          "metadata": {},
          "execution_count": 79
        }
      ]
    },
    {
      "cell_type": "code",
      "source": [
        "pd.DataFrame(X_processed,\n",
        "             columns = cf.get_feature_names_out())"
      ],
      "metadata": {
        "colab": {
          "base_uri": "https://localhost:8080/",
          "height": 461
        },
        "id": "eNzRgw_zV5nR",
        "outputId": "c08bcfd8-6435-4633-d185-b2577f6d9004"
      },
      "execution_count": null,
      "outputs": [
        {
          "output_type": "execute_result",
          "data": {
            "text/plain": [
              "      sc__area  sc__rooms  ohe__location_Koszutka  \\\n",
              "0    -0.667423  -0.598164                     0.0   \n",
              "1    -1.318266  -1.687870                     0.0   \n",
              "2     1.381945   1.581249                     0.0   \n",
              "3    -0.983160  -0.598164                     0.0   \n",
              "4    -0.854343  -0.598164                     0.0   \n",
              "...        ...        ...                     ...   \n",
              "2407  1.452659   0.491542                     0.0   \n",
              "2408 -0.180979  -0.598164                     0.0   \n",
              "2409 -0.050360   0.491542                     0.0   \n",
              "2410 -0.695798   0.491542                     0.0   \n",
              "2411 -1.398439  -1.687870                     0.0   \n",
              "\n",
              "      ohe__location_Wełnowiec-Józefowiec  ohe__location_Śródmieście  \\\n",
              "0                                    0.0                        0.0   \n",
              "1                                    0.0                        1.0   \n",
              "2                                    0.0                        1.0   \n",
              "3                                    0.0                        0.0   \n",
              "4                                    1.0                        0.0   \n",
              "...                                  ...                        ...   \n",
              "2407                                 0.0                        1.0   \n",
              "2408                                 0.0                        0.0   \n",
              "2409                                 1.0                        0.0   \n",
              "2410                                 1.0                        0.0   \n",
              "2411                                 1.0                        0.0   \n",
              "\n",
              "      ohe__location_infrequent_sklearn  \n",
              "0                                  1.0  \n",
              "1                                  0.0  \n",
              "2                                  0.0  \n",
              "3                                  1.0  \n",
              "4                                  0.0  \n",
              "...                                ...  \n",
              "2407                               0.0  \n",
              "2408                               1.0  \n",
              "2409                               0.0  \n",
              "2410                               0.0  \n",
              "2411                               0.0  \n",
              "\n",
              "[2412 rows x 6 columns]"
            ],
            "text/html": [
              "\n",
              "  <div id=\"df-83aee9d4-203d-4b28-b621-77ea67b81dcc\" class=\"colab-df-container\">\n",
              "    <div>\n",
              "<style scoped>\n",
              "    .dataframe tbody tr th:only-of-type {\n",
              "        vertical-align: middle;\n",
              "    }\n",
              "\n",
              "    .dataframe tbody tr th {\n",
              "        vertical-align: top;\n",
              "    }\n",
              "\n",
              "    .dataframe thead th {\n",
              "        text-align: right;\n",
              "    }\n",
              "</style>\n",
              "<table border=\"1\" class=\"dataframe\">\n",
              "  <thead>\n",
              "    <tr style=\"text-align: right;\">\n",
              "      <th></th>\n",
              "      <th>sc__area</th>\n",
              "      <th>sc__rooms</th>\n",
              "      <th>ohe__location_Koszutka</th>\n",
              "      <th>ohe__location_Wełnowiec-Józefowiec</th>\n",
              "      <th>ohe__location_Śródmieście</th>\n",
              "      <th>ohe__location_infrequent_sklearn</th>\n",
              "    </tr>\n",
              "  </thead>\n",
              "  <tbody>\n",
              "    <tr>\n",
              "      <th>0</th>\n",
              "      <td>-0.667423</td>\n",
              "      <td>-0.598164</td>\n",
              "      <td>0.0</td>\n",
              "      <td>0.0</td>\n",
              "      <td>0.0</td>\n",
              "      <td>1.0</td>\n",
              "    </tr>\n",
              "    <tr>\n",
              "      <th>1</th>\n",
              "      <td>-1.318266</td>\n",
              "      <td>-1.687870</td>\n",
              "      <td>0.0</td>\n",
              "      <td>0.0</td>\n",
              "      <td>1.0</td>\n",
              "      <td>0.0</td>\n",
              "    </tr>\n",
              "    <tr>\n",
              "      <th>2</th>\n",
              "      <td>1.381945</td>\n",
              "      <td>1.581249</td>\n",
              "      <td>0.0</td>\n",
              "      <td>0.0</td>\n",
              "      <td>1.0</td>\n",
              "      <td>0.0</td>\n",
              "    </tr>\n",
              "    <tr>\n",
              "      <th>3</th>\n",
              "      <td>-0.983160</td>\n",
              "      <td>-0.598164</td>\n",
              "      <td>0.0</td>\n",
              "      <td>0.0</td>\n",
              "      <td>0.0</td>\n",
              "      <td>1.0</td>\n",
              "    </tr>\n",
              "    <tr>\n",
              "      <th>4</th>\n",
              "      <td>-0.854343</td>\n",
              "      <td>-0.598164</td>\n",
              "      <td>0.0</td>\n",
              "      <td>1.0</td>\n",
              "      <td>0.0</td>\n",
              "      <td>0.0</td>\n",
              "    </tr>\n",
              "    <tr>\n",
              "      <th>...</th>\n",
              "      <td>...</td>\n",
              "      <td>...</td>\n",
              "      <td>...</td>\n",
              "      <td>...</td>\n",
              "      <td>...</td>\n",
              "      <td>...</td>\n",
              "    </tr>\n",
              "    <tr>\n",
              "      <th>2407</th>\n",
              "      <td>1.452659</td>\n",
              "      <td>0.491542</td>\n",
              "      <td>0.0</td>\n",
              "      <td>0.0</td>\n",
              "      <td>1.0</td>\n",
              "      <td>0.0</td>\n",
              "    </tr>\n",
              "    <tr>\n",
              "      <th>2408</th>\n",
              "      <td>-0.180979</td>\n",
              "      <td>-0.598164</td>\n",
              "      <td>0.0</td>\n",
              "      <td>0.0</td>\n",
              "      <td>0.0</td>\n",
              "      <td>1.0</td>\n",
              "    </tr>\n",
              "    <tr>\n",
              "      <th>2409</th>\n",
              "      <td>-0.050360</td>\n",
              "      <td>0.491542</td>\n",
              "      <td>0.0</td>\n",
              "      <td>1.0</td>\n",
              "      <td>0.0</td>\n",
              "      <td>0.0</td>\n",
              "    </tr>\n",
              "    <tr>\n",
              "      <th>2410</th>\n",
              "      <td>-0.695798</td>\n",
              "      <td>0.491542</td>\n",
              "      <td>0.0</td>\n",
              "      <td>1.0</td>\n",
              "      <td>0.0</td>\n",
              "      <td>0.0</td>\n",
              "    </tr>\n",
              "    <tr>\n",
              "      <th>2411</th>\n",
              "      <td>-1.398439</td>\n",
              "      <td>-1.687870</td>\n",
              "      <td>0.0</td>\n",
              "      <td>1.0</td>\n",
              "      <td>0.0</td>\n",
              "      <td>0.0</td>\n",
              "    </tr>\n",
              "  </tbody>\n",
              "</table>\n",
              "<p>2412 rows × 6 columns</p>\n",
              "</div>\n",
              "    <div class=\"colab-df-buttons\">\n",
              "\n",
              "  <div class=\"colab-df-container\">\n",
              "    <button class=\"colab-df-convert\" onclick=\"convertToInteractive('df-83aee9d4-203d-4b28-b621-77ea67b81dcc')\"\n",
              "            title=\"Convert this dataframe to an interactive table.\"\n",
              "            style=\"display:none;\">\n",
              "\n",
              "  <svg xmlns=\"http://www.w3.org/2000/svg\" height=\"24px\" viewBox=\"0 -960 960 960\">\n",
              "    <path d=\"M120-120v-720h720v720H120Zm60-500h600v-160H180v160Zm220 220h160v-160H400v160Zm0 220h160v-160H400v160ZM180-400h160v-160H180v160Zm440 0h160v-160H620v160ZM180-180h160v-160H180v160Zm440 0h160v-160H620v160Z\"/>\n",
              "  </svg>\n",
              "    </button>\n",
              "\n",
              "  <style>\n",
              "    .colab-df-container {\n",
              "      display:flex;\n",
              "      gap: 12px;\n",
              "    }\n",
              "\n",
              "    .colab-df-convert {\n",
              "      background-color: #E8F0FE;\n",
              "      border: none;\n",
              "      border-radius: 50%;\n",
              "      cursor: pointer;\n",
              "      display: none;\n",
              "      fill: #1967D2;\n",
              "      height: 32px;\n",
              "      padding: 0 0 0 0;\n",
              "      width: 32px;\n",
              "    }\n",
              "\n",
              "    .colab-df-convert:hover {\n",
              "      background-color: #E2EBFA;\n",
              "      box-shadow: 0px 1px 2px rgba(60, 64, 67, 0.3), 0px 1px 3px 1px rgba(60, 64, 67, 0.15);\n",
              "      fill: #174EA6;\n",
              "    }\n",
              "\n",
              "    .colab-df-buttons div {\n",
              "      margin-bottom: 4px;\n",
              "    }\n",
              "\n",
              "    [theme=dark] .colab-df-convert {\n",
              "      background-color: #3B4455;\n",
              "      fill: #D2E3FC;\n",
              "    }\n",
              "\n",
              "    [theme=dark] .colab-df-convert:hover {\n",
              "      background-color: #434B5C;\n",
              "      box-shadow: 0px 1px 3px 1px rgba(0, 0, 0, 0.15);\n",
              "      filter: drop-shadow(0px 1px 2px rgba(0, 0, 0, 0.3));\n",
              "      fill: #FFFFFF;\n",
              "    }\n",
              "  </style>\n",
              "\n",
              "    <script>\n",
              "      const buttonEl =\n",
              "        document.querySelector('#df-83aee9d4-203d-4b28-b621-77ea67b81dcc button.colab-df-convert');\n",
              "      buttonEl.style.display =\n",
              "        google.colab.kernel.accessAllowed ? 'block' : 'none';\n",
              "\n",
              "      async function convertToInteractive(key) {\n",
              "        const element = document.querySelector('#df-83aee9d4-203d-4b28-b621-77ea67b81dcc');\n",
              "        const dataTable =\n",
              "          await google.colab.kernel.invokeFunction('convertToInteractive',\n",
              "                                                    [key], {});\n",
              "        if (!dataTable) return;\n",
              "\n",
              "        const docLinkHtml = 'Like what you see? Visit the ' +\n",
              "          '<a target=\"_blank\" href=https://colab.research.google.com/notebooks/data_table.ipynb>data table notebook</a>'\n",
              "          + ' to learn more about interactive tables.';\n",
              "        element.innerHTML = '';\n",
              "        dataTable['output_type'] = 'display_data';\n",
              "        await google.colab.output.renderOutput(dataTable, element);\n",
              "        const docLink = document.createElement('div');\n",
              "        docLink.innerHTML = docLinkHtml;\n",
              "        element.appendChild(docLink);\n",
              "      }\n",
              "    </script>\n",
              "  </div>\n",
              "\n",
              "\n",
              "<div id=\"df-231c0522-3e0e-4bbf-b727-0aacfd3198a6\">\n",
              "  <button class=\"colab-df-quickchart\" onclick=\"quickchart('df-231c0522-3e0e-4bbf-b727-0aacfd3198a6')\"\n",
              "            title=\"Suggest charts.\"\n",
              "            style=\"display:none;\">\n",
              "\n",
              "<svg xmlns=\"http://www.w3.org/2000/svg\" height=\"24px\"viewBox=\"0 0 24 24\"\n",
              "     width=\"24px\">\n",
              "    <g>\n",
              "        <path d=\"M19 3H5c-1.1 0-2 .9-2 2v14c0 1.1.9 2 2 2h14c1.1 0 2-.9 2-2V5c0-1.1-.9-2-2-2zM9 17H7v-7h2v7zm4 0h-2V7h2v10zm4 0h-2v-4h2v4z\"/>\n",
              "    </g>\n",
              "</svg>\n",
              "  </button>\n",
              "\n",
              "<style>\n",
              "  .colab-df-quickchart {\n",
              "      --bg-color: #E8F0FE;\n",
              "      --fill-color: #1967D2;\n",
              "      --hover-bg-color: #E2EBFA;\n",
              "      --hover-fill-color: #174EA6;\n",
              "      --disabled-fill-color: #AAA;\n",
              "      --disabled-bg-color: #DDD;\n",
              "  }\n",
              "\n",
              "  [theme=dark] .colab-df-quickchart {\n",
              "      --bg-color: #3B4455;\n",
              "      --fill-color: #D2E3FC;\n",
              "      --hover-bg-color: #434B5C;\n",
              "      --hover-fill-color: #FFFFFF;\n",
              "      --disabled-bg-color: #3B4455;\n",
              "      --disabled-fill-color: #666;\n",
              "  }\n",
              "\n",
              "  .colab-df-quickchart {\n",
              "    background-color: var(--bg-color);\n",
              "    border: none;\n",
              "    border-radius: 50%;\n",
              "    cursor: pointer;\n",
              "    display: none;\n",
              "    fill: var(--fill-color);\n",
              "    height: 32px;\n",
              "    padding: 0;\n",
              "    width: 32px;\n",
              "  }\n",
              "\n",
              "  .colab-df-quickchart:hover {\n",
              "    background-color: var(--hover-bg-color);\n",
              "    box-shadow: 0 1px 2px rgba(60, 64, 67, 0.3), 0 1px 3px 1px rgba(60, 64, 67, 0.15);\n",
              "    fill: var(--button-hover-fill-color);\n",
              "  }\n",
              "\n",
              "  .colab-df-quickchart-complete:disabled,\n",
              "  .colab-df-quickchart-complete:disabled:hover {\n",
              "    background-color: var(--disabled-bg-color);\n",
              "    fill: var(--disabled-fill-color);\n",
              "    box-shadow: none;\n",
              "  }\n",
              "\n",
              "  .colab-df-spinner {\n",
              "    border: 2px solid var(--fill-color);\n",
              "    border-color: transparent;\n",
              "    border-bottom-color: var(--fill-color);\n",
              "    animation:\n",
              "      spin 1s steps(1) infinite;\n",
              "  }\n",
              "\n",
              "  @keyframes spin {\n",
              "    0% {\n",
              "      border-color: transparent;\n",
              "      border-bottom-color: var(--fill-color);\n",
              "      border-left-color: var(--fill-color);\n",
              "    }\n",
              "    20% {\n",
              "      border-color: transparent;\n",
              "      border-left-color: var(--fill-color);\n",
              "      border-top-color: var(--fill-color);\n",
              "    }\n",
              "    30% {\n",
              "      border-color: transparent;\n",
              "      border-left-color: var(--fill-color);\n",
              "      border-top-color: var(--fill-color);\n",
              "      border-right-color: var(--fill-color);\n",
              "    }\n",
              "    40% {\n",
              "      border-color: transparent;\n",
              "      border-right-color: var(--fill-color);\n",
              "      border-top-color: var(--fill-color);\n",
              "    }\n",
              "    60% {\n",
              "      border-color: transparent;\n",
              "      border-right-color: var(--fill-color);\n",
              "    }\n",
              "    80% {\n",
              "      border-color: transparent;\n",
              "      border-right-color: var(--fill-color);\n",
              "      border-bottom-color: var(--fill-color);\n",
              "    }\n",
              "    90% {\n",
              "      border-color: transparent;\n",
              "      border-bottom-color: var(--fill-color);\n",
              "    }\n",
              "  }\n",
              "</style>\n",
              "\n",
              "  <script>\n",
              "    async function quickchart(key) {\n",
              "      const quickchartButtonEl =\n",
              "        document.querySelector('#' + key + ' button');\n",
              "      quickchartButtonEl.disabled = true;  // To prevent multiple clicks.\n",
              "      quickchartButtonEl.classList.add('colab-df-spinner');\n",
              "      try {\n",
              "        const charts = await google.colab.kernel.invokeFunction(\n",
              "            'suggestCharts', [key], {});\n",
              "      } catch (error) {\n",
              "        console.error('Error during call to suggestCharts:', error);\n",
              "      }\n",
              "      quickchartButtonEl.classList.remove('colab-df-spinner');\n",
              "      quickchartButtonEl.classList.add('colab-df-quickchart-complete');\n",
              "    }\n",
              "    (() => {\n",
              "      let quickchartButtonEl =\n",
              "        document.querySelector('#df-231c0522-3e0e-4bbf-b727-0aacfd3198a6 button');\n",
              "      quickchartButtonEl.style.display =\n",
              "        google.colab.kernel.accessAllowed ? 'block' : 'none';\n",
              "    })();\n",
              "  </script>\n",
              "</div>\n",
              "    </div>\n",
              "  </div>\n"
            ]
          },
          "metadata": {},
          "execution_count": 81
        }
      ]
    },
    {
      "cell_type": "code",
      "source": [
        "lr = LinearRegression()\n",
        "lr.fit(X_processed, y)"
      ],
      "metadata": {
        "colab": {
          "base_uri": "https://localhost:8080/",
          "height": 74
        },
        "id": "4QAVFaSWWAuF",
        "outputId": "4a22d1f0-6495-48f3-f9e5-b35a7a412a3b"
      },
      "execution_count": null,
      "outputs": [
        {
          "output_type": "execute_result",
          "data": {
            "text/plain": [
              "LinearRegression()"
            ],
            "text/html": [
              "<style>#sk-container-id-4 {color: black;background-color: white;}#sk-container-id-4 pre{padding: 0;}#sk-container-id-4 div.sk-toggleable {background-color: white;}#sk-container-id-4 label.sk-toggleable__label {cursor: pointer;display: block;width: 100%;margin-bottom: 0;padding: 0.3em;box-sizing: border-box;text-align: center;}#sk-container-id-4 label.sk-toggleable__label-arrow:before {content: \"▸\";float: left;margin-right: 0.25em;color: #696969;}#sk-container-id-4 label.sk-toggleable__label-arrow:hover:before {color: black;}#sk-container-id-4 div.sk-estimator:hover label.sk-toggleable__label-arrow:before {color: black;}#sk-container-id-4 div.sk-toggleable__content {max-height: 0;max-width: 0;overflow: hidden;text-align: left;background-color: #f0f8ff;}#sk-container-id-4 div.sk-toggleable__content pre {margin: 0.2em;color: black;border-radius: 0.25em;background-color: #f0f8ff;}#sk-container-id-4 input.sk-toggleable__control:checked~div.sk-toggleable__content {max-height: 200px;max-width: 100%;overflow: auto;}#sk-container-id-4 input.sk-toggleable__control:checked~label.sk-toggleable__label-arrow:before {content: \"▾\";}#sk-container-id-4 div.sk-estimator input.sk-toggleable__control:checked~label.sk-toggleable__label {background-color: #d4ebff;}#sk-container-id-4 div.sk-label input.sk-toggleable__control:checked~label.sk-toggleable__label {background-color: #d4ebff;}#sk-container-id-4 input.sk-hidden--visually {border: 0;clip: rect(1px 1px 1px 1px);clip: rect(1px, 1px, 1px, 1px);height: 1px;margin: -1px;overflow: hidden;padding: 0;position: absolute;width: 1px;}#sk-container-id-4 div.sk-estimator {font-family: monospace;background-color: #f0f8ff;border: 1px dotted black;border-radius: 0.25em;box-sizing: border-box;margin-bottom: 0.5em;}#sk-container-id-4 div.sk-estimator:hover {background-color: #d4ebff;}#sk-container-id-4 div.sk-parallel-item::after {content: \"\";width: 100%;border-bottom: 1px solid gray;flex-grow: 1;}#sk-container-id-4 div.sk-label:hover label.sk-toggleable__label {background-color: #d4ebff;}#sk-container-id-4 div.sk-serial::before {content: \"\";position: absolute;border-left: 1px solid gray;box-sizing: border-box;top: 0;bottom: 0;left: 50%;z-index: 0;}#sk-container-id-4 div.sk-serial {display: flex;flex-direction: column;align-items: center;background-color: white;padding-right: 0.2em;padding-left: 0.2em;position: relative;}#sk-container-id-4 div.sk-item {position: relative;z-index: 1;}#sk-container-id-4 div.sk-parallel {display: flex;align-items: stretch;justify-content: center;background-color: white;position: relative;}#sk-container-id-4 div.sk-item::before, #sk-container-id-4 div.sk-parallel-item::before {content: \"\";position: absolute;border-left: 1px solid gray;box-sizing: border-box;top: 0;bottom: 0;left: 50%;z-index: -1;}#sk-container-id-4 div.sk-parallel-item {display: flex;flex-direction: column;z-index: 1;position: relative;background-color: white;}#sk-container-id-4 div.sk-parallel-item:first-child::after {align-self: flex-end;width: 50%;}#sk-container-id-4 div.sk-parallel-item:last-child::after {align-self: flex-start;width: 50%;}#sk-container-id-4 div.sk-parallel-item:only-child::after {width: 0;}#sk-container-id-4 div.sk-dashed-wrapped {border: 1px dashed gray;margin: 0 0.4em 0.5em 0.4em;box-sizing: border-box;padding-bottom: 0.4em;background-color: white;}#sk-container-id-4 div.sk-label label {font-family: monospace;font-weight: bold;display: inline-block;line-height: 1.2em;}#sk-container-id-4 div.sk-label-container {text-align: center;}#sk-container-id-4 div.sk-container {/* jupyter's `normalize.less` sets `[hidden] { display: none; }` but bootstrap.min.css set `[hidden] { display: none !important; }` so we also need the `!important` here to be able to override the default hidden behavior on the sphinx rendered scikit-learn.org. See: https://github.com/scikit-learn/scikit-learn/issues/21755 */display: inline-block !important;position: relative;}#sk-container-id-4 div.sk-text-repr-fallback {display: none;}</style><div id=\"sk-container-id-4\" class=\"sk-top-container\"><div class=\"sk-text-repr-fallback\"><pre>LinearRegression()</pre><b>In a Jupyter environment, please rerun this cell to show the HTML representation or trust the notebook. <br />On GitHub, the HTML representation is unable to render, please try loading this page with nbviewer.org.</b></div><div class=\"sk-container\" hidden><div class=\"sk-item\"><div class=\"sk-estimator sk-toggleable\"><input class=\"sk-toggleable__control sk-hidden--visually\" id=\"sk-estimator-id-4\" type=\"checkbox\" checked><label for=\"sk-estimator-id-4\" class=\"sk-toggleable__label sk-toggleable__label-arrow\">LinearRegression</label><div class=\"sk-toggleable__content\"><pre>LinearRegression()</pre></div></div></div></div></div>"
            ]
          },
          "metadata": {},
          "execution_count": 82
        }
      ]
    },
    {
      "cell_type": "code",
      "source": [
        "lr.score(X_processed, y)"
      ],
      "metadata": {
        "colab": {
          "base_uri": "https://localhost:8080/"
        },
        "id": "8WkZCJagWRK0",
        "outputId": "541a2e25-20a8-41e0-9465-80dc68a9a335"
      },
      "execution_count": null,
      "outputs": [
        {
          "output_type": "execute_result",
          "data": {
            "text/plain": [
              "0.5807121100772723"
            ]
          },
          "metadata": {},
          "execution_count": 83
        }
      ]
    },
    {
      "cell_type": "code",
      "source": [
        "sample = X.sample()"
      ],
      "metadata": {
        "id": "nM9j3pV4WiZA"
      },
      "execution_count": null,
      "outputs": []
    },
    {
      "cell_type": "code",
      "source": [
        "sample"
      ],
      "metadata": {
        "colab": {
          "base_uri": "https://localhost:8080/",
          "height": 81
        },
        "id": "8TYpEQAQWkgD",
        "outputId": "753c38b9-3f42-449f-d31b-e37f122febad"
      },
      "execution_count": null,
      "outputs": [
        {
          "output_type": "execute_result",
          "data": {
            "text/plain": [
              "      area  rooms              location\n",
              "407  35.35    2.0  Wełnowiec-Józefowiec"
            ],
            "text/html": [
              "\n",
              "  <div id=\"df-e280a28d-134a-4428-8109-b91e2c09ad91\" class=\"colab-df-container\">\n",
              "    <div>\n",
              "<style scoped>\n",
              "    .dataframe tbody tr th:only-of-type {\n",
              "        vertical-align: middle;\n",
              "    }\n",
              "\n",
              "    .dataframe tbody tr th {\n",
              "        vertical-align: top;\n",
              "    }\n",
              "\n",
              "    .dataframe thead th {\n",
              "        text-align: right;\n",
              "    }\n",
              "</style>\n",
              "<table border=\"1\" class=\"dataframe\">\n",
              "  <thead>\n",
              "    <tr style=\"text-align: right;\">\n",
              "      <th></th>\n",
              "      <th>area</th>\n",
              "      <th>rooms</th>\n",
              "      <th>location</th>\n",
              "    </tr>\n",
              "  </thead>\n",
              "  <tbody>\n",
              "    <tr>\n",
              "      <th>407</th>\n",
              "      <td>35.35</td>\n",
              "      <td>2.0</td>\n",
              "      <td>Wełnowiec-Józefowiec</td>\n",
              "    </tr>\n",
              "  </tbody>\n",
              "</table>\n",
              "</div>\n",
              "    <div class=\"colab-df-buttons\">\n",
              "\n",
              "  <div class=\"colab-df-container\">\n",
              "    <button class=\"colab-df-convert\" onclick=\"convertToInteractive('df-e280a28d-134a-4428-8109-b91e2c09ad91')\"\n",
              "            title=\"Convert this dataframe to an interactive table.\"\n",
              "            style=\"display:none;\">\n",
              "\n",
              "  <svg xmlns=\"http://www.w3.org/2000/svg\" height=\"24px\" viewBox=\"0 -960 960 960\">\n",
              "    <path d=\"M120-120v-720h720v720H120Zm60-500h600v-160H180v160Zm220 220h160v-160H400v160Zm0 220h160v-160H400v160ZM180-400h160v-160H180v160Zm440 0h160v-160H620v160ZM180-180h160v-160H180v160Zm440 0h160v-160H620v160Z\"/>\n",
              "  </svg>\n",
              "    </button>\n",
              "\n",
              "  <style>\n",
              "    .colab-df-container {\n",
              "      display:flex;\n",
              "      gap: 12px;\n",
              "    }\n",
              "\n",
              "    .colab-df-convert {\n",
              "      background-color: #E8F0FE;\n",
              "      border: none;\n",
              "      border-radius: 50%;\n",
              "      cursor: pointer;\n",
              "      display: none;\n",
              "      fill: #1967D2;\n",
              "      height: 32px;\n",
              "      padding: 0 0 0 0;\n",
              "      width: 32px;\n",
              "    }\n",
              "\n",
              "    .colab-df-convert:hover {\n",
              "      background-color: #E2EBFA;\n",
              "      box-shadow: 0px 1px 2px rgba(60, 64, 67, 0.3), 0px 1px 3px 1px rgba(60, 64, 67, 0.15);\n",
              "      fill: #174EA6;\n",
              "    }\n",
              "\n",
              "    .colab-df-buttons div {\n",
              "      margin-bottom: 4px;\n",
              "    }\n",
              "\n",
              "    [theme=dark] .colab-df-convert {\n",
              "      background-color: #3B4455;\n",
              "      fill: #D2E3FC;\n",
              "    }\n",
              "\n",
              "    [theme=dark] .colab-df-convert:hover {\n",
              "      background-color: #434B5C;\n",
              "      box-shadow: 0px 1px 3px 1px rgba(0, 0, 0, 0.15);\n",
              "      filter: drop-shadow(0px 1px 2px rgba(0, 0, 0, 0.3));\n",
              "      fill: #FFFFFF;\n",
              "    }\n",
              "  </style>\n",
              "\n",
              "    <script>\n",
              "      const buttonEl =\n",
              "        document.querySelector('#df-e280a28d-134a-4428-8109-b91e2c09ad91 button.colab-df-convert');\n",
              "      buttonEl.style.display =\n",
              "        google.colab.kernel.accessAllowed ? 'block' : 'none';\n",
              "\n",
              "      async function convertToInteractive(key) {\n",
              "        const element = document.querySelector('#df-e280a28d-134a-4428-8109-b91e2c09ad91');\n",
              "        const dataTable =\n",
              "          await google.colab.kernel.invokeFunction('convertToInteractive',\n",
              "                                                    [key], {});\n",
              "        if (!dataTable) return;\n",
              "\n",
              "        const docLinkHtml = 'Like what you see? Visit the ' +\n",
              "          '<a target=\"_blank\" href=https://colab.research.google.com/notebooks/data_table.ipynb>data table notebook</a>'\n",
              "          + ' to learn more about interactive tables.';\n",
              "        element.innerHTML = '';\n",
              "        dataTable['output_type'] = 'display_data';\n",
              "        await google.colab.output.renderOutput(dataTable, element);\n",
              "        const docLink = document.createElement('div');\n",
              "        docLink.innerHTML = docLinkHtml;\n",
              "        element.appendChild(docLink);\n",
              "      }\n",
              "    </script>\n",
              "  </div>\n",
              "\n",
              "    </div>\n",
              "  </div>\n"
            ]
          },
          "metadata": {},
          "execution_count": 85
        }
      ]
    },
    {
      "cell_type": "code",
      "source": [
        "sample = cf.transform(sample)\n",
        "lr.predict(sample)"
      ],
      "metadata": {
        "colab": {
          "base_uri": "https://localhost:8080/"
        },
        "id": "YwHyB5RpWlTz",
        "outputId": "0a111614-1096-421e-9dec-26b2b0a065e8"
      },
      "execution_count": null,
      "outputs": [
        {
          "output_type": "execute_result",
          "data": {
            "text/plain": [
              "array([[375766.29799714]])"
            ]
          },
          "metadata": {},
          "execution_count": 87
        }
      ]
    },
    {
      "cell_type": "markdown",
      "source": [
        "## Regresja liniowa wielomianowa"
      ],
      "metadata": {
        "id": "yh2iziJOhvQp"
      }
    },
    {
      "cell_type": "code",
      "source": [
        "from sklearn.preprocessing import PolynomialFeatures"
      ],
      "metadata": {
        "id": "oTf9M8oshyIC"
      },
      "execution_count": null,
      "outputs": []
    },
    {
      "cell_type": "code",
      "source": [
        "X = df[['area']]\n",
        "y = df[['price']]"
      ],
      "metadata": {
        "id": "Ubi3L_55iF5i"
      },
      "execution_count": null,
      "outputs": []
    },
    {
      "cell_type": "code",
      "source": [
        "pf = PolynomialFeatures(degree=3,\n",
        "                        include_bias=False)"
      ],
      "metadata": {
        "id": "6wGItvOeiLme"
      },
      "execution_count": null,
      "outputs": []
    },
    {
      "cell_type": "code",
      "source": [
        "X_poly = pf.fit_transform(X)"
      ],
      "metadata": {
        "id": "P4zLY7z3iVhc"
      },
      "execution_count": null,
      "outputs": []
    },
    {
      "cell_type": "code",
      "source": [
        "X"
      ],
      "metadata": {
        "colab": {
          "base_uri": "https://localhost:8080/",
          "height": 423
        },
        "id": "3pDehANnihVA",
        "outputId": "4d9a6b07-8372-40b4-c48b-e62be62368c8"
      },
      "execution_count": null,
      "outputs": [
        {
          "output_type": "execute_result",
          "data": {
            "text/plain": [
              "       area\n",
              "0     43.50\n",
              "1     29.05\n",
              "2     89.00\n",
              "3     36.49\n",
              "4     39.35\n",
              "...     ...\n",
              "3610  90.57\n",
              "3611  54.30\n",
              "3612  57.20\n",
              "3613  42.87\n",
              "3614  27.27\n",
              "\n",
              "[2412 rows x 1 columns]"
            ],
            "text/html": [
              "\n",
              "  <div id=\"df-6a66d789-fdb4-4744-b793-8eb9052ab33a\" class=\"colab-df-container\">\n",
              "    <div>\n",
              "<style scoped>\n",
              "    .dataframe tbody tr th:only-of-type {\n",
              "        vertical-align: middle;\n",
              "    }\n",
              "\n",
              "    .dataframe tbody tr th {\n",
              "        vertical-align: top;\n",
              "    }\n",
              "\n",
              "    .dataframe thead th {\n",
              "        text-align: right;\n",
              "    }\n",
              "</style>\n",
              "<table border=\"1\" class=\"dataframe\">\n",
              "  <thead>\n",
              "    <tr style=\"text-align: right;\">\n",
              "      <th></th>\n",
              "      <th>area</th>\n",
              "    </tr>\n",
              "  </thead>\n",
              "  <tbody>\n",
              "    <tr>\n",
              "      <th>0</th>\n",
              "      <td>43.50</td>\n",
              "    </tr>\n",
              "    <tr>\n",
              "      <th>1</th>\n",
              "      <td>29.05</td>\n",
              "    </tr>\n",
              "    <tr>\n",
              "      <th>2</th>\n",
              "      <td>89.00</td>\n",
              "    </tr>\n",
              "    <tr>\n",
              "      <th>3</th>\n",
              "      <td>36.49</td>\n",
              "    </tr>\n",
              "    <tr>\n",
              "      <th>4</th>\n",
              "      <td>39.35</td>\n",
              "    </tr>\n",
              "    <tr>\n",
              "      <th>...</th>\n",
              "      <td>...</td>\n",
              "    </tr>\n",
              "    <tr>\n",
              "      <th>3610</th>\n",
              "      <td>90.57</td>\n",
              "    </tr>\n",
              "    <tr>\n",
              "      <th>3611</th>\n",
              "      <td>54.30</td>\n",
              "    </tr>\n",
              "    <tr>\n",
              "      <th>3612</th>\n",
              "      <td>57.20</td>\n",
              "    </tr>\n",
              "    <tr>\n",
              "      <th>3613</th>\n",
              "      <td>42.87</td>\n",
              "    </tr>\n",
              "    <tr>\n",
              "      <th>3614</th>\n",
              "      <td>27.27</td>\n",
              "    </tr>\n",
              "  </tbody>\n",
              "</table>\n",
              "<p>2412 rows × 1 columns</p>\n",
              "</div>\n",
              "    <div class=\"colab-df-buttons\">\n",
              "\n",
              "  <div class=\"colab-df-container\">\n",
              "    <button class=\"colab-df-convert\" onclick=\"convertToInteractive('df-6a66d789-fdb4-4744-b793-8eb9052ab33a')\"\n",
              "            title=\"Convert this dataframe to an interactive table.\"\n",
              "            style=\"display:none;\">\n",
              "\n",
              "  <svg xmlns=\"http://www.w3.org/2000/svg\" height=\"24px\" viewBox=\"0 -960 960 960\">\n",
              "    <path d=\"M120-120v-720h720v720H120Zm60-500h600v-160H180v160Zm220 220h160v-160H400v160Zm0 220h160v-160H400v160ZM180-400h160v-160H180v160Zm440 0h160v-160H620v160ZM180-180h160v-160H180v160Zm440 0h160v-160H620v160Z\"/>\n",
              "  </svg>\n",
              "    </button>\n",
              "\n",
              "  <style>\n",
              "    .colab-df-container {\n",
              "      display:flex;\n",
              "      gap: 12px;\n",
              "    }\n",
              "\n",
              "    .colab-df-convert {\n",
              "      background-color: #E8F0FE;\n",
              "      border: none;\n",
              "      border-radius: 50%;\n",
              "      cursor: pointer;\n",
              "      display: none;\n",
              "      fill: #1967D2;\n",
              "      height: 32px;\n",
              "      padding: 0 0 0 0;\n",
              "      width: 32px;\n",
              "    }\n",
              "\n",
              "    .colab-df-convert:hover {\n",
              "      background-color: #E2EBFA;\n",
              "      box-shadow: 0px 1px 2px rgba(60, 64, 67, 0.3), 0px 1px 3px 1px rgba(60, 64, 67, 0.15);\n",
              "      fill: #174EA6;\n",
              "    }\n",
              "\n",
              "    .colab-df-buttons div {\n",
              "      margin-bottom: 4px;\n",
              "    }\n",
              "\n",
              "    [theme=dark] .colab-df-convert {\n",
              "      background-color: #3B4455;\n",
              "      fill: #D2E3FC;\n",
              "    }\n",
              "\n",
              "    [theme=dark] .colab-df-convert:hover {\n",
              "      background-color: #434B5C;\n",
              "      box-shadow: 0px 1px 3px 1px rgba(0, 0, 0, 0.15);\n",
              "      filter: drop-shadow(0px 1px 2px rgba(0, 0, 0, 0.3));\n",
              "      fill: #FFFFFF;\n",
              "    }\n",
              "  </style>\n",
              "\n",
              "    <script>\n",
              "      const buttonEl =\n",
              "        document.querySelector('#df-6a66d789-fdb4-4744-b793-8eb9052ab33a button.colab-df-convert');\n",
              "      buttonEl.style.display =\n",
              "        google.colab.kernel.accessAllowed ? 'block' : 'none';\n",
              "\n",
              "      async function convertToInteractive(key) {\n",
              "        const element = document.querySelector('#df-6a66d789-fdb4-4744-b793-8eb9052ab33a');\n",
              "        const dataTable =\n",
              "          await google.colab.kernel.invokeFunction('convertToInteractive',\n",
              "                                                    [key], {});\n",
              "        if (!dataTable) return;\n",
              "\n",
              "        const docLinkHtml = 'Like what you see? Visit the ' +\n",
              "          '<a target=\"_blank\" href=https://colab.research.google.com/notebooks/data_table.ipynb>data table notebook</a>'\n",
              "          + ' to learn more about interactive tables.';\n",
              "        element.innerHTML = '';\n",
              "        dataTable['output_type'] = 'display_data';\n",
              "        await google.colab.output.renderOutput(dataTable, element);\n",
              "        const docLink = document.createElement('div');\n",
              "        docLink.innerHTML = docLinkHtml;\n",
              "        element.appendChild(docLink);\n",
              "      }\n",
              "    </script>\n",
              "  </div>\n",
              "\n",
              "\n",
              "<div id=\"df-a5752a4d-a2c0-44f4-bd18-6b7c1abac34c\">\n",
              "  <button class=\"colab-df-quickchart\" onclick=\"quickchart('df-a5752a4d-a2c0-44f4-bd18-6b7c1abac34c')\"\n",
              "            title=\"Suggest charts.\"\n",
              "            style=\"display:none;\">\n",
              "\n",
              "<svg xmlns=\"http://www.w3.org/2000/svg\" height=\"24px\"viewBox=\"0 0 24 24\"\n",
              "     width=\"24px\">\n",
              "    <g>\n",
              "        <path d=\"M19 3H5c-1.1 0-2 .9-2 2v14c0 1.1.9 2 2 2h14c1.1 0 2-.9 2-2V5c0-1.1-.9-2-2-2zM9 17H7v-7h2v7zm4 0h-2V7h2v10zm4 0h-2v-4h2v4z\"/>\n",
              "    </g>\n",
              "</svg>\n",
              "  </button>\n",
              "\n",
              "<style>\n",
              "  .colab-df-quickchart {\n",
              "      --bg-color: #E8F0FE;\n",
              "      --fill-color: #1967D2;\n",
              "      --hover-bg-color: #E2EBFA;\n",
              "      --hover-fill-color: #174EA6;\n",
              "      --disabled-fill-color: #AAA;\n",
              "      --disabled-bg-color: #DDD;\n",
              "  }\n",
              "\n",
              "  [theme=dark] .colab-df-quickchart {\n",
              "      --bg-color: #3B4455;\n",
              "      --fill-color: #D2E3FC;\n",
              "      --hover-bg-color: #434B5C;\n",
              "      --hover-fill-color: #FFFFFF;\n",
              "      --disabled-bg-color: #3B4455;\n",
              "      --disabled-fill-color: #666;\n",
              "  }\n",
              "\n",
              "  .colab-df-quickchart {\n",
              "    background-color: var(--bg-color);\n",
              "    border: none;\n",
              "    border-radius: 50%;\n",
              "    cursor: pointer;\n",
              "    display: none;\n",
              "    fill: var(--fill-color);\n",
              "    height: 32px;\n",
              "    padding: 0;\n",
              "    width: 32px;\n",
              "  }\n",
              "\n",
              "  .colab-df-quickchart:hover {\n",
              "    background-color: var(--hover-bg-color);\n",
              "    box-shadow: 0 1px 2px rgba(60, 64, 67, 0.3), 0 1px 3px 1px rgba(60, 64, 67, 0.15);\n",
              "    fill: var(--button-hover-fill-color);\n",
              "  }\n",
              "\n",
              "  .colab-df-quickchart-complete:disabled,\n",
              "  .colab-df-quickchart-complete:disabled:hover {\n",
              "    background-color: var(--disabled-bg-color);\n",
              "    fill: var(--disabled-fill-color);\n",
              "    box-shadow: none;\n",
              "  }\n",
              "\n",
              "  .colab-df-spinner {\n",
              "    border: 2px solid var(--fill-color);\n",
              "    border-color: transparent;\n",
              "    border-bottom-color: var(--fill-color);\n",
              "    animation:\n",
              "      spin 1s steps(1) infinite;\n",
              "  }\n",
              "\n",
              "  @keyframes spin {\n",
              "    0% {\n",
              "      border-color: transparent;\n",
              "      border-bottom-color: var(--fill-color);\n",
              "      border-left-color: var(--fill-color);\n",
              "    }\n",
              "    20% {\n",
              "      border-color: transparent;\n",
              "      border-left-color: var(--fill-color);\n",
              "      border-top-color: var(--fill-color);\n",
              "    }\n",
              "    30% {\n",
              "      border-color: transparent;\n",
              "      border-left-color: var(--fill-color);\n",
              "      border-top-color: var(--fill-color);\n",
              "      border-right-color: var(--fill-color);\n",
              "    }\n",
              "    40% {\n",
              "      border-color: transparent;\n",
              "      border-right-color: var(--fill-color);\n",
              "      border-top-color: var(--fill-color);\n",
              "    }\n",
              "    60% {\n",
              "      border-color: transparent;\n",
              "      border-right-color: var(--fill-color);\n",
              "    }\n",
              "    80% {\n",
              "      border-color: transparent;\n",
              "      border-right-color: var(--fill-color);\n",
              "      border-bottom-color: var(--fill-color);\n",
              "    }\n",
              "    90% {\n",
              "      border-color: transparent;\n",
              "      border-bottom-color: var(--fill-color);\n",
              "    }\n",
              "  }\n",
              "</style>\n",
              "\n",
              "  <script>\n",
              "    async function quickchart(key) {\n",
              "      const quickchartButtonEl =\n",
              "        document.querySelector('#' + key + ' button');\n",
              "      quickchartButtonEl.disabled = true;  // To prevent multiple clicks.\n",
              "      quickchartButtonEl.classList.add('colab-df-spinner');\n",
              "      try {\n",
              "        const charts = await google.colab.kernel.invokeFunction(\n",
              "            'suggestCharts', [key], {});\n",
              "      } catch (error) {\n",
              "        console.error('Error during call to suggestCharts:', error);\n",
              "      }\n",
              "      quickchartButtonEl.classList.remove('colab-df-spinner');\n",
              "      quickchartButtonEl.classList.add('colab-df-quickchart-complete');\n",
              "    }\n",
              "    (() => {\n",
              "      let quickchartButtonEl =\n",
              "        document.querySelector('#df-a5752a4d-a2c0-44f4-bd18-6b7c1abac34c button');\n",
              "      quickchartButtonEl.style.display =\n",
              "        google.colab.kernel.accessAllowed ? 'block' : 'none';\n",
              "    })();\n",
              "  </script>\n",
              "</div>\n",
              "    </div>\n",
              "  </div>\n"
            ]
          },
          "metadata": {},
          "execution_count": 93
        }
      ]
    },
    {
      "cell_type": "code",
      "source": [
        "X_poly"
      ],
      "metadata": {
        "colab": {
          "base_uri": "https://localhost:8080/"
        },
        "id": "aYL_Kem0idrI",
        "outputId": "e42515a5-71c9-45ba-d476-8a81a7224234"
      },
      "execution_count": null,
      "outputs": [
        {
          "output_type": "execute_result",
          "data": {
            "text/plain": [
              "array([[4.35000000e+01, 1.89225000e+03, 8.23128750e+04, 3.58061006e+06],\n",
              "       [2.90500000e+01, 8.43902500e+02, 2.45153676e+04, 7.12171430e+05],\n",
              "       [8.90000000e+01, 7.92100000e+03, 7.04969000e+05, 6.27422410e+07],\n",
              "       ...,\n",
              "       [5.72000000e+01, 3.27184000e+03, 1.87149248e+05, 1.07049370e+07],\n",
              "       [4.28700000e+01, 1.83783690e+03, 7.87880679e+04, 3.37764447e+06],\n",
              "       [2.72700000e+01, 7.43652900e+02, 2.02794146e+04, 5.53019636e+05]])"
            ]
          },
          "metadata": {},
          "execution_count": 104
        }
      ]
    },
    {
      "cell_type": "code",
      "source": [
        "lr = LinearRegression()\n",
        "lr.fit(X_poly, y)"
      ],
      "metadata": {
        "colab": {
          "base_uri": "https://localhost:8080/",
          "height": 74
        },
        "id": "PBmr1M1jirsh",
        "outputId": "76343642-9708-44d2-f84e-8cd50183c182"
      },
      "execution_count": null,
      "outputs": [
        {
          "output_type": "execute_result",
          "data": {
            "text/plain": [
              "LinearRegression()"
            ],
            "text/html": [
              "<style>#sk-container-id-8 {color: black;background-color: white;}#sk-container-id-8 pre{padding: 0;}#sk-container-id-8 div.sk-toggleable {background-color: white;}#sk-container-id-8 label.sk-toggleable__label {cursor: pointer;display: block;width: 100%;margin-bottom: 0;padding: 0.3em;box-sizing: border-box;text-align: center;}#sk-container-id-8 label.sk-toggleable__label-arrow:before {content: \"▸\";float: left;margin-right: 0.25em;color: #696969;}#sk-container-id-8 label.sk-toggleable__label-arrow:hover:before {color: black;}#sk-container-id-8 div.sk-estimator:hover label.sk-toggleable__label-arrow:before {color: black;}#sk-container-id-8 div.sk-toggleable__content {max-height: 0;max-width: 0;overflow: hidden;text-align: left;background-color: #f0f8ff;}#sk-container-id-8 div.sk-toggleable__content pre {margin: 0.2em;color: black;border-radius: 0.25em;background-color: #f0f8ff;}#sk-container-id-8 input.sk-toggleable__control:checked~div.sk-toggleable__content {max-height: 200px;max-width: 100%;overflow: auto;}#sk-container-id-8 input.sk-toggleable__control:checked~label.sk-toggleable__label-arrow:before {content: \"▾\";}#sk-container-id-8 div.sk-estimator input.sk-toggleable__control:checked~label.sk-toggleable__label {background-color: #d4ebff;}#sk-container-id-8 div.sk-label input.sk-toggleable__control:checked~label.sk-toggleable__label {background-color: #d4ebff;}#sk-container-id-8 input.sk-hidden--visually {border: 0;clip: rect(1px 1px 1px 1px);clip: rect(1px, 1px, 1px, 1px);height: 1px;margin: -1px;overflow: hidden;padding: 0;position: absolute;width: 1px;}#sk-container-id-8 div.sk-estimator {font-family: monospace;background-color: #f0f8ff;border: 1px dotted black;border-radius: 0.25em;box-sizing: border-box;margin-bottom: 0.5em;}#sk-container-id-8 div.sk-estimator:hover {background-color: #d4ebff;}#sk-container-id-8 div.sk-parallel-item::after {content: \"\";width: 100%;border-bottom: 1px solid gray;flex-grow: 1;}#sk-container-id-8 div.sk-label:hover label.sk-toggleable__label {background-color: #d4ebff;}#sk-container-id-8 div.sk-serial::before {content: \"\";position: absolute;border-left: 1px solid gray;box-sizing: border-box;top: 0;bottom: 0;left: 50%;z-index: 0;}#sk-container-id-8 div.sk-serial {display: flex;flex-direction: column;align-items: center;background-color: white;padding-right: 0.2em;padding-left: 0.2em;position: relative;}#sk-container-id-8 div.sk-item {position: relative;z-index: 1;}#sk-container-id-8 div.sk-parallel {display: flex;align-items: stretch;justify-content: center;background-color: white;position: relative;}#sk-container-id-8 div.sk-item::before, #sk-container-id-8 div.sk-parallel-item::before {content: \"\";position: absolute;border-left: 1px solid gray;box-sizing: border-box;top: 0;bottom: 0;left: 50%;z-index: -1;}#sk-container-id-8 div.sk-parallel-item {display: flex;flex-direction: column;z-index: 1;position: relative;background-color: white;}#sk-container-id-8 div.sk-parallel-item:first-child::after {align-self: flex-end;width: 50%;}#sk-container-id-8 div.sk-parallel-item:last-child::after {align-self: flex-start;width: 50%;}#sk-container-id-8 div.sk-parallel-item:only-child::after {width: 0;}#sk-container-id-8 div.sk-dashed-wrapped {border: 1px dashed gray;margin: 0 0.4em 0.5em 0.4em;box-sizing: border-box;padding-bottom: 0.4em;background-color: white;}#sk-container-id-8 div.sk-label label {font-family: monospace;font-weight: bold;display: inline-block;line-height: 1.2em;}#sk-container-id-8 div.sk-label-container {text-align: center;}#sk-container-id-8 div.sk-container {/* jupyter's `normalize.less` sets `[hidden] { display: none; }` but bootstrap.min.css set `[hidden] { display: none !important; }` so we also need the `!important` here to be able to override the default hidden behavior on the sphinx rendered scikit-learn.org. See: https://github.com/scikit-learn/scikit-learn/issues/21755 */display: inline-block !important;position: relative;}#sk-container-id-8 div.sk-text-repr-fallback {display: none;}</style><div id=\"sk-container-id-8\" class=\"sk-top-container\"><div class=\"sk-text-repr-fallback\"><pre>LinearRegression()</pre><b>In a Jupyter environment, please rerun this cell to show the HTML representation or trust the notebook. <br />On GitHub, the HTML representation is unable to render, please try loading this page with nbviewer.org.</b></div><div class=\"sk-container\" hidden><div class=\"sk-item\"><div class=\"sk-estimator sk-toggleable\"><input class=\"sk-toggleable__control sk-hidden--visually\" id=\"sk-estimator-id-8\" type=\"checkbox\" checked><label for=\"sk-estimator-id-8\" class=\"sk-toggleable__label sk-toggleable__label-arrow\">LinearRegression</label><div class=\"sk-toggleable__content\"><pre>LinearRegression()</pre></div></div></div></div></div>"
            ]
          },
          "metadata": {},
          "execution_count": 120
        }
      ]
    },
    {
      "cell_type": "code",
      "source": [
        "lr.coef_"
      ],
      "metadata": {
        "colab": {
          "base_uri": "https://localhost:8080/"
        },
        "id": "ruAnTEpjis5W",
        "outputId": "068fb7db-cd6b-47b5-b263-67a1bae5eef1"
      },
      "execution_count": null,
      "outputs": [
        {
          "output_type": "execute_result",
          "data": {
            "text/plain": [
              "array([[ 1.41290971e+04, -1.03723116e+02,  7.82695570e-01,\n",
              "        -3.07080932e-03]])"
            ]
          },
          "metadata": {},
          "execution_count": 106
        }
      ]
    },
    {
      "cell_type": "code",
      "source": [
        "lr.score(X_poly, y)"
      ],
      "metadata": {
        "colab": {
          "base_uri": "https://localhost:8080/"
        },
        "id": "GN5SFLhmjdrL",
        "outputId": "1027b546-6055-4828-898a-bd3aeb9096b1"
      },
      "execution_count": null,
      "outputs": [
        {
          "output_type": "execute_result",
          "data": {
            "text/plain": [
              "0.573921610942166"
            ]
          },
          "metadata": {},
          "execution_count": 121
        }
      ]
    },
    {
      "cell_type": "code",
      "source": [
        "plt.plot(X, y, '.')\n",
        "plt.plot(X, lr.predict(X_poly), '.')"
      ],
      "metadata": {
        "colab": {
          "base_uri": "https://localhost:8080/",
          "height": 462
        },
        "id": "22JyU81tjsrv",
        "outputId": "5ae2bc5d-b232-48d9-8991-257775af8ca8"
      },
      "execution_count": null,
      "outputs": [
        {
          "output_type": "execute_result",
          "data": {
            "text/plain": [
              "[<matplotlib.lines.Line2D at 0x7823f6a5a8c0>]"
            ]
          },
          "metadata": {},
          "execution_count": 122
        },
        {
          "output_type": "display_data",
          "data": {
            "text/plain": [
              "<Figure size 640x480 with 1 Axes>"
            ],
            "image/png": "[encoded data removed]"
          },
          "metadata": {}
        }
      ]
    },
    {
      "cell_type": "code",
      "source": [
        "X = df[numeric_features + categorical_features]"
      ],
      "metadata": {
        "id": "2A4aqL_uj2n1"
      },
      "execution_count": null,
      "outputs": []
    },
    {
      "cell_type": "code",
      "source": [
        "cf = ColumnTransformer(\n",
        "    transformers = [\n",
        "        ('sc', sc, numeric_features),\n",
        "        ('pf', pf, numeric_features),\n",
        "        ('ohe', ohe, categorical_features)\n",
        "    ]\n",
        ")"
      ],
      "metadata": {
        "id": "1-zMgVSWl1Di"
      },
      "execution_count": null,
      "outputs": []
    },
    {
      "cell_type": "code",
      "source": [
        "X_processed = cf.fit_transform(X)"
      ],
      "metadata": {
        "id": "jQi3bub8l2Q-"
      },
      "execution_count": null,
      "outputs": []
    },
    {
      "cell_type": "code",
      "source": [
        "cf.get_feature_names_out()"
      ],
      "metadata": {
        "colab": {
          "base_uri": "https://localhost:8080/"
        },
        "id": "ChTB3zXjmRCE",
        "outputId": "c004436c-d9fe-42de-f88b-81c3d2296df0"
      },
      "execution_count": null,
      "outputs": [
        {
          "output_type": "execute_result",
          "data": {
            "text/plain": [
              "array(['sc__area', 'sc__rooms', 'pf__area', 'pf__rooms', 'pf__area^2',\n",
              "       'pf__area rooms', 'pf__rooms^2', 'pf__area^3', 'pf__area^2 rooms',\n",
              "       'pf__area rooms^2', 'pf__rooms^3', 'ohe__location_Koszutka',\n",
              "       'ohe__location_Wełnowiec-Józefowiec', 'ohe__location_Śródmieście',\n",
              "       'ohe__location_infrequent_sklearn'], dtype=object)"
            ]
          },
          "metadata": {},
          "execution_count": 128
        }
      ]
    },
    {
      "cell_type": "code",
      "source": [
        "lr = LinearRegression()\n",
        "lr.fit(X_processed, y)"
      ],
      "metadata": {
        "colab": {
          "base_uri": "https://localhost:8080/",
          "height": 74
        },
        "id": "l-6io4bMmTa6",
        "outputId": "3c9862de-0264-4c8a-b789-4a927b245cd0"
      },
      "execution_count": null,
      "outputs": [
        {
          "output_type": "execute_result",
          "data": {
            "text/plain": [
              "LinearRegression()"
            ],
            "text/html": [
              "<style>#sk-container-id-9 {color: black;background-color: white;}#sk-container-id-9 pre{padding: 0;}#sk-container-id-9 div.sk-toggleable {background-color: white;}#sk-container-id-9 label.sk-toggleable__label {cursor: pointer;display: block;width: 100%;margin-bottom: 0;padding: 0.3em;box-sizing: border-box;text-align: center;}#sk-container-id-9 label.sk-toggleable__label-arrow:before {content: \"▸\";float: left;margin-right: 0.25em;color: #696969;}#sk-container-id-9 label.sk-toggleable__label-arrow:hover:before {color: black;}#sk-container-id-9 div.sk-estimator:hover label.sk-toggleable__label-arrow:before {color: black;}#sk-container-id-9 div.sk-toggleable__content {max-height: 0;max-width: 0;overflow: hidden;text-align: left;background-color: #f0f8ff;}#sk-container-id-9 div.sk-toggleable__content pre {margin: 0.2em;color: black;border-radius: 0.25em;background-color: #f0f8ff;}#sk-container-id-9 input.sk-toggleable__control:checked~div.sk-toggleable__content {max-height: 200px;max-width: 100%;overflow: auto;}#sk-container-id-9 input.sk-toggleable__control:checked~label.sk-toggleable__label-arrow:before {content: \"▾\";}#sk-container-id-9 div.sk-estimator input.sk-toggleable__control:checked~label.sk-toggleable__label {background-color: #d4ebff;}#sk-container-id-9 div.sk-label input.sk-toggleable__control:checked~label.sk-toggleable__label {background-color: #d4ebff;}#sk-container-id-9 input.sk-hidden--visually {border: 0;clip: rect(1px 1px 1px 1px);clip: rect(1px, 1px, 1px, 1px);height: 1px;margin: -1px;overflow: hidden;padding: 0;position: absolute;width: 1px;}#sk-container-id-9 div.sk-estimator {font-family: monospace;background-color: #f0f8ff;border: 1px dotted black;border-radius: 0.25em;box-sizing: border-box;margin-bottom: 0.5em;}#sk-container-id-9 div.sk-estimator:hover {background-color: #d4ebff;}#sk-container-id-9 div.sk-parallel-item::after {content: \"\";width: 100%;border-bottom: 1px solid gray;flex-grow: 1;}#sk-container-id-9 div.sk-label:hover label.sk-toggleable__label {background-color: #d4ebff;}#sk-container-id-9 div.sk-serial::before {content: \"\";position: absolute;border-left: 1px solid gray;box-sizing: border-box;top: 0;bottom: 0;left: 50%;z-index: 0;}#sk-container-id-9 div.sk-serial {display: flex;flex-direction: column;align-items: center;background-color: white;padding-right: 0.2em;padding-left: 0.2em;position: relative;}#sk-container-id-9 div.sk-item {position: relative;z-index: 1;}#sk-container-id-9 div.sk-parallel {display: flex;align-items: stretch;justify-content: center;background-color: white;position: relative;}#sk-container-id-9 div.sk-item::before, #sk-container-id-9 div.sk-parallel-item::before {content: \"\";position: absolute;border-left: 1px solid gray;box-sizing: border-box;top: 0;bottom: 0;left: 50%;z-index: -1;}#sk-container-id-9 div.sk-parallel-item {display: flex;flex-direction: column;z-index: 1;position: relative;background-color: white;}#sk-container-id-9 div.sk-parallel-item:first-child::after {align-self: flex-end;width: 50%;}#sk-container-id-9 div.sk-parallel-item:last-child::after {align-self: flex-start;width: 50%;}#sk-container-id-9 div.sk-parallel-item:only-child::after {width: 0;}#sk-container-id-9 div.sk-dashed-wrapped {border: 1px dashed gray;margin: 0 0.4em 0.5em 0.4em;box-sizing: border-box;padding-bottom: 0.4em;background-color: white;}#sk-container-id-9 div.sk-label label {font-family: monospace;font-weight: bold;display: inline-block;line-height: 1.2em;}#sk-container-id-9 div.sk-label-container {text-align: center;}#sk-container-id-9 div.sk-container {/* jupyter's `normalize.less` sets `[hidden] { display: none; }` but bootstrap.min.css set `[hidden] { display: none !important; }` so we also need the `!important` here to be able to override the default hidden behavior on the sphinx rendered scikit-learn.org. See: https://github.com/scikit-learn/scikit-learn/issues/21755 */display: inline-block !important;position: relative;}#sk-container-id-9 div.sk-text-repr-fallback {display: none;}</style><div id=\"sk-container-id-9\" class=\"sk-top-container\"><div class=\"sk-text-repr-fallback\"><pre>LinearRegression()</pre><b>In a Jupyter environment, please rerun this cell to show the HTML representation or trust the notebook. <br />On GitHub, the HTML representation is unable to render, please try loading this page with nbviewer.org.</b></div><div class=\"sk-container\" hidden><div class=\"sk-item\"><div class=\"sk-estimator sk-toggleable\"><input class=\"sk-toggleable__control sk-hidden--visually\" id=\"sk-estimator-id-9\" type=\"checkbox\" checked><label for=\"sk-estimator-id-9\" class=\"sk-toggleable__label sk-toggleable__label-arrow\">LinearRegression</label><div class=\"sk-toggleable__content\"><pre>LinearRegression()</pre></div></div></div></div></div>"
            ]
          },
          "metadata": {},
          "execution_count": 129
        }
      ]
    },
    {
      "cell_type": "code",
      "source": [
        "lr.score(X_processed, y)"
      ],
      "metadata": {
        "colab": {
          "base_uri": "https://localhost:8080/"
        },
        "id": "VBqsAeb1ml_j",
        "outputId": "0e5d0da9-ff97-4788-fae7-ac99cdb9fb0c"
      },
      "execution_count": null,
      "outputs": [
        {
          "output_type": "execute_result",
          "data": {
            "text/plain": [
              "0.6211064578497019"
            ]
          },
          "metadata": {},
          "execution_count": 130
        }
      ]
    },
    {
      "cell_type": "markdown",
      "source": [
        "# Drzewa decyzyjne"
      ],
      "metadata": {
        "id": "aacjm4kIt6vQ"
      }
    },
    {
      "cell_type": "code",
      "source": [
        "from sklearn.tree import DecisionTreeRegressor"
      ],
      "metadata": {
        "id": "fwBi_nJ2ms_W"
      },
      "execution_count": null,
      "outputs": []
    },
    {
      "cell_type": "code",
      "source": [
        "X = df[['area']]"
      ],
      "metadata": {
        "id": "mJgtKHHquQZ1"
      },
      "execution_count": null,
      "outputs": []
    },
    {
      "cell_type": "code",
      "source": [
        "dtr = DecisionTreeRegressor(max_depth=3,\n",
        "                            min_samples_leaf = 20,\n",
        "                            min_samples_split = 30\n",
        "                            )"
      ],
      "metadata": {
        "id": "ZHI-IZ0puSj1"
      },
      "execution_count": null,
      "outputs": []
    },
    {
      "cell_type": "code",
      "source": [
        "dtr.fit(X, y)"
      ],
      "metadata": {
        "colab": {
          "base_uri": "https://localhost:8080/",
          "height": 74
        },
        "id": "agF0X1lavGXT",
        "outputId": "22413736-37f2-40c7-d12e-d13fe8cf3ad2"
      },
      "execution_count": null,
      "outputs": [
        {
          "output_type": "execute_result",
          "data": {
            "text/plain": [
              "DecisionTreeRegressor(max_depth=3, min_samples_leaf=20, min_samples_split=30)"
            ],
            "text/html": [
              "<style>#sk-container-id-17 {color: black;background-color: white;}#sk-container-id-17 pre{padding: 0;}#sk-container-id-17 div.sk-toggleable {background-color: white;}#sk-container-id-17 label.sk-toggleable__label {cursor: pointer;display: block;width: 100%;margin-bottom: 0;padding: 0.3em;box-sizing: border-box;text-align: center;}#sk-container-id-17 label.sk-toggleable__label-arrow:before {content: \"▸\";float: left;margin-right: 0.25em;color: #696969;}#sk-container-id-17 label.sk-toggleable__label-arrow:hover:before {color: black;}#sk-container-id-17 div.sk-estimator:hover label.sk-toggleable__label-arrow:before {color: black;}#sk-container-id-17 div.sk-toggleable__content {max-height: 0;max-width: 0;overflow: hidden;text-align: left;background-color: #f0f8ff;}#sk-container-id-17 div.sk-toggleable__content pre {margin: 0.2em;color: black;border-radius: 0.25em;background-color: #f0f8ff;}#sk-container-id-17 input.sk-toggleable__control:checked~div.sk-toggleable__content {max-height: 200px;max-width: 100%;overflow: auto;}#sk-container-id-17 input.sk-toggleable__control:checked~label.sk-toggleable__label-arrow:before {content: \"▾\";}#sk-container-id-17 div.sk-estimator input.sk-toggleable__control:checked~label.sk-toggleable__label {background-color: #d4ebff;}#sk-container-id-17 div.sk-label input.sk-toggleable__control:checked~label.sk-toggleable__label {background-color: #d4ebff;}#sk-container-id-17 input.sk-hidden--visually {border: 0;clip: rect(1px 1px 1px 1px);clip: rect(1px, 1px, 1px, 1px);height: 1px;margin: -1px;overflow: hidden;padding: 0;position: absolute;width: 1px;}#sk-container-id-17 div.sk-estimator {font-family: monospace;background-color: #f0f8ff;border: 1px dotted black;border-radius: 0.25em;box-sizing: border-box;margin-bottom: 0.5em;}#sk-container-id-17 div.sk-estimator:hover {background-color: #d4ebff;}#sk-container-id-17 div.sk-parallel-item::after {content: \"\";width: 100%;border-bottom: 1px solid gray;flex-grow: 1;}#sk-container-id-17 div.sk-label:hover label.sk-toggleable__label {background-color: #d4ebff;}#sk-container-id-17 div.sk-serial::before {content: \"\";position: absolute;border-left: 1px solid gray;box-sizing: border-box;top: 0;bottom: 0;left: 50%;z-index: 0;}#sk-container-id-17 div.sk-serial {display: flex;flex-direction: column;align-items: center;background-color: white;padding-right: 0.2em;padding-left: 0.2em;position: relative;}#sk-container-id-17 div.sk-item {position: relative;z-index: 1;}#sk-container-id-17 div.sk-parallel {display: flex;align-items: stretch;justify-content: center;background-color: white;position: relative;}#sk-container-id-17 div.sk-item::before, #sk-container-id-17 div.sk-parallel-item::before {content: \"\";position: absolute;border-left: 1px solid gray;box-sizing: border-box;top: 0;bottom: 0;left: 50%;z-index: -1;}#sk-container-id-17 div.sk-parallel-item {display: flex;flex-direction: column;z-index: 1;position: relative;background-color: white;}#sk-container-id-17 div.sk-parallel-item:first-child::after {align-self: flex-end;width: 50%;}#sk-container-id-17 div.sk-parallel-item:last-child::after {align-self: flex-start;width: 50%;}#sk-container-id-17 div.sk-parallel-item:only-child::after {width: 0;}#sk-container-id-17 div.sk-dashed-wrapped {border: 1px dashed gray;margin: 0 0.4em 0.5em 0.4em;box-sizing: border-box;padding-bottom: 0.4em;background-color: white;}#sk-container-id-17 div.sk-label label {font-family: monospace;font-weight: bold;display: inline-block;line-height: 1.2em;}#sk-container-id-17 div.sk-label-container {text-align: center;}#sk-container-id-17 div.sk-container {/* jupyter's `normalize.less` sets `[hidden] { display: none; }` but bootstrap.min.css set `[hidden] { display: none !important; }` so we also need the `!important` here to be able to override the default hidden behavior on the sphinx rendered scikit-learn.org. See: https://github.com/scikit-learn/scikit-learn/issues/21755 */display: inline-block !important;position: relative;}#sk-container-id-17 div.sk-text-repr-fallback {display: none;}</style><div id=\"sk-container-id-17\" class=\"sk-top-container\"><div class=\"sk-text-repr-fallback\"><pre>DecisionTreeRegressor(max_depth=3, min_samples_leaf=20, min_samples_split=30)</pre><b>In a Jupyter environment, please rerun this cell to show the HTML representation or trust the notebook. <br />On GitHub, the HTML representation is unable to render, please try loading this page with nbviewer.org.</b></div><div class=\"sk-container\" hidden><div class=\"sk-item\"><div class=\"sk-estimator sk-toggleable\"><input class=\"sk-toggleable__control sk-hidden--visually\" id=\"sk-estimator-id-17\" type=\"checkbox\" checked><label for=\"sk-estimator-id-17\" class=\"sk-toggleable__label sk-toggleable__label-arrow\">DecisionTreeRegressor</label><div class=\"sk-toggleable__content\"><pre>DecisionTreeRegressor(max_depth=3, min_samples_leaf=20, min_samples_split=30)</pre></div></div></div></div></div>"
            ]
          },
          "metadata": {},
          "execution_count": 161
        }
      ]
    },
    {
      "cell_type": "code",
      "source": [
        "dtr.score(X, y)"
      ],
      "metadata": {
        "colab": {
          "base_uri": "https://localhost:8080/"
        },
        "id": "DLRAYg8rvJv9",
        "outputId": "18315710-ca20-425a-f6d8-4b492791bbd6"
      },
      "execution_count": null,
      "outputs": [
        {
          "output_type": "execute_result",
          "data": {
            "text/plain": [
              "0.6701666590885066"
            ]
          },
          "metadata": {},
          "execution_count": 158
        }
      ]
    },
    {
      "cell_type": "code",
      "source": [
        "plt.plot(X, y, '.')\n",
        "plt.plot(X, dtr.predict(X), '.')"
      ],
      "metadata": {
        "colab": {
          "base_uri": "https://localhost:8080/",
          "height": 462
        },
        "id": "B0CAaQ2wvUL0",
        "outputId": "8bc59ea4-d1f8-4561-c9bc-40c6b61fdf83"
      },
      "execution_count": null,
      "outputs": [
        {
          "output_type": "execute_result",
          "data": {
            "text/plain": [
              "[<matplotlib.lines.Line2D at 0x7823f614cc10>]"
            ]
          },
          "metadata": {},
          "execution_count": 162
        },
        {
          "output_type": "display_data",
          "data": {
            "text/plain": [
              "<Figure size 640x480 with 1 Axes>"
            ],
            "image/png": "[encoded data removed]"
          },
          "metadata": {}
        }
      ]
    },
    {
      "cell_type": "code",
      "source": [
        "from sklearn import tree"
      ],
      "metadata": {
        "id": "76WYqpouvp25"
      },
      "execution_count": null,
      "outputs": []
    },
    {
      "cell_type": "code",
      "source": [
        "dtr.feature_names_in_"
      ],
      "metadata": {
        "colab": {
          "base_uri": "https://localhost:8080/"
        },
        "id": "5ZdQUhgTxG_0",
        "outputId": "040e1776-34d0-409c-dfe0-f96b4cbc5e23"
      },
      "execution_count": null,
      "outputs": [
        {
          "output_type": "execute_result",
          "data": {
            "text/plain": [
              "array(['area'], dtype=object)"
            ]
          },
          "metadata": {},
          "execution_count": 164
        }
      ]
    },
    {
      "cell_type": "code",
      "source": [
        "tr = tree.export_text(dtr,\n",
        "                      feature_names = dtr.feature_names_in_)\n",
        "\n",
        "print(tr)"
      ],
      "metadata": {
        "colab": {
          "base_uri": "https://localhost:8080/"
        },
        "id": "aCps8-znw7yb",
        "outputId": "d702ab2e-bf96-47fc-87e2-8f279c0b4cf3"
      },
      "execution_count": null,
      "outputs": [
        {
          "output_type": "stream",
          "name": "stdout",
          "text": [
            "|--- area <= 64.50\n",
            "|   |--- area <= 38.10\n",
            "|   |   |--- area <= 25.32\n",
            "|   |   |   |--- value: [166524.39]\n",
            "|   |   |--- area >  25.32\n",
            "|   |   |   |--- value: [312444.78]\n",
            "|   |--- area >  38.10\n",
            "|   |   |--- area <= 50.33\n",
            "|   |   |   |--- value: [453181.05]\n",
            "|   |   |--- area >  50.33\n",
            "|   |   |   |--- value: [527446.22]\n",
            "|--- area >  64.50\n",
            "|   |--- area <= 83.46\n",
            "|   |   |--- area <= 76.15\n",
            "|   |   |   |--- value: [642290.92]\n",
            "|   |   |--- area >  76.15\n",
            "|   |   |   |--- value: [717986.92]\n",
            "|   |--- area >  83.46\n",
            "|   |   |--- area <= 88.15\n",
            "|   |   |   |--- value: [755434.68]\n",
            "|   |   |--- area >  88.15\n",
            "|   |   |   |--- value: [834106.82]\n",
            "\n"
          ]
        }
      ]
    },
    {
      "cell_type": "code",
      "source": [
        "fig, ax = plt.subplots(figsize=(20,10))\n",
        "\n",
        "tree.plot_tree(dtr,\n",
        "               feature_names = dtr.feature_names_in_,\n",
        "               filled= True)\n",
        "\n",
        "plt.show()"
      ],
      "metadata": {
        "colab": {
          "base_uri": "https://localhost:8080/",
          "height": 382
        },
        "id": "EvJ4I1NmxPZQ",
        "outputId": "8f97581f-2b55-44da-9c2e-7bc53930b08d"
      },
      "execution_count": null,
      "outputs": [
        {
          "output_type": "display_data",
          "data": {
            "text/plain": [
              "<Figure size 2000x1000 with 1 Axes>"
            ],
            "image/png": "[encoded data removed]"
          },
          "metadata": {}
        }
      ]
    },
    {
      "cell_type": "markdown",
      "source": [
        "# Podział zbiorów"
      ],
      "metadata": {
        "id": "KllcDbV77uKA"
      }
    },
    {
      "cell_type": "markdown",
      "source": [
        "## Podział na zbiór treningowy, walidacyjny i testowy"
      ],
      "metadata": {
        "id": "BjDd26s871W-"
      }
    },
    {
      "cell_type": "code",
      "source": [
        "from sklearn.model_selection import train_test_split"
      ],
      "metadata": {
        "id": "V32pwz4Nx5PK"
      },
      "execution_count": null,
      "outputs": []
    },
    {
      "cell_type": "code",
      "source": [
        "X = df[['area', 'rooms', 'location']]\n",
        "y = df['price']"
      ],
      "metadata": {
        "id": "r-K4lyRf8j75"
      },
      "execution_count": null,
      "outputs": []
    },
    {
      "cell_type": "code",
      "source": [
        "X_train, X_test, y_train, y_test = train_test_split(X,\n",
        "                                                    y,\n",
        "                                                    test_size=0.2,\n",
        "                                                    random_state=42)"
      ],
      "metadata": {
        "id": "bRP3ocr58DYA"
      },
      "execution_count": null,
      "outputs": []
    },
    {
      "cell_type": "code",
      "source": [
        "len(X)"
      ],
      "metadata": {
        "colab": {
          "base_uri": "https://localhost:8080/"
        },
        "id": "28AwYwh18ssk",
        "outputId": "e400b19e-05df-4bdb-a841-68bb7f4a62ec"
      },
      "execution_count": null,
      "outputs": [
        {
          "output_type": "execute_result",
          "data": {
            "text/plain": [
              "2412"
            ]
          },
          "metadata": {},
          "execution_count": 171
        }
      ]
    },
    {
      "cell_type": "code",
      "source": [
        "len(X_train)"
      ],
      "metadata": {
        "colab": {
          "base_uri": "https://localhost:8080/"
        },
        "id": "7WXVqzAR8tkE",
        "outputId": "7c42588e-32b6-499d-b13c-ebccc3ddac68"
      },
      "execution_count": null,
      "outputs": [
        {
          "output_type": "execute_result",
          "data": {
            "text/plain": [
              "1929"
            ]
          },
          "metadata": {},
          "execution_count": 172
        }
      ]
    },
    {
      "cell_type": "code",
      "source": [
        "1929/2412"
      ],
      "metadata": {
        "colab": {
          "base_uri": "https://localhost:8080/"
        },
        "id": "gZKGNInA8wEp",
        "outputId": "acf4005d-4cdd-4d87-fe72-eede1f982468"
      },
      "execution_count": null,
      "outputs": [
        {
          "output_type": "execute_result",
          "data": {
            "text/plain": [
              "0.7997512437810945"
            ]
          },
          "metadata": {},
          "execution_count": 173
        }
      ]
    },
    {
      "cell_type": "markdown",
      "source": [
        "### Wydzielenie zbioru walidacyjnego"
      ],
      "metadata": {
        "id": "tNiym_gc9AiO"
      }
    },
    {
      "cell_type": "code",
      "source": [
        "X_train, X_val, y_train, y_val = train_test_split(X_train,\n",
        "                                                    y_train,\n",
        "                                                    test_size=0.2,\n",
        "                                                    random_state=42)"
      ],
      "metadata": {
        "id": "krpaIllX8yia"
      },
      "execution_count": null,
      "outputs": []
    },
    {
      "cell_type": "markdown",
      "source": [
        "### Przygotowanie zbioru treningowego"
      ],
      "metadata": {
        "id": "xwee9jNz9xzn"
      }
    },
    {
      "cell_type": "code",
      "source": [
        "numeric_features = ['area', 'rooms']\n",
        "categorical_features = ['location']"
      ],
      "metadata": {
        "id": "m22fPDM1-Bf6"
      },
      "execution_count": null,
      "outputs": []
    },
    {
      "cell_type": "code",
      "source": [
        "sc = StandardScaler()\n",
        "pf = PolynomialFeatures(degree=3)\n",
        "ohe = OneHotEncoder(handle_unknown='ignore',\n",
        "                    min_frequency=0.1)"
      ],
      "metadata": {
        "id": "yAu7VQ8v-CvZ"
      },
      "execution_count": null,
      "outputs": []
    },
    {
      "cell_type": "code",
      "source": [
        "cf = ColumnTransformer(\n",
        "    transformers = [\n",
        "        ('sc', sc, numeric_features),\n",
        "        ('pf', pf, numeric_features),\n",
        "        ('ohe', ohe, categorical_features)\n",
        "    ]\n",
        ")"
      ],
      "metadata": {
        "id": "pk7eOgSN90Yt"
      },
      "execution_count": null,
      "outputs": []
    },
    {
      "cell_type": "code",
      "source": [
        "X_train_processed = cf.fit_transform(X_train)"
      ],
      "metadata": {
        "id": "9_XXUoPM-hJv"
      },
      "execution_count": null,
      "outputs": []
    },
    {
      "cell_type": "code",
      "source": [
        "lr = LinearRegression()\n",
        "lr.fit(X_train_processed, y_train)"
      ],
      "metadata": {
        "colab": {
          "base_uri": "https://localhost:8080/",
          "height": 74
        },
        "id": "War-ugju-u-Z",
        "outputId": "1133e4ee-26d9-41a1-eddb-54330f694597"
      },
      "execution_count": null,
      "outputs": [
        {
          "output_type": "execute_result",
          "data": {
            "text/plain": [
              "LinearRegression()"
            ],
            "text/html": [
              "<style>#sk-container-id-22 {color: black;background-color: white;}#sk-container-id-22 pre{padding: 0;}#sk-container-id-22 div.sk-toggleable {background-color: white;}#sk-container-id-22 label.sk-toggleable__label {cursor: pointer;display: block;width: 100%;margin-bottom: 0;padding: 0.3em;box-sizing: border-box;text-align: center;}#sk-container-id-22 label.sk-toggleable__label-arrow:before {content: \"▸\";float: left;margin-right: 0.25em;color: #696969;}#sk-container-id-22 label.sk-toggleable__label-arrow:hover:before {color: black;}#sk-container-id-22 div.sk-estimator:hover label.sk-toggleable__label-arrow:before {color: black;}#sk-container-id-22 div.sk-toggleable__content {max-height: 0;max-width: 0;overflow: hidden;text-align: left;background-color: #f0f8ff;}#sk-container-id-22 div.sk-toggleable__content pre {margin: 0.2em;color: black;border-radius: 0.25em;background-color: #f0f8ff;}#sk-container-id-22 input.sk-toggleable__control:checked~div.sk-toggleable__content {max-height: 200px;max-width: 100%;overflow: auto;}#sk-container-id-22 input.sk-toggleable__control:checked~label.sk-toggleable__label-arrow:before {content: \"▾\";}#sk-container-id-22 div.sk-estimator input.sk-toggleable__control:checked~label.sk-toggleable__label {background-color: #d4ebff;}#sk-container-id-22 div.sk-label input.sk-toggleable__control:checked~label.sk-toggleable__label {background-color: #d4ebff;}#sk-container-id-22 input.sk-hidden--visually {border: 0;clip: rect(1px 1px 1px 1px);clip: rect(1px, 1px, 1px, 1px);height: 1px;margin: -1px;overflow: hidden;padding: 0;position: absolute;width: 1px;}#sk-container-id-22 div.sk-estimator {font-family: monospace;background-color: #f0f8ff;border: 1px dotted black;border-radius: 0.25em;box-sizing: border-box;margin-bottom: 0.5em;}#sk-container-id-22 div.sk-estimator:hover {background-color: #d4ebff;}#sk-container-id-22 div.sk-parallel-item::after {content: \"\";width: 100%;border-bottom: 1px solid gray;flex-grow: 1;}#sk-container-id-22 div.sk-label:hover label.sk-toggleable__label {background-color: #d4ebff;}#sk-container-id-22 div.sk-serial::before {content: \"\";position: absolute;border-left: 1px solid gray;box-sizing: border-box;top: 0;bottom: 0;left: 50%;z-index: 0;}#sk-container-id-22 div.sk-serial {display: flex;flex-direction: column;align-items: center;background-color: white;padding-right: 0.2em;padding-left: 0.2em;position: relative;}#sk-container-id-22 div.sk-item {position: relative;z-index: 1;}#sk-container-id-22 div.sk-parallel {display: flex;align-items: stretch;justify-content: center;background-color: white;position: relative;}#sk-container-id-22 div.sk-item::before, #sk-container-id-22 div.sk-parallel-item::before {content: \"\";position: absolute;border-left: 1px solid gray;box-sizing: border-box;top: 0;bottom: 0;left: 50%;z-index: -1;}#sk-container-id-22 div.sk-parallel-item {display: flex;flex-direction: column;z-index: 1;position: relative;background-color: white;}#sk-container-id-22 div.sk-parallel-item:first-child::after {align-self: flex-end;width: 50%;}#sk-container-id-22 div.sk-parallel-item:last-child::after {align-self: flex-start;width: 50%;}#sk-container-id-22 div.sk-parallel-item:only-child::after {width: 0;}#sk-container-id-22 div.sk-dashed-wrapped {border: 1px dashed gray;margin: 0 0.4em 0.5em 0.4em;box-sizing: border-box;padding-bottom: 0.4em;background-color: white;}#sk-container-id-22 div.sk-label label {font-family: monospace;font-weight: bold;display: inline-block;line-height: 1.2em;}#sk-container-id-22 div.sk-label-container {text-align: center;}#sk-container-id-22 div.sk-container {/* jupyter's `normalize.less` sets `[hidden] { display: none; }` but bootstrap.min.css set `[hidden] { display: none !important; }` so we also need the `!important` here to be able to override the default hidden behavior on the sphinx rendered scikit-learn.org. See: https://github.com/scikit-learn/scikit-learn/issues/21755 */display: inline-block !important;position: relative;}#sk-container-id-22 div.sk-text-repr-fallback {display: none;}</style><div id=\"sk-container-id-22\" class=\"sk-top-container\"><div class=\"sk-text-repr-fallback\"><pre>LinearRegression()</pre><b>In a Jupyter environment, please rerun this cell to show the HTML representation or trust the notebook. <br />On GitHub, the HTML representation is unable to render, please try loading this page with nbviewer.org.</b></div><div class=\"sk-container\" hidden><div class=\"sk-item\"><div class=\"sk-estimator sk-toggleable\"><input class=\"sk-toggleable__control sk-hidden--visually\" id=\"sk-estimator-id-22\" type=\"checkbox\" checked><label for=\"sk-estimator-id-22\" class=\"sk-toggleable__label sk-toggleable__label-arrow\">LinearRegression</label><div class=\"sk-toggleable__content\"><pre>LinearRegression()</pre></div></div></div></div></div>"
            ]
          },
          "metadata": {},
          "execution_count": 205
        }
      ]
    },
    {
      "cell_type": "code",
      "source": [
        "lr.score(X_train_processed, y_train)"
      ],
      "metadata": {
        "colab": {
          "base_uri": "https://localhost:8080/"
        },
        "id": "90YQEt7L_FIK",
        "outputId": "e863171d-6812-4073-e1cd-d635463a762f"
      },
      "execution_count": null,
      "outputs": [
        {
          "output_type": "execute_result",
          "data": {
            "text/plain": [
              "0.6081127353881095"
            ]
          },
          "metadata": {},
          "execution_count": 206
        }
      ]
    },
    {
      "cell_type": "markdown",
      "source": [
        "### Walidacja modelu"
      ],
      "metadata": {
        "id": "mjMMyCR__Lzx"
      }
    },
    {
      "cell_type": "code",
      "source": [
        "X_val_processed = cf.transform(X_val)"
      ],
      "metadata": {
        "id": "5YZVuwyn_NY3"
      },
      "execution_count": null,
      "outputs": []
    },
    {
      "cell_type": "code",
      "source": [
        "lr.score(X_val_processed, y_val)"
      ],
      "metadata": {
        "colab": {
          "base_uri": "https://localhost:8080/"
        },
        "id": "XkqslxpV_kuF",
        "outputId": "2410fe95-7fbe-45f0-b99e-1cc621b1f421"
      },
      "execution_count": null,
      "outputs": [
        {
          "output_type": "execute_result",
          "data": {
            "text/plain": [
              "0.6499271126705175"
            ]
          },
          "metadata": {},
          "execution_count": 208
        }
      ]
    },
    {
      "cell_type": "markdown",
      "source": [
        "### Test modelu"
      ],
      "metadata": {
        "id": "-fdNgWs8ATGz"
      }
    },
    {
      "cell_type": "code",
      "source": [
        "X_test_processed = cf.transform(X_test)"
      ],
      "metadata": {
        "id": "1IiveTxlABEU"
      },
      "execution_count": null,
      "outputs": []
    },
    {
      "cell_type": "code",
      "source": [
        "lr.score(X_test_processed, y_test)"
      ],
      "metadata": {
        "colab": {
          "base_uri": "https://localhost:8080/"
        },
        "id": "ZYGN9Ng1AYhX",
        "outputId": "976f18bb-d631-4ea6-94fe-8b53b3400dcb"
      },
      "execution_count": null,
      "outputs": [
        {
          "output_type": "execute_result",
          "data": {
            "text/plain": [
              "0.6117320438784276"
            ]
          },
          "metadata": {},
          "execution_count": 210
        }
      ]
    },
    {
      "cell_type": "markdown",
      "source": [
        "# Walidacja krzyżowa"
      ],
      "metadata": {
        "id": "rfMAmJ-KAsjI"
      }
    },
    {
      "cell_type": "code",
      "source": [
        "X = df[['area', 'rooms', 'location']]\n",
        "y = df['price']"
      ],
      "metadata": {
        "id": "xF9-mMu3Abzo"
      },
      "execution_count": null,
      "outputs": []
    },
    {
      "cell_type": "code",
      "source": [
        "X_train, X_test, y_train, y_test = train_test_split(X,\n",
        "                                                    y,\n",
        "                                                    test_size=0.2,\n",
        "                                                    random_state=42)"
      ],
      "metadata": {
        "id": "jNnEl4zZA6D1"
      },
      "execution_count": null,
      "outputs": []
    },
    {
      "cell_type": "code",
      "source": [
        "from sklearn.model_selection import GridSearchCV"
      ],
      "metadata": {
        "id": "pdahdtDNBcjZ"
      },
      "execution_count": null,
      "outputs": []
    },
    {
      "cell_type": "code",
      "source": [
        "dtr = DecisionTreeRegressor()\n",
        "\n",
        "params = {'max_depth': [5, 10, 15],\n",
        "          'min_samples_split': [20, 30, 40]}"
      ],
      "metadata": {
        "id": "al3Ic_7QBdtD"
      },
      "execution_count": null,
      "outputs": []
    },
    {
      "cell_type": "code",
      "source": [
        "gs = GridSearchCV(dtr,\n",
        "                  param_grid = params,\n",
        "                  cv = 10,\n",
        "                  verbose = 3)"
      ],
      "metadata": {
        "id": "EsyVVsaAB9If"
      },
      "execution_count": null,
      "outputs": []
    },
    {
      "cell_type": "code",
      "source": [
        "X_train_processed = cf.fit_transform(X_train)"
      ],
      "metadata": {
        "id": "C6DSPHpRDGPH"
      },
      "execution_count": null,
      "outputs": []
    },
    {
      "cell_type": "code",
      "source": [
        "gs.fit(X_train_processed, y_train)"
      ],
      "metadata": {
        "id": "5Wsq5RVMDJ1v"
      },
      "execution_count": null,
      "outputs": []
    },
    {
      "cell_type": "code",
      "source": [
        "gs.best_estimator_"
      ],
      "metadata": {
        "colab": {
          "base_uri": "https://localhost:8080/",
          "height": 74
        },
        "id": "2FCTx7O4DjhR",
        "outputId": "3f48fcdb-a951-40b6-d199-95e980ba7196"
      },
      "execution_count": null,
      "outputs": [
        {
          "output_type": "execute_result",
          "data": {
            "text/plain": [
              "DecisionTreeRegressor(max_depth=10, min_samples_split=40)"
            ],
            "text/html": [
              "<style>#sk-container-id-26 {color: black;background-color: white;}#sk-container-id-26 pre{padding: 0;}#sk-container-id-26 div.sk-toggleable {background-color: white;}#sk-container-id-26 label.sk-toggleable__label {cursor: pointer;display: block;width: 100%;margin-bottom: 0;padding: 0.3em;box-sizing: border-box;text-align: center;}#sk-container-id-26 label.sk-toggleable__label-arrow:before {content: \"▸\";float: left;margin-right: 0.25em;color: #696969;}#sk-container-id-26 label.sk-toggleable__label-arrow:hover:before {color: black;}#sk-container-id-26 div.sk-estimator:hover label.sk-toggleable__label-arrow:before {color: black;}#sk-container-id-26 div.sk-toggleable__content {max-height: 0;max-width: 0;overflow: hidden;text-align: left;background-color: #f0f8ff;}#sk-container-id-26 div.sk-toggleable__content pre {margin: 0.2em;color: black;border-radius: 0.25em;background-color: #f0f8ff;}#sk-container-id-26 input.sk-toggleable__control:checked~div.sk-toggleable__content {max-height: 200px;max-width: 100%;overflow: auto;}#sk-container-id-26 input.sk-toggleable__control:checked~label.sk-toggleable__label-arrow:before {content: \"▾\";}#sk-container-id-26 div.sk-estimator input.sk-toggleable__control:checked~label.sk-toggleable__label {background-color: #d4ebff;}#sk-container-id-26 div.sk-label input.sk-toggleable__control:checked~label.sk-toggleable__label {background-color: #d4ebff;}#sk-container-id-26 input.sk-hidden--visually {border: 0;clip: rect(1px 1px 1px 1px);clip: rect(1px, 1px, 1px, 1px);height: 1px;margin: -1px;overflow: hidden;padding: 0;position: absolute;width: 1px;}#sk-container-id-26 div.sk-estimator {font-family: monospace;background-color: #f0f8ff;border: 1px dotted black;border-radius: 0.25em;box-sizing: border-box;margin-bottom: 0.5em;}#sk-container-id-26 div.sk-estimator:hover {background-color: #d4ebff;}#sk-container-id-26 div.sk-parallel-item::after {content: \"\";width: 100%;border-bottom: 1px solid gray;flex-grow: 1;}#sk-container-id-26 div.sk-label:hover label.sk-toggleable__label {background-color: #d4ebff;}#sk-container-id-26 div.sk-serial::before {content: \"\";position: absolute;border-left: 1px solid gray;box-sizing: border-box;top: 0;bottom: 0;left: 50%;z-index: 0;}#sk-container-id-26 div.sk-serial {display: flex;flex-direction: column;align-items: center;background-color: white;padding-right: 0.2em;padding-left: 0.2em;position: relative;}#sk-container-id-26 div.sk-item {position: relative;z-index: 1;}#sk-container-id-26 div.sk-parallel {display: flex;align-items: stretch;justify-content: center;background-color: white;position: relative;}#sk-container-id-26 div.sk-item::before, #sk-container-id-26 div.sk-parallel-item::before {content: \"\";position: absolute;border-left: 1px solid gray;box-sizing: border-box;top: 0;bottom: 0;left: 50%;z-index: -1;}#sk-container-id-26 div.sk-parallel-item {display: flex;flex-direction: column;z-index: 1;position: relative;background-color: white;}#sk-container-id-26 div.sk-parallel-item:first-child::after {align-self: flex-end;width: 50%;}#sk-container-id-26 div.sk-parallel-item:last-child::after {align-self: flex-start;width: 50%;}#sk-container-id-26 div.sk-parallel-item:only-child::after {width: 0;}#sk-container-id-26 div.sk-dashed-wrapped {border: 1px dashed gray;margin: 0 0.4em 0.5em 0.4em;box-sizing: border-box;padding-bottom: 0.4em;background-color: white;}#sk-container-id-26 div.sk-label label {font-family: monospace;font-weight: bold;display: inline-block;line-height: 1.2em;}#sk-container-id-26 div.sk-label-container {text-align: center;}#sk-container-id-26 div.sk-container {/* jupyter's `normalize.less` sets `[hidden] { display: none; }` but bootstrap.min.css set `[hidden] { display: none !important; }` so we also need the `!important` here to be able to override the default hidden behavior on the sphinx rendered scikit-learn.org. See: https://github.com/scikit-learn/scikit-learn/issues/21755 */display: inline-block !important;position: relative;}#sk-container-id-26 div.sk-text-repr-fallback {display: none;}</style><div id=\"sk-container-id-26\" class=\"sk-top-container\"><div class=\"sk-text-repr-fallback\"><pre>DecisionTreeRegressor(max_depth=10, min_samples_split=40)</pre><b>In a Jupyter environment, please rerun this cell to show the HTML representation or trust the notebook. <br />On GitHub, the HTML representation is unable to render, please try loading this page with nbviewer.org.</b></div><div class=\"sk-container\" hidden><div class=\"sk-item\"><div class=\"sk-estimator sk-toggleable\"><input class=\"sk-toggleable__control sk-hidden--visually\" id=\"sk-estimator-id-30\" type=\"checkbox\" checked><label for=\"sk-estimator-id-30\" class=\"sk-toggleable__label sk-toggleable__label-arrow\">DecisionTreeRegressor</label><div class=\"sk-toggleable__content\"><pre>DecisionTreeRegressor(max_depth=10, min_samples_split=40)</pre></div></div></div></div></div>"
            ]
          },
          "metadata": {},
          "execution_count": 223
        }
      ]
    },
    {
      "cell_type": "code",
      "source": [
        "gs.best_score_"
      ],
      "metadata": {
        "colab": {
          "base_uri": "https://localhost:8080/"
        },
        "id": "dvSk81WFDko3",
        "outputId": "a283fff0-5ea1-4e69-db1a-946133dad6a3"
      },
      "execution_count": null,
      "outputs": [
        {
          "output_type": "execute_result",
          "data": {
            "text/plain": [
              "0.6302505347873757"
            ]
          },
          "metadata": {},
          "execution_count": 224
        }
      ]
    },
    {
      "cell_type": "code",
      "source": [
        "X_test_processed = cf.transform(X_test)"
      ],
      "metadata": {
        "id": "zow3vXacD1DW"
      },
      "execution_count": null,
      "outputs": []
    },
    {
      "cell_type": "code",
      "source": [
        "gs.score(X_test_processed, y_test)"
      ],
      "metadata": {
        "id": "DwJ4hMPsEAzb",
        "outputId": "4e90ac8d-12fe-4100-b28a-27f5a80c60f6",
        "colab": {
          "base_uri": "https://localhost:8080/"
        }
      },
      "execution_count": null,
      "outputs": [
        {
          "output_type": "execute_result",
          "data": {
            "text/plain": [
              "0.6282156821798708"
            ]
          },
          "metadata": {},
          "execution_count": 226
        }
      ]
    }
  ]
}