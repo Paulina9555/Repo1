{
  "nbformat": 4,
  "nbformat_minor": 0,
  "metadata": {
    "colab": {
      "provenance": [],
      "authorship_tag": "ABX9TyPuPCB1wTlaLP0g2P9ZwAOL",
      "include_colab_link": true
    },
    "kernelspec": {
      "name": "python3",
      "display_name": "Python 3"
    },
    "language_info": {
      "name": "python"
    }
  },
  "cells": [
    {
      "cell_type": "markdown",
      "metadata": {
        "id": "view-in-github",
        "colab_type": "text"
      },
      "source": [
        "<a href=\"https://colab.research.google.com/github/Paulina9555/Repo1/blob/master/Python_podstawy.ipynb\" target=\"_parent\"><img src=\"https://colab.research.google.com/assets/colab-badge.svg\" alt=\"Open In Colab\"/></a>"
      ]
    },
    {
      "cell_type": "code",
      "execution_count": null,
      "metadata": {
        "id": "O5QX6XCpcEvn"
      },
      "outputs": [],
      "source": [
        "#ZADANIE 1:\n",
        "#Użyj list comprehension, funkcji lambda oraz map/reduce/filter, aby stworzyć listę która dla kolejnych n liczb naturalnych będzie zawierać:\n",
        "#a) kwadraty tych liczb\n",
        "#b) pierwiastki kwadratowe tych liczb\n",
        "#c) string 'parzysta' lub 'nieparzysta'\n",
        "#*d) silnię tych liczb\n",
        "#**e1) True/False w zależności od tego czy liczba jest pierwsza (bez użycia osobno zdefiniowanej funkcji)\n",
        "#***e2) zadbaj w powyższym rozwiązaniu o możliwie najlepszą złożoność obliczeniową"
      ]
    },
    {
      "cell_type": "code",
      "source": [
        "# 1a\n",
        "# range(n) tworzy iterator od 0 do n bez n z krokiwm 1, czyli 0, 1, 2, 3, ... , n-1\n",
        "# tupe(range(n))\n",
        "# range(2, n+1) 2, 3, 4, ... ,n\n",
        "\n",
        "n=10\n",
        "\n",
        "[x**2 for x in range(1, n+1)]"
      ],
      "metadata": {
        "colab": {
          "base_uri": "https://localhost:8080/"
        },
        "id": "sLXiCCgpleXn",
        "outputId": "0d92492a-77c4-4671-d127-686069fd0af5"
      },
      "execution_count": null,
      "outputs": [
        {
          "output_type": "execute_result",
          "data": {
            "text/plain": [
              "[1, 4, 9, 16, 25, 36, 49, 64, 81, 100]"
            ]
          },
          "metadata": {},
          "execution_count": 7
        }
      ]
    },
    {
      "cell_type": "code",
      "source": [
        "[x ** (0.5) for x in range(1, n+1)]\n",
        "# (x^2)^? = x = x^1 = x^(2*?) = > 1 = 2** => ? = 1/2\n",
        "# sqrt(n) = n^(1,2)"
      ],
      "metadata": {
        "colab": {
          "base_uri": "https://localhost:8080/"
        },
        "id": "xPh884zClr_N",
        "outputId": "9185b732-fb92-4eba-f250-d063fe05668f"
      },
      "execution_count": null,
      "outputs": [
        {
          "output_type": "execute_result",
          "data": {
            "text/plain": [
              "[1.0,\n",
              " 1.4142135623730951,\n",
              " 1.7320508075688772,\n",
              " 2.0,\n",
              " 2.23606797749979,\n",
              " 2.449489742783178,\n",
              " 2.6457513110645907,\n",
              " 2.8284271247461903,\n",
              " 3.0,\n",
              " 3.1622776601683795]"
            ]
          },
          "metadata": {},
          "execution_count": 11
        }
      ]
    },
    {
      "cell_type": "code",
      "source": [
        "tuple(range(10))"
      ],
      "metadata": {
        "colab": {
          "base_uri": "https://localhost:8080/"
        },
        "id": "tFSR0LZ8nWXc",
        "outputId": "30709e2b-d11e-4796-c0ed-0a45e2cf375c"
      },
      "execution_count": null,
      "outputs": [
        {
          "output_type": "execute_result",
          "data": {
            "text/plain": [
              "(0, 1, 2, 3, 4, 5, 6, 7, 8, 9)"
            ]
          },
          "metadata": {},
          "execution_count": 9
        }
      ]
    },
    {
      "cell_type": "code",
      "source": [
        "list(range(2,8,2))"
      ],
      "metadata": {
        "colab": {
          "base_uri": "https://localhost:8080/"
        },
        "id": "GHYePVQUnZT_",
        "outputId": "e1c43696-65a8-40fa-8953-2290b859d945"
      },
      "execution_count": null,
      "outputs": [
        {
          "output_type": "execute_result",
          "data": {
            "text/plain": [
              "[2, 4, 6]"
            ]
          },
          "metadata": {},
          "execution_count": 10
        }
      ]
    },
    {
      "cell_type": "code",
      "source": [
        "# 1c\n",
        "\n",
        "{k: 'even' if k % 2 ==0 else 'odd' for k in range (1, n+1)}"
      ],
      "metadata": {
        "colab": {
          "base_uri": "https://localhost:8080/"
        },
        "id": "v6LCKovwn9qr",
        "outputId": "4dfca3c7-6efa-45b5-8d2b-55b831a8e20a"
      },
      "execution_count": null,
      "outputs": [
        {
          "output_type": "execute_result",
          "data": {
            "text/plain": [
              "{1: 'odd',\n",
              " 2: 'even',\n",
              " 3: 'odd',\n",
              " 4: 'even',\n",
              " 5: 'odd',\n",
              " 6: 'even',\n",
              " 7: 'odd',\n",
              " 8: 'even',\n",
              " 9: 'odd',\n",
              " 10: 'even'}"
            ]
          },
          "metadata": {},
          "execution_count": 13
        }
      ]
    },
    {
      "cell_type": "code",
      "source": [
        "# 1d\n",
        "\n",
        "from functools import reduce\n",
        "\n",
        "reduce(lambda a, b: a * b, range(1, n+1))\n",
        "\n"
      ],
      "metadata": {
        "colab": {
          "base_uri": "https://localhost:8080/"
        },
        "id": "AkbrjapOqZBr",
        "outputId": "d45124b2-b37a-4ec6-86ec-353cf5e7c8e3"
      },
      "execution_count": null,
      "outputs": [
        {
          "output_type": "execute_result",
          "data": {
            "text/plain": [
              "3628800"
            ]
          },
          "metadata": {},
          "execution_count": 14
        }
      ]
    },
    {
      "cell_type": "code",
      "source": [],
      "metadata": {
        "id": "5kZzdbC2sddA"
      },
      "execution_count": null,
      "outputs": []
    },
    {
      "cell_type": "code",
      "source": [
        "n=17\n",
        "\n",
        "# all(True, True, True) -> True\n",
        "# all(True, False, True) -> False\n",
        "\n",
        "all(\n",
        "    [n % d != 0 for d in range(2, n)]\n",
        "    )"
      ],
      "metadata": {
        "colab": {
          "base_uri": "https://localhost:8080/"
        },
        "id": "OmHjUgZEsi92",
        "outputId": "8cfe0759-320c-4915-f3c5-dca363183727"
      },
      "execution_count": null,
      "outputs": [
        {
          "output_type": "execute_result",
          "data": {
            "text/plain": [
              "True"
            ]
          },
          "metadata": {},
          "execution_count": 33
        }
      ]
    },
    {
      "cell_type": "code",
      "source": [
        "#ZADANIE 2:\n",
        "#Pamiętając o czystości kodu napisz funkcję, która:\n",
        "#a) przyjmie listę liczb i zwróci ich średnią\n",
        "#b) przyjmie str i zwróci True jeżeli jest to palindrom i False w przeciwnym wypadku\n",
        "#c) przyjmie argument x dowolnego typu i zwróci int(x), o ile to możliwe lub wyrzuci błąd z odpowiednim komunikatem, jeśli to nie jest możliwe\n",
        "#d) przyjmie float i zwróci pole koła o takim promieniu (wymaga sprawdzenia na internecie jednej rzeczy).\n",
        "#*e) przyjmie dwie liczby typu int i zwróci ich największy wspólny dzielnik\n",
        "#*f) przyjmie dict i zwróci dict z odwróconymi kluczami i wartościami\n",
        "#**g) przyjmie int i zwróci słownik postaci {dzielnik : wykładnik} z rozkładu na czynniki pierwsze\n",
        "#np. dla liczby 60 powinien zwrócić {2:2, 3:1, 5:1}, bo 60 to 2^2 * 3 * 5"
      ],
      "metadata": {
        "id": "MuB0DLeWtGQk"
      },
      "execution_count": null,
      "outputs": []
    },
    {
      "cell_type": "code",
      "source": [
        "#2a)\n",
        "\n",
        "def avg(num_list: list) -> float:\n",
        "  return reduce(lambda x,y: x+y, num_list)/len(num_list)\n",
        "\n",
        "avg([4,5,6,7,8,9])"
      ],
      "metadata": {
        "colab": {
          "base_uri": "https://localhost:8080/"
        },
        "id": "9p7XVOpgy06x",
        "outputId": "45620455-599b-45cf-8cf4-d970f91ddade"
      },
      "execution_count": null,
      "outputs": [
        {
          "output_type": "execute_result",
          "data": {
            "text/plain": [
              "6.5"
            ]
          },
          "metadata": {},
          "execution_count": 42
        }
      ]
    },
    {
      "cell_type": "code",
      "source": [
        "#2b\n",
        "\n",
        "def is_palindrom(word: str):\n",
        "  if word == word[::-1]: #stringi są iterowane więc możemy wziąć[::-1] jak przy liście\n",
        "    print('Is palindrom')\n",
        "  else:\n",
        "    print('Is not palindrom')"
      ],
      "metadata": {
        "id": "6XJcWFjsznSy"
      },
      "execution_count": null,
      "outputs": []
    },
    {
      "cell_type": "code",
      "source": [
        "''.join(reversed('kaczuszk a'))\n",
        "\n",
        "# 1. reversed(string) zwraca iterator w którym są litery w odwróconej kolejności\n",
        "# str1.join(str1 lub ietrator) zwraca połaczenie tych stringów"
      ],
      "metadata": {
        "colab": {
          "base_uri": "https://localhost:8080/",
          "height": 35
        },
        "id": "LXCkV9RvzqYQ",
        "outputId": "9cd71f26-7b78-4dcc-f1f4-392b671438b6"
      },
      "execution_count": null,
      "outputs": [
        {
          "output_type": "execute_result",
          "data": {
            "text/plain": [
              "'a kzsuzcak'"
            ],
            "application/vnd.google.colaboratory.intrinsic+json": {
              "type": "string"
            }
          },
          "metadata": {},
          "execution_count": 50
        }
      ]
    },
    {
      "cell_type": "code",
      "source": [
        "#2c\n",
        "\n",
        "def przyjmij_argument(x):\n",
        "  try:\n",
        "    return int(x)\n",
        "  except:\n",
        "    print('W tym przypadku zwrócenie int jest niemożliwe')"
      ],
      "metadata": {
        "id": "GVp9clq61vF3"
      },
      "execution_count": null,
      "outputs": []
    },
    {
      "cell_type": "code",
      "source": [
        "przyjmij_argument('piesek')"
      ],
      "metadata": {
        "colab": {
          "base_uri": "https://localhost:8080/"
        },
        "id": "VsZO05GT3PZq",
        "outputId": "159ba447-3cfa-4ca8-9655-4f72f1373e4a"
      },
      "execution_count": null,
      "outputs": [
        {
          "output_type": "stream",
          "name": "stdout",
          "text": [
            "W tym przypadku zwrócenie int jest niemożliwe\n"
          ]
        }
      ]
    },
    {
      "cell_type": "code",
      "source": [
        "def moja_funkcja(argument):\n",
        "  if (not isinstance(argument, int)):\n",
        "    return False\n",
        "  else:\n",
        "    return (int(argument))\n",
        "\n",
        "print(moja_funkcja(2))"
      ],
      "metadata": {
        "colab": {
          "base_uri": "https://localhost:8080/"
        },
        "id": "EyKwXxbG3SXu",
        "outputId": "cf79b60e-106f-497a-a16a-5aa824bfd58e"
      },
      "execution_count": null,
      "outputs": [
        {
          "output_type": "stream",
          "name": "stdout",
          "text": [
            "2\n"
          ]
        }
      ]
    },
    {
      "cell_type": "code",
      "source": [
        "from numbers import Number\n",
        "\n",
        "def convert_to_int(x) -> int:\n",
        "  assert isinstance(x, Number), f'Expression {x} is not a number'\n",
        "  return int(x)"
      ],
      "metadata": {
        "id": "AT8ZIY1P3v5t"
      },
      "execution_count": null,
      "outputs": []
    },
    {
      "cell_type": "code",
      "source": [
        "#2d\n",
        "\n",
        "import math\n",
        "\n",
        "def moja_funkcja(promien: float) -> float:\n",
        "  return math.pi * promien ** 2\n"
      ],
      "metadata": {
        "id": "0NaeqhnY49i9"
      },
      "execution_count": null,
      "outputs": []
    },
    {
      "cell_type": "code",
      "source": [
        "from itertools import product\n",
        "\n",
        "def find_greatest_common_divisor(n1: int, n2: int) -> int:\n",
        "  divisors_n1 = [i for i in range(1, n1) if n1 % i == 0]\n",
        "  divisors_n2 = [i for i in range(1, n2) if n2 % i == 0]\n",
        "\n",
        "  common_divisors = set(set(divisors_n1).intersection(set(divisors_n2)))\n",
        "\n",
        "  return max(common_divisors)"
      ],
      "metadata": {
        "id": "0m8mZdp95b9a"
      },
      "execution_count": null,
      "outputs": []
    },
    {
      "cell_type": "code",
      "source": [
        "find_greatest_common_divisor(16,36)"
      ],
      "metadata": {
        "colab": {
          "base_uri": "https://localhost:8080/"
        },
        "id": "82Xxb8Ug7aME",
        "outputId": "d7a70fab-be3d-41eb-e2c3-5267913f67bf"
      },
      "execution_count": null,
      "outputs": [
        {
          "output_type": "execute_result",
          "data": {
            "text/plain": [
              "4"
            ]
          },
          "metadata": {},
          "execution_count": 72
        }
      ]
    },
    {
      "cell_type": "code",
      "source": [
        "a = set([1,2,3,4])\n",
        "b = set([5,6,7,8])"
      ],
      "metadata": {
        "id": "h4dKlijF7u5_"
      },
      "execution_count": null,
      "outputs": []
    },
    {
      "cell_type": "code",
      "source": [
        "a|b # dodawanie zbiorów"
      ],
      "metadata": {
        "colab": {
          "base_uri": "https://localhost:8080/"
        },
        "id": "jwMwr6xn9RNQ",
        "outputId": "554a1dac-ea7b-48ef-b15b-0ef978516ad6"
      },
      "execution_count": null,
      "outputs": [
        {
          "output_type": "execute_result",
          "data": {
            "text/plain": [
              "{1, 2, 3, 4, 5, 6, 7, 8}"
            ]
          },
          "metadata": {},
          "execution_count": 75
        }
      ]
    },
    {
      "cell_type": "code",
      "source": [
        "#2e\n",
        "\n",
        "def dict_reverse(dictionary: dict) -> dict:\n",
        "  assert isinstance(dictionary,dict), f'Expression {dictionary} is not a dictionary'\n",
        "  return dict (\n",
        "      (\n",
        "          (v,k) for k,v in dictionary.items()  #tutaj musi być tupla\n",
        "          )\n",
        "      )"
      ],
      "metadata": {
        "id": "eL4qspuW9S0Q"
      },
      "execution_count": null,
      "outputs": []
    },
    {
      "cell_type": "code",
      "source": [
        "v1 = [1,2,3]\n",
        "v2 = [5,2,5]\n",
        "\n",
        "v1 + v2"
      ],
      "metadata": {
        "colab": {
          "base_uri": "https://localhost:8080/"
        },
        "id": "pJzxgxd197lI",
        "outputId": "28ebee36-a885-46ea-a524-0eadb94f0791"
      },
      "execution_count": null,
      "outputs": [
        {
          "output_type": "execute_result",
          "data": {
            "text/plain": [
              "[1, 2, 3, 5, 2, 5]"
            ]
          },
          "metadata": {},
          "execution_count": 77
        }
      ]
    },
    {
      "cell_type": "code",
      "source": [
        "#Zadanie. Zaimplementuj klasę Vector.\n",
        "\n",
        "## 1. Ma przyjmować na wejściu listę liczb.\n",
        "## 2. Powinna mieć konstruktor.\n"
      ],
      "metadata": {
        "id": "zQmeNONpFaAj"
      },
      "execution_count": null,
      "outputs": []
    },
    {
      "cell_type": "code",
      "source": [
        "class Vector:\n",
        "\n",
        "  def __init__(self, coordinates):\n",
        "    self.x = coordinates\n",
        "\n",
        "  def __add__(self, other_vec): # dwa wektory które będziemy dodawać to self i vec\n",
        "  ## uwaga, other_vec jest Vector więc ma other_vec.x\n",
        "    sum_list = [i+j for i,j in zip(self.x, other_vec.x)]  #lub list comprehension\n",
        "    sum_vec = Vector(sum_list)\n",
        "    ### dodatkowo:upewnij się że te wektory w ogóle można dodać\n",
        "    return sum_vec\n",
        "\n",
        "    def __repr__(self): ## przeciążenie printa\n",
        "      return str(self.x)\n",
        "\n",
        "    def __mul__(self, number): ## przeciążenie mnożenia przez liczbę\n",
        "      mul_list = [number*i for i in self.x]\n",
        "      mul_vec = Vector(mul_list)\n",
        "      return mul_vec\n",
        "\n",
        "    def __eq__(self, other_vec): ## Porównywanie wektorów: True or False\n",
        "      return self.x == other_vec.x\n",
        "\n",
        "\n",
        "\n",
        "### V1 = vector, v2 = Vector\n",
        "### sum = v1.__add__(v2), to samo co v1 + v2"
      ],
      "metadata": {
        "id": "RJb9HcYSGM1v"
      },
      "execution_count": null,
      "outputs": []
    },
    {
      "cell_type": "code",
      "source": [
        "v1 = Vector([1,2,3])\n",
        "v2 = Vector([2,5,7])"
      ],
      "metadata": {
        "id": "oSAUgyD9K4bM"
      },
      "execution_count": null,
      "outputs": []
    },
    {
      "cell_type": "code",
      "source": [
        "print(v1+v2)"
      ],
      "metadata": {
        "colab": {
          "base_uri": "https://localhost:8080/"
        },
        "id": "2OoCuspMXy2w",
        "outputId": "c389a00f-4e80-4eaa-f52a-784c494f0b78"
      },
      "execution_count": null,
      "outputs": [
        {
          "output_type": "stream",
          "name": "stdout",
          "text": [
            "<__main__.Vector object at 0x7d5a0b8abca0>\n"
          ]
        }
      ]
    },
    {
      "cell_type": "code",
      "source": [
        "v1 == v2"
      ],
      "metadata": {
        "colab": {
          "base_uri": "https://localhost:8080/"
        },
        "id": "buDM2NCKYysz",
        "outputId": "755df573-7af5-49e8-e93c-7264d071b3c0"
      },
      "execution_count": null,
      "outputs": [
        {
          "output_type": "execute_result",
          "data": {
            "text/plain": [
              "False"
            ]
          },
          "metadata": {},
          "execution_count": 121
        }
      ]
    },
    {
      "cell_type": "code",
      "source": [
        "v1*2 + v2*9"
      ],
      "metadata": {
        "colab": {
          "base_uri": "https://localhost:8080/",
          "height": 166
        },
        "id": "9reChECrY1IU",
        "outputId": "8688c50c-2667-4b56-ef5f-e105f5643ed8"
      },
      "execution_count": null,
      "outputs": [
        {
          "output_type": "error",
          "ename": "TypeError",
          "evalue": "ignored",
          "traceback": [
            "\u001b[0;31m---------------------------------------------------------------------------\u001b[0m",
            "\u001b[0;31mTypeError\u001b[0m                                 Traceback (most recent call last)",
            "\u001b[0;32m<ipython-input-122-b4e5c24d4cfc>\u001b[0m in \u001b[0;36m<cell line: 1>\u001b[0;34m()\u001b[0m\n\u001b[0;32m----> 1\u001b[0;31m \u001b[0mv1\u001b[0m\u001b[0;34m*\u001b[0m\u001b[0;36m2\u001b[0m \u001b[0;34m+\u001b[0m \u001b[0mv2\u001b[0m\u001b[0;34m*\u001b[0m\u001b[0;36m9\u001b[0m\u001b[0;34m\u001b[0m\u001b[0;34m\u001b[0m\u001b[0m\n\u001b[0m",
            "\u001b[0;31mTypeError\u001b[0m: unsupported operand type(s) for *: 'Vector' and 'int'"
          ]
        }
      ]
    },
    {
      "cell_type": "code",
      "source": [
        "v1__mul__5"
      ],
      "metadata": {
        "colab": {
          "base_uri": "https://localhost:8080/",
          "height": 166
        },
        "id": "lW4qyI_iY3zm",
        "outputId": "2c4116d4-0ee4-443b-b373-ffeb072c675c"
      },
      "execution_count": null,
      "outputs": [
        {
          "output_type": "error",
          "ename": "NameError",
          "evalue": "ignored",
          "traceback": [
            "\u001b[0;31m---------------------------------------------------------------------------\u001b[0m",
            "\u001b[0;31mNameError\u001b[0m                                 Traceback (most recent call last)",
            "\u001b[0;32m<ipython-input-123-af04768c7186>\u001b[0m in \u001b[0;36m<cell line: 1>\u001b[0;34m()\u001b[0m\n\u001b[0;32m----> 1\u001b[0;31m \u001b[0mv1__mul__5\u001b[0m\u001b[0;34m\u001b[0m\u001b[0;34m\u001b[0m\u001b[0m\n\u001b[0m",
            "\u001b[0;31mNameError\u001b[0m: name 'v1__mul__5' is not defined"
          ]
        }
      ]
    },
    {
      "cell_type": "code",
      "source": [
        "#Dziedziczenie\n",
        "\n",
        "class Rectangle:\n",
        "\n",
        "  def __init__(self, height, width):\n",
        "    self.height = height\n",
        "    self.width = width\n",
        "\n",
        "  def area(self):\n",
        "    return self.height * self.width\n",
        "\n",
        "  def circ(self):\n",
        "    return 2*(self.height+self.width)\n",
        "\n"
      ],
      "metadata": {
        "id": "vqGntzhJY-bj"
      },
      "execution_count": null,
      "outputs": []
    },
    {
      "cell_type": "code",
      "source": [
        "rec = Rectangle(3,4)"
      ],
      "metadata": {
        "id": "bBcUl4qjllOB"
      },
      "execution_count": null,
      "outputs": []
    },
    {
      "cell_type": "code",
      "source": [
        "class Square(Rectangle): #Tworzę klasę square która dziedziczy po rectangle\n",
        "\n",
        "  def __init__(self, side_len):\n",
        "    super().__init__(side_len, side_len) #biorę konstruktor z Rectangle"
      ],
      "metadata": {
        "id": "y3zgo73ylmxj"
      },
      "execution_count": null,
      "outputs": []
    },
    {
      "cell_type": "code",
      "source": [
        "s = Square(5)"
      ],
      "metadata": {
        "id": "1pDKfW9blq4A"
      },
      "execution_count": null,
      "outputs": []
    },
    {
      "cell_type": "code",
      "source": [
        "s.area()"
      ],
      "metadata": {
        "colab": {
          "base_uri": "https://localhost:8080/"
        },
        "id": "xoASkOwqn1Jj",
        "outputId": "96744927-c1b1-4349-fb9e-66451152cbdc"
      },
      "execution_count": null,
      "outputs": [
        {
          "output_type": "execute_result",
          "data": {
            "text/plain": [
              "25"
            ]
          },
          "metadata": {},
          "execution_count": 134
        }
      ]
    },
    {
      "cell_type": "code",
      "source": [
        "class Animal():\n",
        "  def __init__(self, name, has_whiskers, diet, tail_len):\n",
        "    self.has_whiskers = has_whiskers\n",
        "    self.diet = diet\n",
        "    self.tail_len = tail_len\n",
        "\n",
        "  def eat(self):\n",
        "    print(f'{self.name} is eating!')\n"
      ],
      "metadata": {
        "id": "JiuWXak4n2DS"
      },
      "execution_count": null,
      "outputs": []
    },
    {
      "cell_type": "code",
      "source": [
        "class Cat(Animal):\n",
        "  # Sensowny konstruktor\n",
        "  def __init__(self, name, tail_len):\n",
        "    super().__init__(name, has_whiskers = True, diet = 'carnivore', tail_len = tail_len)\n",
        "    self.number_of_lives = 9\n",
        "\n",
        "  def jump_out_of_the_window(self):\n",
        "    self.number_of_lives -= 1\n",
        "\n"
      ],
      "metadata": {
        "id": "YCHDmj9cp7n4"
      },
      "execution_count": null,
      "outputs": []
    },
    {
      "cell_type": "code",
      "source": [
        "kicia = Cat('Kluska', 30)"
      ],
      "metadata": {
        "id": "VHQd1ceTrrdA"
      },
      "execution_count": null,
      "outputs": []
    },
    {
      "cell_type": "code",
      "source": [
        "# Stwórz klasę dog która dziedziczy po klasie animal.\n",
        "# Dodaj do tej klasy atrybut i metodę która wyróźnia psa."
      ],
      "metadata": {
        "id": "MxXi51dUr4Z5"
      },
      "execution_count": null,
      "outputs": []
    },
    {
      "cell_type": "code",
      "source": [
        "class Dog(Animal):\n",
        "  def __init__(self, name, tail_len):\n",
        "    super().__init__(name, has_whiskers = False, diet = 'random', tail_len = tail_len)\n",
        "    self.number_of_walk_per_day = 0\n",
        "\n",
        "  def walk(self):\n",
        "    self.number_of_walk_per_day +=1\n",
        "\n",
        "  def bark(self):\n",
        "    print('woof woof')\n",
        "\n",
        "  def is_happy(self):\n",
        "    if self.number_of_walk_per_day > 2:\n",
        "      print('Piesek sobie szczeka :)')\n",
        "      self.bark()\n",
        "    else:\n",
        "    print(\":(\")"
      ],
      "metadata": {
        "colab": {
          "base_uri": "https://localhost:8080/",
          "height": 131
        },
        "id": "ZTp0vHZ8srYA",
        "outputId": "4773dcde-335e-4b10-ff46-bd3c13d26ae9"
      },
      "execution_count": null,
      "outputs": [
        {
          "output_type": "error",
          "ename": "IndentationError",
          "evalue": "ignored",
          "traceback": [
            "\u001b[0;36m  File \u001b[0;32m\"<ipython-input-161-0cb7332ff335>\"\u001b[0;36m, line \u001b[0;32m17\u001b[0m\n\u001b[0;31m    print(\":(\")\u001b[0m\n\u001b[0m    ^\u001b[0m\n\u001b[0;31mIndentationError\u001b[0m\u001b[0;31m:\u001b[0m expected an indented block after 'else' statement on line 16\n"
          ]
        }
      ]
    },
    {
      "cell_type": "code",
      "source": [
        "piesio = Dog('Azor', 45)"
      ],
      "metadata": {
        "id": "z4IzBS3FtH5_"
      },
      "execution_count": null,
      "outputs": []
    },
    {
      "cell_type": "code",
      "source": [
        "for i in range(3):\n",
        "  piesio.walk()\n",
        "  piesio.is_happy()"
      ],
      "metadata": {
        "colab": {
          "base_uri": "https://localhost:8080/",
          "height": 201
        },
        "id": "XHydpjA2tZPd",
        "outputId": "f57efd81-b689-4854-962b-79b6ccd63eba"
      },
      "execution_count": null,
      "outputs": [
        {
          "output_type": "error",
          "ename": "AttributeError",
          "evalue": "ignored",
          "traceback": [
            "\u001b[0;31m---------------------------------------------------------------------------\u001b[0m",
            "\u001b[0;31mAttributeError\u001b[0m                            Traceback (most recent call last)",
            "\u001b[0;32m<ipython-input-165-8bfc094146fe>\u001b[0m in \u001b[0;36m<cell line: 1>\u001b[0;34m()\u001b[0m\n\u001b[1;32m      1\u001b[0m \u001b[0;32mfor\u001b[0m \u001b[0mi\u001b[0m \u001b[0;32min\u001b[0m \u001b[0mrange\u001b[0m\u001b[0;34m(\u001b[0m\u001b[0;36m3\u001b[0m\u001b[0;34m)\u001b[0m\u001b[0;34m:\u001b[0m\u001b[0;34m\u001b[0m\u001b[0;34m\u001b[0m\u001b[0m\n\u001b[0;32m----> 2\u001b[0;31m   \u001b[0mpiesio\u001b[0m\u001b[0;34m.\u001b[0m\u001b[0mwalk\u001b[0m\u001b[0;34m(\u001b[0m\u001b[0;34m)\u001b[0m\u001b[0;34m\u001b[0m\u001b[0;34m\u001b[0m\u001b[0m\n\u001b[0m\u001b[1;32m      3\u001b[0m   \u001b[0mpiesio\u001b[0m\u001b[0;34m.\u001b[0m\u001b[0mis_happy\u001b[0m\u001b[0;34m(\u001b[0m\u001b[0;34m)\u001b[0m\u001b[0;34m\u001b[0m\u001b[0;34m\u001b[0m\u001b[0m\n",
            "\u001b[0;31mAttributeError\u001b[0m: 'Dog' object has no attribute 'walk'"
          ]
        }
      ]
    },
    {
      "cell_type": "code",
      "source": [
        "# Metody klasyczne, statyczne, zwykłe"
      ],
      "metadata": {
        "id": "lMvz3bf7u-iv"
      },
      "execution_count": null,
      "outputs": []
    },
    {
      "cell_type": "code",
      "source": [
        "class BankAccount:\n",
        "\n",
        "### Konto z nazwą banku, stanem konta, wpłacenie hajsu i wypłaceniem\n",
        "\n",
        "def __init__(self, bank_name, balance):\n",
        "  self.deposit =\n",
        "\n",
        "def deposit(self):\n",
        "  self.deposit +=1\n",
        "\n",
        "def withdrawal(self):"
      ],
      "metadata": {
        "id": "3RlWGRKkvGBE",
        "colab": {
          "base_uri": "https://localhost:8080/",
          "height": 131
        },
        "outputId": "acfba09a-3819-4e87-8777-a2a33d3b0696"
      },
      "execution_count": null,
      "outputs": [
        {
          "output_type": "error",
          "ename": "IndentationError",
          "evalue": "ignored",
          "traceback": [
            "\u001b[0;36m  File \u001b[0;32m\"<ipython-input-1-7c7e048ce77b>\"\u001b[0;36m, line \u001b[0;32m5\u001b[0m\n\u001b[0;31m    def __init__(self, bank_name, balance):\u001b[0m\n\u001b[0m    ^\u001b[0m\n\u001b[0;31mIndentationError\u001b[0m\u001b[0;31m:\u001b[0m expected an indented block after class definition on line 1\n"
          ]
        }
      ]
    },
    {
      "cell_type": "code",
      "source": [
        "#Zadanie 1:\n",
        "#Zdefiniuj klasę Ksiazka z atrybutami tytul, autor, liczba_stron.\n",
        "#Dodaj metody __add__() i __len__(), aby można było dodawać dwie książki\n",
        "#zwracając nową pozycję z sumą stron oraz pobrać liczbę stron."
      ],
      "metadata": {
        "id": "SCSdxJKJuv_B"
      },
      "execution_count": null,
      "outputs": []
    },
    {
      "cell_type": "code",
      "source": [
        "class Book:\n",
        "\n",
        "  def __init__(self, title=None, author=None, pages=0):\n",
        "    self.title = title\n",
        "    self.author = author\n",
        "    self.pages = pages\n",
        "\n",
        "  def __add__(self, other_book):\n",
        "    sum_pages = self.pages + other_book.pages\n",
        "    books_length = Book(pages=sum_pages)\n",
        "    return books_length\n",
        "\n",
        "  def __len__(self):\n",
        "    return int(self.pages)\n",
        "\n",
        "  def __repr__(self):\n",
        "    return f'Book has {self.pages} pages'\n",
        "\n"
      ],
      "metadata": {
        "id": "2_BOAyg8u3uI"
      },
      "execution_count": null,
      "outputs": []
    },
    {
      "cell_type": "code",
      "source": [
        "book_1 = Book('Potop', 'Sienkiewicz', 900)"
      ],
      "metadata": {
        "id": "_d3OrwgCwRxA"
      },
      "execution_count": null,
      "outputs": []
    },
    {
      "cell_type": "code",
      "source": [
        "book_1.pages"
      ],
      "metadata": {
        "colab": {
          "base_uri": "https://localhost:8080/"
        },
        "id": "2v26CqQawhvx",
        "outputId": "1284dbef-7a5d-462f-8745-70cc5fcb11dc"
      },
      "execution_count": null,
      "outputs": [
        {
          "output_type": "execute_result",
          "data": {
            "text/plain": [
              "900"
            ]
          },
          "metadata": {},
          "execution_count": 59
        }
      ]
    },
    {
      "cell_type": "code",
      "source": [
        "book_2 = Book('Lalka', 'Prus', 500)"
      ],
      "metadata": {
        "id": "4NorNTm9woUG"
      },
      "execution_count": null,
      "outputs": []
    },
    {
      "cell_type": "code",
      "source": [
        "book_2.pages"
      ],
      "metadata": {
        "colab": {
          "base_uri": "https://localhost:8080/"
        },
        "id": "K1qkzi1gwq8P",
        "outputId": "688ef23c-c23e-4db5-fadf-c6f0248a9bc4"
      },
      "execution_count": null,
      "outputs": [
        {
          "output_type": "execute_result",
          "data": {
            "text/plain": [
              "500"
            ]
          },
          "metadata": {},
          "execution_count": 61
        }
      ]
    },
    {
      "cell_type": "code",
      "source": [
        "# __add__\n",
        "\n",
        "book_3 = book_1 + book_2\n",
        "print(book_3)"
      ],
      "metadata": {
        "colab": {
          "base_uri": "https://localhost:8080/"
        },
        "id": "dd-XKXGSzTzf",
        "outputId": "269a5271-ec01-4231-c08f-5e00eddb2790"
      },
      "execution_count": null,
      "outputs": [
        {
          "output_type": "stream",
          "name": "stdout",
          "text": [
            "Book has 1400 pages\n"
          ]
        }
      ]
    },
    {
      "cell_type": "code",
      "source": [
        "book_3.pages"
      ],
      "metadata": {
        "colab": {
          "base_uri": "https://localhost:8080/"
        },
        "id": "xyKezFQSzVxc",
        "outputId": "c96bcb3f-9290-4f46-c107-15b50afdbf1b"
      },
      "execution_count": null,
      "outputs": [
        {
          "output_type": "execute_result",
          "data": {
            "text/plain": [
              "1400"
            ]
          },
          "metadata": {},
          "execution_count": 63
        }
      ]
    },
    {
      "cell_type": "code",
      "source": [
        "class Ksiazka:\n",
        "\n",
        "  def __init__(self, autor = \"S. King\", tytul = 'IT', liczba_stron = 500):\n",
        "    self.autor = autor\n",
        "    self.tytul = tytul\n",
        "    self.liczba_stron = liczba_stron\n",
        "\n",
        "    #### Popraw dodawanie ksiazek tak, aby mozna bylo dodawac tylko tych samych autorow, a tytul ustaw na 'mix'\n",
        "\n",
        "  def __add__(self, other_book):\n",
        "      assert self.autor == other_book.autor, 'You cannot add books by different authors'\n",
        "      suma_stron = self.liczba_stron + other_book.liczba_stron\n",
        "      books = Ksiazka(tytul='mix', autor=self.autor, liczba_stron=suma_stron)\n",
        "      return books\n",
        "\n",
        "  def __len__(self):\n",
        "     return self.liczba_stron\n",
        "\n",
        "ksiazka1 = Ksiazka(\"S. King\", \"Cujo\", 464)\n",
        "ksiazka2 = Ksiazka(\"S. King\", \"Pod kopułą\", 928)\n",
        "\n",
        "polka_z_ksiazkami = ksiazka1 + ksiazka2\n",
        "print(polka_z_ksiazkami)"
      ],
      "metadata": {
        "colab": {
          "base_uri": "https://localhost:8080/"
        },
        "id": "IqiwaImg8nwk",
        "outputId": "3124562b-c7b5-42a1-fe71-724782e8be67"
      },
      "execution_count": null,
      "outputs": [
        {
          "output_type": "stream",
          "name": "stdout",
          "text": [
            "<__main__.Ksiazka object at 0x7c9f6eb4b130>\n"
          ]
        }
      ]
    },
    {
      "cell_type": "code",
      "source": [
        "book=Ksiazka('Maxime Chattam', 'Diabelski spisek', 450)"
      ],
      "metadata": {
        "id": "n9R857ML9hFw"
      },
      "execution_count": null,
      "outputs": []
    },
    {
      "cell_type": "code",
      "source": [
        "book.autor"
      ],
      "metadata": {
        "colab": {
          "base_uri": "https://localhost:8080/",
          "height": 35
        },
        "id": "cCli6-NQ9iqS",
        "outputId": "bf8d5b89-10f2-4edf-e5d0-170a61d75de4"
      },
      "execution_count": null,
      "outputs": [
        {
          "output_type": "execute_result",
          "data": {
            "text/plain": [
              "'Maxime Chattam'"
            ],
            "application/vnd.google.colaboratory.intrinsic+json": {
              "type": "string"
            }
          },
          "metadata": {},
          "execution_count": 78
        }
      ]
    },
    {
      "cell_type": "code",
      "source": [],
      "metadata": {
        "id": "cfB6e5t6-mwN"
      },
      "execution_count": null,
      "outputs": []
    },
    {
      "cell_type": "code",
      "source": [],
      "metadata": {
        "id": "xy_v9KFm-n0l"
      },
      "execution_count": null,
      "outputs": []
    },
    {
      "cell_type": "code",
      "source": [
        "#Zadanie *2:\n",
        "#Zdefiniuj klasę Pracownik z atrybutem wynagrodzenie i klasę Menadzer\n",
        "# dziedziczącą z Pracownik. Manager powinien mieć dodatkowy atrybut\n",
        "# budget i metodę przyznac_premie(), która dodaje premie do wynagrodzenia.\n",
        "# Stwórz obiekty klas i przetestuj działanie premii dla menadżera"
      ],
      "metadata": {
        "id": "DNT4gVfW4waV"
      },
      "execution_count": null,
      "outputs": []
    },
    {
      "cell_type": "markdown",
      "source": [
        "#Zadanie *2:\n",
        "##Zdefiniuj klasę Pracownik z atrybutem wynagrodzenie i klasę Menadzer\n",
        "## dziedziczącą z Pracownik. Manager powinien mieć dodatkowy atrybut\n",
        "## budget i metodę przyznac_premie(), która dodaje premie do wynagrodzenia.\n",
        "## Stwórz obiekty klas i przetestuj działanie premii dla menadżera"
      ],
      "metadata": {
        "id": "SUXWe0eyPdnc"
      }
    },
    {
      "cell_type": "code",
      "source": [
        "class Pracownik:\n",
        "\n",
        "  def __init__(self, wynagrodzenie):\n",
        "    self.wynagrodzenie = wynagrodzenie\n",
        "\n",
        "class Manager(Pracownik):\n",
        "\n",
        "  def __init__(self, wynagrodzenie, budzet):\n",
        "    super().__init__(wynagrodzenie)\n",
        "    self.budzet = budzet\n",
        "\n",
        "  def przyznac_premie(self,pracownik, premia):\n",
        "    pracownik.wynagrodzenie += premia\n",
        "    self.budzet -= premia\n",
        "\n",
        "\n",
        "\n",
        "manager = Manager(5000,2000)\n",
        "pracownik = Pracownik(2000)\n",
        "manager.przyznac_premie(manager,1000)\n",
        "manager.przyznac_premie(pracownik, 200)\n",
        "print(manager.wynagrodzenie)\n",
        "print(pracownik.wynagrodzenie)"
      ],
      "metadata": {
        "colab": {
          "base_uri": "https://localhost:8080/"
        },
        "id": "4-gbNeZhFP-d",
        "outputId": "f6c7fde1-56e1-4e53-f78f-ed2714d19f90"
      },
      "execution_count": null,
      "outputs": [
        {
          "output_type": "stream",
          "name": "stdout",
          "text": [
            "6000\n",
            "2200\n"
          ]
        }
      ]
    },
    {
      "cell_type": "code",
      "source": [
        "4 in [1,2,3,4]"
      ],
      "metadata": {
        "colab": {
          "base_uri": "https://localhost:8080/"
        },
        "id": "-YSMYVI-GA_W",
        "outputId": "f700b266-d952-4e3d-f684-dc34993accf5"
      },
      "execution_count": null,
      "outputs": [
        {
          "output_type": "execute_result",
          "data": {
            "text/plain": [
              "True"
            ]
          },
          "metadata": {},
          "execution_count": 86
        }
      ]
    },
    {
      "cell_type": "code",
      "source": [
        "'kotek' in ('piesek','kotek')"
      ],
      "metadata": {
        "colab": {
          "base_uri": "https://localhost:8080/"
        },
        "id": "fftnqcDpJWSw",
        "outputId": "698a1555-439d-44e4-b145-2bfd7ef9e17e"
      },
      "execution_count": null,
      "outputs": [
        {
          "output_type": "execute_result",
          "data": {
            "text/plain": [
              "True"
            ]
          },
          "metadata": {},
          "execution_count": 87
        }
      ]
    },
    {
      "cell_type": "markdown",
      "source": [
        "### Moduł - plik w którym mamy nasze narzedzia.\n",
        "\n",
        "### Biblioteka - zbiór modułów"
      ],
      "metadata": {
        "id": "9fgyXViLPmEy"
      }
    },
    {
      "cell_type": "code",
      "source": [
        "import matplotlib.pyplot as plt"
      ],
      "metadata": {
        "id": "3HnQNnL2JnHQ"
      },
      "execution_count": null,
      "outputs": []
    },
    {
      "cell_type": "code",
      "source": [
        "from matplotlib import pyplot as plt"
      ],
      "metadata": {
        "id": "9-K8HMpyPvt7"
      },
      "execution_count": null,
      "outputs": []
    },
    {
      "cell_type": "code",
      "source": [
        "pyplot.hist((1,2,3,3,4,4,4,5))"
      ],
      "metadata": {
        "colab": {
          "base_uri": "https://localhost:8080/",
          "height": 482
        },
        "id": "FxHMCsEnP9ia",
        "outputId": "0b472e86-a869-4745-a707-2c7d542eb803"
      },
      "execution_count": null,
      "outputs": [
        {
          "output_type": "execute_result",
          "data": {
            "text/plain": [
              "(array([1., 0., 1., 0., 0., 2., 0., 3., 0., 1.]),\n",
              " array([1. , 1.4, 1.8, 2.2, 2.6, 3. , 3.4, 3.8, 4.2, 4.6, 5. ]),\n",
              " <BarContainer object of 10 artists>)"
            ]
          },
          "metadata": {},
          "execution_count": 96
        },
        {
          "output_type": "display_data",
          "data": {
            "text/plain": [
              "<Figure size 640x480 with 1 Axes>"
            ],
            "image/png": "[encoded data removed]"
          },
          "metadata": {}
        }
      ]
    },
    {
      "cell_type": "code",
      "source": [
        "class DzieleniePrzezZero(Exception):\n",
        "  pass"
      ],
      "metadata": {
        "id": "Lz1HwGPn91x0"
      },
      "execution_count": null,
      "outputs": []
    },
    {
      "cell_type": "code",
      "source": [
        "### Zadanie: Napisz funkcję dzielenie(a,b) która podzieli a i b ale w razie gdy\n",
        "### b jest zero to wyrzuci błąd.\n",
        "### DzieleniePrzezZero"
      ],
      "metadata": {
        "id": "uEX1o4DVQAYZ"
      },
      "execution_count": null,
      "outputs": []
    },
    {
      "cell_type": "code",
      "source": [
        "  def dzielenie(a, b):\n",
        "    if b == 0:\n",
        "        raise DzieleniePrzezZero('Nie dziel przez zero błagam')\n",
        "    else:\n",
        "        return a/b\n",
        "\n",
        "dzielenie(10,0)"
      ],
      "metadata": {
        "colab": {
          "base_uri": "https://localhost:8080/",
          "height": 322
        },
        "id": "hky7MO5e-JJE",
        "outputId": "1615fcae-c7a0-4eea-8881-d6d2b9e3fcde"
      },
      "execution_count": null,
      "outputs": [
        {
          "output_type": "error",
          "ename": "DzieleniePrzezZero",
          "evalue": "ignored",
          "traceback": [
            "\u001b[0;31m---------------------------------------------------------------------------\u001b[0m",
            "\u001b[0;31mDzieleniePrzezZero\u001b[0m                        Traceback (most recent call last)",
            "\u001b[0;32m<ipython-input-18-1064ad4dfc50>\u001b[0m in \u001b[0;36m<cell line: 7>\u001b[0;34m()\u001b[0m\n\u001b[1;32m      5\u001b[0m       \u001b[0;32mreturn\u001b[0m \u001b[0ma\u001b[0m\u001b[0;34m/\u001b[0m\u001b[0mb\u001b[0m\u001b[0;34m\u001b[0m\u001b[0;34m\u001b[0m\u001b[0m\n\u001b[1;32m      6\u001b[0m \u001b[0;34m\u001b[0m\u001b[0m\n\u001b[0;32m----> 7\u001b[0;31m \u001b[0mdzielenie\u001b[0m\u001b[0;34m(\u001b[0m\u001b[0;36m10\u001b[0m\u001b[0;34m,\u001b[0m\u001b[0;36m0\u001b[0m\u001b[0;34m)\u001b[0m\u001b[0;34m\u001b[0m\u001b[0;34m\u001b[0m\u001b[0m\n\u001b[0m",
            "\u001b[0;32m<ipython-input-18-1064ad4dfc50>\u001b[0m in \u001b[0;36mdzielenie\u001b[0;34m(a, b)\u001b[0m\n\u001b[1;32m      1\u001b[0m \u001b[0;32mdef\u001b[0m \u001b[0mdzielenie\u001b[0m\u001b[0;34m(\u001b[0m\u001b[0ma\u001b[0m\u001b[0;34m,\u001b[0m \u001b[0mb\u001b[0m\u001b[0;34m)\u001b[0m\u001b[0;34m:\u001b[0m\u001b[0;34m\u001b[0m\u001b[0;34m\u001b[0m\u001b[0m\n\u001b[1;32m      2\u001b[0m   \u001b[0;32mif\u001b[0m \u001b[0mb\u001b[0m \u001b[0;34m==\u001b[0m \u001b[0;36m0\u001b[0m\u001b[0;34m:\u001b[0m\u001b[0;34m\u001b[0m\u001b[0;34m\u001b[0m\u001b[0m\n\u001b[0;32m----> 3\u001b[0;31m       \u001b[0;32mraise\u001b[0m \u001b[0mDzieleniePrzezZero\u001b[0m\u001b[0;34m(\u001b[0m\u001b[0;34m'Nie dziel przez zero błagam'\u001b[0m\u001b[0;34m)\u001b[0m\u001b[0;34m\u001b[0m\u001b[0;34m\u001b[0m\u001b[0m\n\u001b[0m\u001b[1;32m      4\u001b[0m   \u001b[0;32melse\u001b[0m\u001b[0;34m:\u001b[0m\u001b[0;34m\u001b[0m\u001b[0;34m\u001b[0m\u001b[0m\n\u001b[1;32m      5\u001b[0m       \u001b[0;32mreturn\u001b[0m \u001b[0ma\u001b[0m\u001b[0;34m/\u001b[0m\u001b[0mb\u001b[0m\u001b[0;34m\u001b[0m\u001b[0;34m\u001b[0m\u001b[0m\n",
            "\u001b[0;31mDzieleniePrzezZero\u001b[0m: Nie dziel przez zero błagam"
          ]
        }
      ]
    },
    {
      "cell_type": "code",
      "source": [
        " def dzielenie(a,b):\n",
        "  if a!=0 or b!=0:\n",
        "    return a/b\n",
        "  else:\n",
        "    raise DzieleniePrzezZero"
      ],
      "metadata": {
        "id": "s8ELVpgI--ES"
      },
      "execution_count": null,
      "outputs": []
    },
    {
      "cell_type": "code",
      "source": [
        "dzielenie(10,0)"
      ],
      "metadata": {
        "colab": {
          "base_uri": "https://localhost:8080/",
          "height": 288
        },
        "id": "n-EqAtqSAt6j",
        "outputId": "77d1bbf1-84d3-41a1-c1e0-72f8f74e112d"
      },
      "execution_count": null,
      "outputs": [
        {
          "output_type": "error",
          "ename": "ZeroDivisionError",
          "evalue": "ignored",
          "traceback": [
            "\u001b[0;31m---------------------------------------------------------------------------\u001b[0m",
            "\u001b[0;31mZeroDivisionError\u001b[0m                         Traceback (most recent call last)",
            "\u001b[0;32m<ipython-input-24-e88a430af617>\u001b[0m in \u001b[0;36m<cell line: 1>\u001b[0;34m()\u001b[0m\n\u001b[0;32m----> 1\u001b[0;31m \u001b[0mdzielenie\u001b[0m\u001b[0;34m(\u001b[0m\u001b[0;36m10\u001b[0m\u001b[0;34m,\u001b[0m\u001b[0;36m0\u001b[0m\u001b[0;34m)\u001b[0m\u001b[0;34m\u001b[0m\u001b[0;34m\u001b[0m\u001b[0m\n\u001b[0m",
            "\u001b[0;32m<ipython-input-23-18b769fd77c8>\u001b[0m in \u001b[0;36mdzielenie\u001b[0;34m(a, b)\u001b[0m\n\u001b[1;32m      1\u001b[0m \u001b[0;32mdef\u001b[0m \u001b[0mdzielenie\u001b[0m\u001b[0;34m(\u001b[0m\u001b[0ma\u001b[0m\u001b[0;34m,\u001b[0m\u001b[0mb\u001b[0m\u001b[0;34m)\u001b[0m\u001b[0;34m:\u001b[0m\u001b[0;34m\u001b[0m\u001b[0;34m\u001b[0m\u001b[0m\n\u001b[1;32m      2\u001b[0m  \u001b[0;32mif\u001b[0m \u001b[0ma\u001b[0m\u001b[0;34m!=\u001b[0m\u001b[0;36m0\u001b[0m \u001b[0;32mor\u001b[0m \u001b[0mb\u001b[0m\u001b[0;34m!=\u001b[0m\u001b[0;36m0\u001b[0m\u001b[0;34m:\u001b[0m\u001b[0;34m\u001b[0m\u001b[0;34m\u001b[0m\u001b[0m\n\u001b[0;32m----> 3\u001b[0;31m    \u001b[0;32mreturn\u001b[0m \u001b[0ma\u001b[0m\u001b[0;34m/\u001b[0m\u001b[0mb\u001b[0m\u001b[0;34m\u001b[0m\u001b[0;34m\u001b[0m\u001b[0m\n\u001b[0m\u001b[1;32m      4\u001b[0m  \u001b[0;32melse\u001b[0m\u001b[0;34m:\u001b[0m\u001b[0;34m\u001b[0m\u001b[0;34m\u001b[0m\u001b[0m\n\u001b[1;32m      5\u001b[0m    \u001b[0;32mraise\u001b[0m \u001b[0mDzieleniePrzezZero\u001b[0m\u001b[0;34m\u001b[0m\u001b[0;34m\u001b[0m\u001b[0m\n",
            "\u001b[0;31mZeroDivisionError\u001b[0m: division by zero"
          ]
        }
      ]
    },
    {
      "cell_type": "code",
      "source": [],
      "metadata": {
        "id": "HJkteugSA3J9"
      },
      "execution_count": null,
      "outputs": []
    }
  ]
}