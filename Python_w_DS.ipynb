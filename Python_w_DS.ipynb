{
  "nbformat": 4,
  "nbformat_minor": 0,
  "metadata": {
    "colab": {
      "provenance": [],
      "collapsed_sections": [
        "KzGNnZwUB9rM",
        "SZeuGAx7CDkZ",
        "1knZdkVtumXo",
        "zwa68oMrj6jd",
        "EY5KjQ3Yu8Qq",
        "LvF-TPVM2ogq",
        "ClUDMwGBPAec"
      ],
      "include_colab_link": true
    },
    "kernelspec": {
      "name": "python3",
      "display_name": "Python 3"
    },
    "language_info": {
      "name": "python"
    }
  },
  "cells": [
    {
      "cell_type": "markdown",
      "metadata": {
        "id": "view-in-github",
        "colab_type": "text"
      },
      "source": [
        "<a href=\"https://colab.research.google.com/github/Paulina9555/Repo1/blob/master/Python_w_DS.ipynb\" target=\"_parent\"><img src=\"https://colab.research.google.com/assets/colab-badge.svg\" alt=\"Open In Colab\"/></a>"
      ]
    },
    {
      "cell_type": "markdown",
      "source": [
        "# ZMIENNE I TYPY KLASYCZNE"
      ],
      "metadata": {
        "id": "5T4FYdnasjiq"
      }
    },
    {
      "cell_type": "code",
      "source": [
        "#@title Podstawy\n",
        "a = 3 #int\n",
        "b = 4 #int\n",
        "c = 5.0 #float\n",
        "d = 'dog' #string\n",
        "e = True #bool - logiczna zmienna\n",
        "f = False #bool\n",
        "\n",
        "print(a) #wyswietla w konsoli to co jest w srodku\n",
        "print(c)\n",
        "print(d)\n",
        "\n",
        "#type(x) - pokazuje jakiego typu jest zmienna x\n",
        "print('TYPY ZMIENNYCH')\n",
        "print(type(a))\n",
        "print(type(c))\n",
        "print(type(d))\n",
        "print(type(e))"
      ],
      "metadata": {
        "id": "sIfWEsrFrQD_"
      },
      "execution_count": null,
      "outputs": []
    },
    {
      "cell_type": "code",
      "source": [
        "#@title Operacje na zmiennych numerycznych\n",
        "a = a+b+8 # = <- operator przypisania\n",
        "print(a)\n",
        "### operacje na intach\n",
        "print(8+2) #dodawanie intow\n",
        "print(6-5) #odejmowanie intow\n",
        "print(6*10) #mnozenie\n",
        "\n",
        "print(10/2) #\n",
        "print(10/3) # dzielenie klasyczne (zmiennoprzecinkowe), wynik to float\n",
        "print(10//2) # dzielenie całkowitoliczbowe, wynik to int, zawsze zaokragla w dol\n",
        "\n",
        "# a==b -> zwraca True jezeli a jest rowne b lub False gdy nie (python zajmuje sie sam typami, 5 = 5.0\n",
        "print(10/2 == 10//2)\n",
        "\n",
        "\n",
        "print(2**5) # 2 do potegi 5\n",
        "print(32**(1/5)) # pierwiastek jako podnoszenie do odwrotnej potegi\n",
        "\n",
        "# 10 modulo 3 = 1, bo reszta z dzielenia 10 na 3 to 1\n",
        "# 6 modulo 2 = 0\n",
        "\n",
        "print(10%3)"
      ],
      "metadata": {
        "id": "SiQBzMYRrWd5"
      },
      "execution_count": null,
      "outputs": []
    },
    {
      "cell_type": "code",
      "source": [
        "#@title Operacje na stringach\n",
        "### operacje na stringach\n",
        "a = 'piesek'\n",
        "b = 'jest slodki'\n",
        "print(a+' '+b)\n",
        "\n",
        "print(a.split())\n",
        "print(b.split(' '))"
      ],
      "metadata": {
        "id": "KLB3jzF9rWRv",
        "outputId": "2f5e436a-4270-4c32-e260-a8c278177614",
        "colab": {
          "base_uri": "https://localhost:8080/"
        }
      },
      "execution_count": null,
      "outputs": [
        {
          "output_type": "stream",
          "name": "stdout",
          "text": [
            "piesek jest slodki\n",
            "['piesek']\n",
            "['jest', 'slodki']\n"
          ]
        }
      ]
    },
    {
      "cell_type": "code",
      "source": [
        "#@title Print + inkrementacja\n",
        "\n",
        "### w princie mozna pokazywac kilka rzeczy naraz, beda oddzielone spacja\n",
        "\n",
        "print(a,b, 4, b)\n",
        "\n",
        "### typy mozna miedzy soba zmieniac, o ile to ma sens\n",
        "\n",
        "a = int(3.0)\n",
        "b = float(4)\n",
        "c = int(3.5)\n",
        "print(a,b,c)\n",
        "\n",
        "### zamiast pisać a = a+2 można a+=2\n",
        "\n",
        "a = 4\n",
        "a+=a ### to samo co a = a+a\n",
        "print(a)"
      ],
      "metadata": {
        "cellView": "form",
        "id": "mNHgSYELrWD-"
      },
      "execution_count": null,
      "outputs": []
    },
    {
      "cell_type": "markdown",
      "source": [
        "# ZMIENNE ZŁOŻONE"
      ],
      "metadata": {
        "id": "PIJWGjPIrT8j"
      }
    },
    {
      "cell_type": "code",
      "source": [
        "# @title Listy\n",
        "## lista -> definiuje ją się za pomocą []\n",
        "\n",
        "\n",
        "### lista -> definiuje ją się za pomocą []\n",
        "\n",
        "list_a = [3, 2.0, True, [], 'kotek', 4.2]\n",
        "print(list_a)\n",
        "\n",
        "### W PYTHONIE  NUMERACJA ELEMENTOW ZACZYNA SIE OD 0!!!!!!\n",
        "### po element z listy siegamy za pomoca jego indeksu w []\n",
        "\n",
        "print(list_a[1]) # wyciaga drugi element listy\n",
        "print(list_a[4]) # wyciaga piaty element listy\n",
        "print(list_a[-2]) # wyciaga drugi OD KONCA element listy\n",
        "\n",
        "print(list_a[2:4]) # wyciaga elementy o indeksie od 2 do 4 BEZ ELEMENTU CZWARTEGO!!! zwraca liste z tym co chcemy\n",
        "## zadanko: wypisz elementy listy poza pierwszym i ostatnim jedna komendą\n",
        "\n",
        "print(list_a[1:-1])\n",
        "\n",
        "len(list_a) # zwraca dlugosc listy\n",
        "\n",
        "print(list_a[0:-1:2]) ### wypisuje elementy od zerowego do ostatniego bez ostatniego z krokiem 2\n",
        "\n",
        "### lista jest iterowalna, czyli można po niej przechodzi i siegac po jej elementy krok po kroku\n",
        "### string też jest iterowalny! czyli mozna robic na nim to co na liscie\n",
        "\n",
        "print('piesek'[2])"
      ],
      "metadata": {
        "cellView": "form",
        "id": "H02AIyRBvLpH"
      },
      "execution_count": null,
      "outputs": []
    },
    {
      "cell_type": "code",
      "source": [
        "#@title Metody list\n",
        "lista = [3,'kotek',True,2]\n",
        "\n",
        "\n",
        "print(lista.append(6)) # dodaje element na koniec listy - metoda listy - zmienia liste na stałe\n",
        "\n",
        "print(lista.pop(2)) # wyrzuca element o indeksie 2\n",
        "print(lista.index(2)) # zwraca element o indeks\n",
        "\n",
        "print(lista)\n",
        "\n",
        "### Zadanie: porównaj działanie metod .append() vs .extend(), podaj zasadniczą różnicę, będzie widoczna\n",
        "## gdy będziemy appendować/extendować do naszej listy inną listę, np lista_b = [2,0,0.4]\n",
        "\n",
        "# lista.append([2,0,0.4]) # doda listę w argumencie na koniec oryginalnej listy jako NOWY ELEMENT\n",
        "# lista.extend([2,0,0.4]) # polaczy listy ze sobą\n",
        "# listy mozna tez dodawac, zachowuje sie to tak jak extend"
      ],
      "metadata": {
        "cellView": "form",
        "id": "F1BVURV1vTge"
      },
      "execution_count": null,
      "outputs": []
    },
    {
      "cell_type": "code",
      "source": [
        "#@title Tuple (krotki)\n",
        "### TUPLE (KROTKI) - glowna roznica - tuple sa niezmienialne po deklaracji, nawiasy: ()\n",
        "#\n",
        "lista_a = [1,2,3]\n",
        "tuple_a = (1,2,3)\n",
        "\n",
        "lista_a[0] = 'kotek'\n",
        "tuple_a[0] = 'kotek' ### zwraca blad\n",
        "\n",
        "### SET - zbiór - nie zawiera powtórzeń, implementuje matematycznie zbiór, nawiasy: {}\n",
        "\n",
        "lista_a = [1,2,3,3]\n",
        "set_a = set(lista_a)\n",
        "print(set_a)\n",
        "\n",
        "### ZADANKO: DLA LISTY [2,3,3,6,6,1] stwórz listę zawierającą unikalne jej elementy bez używania indeksów\n",
        "\n",
        "lista_a = [2,3,3,6,6,1]\n",
        "set_a= set(lista_a)\n",
        "print(list(set_a))\n",
        "\n"
      ],
      "metadata": {
        "cellView": "form",
        "id": "JKsq19iirTbW"
      },
      "execution_count": null,
      "outputs": []
    },
    {
      "cell_type": "code",
      "source": [
        "#@title Dictionary (słownik)\n",
        "### DICTIONARY, DICT, SŁOWNIK: {'nazwa':zmienna,...}\n",
        "\n",
        "\n",
        "dictionary = {'jedynka':1,'czworka':4} ## nazwy chcemy aby były stringami\n",
        "\n",
        "print(dictionary['jedynka'])\n",
        "print(dictionary.values()) ## wartosci slownika\n",
        "print(dictionary.keys()) ## klucze\n",
        "print(dictionary.items()) ## oba\n",
        "\n",
        "## ZADANIE:\n",
        "# a) zaimplementuj cennik owoców za pomocą słownika. jabłka są po 2.5, gruszki po 5.6.\n",
        "\n",
        "cennik = {'jablka':2.5, 'gruszki':5.6}\n",
        "\n",
        "# b) dodajcie cenę truskawek (po 3)\n",
        "\n",
        "cennik['truskawki'] = 3\n",
        "\n",
        "# c) niestety mamy inflację i wszystko poszło do góry o 70%. zaimplementuj te poprawkę\n",
        "\n",
        "cennik['jablka'] *= 1.7\n",
        "cennik['gruszki'] *= 1.7\n",
        "cennik['truskawki'] *= 1.7\n",
        "\n",
        "# d) HARD: wypisz nazwę najdroższego owoca bez odnoszenia się bezpośrednio do wartości\n",
        "\n",
        "vals = list(cennik.values()) #lista z cenami\n",
        "max_price = max(vals) # najwieksza cena\n",
        "fruits = list(cennik.keys()) # lista z owockami\n",
        "\n",
        "max_index = vals.index(max_price) # indeks najwiekszej ceny w liscie cen\n",
        "max_owocek = fruits[max_index]\n",
        "print(max_owocek)"
      ],
      "metadata": {
        "cellView": "form",
        "id": "HmHmY3klrPD8"
      },
      "execution_count": null,
      "outputs": []
    },
    {
      "cell_type": "markdown",
      "source": [
        "# PĘTLE, WARUNKOWANIE"
      ],
      "metadata": {
        "id": "e7qUn2-Vve8_"
      }
    },
    {
      "cell_type": "code",
      "source": [
        "#@title  Pętla 'for'\n",
        "\n",
        "### składnia: w nawiasach jest \"nazwa\"\n",
        "### for (jakiś element) in (zestaw elementów, iterowalny):\n",
        "      ### zrób coś\n",
        "\n",
        "lista_a = [1,2,3,'kotek',False]\n",
        "\n",
        "### wyprintuj elementy z listy:\n",
        "\n",
        "for element in [1,2,3,'kotek',False]:\n",
        "  print(element)\n",
        "\n",
        "### range:\n",
        "\n",
        "for number in range(4,10):\n",
        "  print(number)\n",
        "\n",
        "### ZADANKO: za pomocą pętli for po iteratorze range() wypisz elementy lista_a\n",
        "### ta metoda pokazywania elementów w praktyce nie jest optymalna, to tylko cwiczenie :p\n",
        "\n",
        "for idx in range(len(lista_a)):\n",
        "  print(lista_a[idx])\n",
        "\n",
        "## ZADANIE o owockach - vol.2 :\n",
        "cennik = {'jablka':2.5, 'gruszki':5.6,'borowki':10,'agrest':18, \"czeresnie\":17.5}\n",
        "cennik['truskawki'] = 3\n",
        "\n",
        "# c - podejście mądrzejsze) niestety mamy inflację i wszystko poszło do góry o 70%.\n",
        "# zaimplementuj te poprawkę\n",
        "# za pomocą pętli for (podpowiedz: oraz metody keys())\n",
        "\n",
        "for owoc in cennik.keys():\n",
        "  cennik[owoc] *= 1.7\n",
        "\n",
        "print(cennik)\n"
      ],
      "metadata": {
        "cellView": "form",
        "id": "WdKG2kaWvjyo"
      },
      "execution_count": null,
      "outputs": []
    },
    {
      "cell_type": "code",
      "source": [
        "#@title Warunkowanie 'if'\n",
        "### if warunek_logiczny:\n",
        "###     zrób coś (jeżeli warunek dał wartość True)\n",
        "### elif inny_warunek_logiczny: (tego nie trzeba zazwyczaj)\n",
        "###     zrób jeszcze coś innego\n",
        "### else:\n",
        "###     zrób coś innego\n",
        "\n",
        "## np jaki liczba ma znak?\n",
        "\n",
        "liczba = 10\n",
        "\n",
        "if liczba > 0:\n",
        "  print('dodatnia')\n",
        "elif liczba < 0: ## to mozna powtarzać ile trzeba\n",
        "  print('ujemna')\n",
        "else:\n",
        "  print('bez znaku')\n",
        "\n",
        "## mozna w ogóle dać samego ifa\n",
        "\n",
        "if liczba > 5:\n",
        "  print('liczba jest wieksza od 5')\n"
      ],
      "metadata": {
        "cellView": "form",
        "id": "cbAjb2i1vpvi"
      },
      "execution_count": null,
      "outputs": []
    },
    {
      "cell_type": "code",
      "source": [
        "#@title if - zadanie\n",
        "### ZADANKO: za pomocą pętli for oraz warunkowania stwórz następującą pętle:\n",
        "### dla liczb z przedziału od 5 do 15\n",
        "### jeżeli liczba jest podzielna przez 3, to wypisz '{liczba} podzielna przez 3'\n",
        "### jeżeli nie jest przez 3 i jest przez 2, to wypisz' {liczba} podzielna przez 2 ale nie przez 3'\n",
        "### w innym wypadku wypisz reszte dzielenia tej liczby przez 7\n",
        "\n",
        "###hint - fstring:\n",
        "a = 5\n",
        "print(f'Liczba a jest równa {a}')\n",
        "\n",
        "for liczba in range(5, 15):\n",
        "  if liczba % 3 == 0:\n",
        "      print(f'Liczba: {liczba} podzielna przez 3')\n",
        "  elif liczba % 2 == 0:\n",
        "      print(f'Liczba {liczba} podzielna przez 2 ale nie przez 3')\n",
        "  else:\n",
        "      print(f'Wynik dzielenia liczby {liczba} przez 7: {liczba % 7}')"
      ],
      "metadata": {
        "cellView": "form",
        "id": "DJ7wW4yxwCTa"
      },
      "execution_count": null,
      "outputs": []
    },
    {
      "cell_type": "code",
      "source": [
        "#@title Słowa kluczowe pętli 'for'\n",
        "### słowa kluczowe w pętli for:\n",
        "### break - przerywa całą pętle\n",
        "### continue - przerywa iterację i idzie do następnej\n",
        "### pass - nie robi nic\n",
        "\n",
        "for num in range(10):\n",
        "  if num == 8:\n",
        "      break\n",
        "  elif num % 2 == 0:\n",
        "      continue ### przerywa tą iteracje natychmiast i idzie do kolejnego kolejnego elementu\n",
        "      print(num)\n",
        "  else:\n",
        "      print(num)\n"
      ],
      "metadata": {
        "cellView": "form",
        "id": "6FBv9OA_wFQ-"
      },
      "execution_count": null,
      "outputs": []
    },
    {
      "cell_type": "code",
      "source": [
        "#@title Pętla 'while'\n",
        "### jest jeszcze pętla while:\n",
        "### while warunek=True:\n",
        "      ## rób coś\n",
        "\n",
        "i = 0\n",
        "while i < 100:\n",
        "  print(i)\n",
        "  i+=1\n",
        "  if i > 10:\n",
        "      break ## moze nas ten break ocalic od nieskonczonej petli\n",
        "\n"
      ],
      "metadata": {
        "cellView": "form",
        "id": "3niqkhjMvd0v"
      },
      "execution_count": null,
      "outputs": []
    },
    {
      "cell_type": "code",
      "source": [
        "#@title List comprehension\n",
        "\n",
        "#fajny bajer w pythonie\n",
        "\n",
        "int_list = [1,2,3,4,5]\n",
        "\n",
        "### tworzymy nową listę za pomocą istniejącej i pętli for\n",
        "bigger_ints_list = [x+2 for x in int_list] ### [to_co_chcemy_uzyskac for element in istniejaca_lista]\n",
        "print(bigger_ints_list)\n",
        "\n"
      ],
      "metadata": {
        "cellView": "form",
        "id": "9ziKidlywHVY"
      },
      "execution_count": null,
      "outputs": []
    },
    {
      "cell_type": "markdown",
      "source": [
        "# FUNKCJE\n"
      ],
      "metadata": {
        "id": "WhJnnHhgwJ7y"
      }
    },
    {
      "cell_type": "code",
      "source": [
        "#@title Funkcje - przykłady\n",
        "#### funkcja w pythonie służy do usprawniania wielokrotnego użycia tych samych procedur\n",
        "\n",
        "\n",
        "def multiply_by_two(number): ### funkcja o nazwie multiply_by_two, która przyjmuje argument 'number'\n",
        "    result = number*2\n",
        "    return result ### wyjście z funkcji, zwrócenie oczekiwanej wartości\n",
        "\n",
        "def add_smile(sentence):\n",
        "    sentence_with_smile = sentence + \" :)\"\n",
        "    return sentence_with_smile\n",
        "\n",
        "def print_with_smile(sentence):\n",
        "    print(sentence + ' :)')\n"
      ],
      "metadata": {
        "id": "LYIPcSfcwSaz"
      },
      "execution_count": null,
      "outputs": []
    },
    {
      "cell_type": "code",
      "source": [
        "#@title Type hinty\n",
        "\n",
        "# przykład funkcji bez type hintów\n",
        "def add_two(n):\n",
        "    return n+2\n",
        "\n",
        "# przykład z typehintami - sugerujemy jaki typ ma byc na wejsciu i informujemy o typie wyjścia\n",
        "def add_two_with_type_hints(n: int) -> int:\n",
        "    return n+2\n",
        "\n",
        "def exponentiation(base: float, exponent: int) -> float:\n",
        "    first_base = base\n",
        "    for i in range(1,exponent):\n",
        "        first_base *= base\n",
        "    return first_base\n",
        "\n",
        "\n",
        "\n",
        "\n",
        "\n",
        "a = 4\n",
        "b = multiply_by_two(a)\n",
        "print(b)\n",
        "# print(add_smile('lubie pythona'))\n",
        "# print_with_smile('lubie pythona')\n",
        "print(add_two_with_type_hints(23.6))\n"
      ],
      "metadata": {
        "cellView": "form",
        "id": "_4CtArHlwUp2"
      },
      "execution_count": null,
      "outputs": []
    },
    {
      "cell_type": "code",
      "source": [
        "\n",
        "#@title Funkcje - zadanie 1\n",
        "# Stwórz funkcję, która sprawdzi, czy liczba podana w argumencie jest\n",
        "# pierwsza. Funkcja powinna przyjmować wartość numeryczną, a\n",
        "# zwracać powinna wartość logiczną True/False.\n",
        "# Np.\n",
        "# Dla 11 funkcja zwróci True, natomiast dla 12 -> False.\n",
        "## DODATKOWO: Jeżeli typ jest inny niż int lub jest ujemna, to też zwróć False, bo tylko liczby naturalne są pierwsze\n",
        "\n",
        "    ### return natychmiast konczy funkcję!\n",
        "def is_prime(number):\n",
        "    if (not isinstance(number, int)) or (number < 2):\n",
        "        return False\n",
        "    for numbers_to_check in range(2, number):\n",
        "        if number % numbers_to_check == 0:\n",
        "            return False\n",
        "    return True\n",
        "\n",
        "print(is_prime('piesek'))\n",
        "print(is_prime(4.0))\n",
        "print(is_prime(7))"
      ],
      "metadata": {
        "id": "88h-nzJpwcKq"
      },
      "execution_count": null,
      "outputs": []
    },
    {
      "cell_type": "code",
      "source": [
        "#@title Funkcje - zadanie 2\n",
        "## a) napisz funkcję factorial która policzy silnię z liczby n. uodpornij te funkcje na niepoprawne typy\n",
        "## silnia z liczby naturalnej n to iloczyn liczb naturalnych od 1 do n włącznie z n\n",
        "\n",
        "\n",
        "## wersja silni z rekurencją\n",
        "\n",
        "def factorial(n):\n",
        "    if n == 1:\n",
        "        return 1\n",
        "    return n*factorial(n-1)\n",
        "\n",
        "print(factorial(4))\n",
        "\n",
        "\n",
        "\n",
        "\n"
      ],
      "metadata": {
        "id": "5zRo6K1ewIz7"
      },
      "execution_count": null,
      "outputs": []
    },
    {
      "cell_type": "code",
      "source": [],
      "metadata": {
        "id": "vvjTEO9CmmqT"
      },
      "execution_count": null,
      "outputs": []
    },
    {
      "cell_type": "code",
      "source": [
        "def tworz_slownik(klucze, wartosci):\n",
        "    # Wykorzystaj funkcję zip, aby połączyć dwie listy w pary (klucz, wartość).\n",
        "    pary = zip(klucze, wartosci)\n",
        "\n",
        "    # Przekształć pary w słownik.\n",
        "    slownik = dict(pary)\n",
        "\n",
        "    return slownik"
      ],
      "metadata": {
        "id": "mAVYFv4Qmmy_"
      },
      "execution_count": null,
      "outputs": []
    },
    {
      "cell_type": "code",
      "source": [
        "tworz_slownik([1,2],['a','b'])"
      ],
      "metadata": {
        "id": "kOG4t0C-jbiK",
        "outputId": "2c45cb9a-bdbf-435e-c630-58aa09eb944b",
        "colab": {
          "base_uri": "https://localhost:8080/"
        }
      },
      "execution_count": null,
      "outputs": [
        {
          "output_type": "execute_result",
          "data": {
            "text/plain": [
              "{1: 'a', 2: 'b'}"
            ]
          },
          "metadata": {},
          "execution_count": 3
        }
      ]
    },
    {
      "cell_type": "markdown",
      "source": [
        "# Funkcje map(), reduce(), filter() dla list"
      ],
      "metadata": {
        "id": "73h-84DE96n3"
      }
    },
    {
      "cell_type": "code",
      "source": [
        "#@title map()\n",
        "def fruits_to_upper(fruit: str) -> str:\n",
        "  return fruit.upper()\n",
        "\n",
        "list(map(fruits_to_upper, fruits)) ### map(funkcja, lista) => zwraca iterator którego elementy są wartościami funkcji na elementach listy w argumencie"
      ],
      "metadata": {
        "id": "Go19O93FAjiD"
      },
      "execution_count": null,
      "outputs": []
    },
    {
      "cell_type": "markdown",
      "source": [
        "### Zadanie 1 - map()\n",
        "### a) Zaimplementuj metodę .start_with_big_letter() która przyjmie listę stringów i zwróci listę w której każdy z elementów zaczyna się wielką literą. Pamiętaj, żeby zadbać o kontrolę typów. Nie korzystaj z metody capitalize.\n",
        "\n",
        "##### HINT: string jest iteratorem samym w sobie\n",
        "\n",
        "\n",
        "### b) ciut łatwiejsze: popraw poniższy kod:\n",
        "\n",
        "```\n",
        "def start_with_big_letter()(fruits: str) -> str:\n",
        "  return fruits.capitalize()\n",
        "list(map(start_with_big_letter, fruits))\n",
        "\n",
        "```\n",
        "\n",
        "\n",
        "\n"
      ],
      "metadata": {
        "id": "Y2NscnsqCW7T"
      }
    },
    {
      "cell_type": "code",
      "source": [
        "#@title rozwiązanie Łukasza\n",
        "\n",
        "def starts_with_big_letter(word_list: list) -> list:\n",
        "  if not isinstance(word_list, list):\n",
        "    return -1\n",
        "  for idx, word in enumerate(word_list): ### enumerate(iterator) -> index, element\n",
        "    if not isinstance(word, str):\n",
        "      return -2\n",
        "    word_list[idx] = word[0].upper() + word[1:]\n",
        "  return word_list"
      ],
      "metadata": {
        "id": "wJRPPXyKEqLU",
        "cellView": "form"
      },
      "execution_count": null,
      "outputs": []
    },
    {
      "cell_type": "code",
      "source": [
        "#@title rozwiązanie Sylwii\n",
        "\n",
        "def start_with_big_letter(fruits: str) -> str:\n",
        "  return fruits.capitalize()\n",
        "\n",
        "list(map(start_with_big_letter, fruits))\n"
      ],
      "metadata": {
        "id": "GhU50J4IGQwQ",
        "cellView": "form"
      },
      "execution_count": null,
      "outputs": []
    },
    {
      "cell_type": "markdown",
      "source": [
        "### reduce()"
      ],
      "metadata": {
        "id": "_Vu-CbudByB2"
      }
    },
    {
      "cell_type": "code",
      "source": [
        "\n",
        "# import functools  - ściągnięcie całego functools\n",
        "from functools import reduce\n",
        "\n",
        "int_list = [1,2,9,3,6,1]\n",
        "\n",
        "def addition(a: int,b: int) -> int:\n",
        "  return a+b\n",
        "\n",
        "reduce(addition, int_list)"
      ],
      "metadata": {
        "id": "qKJkXC1aLIFF",
        "colab": {
          "base_uri": "https://localhost:8080/"
        },
        "outputId": "100535c1-0b57-4708-fcbd-ce918e4203fd"
      },
      "execution_count": null,
      "outputs": [
        {
          "output_type": "execute_result",
          "data": {
            "text/plain": [
              "22"
            ]
          },
          "metadata": {},
          "execution_count": 15
        }
      ]
    },
    {
      "cell_type": "markdown",
      "source": [
        "### Zadanie 2: Zaimplementuj funkcję liczącą silnię(n) za pomocą reduce\n",
        "### Rozwiązanie to nie wymaga rekurencji.*italicised text*"
      ],
      "metadata": {
        "id": "jIHmAgRdL6up"
      }
    },
    {
      "cell_type": "code",
      "source": [
        "\n",
        "\n",
        "def mnozenie(a: int, b: int) -> int:\n",
        "  return a * b\n",
        "\n",
        "def silnia_reduce(n: int) -> int:\n",
        "  return reduce(mnozenie, range(1, n+1))\n",
        "\n",
        "silnia_reduce(4)"
      ],
      "metadata": {
        "id": "GmzMAW1ILlUB"
      },
      "execution_count": null,
      "outputs": []
    },
    {
      "cell_type": "markdown",
      "source": [
        "### filter()"
      ],
      "metadata": {
        "id": "KzGNnZwUB9rM"
      }
    },
    {
      "cell_type": "code",
      "source": [
        "\n",
        "def is_even(n: int) -> bool:\n",
        "  return n%2 == 0\n",
        "\n",
        "int_list = list(range(10))\n",
        "\n",
        "list(filter(is_even, int_list))\n"
      ],
      "metadata": {
        "id": "g0HiyUsgO2Wn"
      },
      "execution_count": null,
      "outputs": []
    },
    {
      "cell_type": "markdown",
      "source": [
        "### lambda - funkcja anonimowa"
      ],
      "metadata": {
        "id": "SZeuGAx7CDkZ"
      }
    },
    {
      "cell_type": "code",
      "source": [
        "\n",
        "## składnia lambdy:   lambda x: f(x)\n",
        "\n",
        "# spróbujemy poprawić powyższe zadanie z filter():\n",
        "int_list = list(range(10))\n",
        "\n",
        "list(filter(lambda n: n%2==0, int_list))"
      ],
      "metadata": {
        "id": "Y5uRYhK1QK8t"
      },
      "execution_count": null,
      "outputs": []
    },
    {
      "cell_type": "code",
      "source": [
        "#@title Zadanie: Popraw kod na silnię za pomocą reduce() używając funkcji lambda\n",
        "def factorial(n: int):\n",
        "    return reduce(lambda x, y: x * y, range(1,n+1))"
      ],
      "metadata": {
        "id": "gGu7S2pqR5KY",
        "cellView": "form"
      },
      "execution_count": null,
      "outputs": []
    },
    {
      "cell_type": "markdown",
      "source": [
        "# obsługa błędów - try/except/finally\n",
        "\n",
        "\n",
        "\n",
        "```\n",
        "try:\n",
        "  spróbuj wykonać komendę -> jeżeli się udało, no to jest ok i pomijamy resztę\n",
        "except CustomException as e:\n",
        "  jeżeli był błąd, to przerwij program ale też wykonaj to co jest tutaj\n",
        "(opcjonalnie)\n",
        "finally:\n",
        "  to się wykona niezależnie od wyniku testu try/except\n",
        "```\n",
        "\n"
      ],
      "metadata": {
        "id": "ex-4pXw2dpg0"
      }
    },
    {
      "cell_type": "code",
      "source": [
        "#@title przykład try/except w funkcji factorial()\n",
        "\n",
        "def factorial(n: int):\n",
        "  try:\n",
        "    return reduce(lambda x, y: x * y, range(1,n+1))\n",
        "  except Exception as e:\n",
        "    print('Niepoprawny typ wejścia')\n",
        "    return e\n",
        "  finally: ### to jest opcjonalne\n",
        "    print('Koniec programu')\n"
      ],
      "metadata": {
        "id": "8E3nxGj8eBoN"
      },
      "execution_count": null,
      "outputs": []
    },
    {
      "cell_type": "markdown",
      "source": [
        "# obsługa błędów cd - assert\n",
        "\n",
        "\n",
        "\n",
        "```\n",
        "assert warunek, wiadomość_o_błędzie\n",
        "```\n",
        "\n"
      ],
      "metadata": {
        "id": "uvqiCQKfhQf-"
      }
    },
    {
      "cell_type": "code",
      "source": [
        "#@title przykład dla assert\n",
        "def multiply_two_ints(a,b):\n",
        "  product = a*b\n",
        "  assert type(product) == int, 'Product is not an integer' ### pod tym zawsze siedzi AssertionError\n",
        "  return a*b\n",
        "\n",
        "type(multiply_two_ints(2,3))\n",
        "type(multiply_two_ints(2,3.0))"
      ],
      "metadata": {
        "id": "4l0qvsgxStye",
        "cellView": "form"
      },
      "execution_count": null,
      "outputs": []
    },
    {
      "cell_type": "code",
      "source": [
        "#@title Zadanie: Dla poprzedniego kodu Łukasza wykorzystaj obsługę błędów tak, aby rozwiązać problem niespójności typów w return\n",
        "\n",
        "### rozwiązanie Łukasza:\n",
        "\n",
        "# def starts_with_big_letter(word_list: list) -> list:\n",
        "#   if not isinstance(word_list, list):\n",
        "#     return -1\n",
        "#   for idx, word in enumerate(word_list): ### enumerate(iterator) -> index, element\n",
        "#     if not isinstance(word, str):\n",
        "#       return -2\n",
        "#     word_list[idx] = word[0].upper() + word[1:]\n",
        "#   return word_list\n",
        "\n",
        "\n",
        "def starts_with_big_letter(word_list: list) -> list:\n",
        "  assert isinstance(word_list, list), 'Input is not a list!'\n",
        "  for idx, word in enumerate(word_list): ### enumerate(iterator) -> index, element\n",
        "    assert isinstance(word, str), f'Element of name {word} with index {idx} is not of type string!'\n",
        "    word_list[idx] = word[0].upper() + word[1:]\n",
        "  return word_list\n",
        "\n",
        "print(starts_with_big_letter(['apple','banana']))\n",
        "print(starts_with_big_letter(['cherry','pear',2,'banana']))\n",
        "print(starts_with_big_letter( ('banana','apple') ))"
      ],
      "metadata": {
        "id": "Eeu3uS5Lh-v1"
      },
      "execution_count": null,
      "outputs": []
    },
    {
      "cell_type": "code",
      "source": [
        "#@title Zadanie: Uodpornij poniższą funkcję na błąd typu wejścia (tzn dokonaj porządnej obsługi tego błędu):\n",
        "def factorial(n: int):\n",
        "    return reduce(lambda x, y: x * y, range(1,n+1))\n",
        "\n",
        "#rozw:\n",
        "def factorial(n: int):\n",
        "  try:\n",
        "    return reduce(lambda x, y: x * y, range(1,n+1))\n",
        "  except Exception as e:\n",
        "    return e\n",
        "\n",
        "factorial(5.5)"
      ],
      "metadata": {
        "id": "dj9OTwvLltV1",
        "cellView": "form"
      },
      "execution_count": null,
      "outputs": []
    },
    {
      "cell_type": "code",
      "source": [
        "#@title Zadanie: Ponownie obsłuż błąd, ale za pomocą assert\n",
        "\n",
        "def factorial(n: int):\n",
        "    assert isinstance(n, int), \"Input 'n' must be an integer.\"\n",
        "    return reduce(lambda x, y: x * y, range(1,n+1))\n",
        "\n",
        "## Bonusowe: Do powyższego kodu dołóż obsługę ujemnych (int to liczby też ujemne [całkowite])\n",
        "\n",
        "## Rozwiazanie Dominiki:\n",
        "\n",
        "def factorial(n: int):\n",
        "    assert isinstance(n, int), \"Input 'n' must be an integer.\"\n",
        "    assert n >= 0, \"Factorial not defined for negat. numbers.\"\n",
        "    if n == 0:\n",
        "      return 1\n",
        "    return reduce(lambda x, y: x * y, range(1,n+1))\n",
        "\n",
        "# Rozwiazanie Adama:\n",
        "\n",
        "def factorial(n: int):\n",
        "    assert (isinstance(n, int) and n > 0), 'Input is not an positive integer'\n",
        "    if n == 0:\n",
        "      return 1\n",
        "    return reduce(lambda x, y: x * y, range(1,n+1))\n"
      ],
      "metadata": {
        "id": "IZEFDR2unI9a",
        "cellView": "form"
      },
      "execution_count": null,
      "outputs": []
    },
    {
      "cell_type": "markdown",
      "source": [
        "### argumenty pozycyjne i keywords, oraz args i kwargs"
      ],
      "metadata": {
        "id": "1knZdkVtumXo"
      }
    },
    {
      "cell_type": "code",
      "source": [
        "def root_of_int(num, degree = 2): ### w definicji inputu funkcji można przydzielić domyślną wartość\n",
        "  return num**(1/degree)"
      ],
      "metadata": {
        "id": "HT0VhOk3oozV"
      },
      "execution_count": null,
      "outputs": []
    },
    {
      "cell_type": "code",
      "source": [
        "#### dalej możemy podawać degree\n",
        "root_of_int(256,8)"
      ],
      "metadata": {
        "colab": {
          "base_uri": "https://localhost:8080/"
        },
        "id": "tC2xb8twvNSC",
        "outputId": "0dc729b8-8fdf-45eb-8360-7b49525c3488"
      },
      "execution_count": null,
      "outputs": [
        {
          "output_type": "execute_result",
          "data": {
            "text/plain": [
              "2.0"
            ]
          },
          "metadata": {},
          "execution_count": 74
        }
      ]
    },
    {
      "cell_type": "code",
      "source": [
        "### ale gdy chcemy policzyc pierwiastek kwadratowy:\n",
        "root_of_int(4)"
      ],
      "metadata": {
        "colab": {
          "base_uri": "https://localhost:8080/"
        },
        "id": "W4nGXXtXvQFH",
        "outputId": "0841dfa4-cb57-4dce-8486-a89f9a38d9aa"
      },
      "execution_count": null,
      "outputs": [
        {
          "output_type": "execute_result",
          "data": {
            "text/plain": [
              "2.0"
            ]
          },
          "metadata": {},
          "execution_count": 75
        }
      ]
    },
    {
      "cell_type": "code",
      "source": [
        "def is_rectangle_flat(width = 1, height = 1): ### podluzny, gdy ma wieksza szerokosc niz wysokosc\n",
        "  if width > height:\n",
        "    return True\n",
        "  elif width < height:\n",
        "    return False\n",
        "  else:\n",
        "    print('Square was given')\n",
        "    return False"
      ],
      "metadata": {
        "id": "w4IZQGyQvzMy"
      },
      "execution_count": null,
      "outputs": []
    },
    {
      "cell_type": "code",
      "source": [
        "is_rectangle_flat()"
      ],
      "metadata": {
        "colab": {
          "base_uri": "https://localhost:8080/"
        },
        "id": "6lV5pMiLw0B4",
        "outputId": "324323a1-5358-45e1-af55-d6fc6e6e9e1f"
      },
      "execution_count": null,
      "outputs": [
        {
          "output_type": "stream",
          "name": "stdout",
          "text": [
            "Square was given\n"
          ]
        },
        {
          "output_type": "execute_result",
          "data": {
            "text/plain": [
              "False"
            ]
          },
          "metadata": {},
          "execution_count": 78
        }
      ]
    },
    {
      "cell_type": "code",
      "source": [
        "#argument pozycyjny, bo bazujemy na jego pozycji w argumentach funkcji\n",
        "\n",
        "is_rectangle_flat(2)"
      ],
      "metadata": {
        "colab": {
          "base_uri": "https://localhost:8080/"
        },
        "id": "WTFByCurxsIJ",
        "outputId": "5d96e3f9-8b4f-4118-b771-bc29902def17"
      },
      "execution_count": null,
      "outputs": [
        {
          "output_type": "execute_result",
          "data": {
            "text/plain": [
              "True"
            ]
          },
          "metadata": {},
          "execution_count": 86
        }
      ]
    },
    {
      "cell_type": "code",
      "source": [
        "#argument kluczowy, bo odwołujemy się do niego nie po pozycji tylko po nazwie czyli kluczu\n",
        "\n",
        "is_rectangle_flat(height = 2) ### jeżeli chcemy zmieniać argumenty nie po kolei w myśl pythona, to trzeba się do nich odwołać po nazwie"
      ],
      "metadata": {
        "colab": {
          "base_uri": "https://localhost:8080/"
        },
        "id": "p9odYL_bw5xQ",
        "outputId": "5e45e783-ca70-4eab-f076-075010b83be6"
      },
      "execution_count": null,
      "outputs": [
        {
          "output_type": "execute_result",
          "data": {
            "text/plain": [
              "False"
            ]
          },
          "metadata": {},
          "execution_count": 87
        }
      ]
    },
    {
      "cell_type": "code",
      "source": [
        "# zdefiniuj funkcję, która przyjmuje dowoloną ilość liczb w postaci\n",
        "# argumentów POZYCYJNYCH\n",
        "# i zwróci ich sumę\n",
        "\n",
        "\n",
        "def sum_all(*args): ### ta funkcja przyjmuje dowolną ilość argumentów bez kluczy\n",
        "### args jest iterowalny, uzywamy tego obiektu juz bez gwiazdki\n",
        "  print(args) ## juz po wyciagnieciu args z *args, args to krotka/tuple\n",
        "  sum = 0\n",
        "  for num in args:\n",
        "    sum += num\n",
        "  return sum"
      ],
      "metadata": {
        "id": "4JPDG2Z0xUtO"
      },
      "execution_count": null,
      "outputs": []
    },
    {
      "cell_type": "code",
      "source": [
        "sum_all(1,2,3,4,5,6)"
      ],
      "metadata": {
        "colab": {
          "base_uri": "https://localhost:8080/"
        },
        "id": "xtpeBlEMzn9W",
        "outputId": "84ead971-f26b-4563-bc9f-a33aa8266928"
      },
      "execution_count": null,
      "outputs": [
        {
          "output_type": "stream",
          "name": "stdout",
          "text": [
            "(1, 2, 3, 4, 5, 6)\n"
          ]
        },
        {
          "output_type": "execute_result",
          "data": {
            "text/plain": [
              "21"
            ]
          },
          "metadata": {},
          "execution_count": 92
        }
      ]
    },
    {
      "cell_type": "code",
      "source": [
        "sum_all(4,2,1)"
      ],
      "metadata": {
        "colab": {
          "base_uri": "https://localhost:8080/"
        },
        "id": "eH8aR5dh0Eac",
        "outputId": "a44b77f9-1fff-4b83-aad0-530188517606"
      },
      "execution_count": null,
      "outputs": [
        {
          "output_type": "execute_result",
          "data": {
            "text/plain": [
              "7"
            ]
          },
          "metadata": {},
          "execution_count": 90
        }
      ]
    },
    {
      "cell_type": "code",
      "source": [
        "# ZADANIE:\n",
        "# napisz funkcję która przyjmie dowolną ilość stringów jako argumenty pozycyjne\n",
        "# a potem wypisze je w pętli for\n",
        "# HINT: ta funkcja nie musi nic zwracac\n",
        "\n",
        "def print_words(*args):\n",
        "  for word in args:\n",
        "    print(word)\n"
      ],
      "metadata": {
        "id": "ZxuGx0gK0GGa"
      },
      "execution_count": null,
      "outputs": []
    },
    {
      "cell_type": "code",
      "source": [
        "print_words('adfsdf','sdfsd','piesek')"
      ],
      "metadata": {
        "colab": {
          "base_uri": "https://localhost:8080/"
        },
        "id": "f7-62Mla1kde",
        "outputId": "aa3259a2-cec7-4253-bf21-2c64b2d8bfd3"
      },
      "execution_count": null,
      "outputs": [
        {
          "output_type": "stream",
          "name": "stdout",
          "text": [
            "adfsdf\n",
            "sdfsd\n",
            "piesek\n"
          ]
        }
      ]
    },
    {
      "cell_type": "code",
      "source": [
        "print_words('a')"
      ],
      "metadata": {
        "colab": {
          "base_uri": "https://localhost:8080/"
        },
        "id": "Xlyoj_-C1p9y",
        "outputId": "37cdc61e-758c-4f1f-af6c-a8f963203542"
      },
      "execution_count": null,
      "outputs": [
        {
          "output_type": "stream",
          "name": "stdout",
          "text": [
            "a\n"
          ]
        }
      ]
    },
    {
      "cell_type": "markdown",
      "source": [
        "---\n",
        "\n",
        "# PROGRAMOWANIE OBIEKTOWE - OOP\n",
        "\n",
        "---\n",
        "---\n",
        "\n",
        "\n",
        "### Bedziemy tworzyc *klasy*.\n",
        "\n",
        "### Klasa to odbitka jakieś obiektu, bytu. Klasą może być Samochód.\n",
        "### Samochód ma cechy: kolor, marka, przebieg\n",
        "---\n",
        "---\n",
        "\n",
        "\n",
        "### Klasa jest szablonem na jakiś obiekt który ma konkretne własności, ale te obiekty mogą być różne od siebie. Przykładowo, chcemy mieć pieczątkę Samochód z cechami: kolor, marka, przebieg\n",
        "### Dążymy do tego, żebyśmy mogli tworzyć zmienne o \"typie\" Samochód postaci:\n",
        "\n",
        "### mercedes_1 = Samochód(czarny, Mercedes, 100000km)\n",
        "### mercedes_2 = Samochód(biały, Mercedes, 1000km)\n",
        "\n",
        "\n",
        "---\n",
        "---\n",
        "\n",
        "# Co powinna mieć klasa?\n",
        "\n",
        "### - nazwę\n",
        "\n",
        "### - konstruktor - specjalna funkcja wewnatrz klasy, ktora odpowiada za tworzenie nowych obiektów z tej klasy\n",
        "\n",
        "##### - self w kostruktorze - bardzo ważne słowo używane w definicji klasy, pozwala odnosić się do jej cech\n",
        "### - metody - funkcje ktore działają na obiektach klasy\n",
        "\n",
        "### - atrybuty - \"cechy\" klasy\n",
        "---"
      ],
      "metadata": {
        "id": "WlIoP4994jIs"
      }
    },
    {
      "cell_type": "markdown",
      "source": [
        "### Zadanie: Napisz klasę Person z atrybutami gender,name,age i metodami can_buy_cigarettes(), change_name()"
      ],
      "metadata": {
        "id": "VsFiFLPDAdoT"
      }
    },
    {
      "cell_type": "code",
      "source": [
        "\n",
        "### klasa - przepis\n",
        "### atrybuty - skladniki ktore ten przepis zawiera\n",
        "### metody - cos, co sie robi ze skladnikami typu: zważProdukt, czyWeganski\n",
        "\n",
        "\n",
        "class Person: #nazwa\n",
        "\n",
        "  def __init__(self, gender_input, name_input, age_input):\n",
        "    self.gender = gender_input\n",
        "    self.name = name_input\n",
        "    self.age = age_input\n",
        "\n",
        "  def can_buy_cigarettes(self):\n",
        "    return self.age >= 18\n",
        "\n",
        "  def change_name(self, new_name):\n",
        "    self.name = new_name\n",
        "\n",
        "\n",
        "\n",
        "\n",
        "paulina = Person('woman','Paulina',30)\n",
        "\n",
        "paulina.gender  ### można sięgać po atrybuty istniejącego obiektu danej klasy\n",
        "                ### za pomocą obiekt.nazwa_atrybutu\n"
      ],
      "metadata": {
        "id": "7RB89E5K4Rmq"
      },
      "execution_count": null,
      "outputs": []
    },
    {
      "cell_type": "code",
      "source": [
        "paulina = Person('woman','Paulina',30)"
      ],
      "metadata": {
        "id": "oe5mptUU4hOJ"
      },
      "execution_count": null,
      "outputs": []
    },
    {
      "cell_type": "code",
      "source": [
        "paulina.gender  ### można sięgać po atrybuty istniejącego obiektu danej klasy\n",
        "                ### za pomocą obiekt.nazwa_atrybutu"
      ],
      "metadata": {
        "colab": {
          "base_uri": "https://localhost:8080/",
          "height": 35
        },
        "id": "mvMgmYe19bKl",
        "outputId": "ca010585-5d52-40eb-c679-92b21f4c2604"
      },
      "execution_count": null,
      "outputs": [
        {
          "output_type": "execute_result",
          "data": {
            "text/plain": [
              "'woman'"
            ],
            "application/vnd.google.colaboratory.intrinsic+json": {
              "type": "string"
            }
          },
          "metadata": {},
          "execution_count": 110
        }
      ]
    },
    {
      "cell_type": "code",
      "source": [
        "paulina.can_buy_cigarettes()"
      ],
      "metadata": {
        "colab": {
          "base_uri": "https://localhost:8080/"
        },
        "id": "G7FYoq9P9_7B",
        "outputId": "df415fc0-57d1-4860-800f-4d40e3b268f7"
      },
      "execution_count": null,
      "outputs": [
        {
          "output_type": "execute_result",
          "data": {
            "text/plain": [
              "True"
            ]
          },
          "metadata": {},
          "execution_count": 111
        }
      ]
    },
    {
      "cell_type": "code",
      "source": [
        "human = Person('man', 'Mieszko', 30)\n"
      ],
      "metadata": {
        "id": "RtnMCmfj_ePP"
      },
      "execution_count": null,
      "outputs": []
    },
    {
      "cell_type": "code",
      "source": [
        "human.name"
      ],
      "metadata": {
        "colab": {
          "base_uri": "https://localhost:8080/",
          "height": 35
        },
        "id": "leKMYopQATb5",
        "outputId": "129f595c-69d0-4e47-8fdb-6a0be0d6796c"
      },
      "execution_count": null,
      "outputs": [
        {
          "output_type": "execute_result",
          "data": {
            "text/plain": [
              "'Mieszko'"
            ],
            "application/vnd.google.colaboratory.intrinsic+json": {
              "type": "string"
            }
          },
          "metadata": {},
          "execution_count": 113
        }
      ]
    },
    {
      "cell_type": "code",
      "source": [
        "human.change_name('Jola')"
      ],
      "metadata": {
        "id": "DuZq8C7uAUwo"
      },
      "execution_count": null,
      "outputs": []
    },
    {
      "cell_type": "code",
      "source": [
        "print(human.name)\n",
        "print(human.gender)\n",
        "print(human.age)"
      ],
      "metadata": {
        "colab": {
          "base_uri": "https://localhost:8080/"
        },
        "id": "hZ-cdSfKAce6",
        "outputId": "63e66245-f6eb-4c94-d2cf-bef1f203f6ff"
      },
      "execution_count": null,
      "outputs": [
        {
          "output_type": "stream",
          "name": "stdout",
          "text": [
            "Jola\n",
            "man\n",
            "30\n"
          ]
        }
      ]
    },
    {
      "cell_type": "code",
      "source": [
        "# Zadanie: Zaimplementuj klasę Rectangle (czyli prostokąt) z atrybutami\n",
        "# długość i szerokość\n",
        "# oraz metodami: pole, obwód, dla chętnych: długość przekątnej"
      ],
      "metadata": {
        "id": "CpvKz9onAea7"
      },
      "execution_count": null,
      "outputs": []
    },
    {
      "cell_type": "code",
      "source": [
        "class Prostokąt:\n",
        "  def __init__(self,dlugosc, szerokosc):\n",
        "    self.dlugosc = dlugosc\n",
        "    self.szerokosc = szerokosc\n",
        "\n",
        "  def pole(self):\n",
        "    pole=self.dlugosc * self.szerokosc\n",
        "    return pole\n",
        "\n",
        "  def obwod(self):\n",
        "    obwod = 2*self.dlugosc + 2*self.szerokosc\n",
        "    return obwod\n",
        "\n",
        "  def dlugosc_przekatnej(self):\n",
        "    dl_przekatnej = ((self.dlugosc*self.dlugosc)+ (self.szerokosc*self.szerokosc))*(1/2)\n",
        "    return dl_przekatnej"
      ],
      "metadata": {
        "id": "P4JCLqT4BTGO"
      },
      "execution_count": null,
      "outputs": []
    },
    {
      "cell_type": "code",
      "source": [
        "class Rectangle:\n",
        "    def __init__(self, length, width):\n",
        "        self.length = length\n",
        "        self.width = width\n",
        "\n",
        "    def area(self):\n",
        "        return self.length * self.width\n",
        "\n",
        "    def perimeter(self):\n",
        "        return 2 * (self.length + self.width)\n",
        "\n",
        "    def diagonal(self):\n",
        "        return (self.length ** 2 + self.width ** 2)**(1/2)"
      ],
      "metadata": {
        "id": "fvWVYJMQDNTs"
      },
      "execution_count": null,
      "outputs": []
    },
    {
      "cell_type": "code",
      "source": [
        "class Rectangle:\n",
        "\n",
        "  def __init__(self, dlugosc_input, szerokosc_input):\n",
        "    self.dlugosc = dlugosc_input\n",
        "    self.szerokosc = szerokosc_input\n",
        "\n",
        "  def pole(self):\n",
        "    return self.dlugosc * self.szerokosc\n",
        "\n",
        "  def obwod(self):\n",
        "    return 2 * (self.dlugosc + self.szerokosc)"
      ],
      "metadata": {
        "id": "IzoPnODADVfP"
      },
      "execution_count": null,
      "outputs": []
    },
    {
      "cell_type": "code",
      "source": [
        "class Rectangle:\n",
        "\n",
        "  def __init__(self, width, length):\n",
        "    self.width = width\n",
        "    self.length = length\n",
        "\n",
        "  def calculate_area(self):\n",
        "    return self.length * self.width\n",
        "\n",
        "  def calculate_perimeter(self):\n",
        "    return 2 * self.length + 2 * self.width\n",
        "\n",
        "  def calculate_diagonal(self):\n",
        "    return (self.length ** 2 + self.width ** 2) ** (1/2)"
      ],
      "metadata": {
        "id": "o_Pg8YaZDiFn"
      },
      "execution_count": null,
      "outputs": []
    },
    {
      "cell_type": "code",
      "source": [
        "class Prostokąt: #nazwa\n",
        "\n",
        "  def __init__(self, długosć_input, szerokość_input):\n",
        "    self.dlug = długosć_input\n",
        "    self.szer = szerokość_input\n",
        "\n",
        "  def pole(self):\n",
        "    return self.dlug * self.szer\n",
        "\n",
        "prostokąt1 = Prostokąt(2,3)\n",
        "print(prostokąt1.pole())"
      ],
      "metadata": {
        "colab": {
          "base_uri": "https://localhost:8080/"
        },
        "id": "VoYROPZND2tF",
        "outputId": "fe5cf99c-6d70-4c24-b0bd-8972d1d37db3"
      },
      "execution_count": null,
      "outputs": [
        {
          "output_type": "stream",
          "name": "stdout",
          "text": [
            "6\n"
          ]
        }
      ]
    },
    {
      "cell_type": "code",
      "source": [
        "class Rectangle:\n",
        "\n",
        "  def __init__(self, width, height):\n",
        "    self.width = width\n",
        "    self.height = height\n",
        "\n",
        "  def pole(self):\n",
        "    return self.width * self.height\n",
        "\n",
        "  def obwod(self):\n",
        "    return 2 * self.width + 2 * self.height"
      ],
      "metadata": {
        "id": "l5ABqYsaEWsD"
      },
      "execution_count": null,
      "outputs": []
    },
    {
      "cell_type": "code",
      "source": [
        "class Prostokąt:\n",
        "\n",
        "  def __init__(self,dlugosc, szerokosc):\n",
        "    self.dlugosc = dlugosc\n",
        "    self.szerokosc = szerokosc\n",
        "\n",
        "  def pole(self):\n",
        "    pole=self.dlugosc * self.szerokosc\n",
        "    return pole\n",
        "\n",
        "  def obwod(self):\n",
        "    obwod = 2*self.dlugosc + 2*self.szerokosc\n",
        "    return obwod\n",
        "\n",
        "  def dlugosc_przekatnej(self):\n",
        "    dl_przekatnej = ((self.dlugosc*self.dlugosc)+ (self.szerokosc*self.szerokosc))*(1/2)\n",
        "    return dl_przekatnej"
      ],
      "metadata": {
        "id": "QM--Qc0qEsu7"
      },
      "execution_count": null,
      "outputs": []
    },
    {
      "cell_type": "code",
      "source": [
        "class Prostokat:\n",
        "\n",
        "  def __init__(self, dlugosc, szerokosc):\n",
        "    self.dlugosc = dlugosc\n",
        "    self.szerokosc = szerokosc\n",
        "\n",
        "  def pole(self):\n",
        "    return self.dlugosc * self.szerokosc\n",
        "\n",
        "\n",
        "prostokat = Prostokat(4,8)\n",
        "print(prostokat.pole())"
      ],
      "metadata": {
        "colab": {
          "base_uri": "https://localhost:8080/"
        },
        "id": "sFn4VyN4FTs_",
        "outputId": "e2336314-58ce-4eda-ac78-36011944b0a0"
      },
      "execution_count": null,
      "outputs": [
        {
          "output_type": "stream",
          "name": "stdout",
          "text": [
            "32\n"
          ]
        }
      ]
    },
    {
      "cell_type": "markdown",
      "source": [
        "### Przeciążanie operatorów:"
      ],
      "metadata": {
        "id": "jqPOTIpaDRxm"
      }
    },
    {
      "cell_type": "code",
      "source": [
        "v1 = [1,2,3]\n",
        "v2 = [5,2,5]\n",
        "\n",
        "v1 + v2 ### nie działa tak, jakbyśmy chcieli!"
      ],
      "metadata": {
        "colab": {
          "base_uri": "https://localhost:8080/"
        },
        "id": "AaY3nGorFQPM",
        "outputId": "72cdc9ff-81d5-4d68-c105-901e9d9e707c"
      },
      "execution_count": null,
      "outputs": [
        {
          "output_type": "execute_result",
          "data": {
            "text/plain": [
              "[1, 2, 3, 5, 2, 5]"
            ]
          },
          "metadata": {},
          "execution_count": 1
        }
      ]
    },
    {
      "cell_type": "code",
      "source": [
        "### Zadanie: Zaimplementuj klasę Vector.\n",
        "\n",
        "### 1. Ma przyjmować na wejściu listę liczb\n",
        "### 2. Powinna mieć konstruktor\n",
        "### 3. Przeciąż odpowiednie operacje na wektorach tak, abyśmy mogli\n",
        "### swobodnie używać znaków w sensowny sposób"
      ],
      "metadata": {
        "id": "-nWhz8DvVfwN"
      },
      "execution_count": null,
      "outputs": []
    },
    {
      "cell_type": "code",
      "source": [
        "class Vector():\n",
        "\n",
        "  def __init__(self, coordinates):\n",
        "      self.x = coordinates\n",
        "\n",
        "  def __add__(self, other_vec): ## dwa wektory które będziemy dodawać\n",
        "  # to self, vec (czyli self+vec)\n",
        "  ## uwaga, other_vec jest też typu Vector, więc ma w atrybutach other_vec.x\n",
        "    sum_list = [i+j for i,j in zip(self.x, other_vec.x)]\n",
        "    sum_vec = Vector(sum_list)\n",
        "    return sum_vec\n",
        "    ### dodatkowo: upewnij się, że te wektory w ogóle można dodać\n",
        "\n",
        "  def __repr__(self): ### przeciążenie printa\n",
        "    return str(self.x)\n",
        "\n",
        "  def __mul__(self, number): ### przeciążenie mnożenia przez liczbę\n",
        "    mul_list = [number*i for i in self.x]\n",
        "    mul_vec = Vector(mul_list)\n",
        "    return mul_vec\n",
        "\n",
        "\n",
        "  def __eq__(self, other_vec): ### porownywanie wektorow -> True lub False\n",
        "    return self.x == other_vec.x\n",
        "\n",
        "\n",
        "\n",
        "### v1 = Vector, v2 = Vector\n",
        "### sum = v1.__add__(v2), to samo co v1+v2\n"
      ],
      "metadata": {
        "id": "mO-7dNV5FWEK"
      },
      "execution_count": null,
      "outputs": []
    },
    {
      "cell_type": "code",
      "source": [
        "v1 = Vector([4,2,7])\n",
        "v2 = Vector([8,1,8])"
      ],
      "metadata": {
        "id": "ijiLtBnZUXfk"
      },
      "execution_count": null,
      "outputs": []
    },
    {
      "cell_type": "code",
      "source": [
        "print(v1+v2)"
      ],
      "metadata": {
        "colab": {
          "base_uri": "https://localhost:8080/"
        },
        "id": "H7eLfDQ1Yplg",
        "outputId": "e40ae3b7-0444-485e-dc24-a483f4c4d421"
      },
      "execution_count": null,
      "outputs": [
        {
          "output_type": "stream",
          "name": "stdout",
          "text": [
            "[12, 3, 15]\n"
          ]
        }
      ]
    },
    {
      "cell_type": "code",
      "source": [
        "v1 == v2"
      ],
      "metadata": {
        "colab": {
          "base_uri": "https://localhost:8080/"
        },
        "id": "7aVydJg6YqZr",
        "outputId": "5151ef5f-5cf0-487e-bc8a-9f8a12d7aa9f"
      },
      "execution_count": null,
      "outputs": [
        {
          "output_type": "execute_result",
          "data": {
            "text/plain": [
              "False"
            ]
          },
          "metadata": {},
          "execution_count": 55
        }
      ]
    },
    {
      "cell_type": "code",
      "source": [
        "v1*2 + v2*9"
      ],
      "metadata": {
        "colab": {
          "base_uri": "https://localhost:8080/"
        },
        "id": "T_1xe-HQYuma",
        "outputId": "d46940c3-8f07-4ae6-9bb9-2442e0936730"
      },
      "execution_count": null,
      "outputs": [
        {
          "output_type": "execute_result",
          "data": {
            "text/plain": [
              "[80, 13, 86]"
            ]
          },
          "metadata": {},
          "execution_count": 56
        }
      ]
    },
    {
      "cell_type": "markdown",
      "source": [
        "# Dziedziczenie"
      ],
      "metadata": {
        "id": "zwa68oMrj6jd"
      }
    },
    {
      "cell_type": "code",
      "source": [
        "class Rectangle:\n",
        "\n",
        "  def __init__(self, height, width):\n",
        "    self.height = height\n",
        "    self.width = width\n",
        "\n",
        "  def area(self):\n",
        "    return self.height*self.width\n",
        "\n",
        "  def circ(self):\n",
        "    return 2*(self.height+self.width)\n",
        "\n",
        "\n"
      ],
      "metadata": {
        "id": "BCdce3DNj4i5"
      },
      "execution_count": null,
      "outputs": []
    },
    {
      "cell_type": "code",
      "source": [
        "rec = Rectangle(3,4)"
      ],
      "metadata": {
        "id": "UehUY8dnemxj"
      },
      "execution_count": null,
      "outputs": []
    },
    {
      "cell_type": "code",
      "source": [
        "class Square(Rectangle): #tworze klase square ktora dziedziczy po rectangle\n",
        "\n",
        "  def __init__(self, side_len):\n",
        "    super().__init__(side_len, side_len)       #biorę konstruktor z Rectangle\n",
        "\n",
        "\n"
      ],
      "metadata": {
        "id": "JnmZWtDieopC"
      },
      "execution_count": null,
      "outputs": []
    },
    {
      "cell_type": "code",
      "source": [
        "s = Square(5)"
      ],
      "metadata": {
        "id": "raldYGr1ljHs"
      },
      "execution_count": null,
      "outputs": []
    },
    {
      "cell_type": "code",
      "source": [
        "s.area()"
      ],
      "metadata": {
        "colab": {
          "base_uri": "https://localhost:8080/"
        },
        "id": "MSWPDuIBnts1",
        "outputId": "fcc9ed09-91f3-4f83-f510-0ababe68130e"
      },
      "execution_count": null,
      "outputs": [
        {
          "output_type": "execute_result",
          "data": {
            "text/plain": [
              "25"
            ]
          },
          "metadata": {},
          "execution_count": 71
        }
      ]
    },
    {
      "cell_type": "code",
      "source": [
        "class Animal:\n",
        "\n",
        "  def __init__(self, name, has_whiskers, diet, tail_len):\n",
        "    self.name = name\n",
        "    self.has_whiskers = has_whiskers\n",
        "    self.diet = diet\n",
        "    self.tail_len = tail_len\n",
        "\n",
        "  def eat(self):\n",
        "    print(f'{self.name} is eating!')\n",
        "\n"
      ],
      "metadata": {
        "id": "e57VUH8ZnwHh"
      },
      "execution_count": null,
      "outputs": []
    },
    {
      "cell_type": "code",
      "source": [
        "class Cat(Animal):\n",
        "  ### sensowny konstruktor\n",
        "  def __init__(self, name, tail_len):\n",
        "    super().__init__(name, has_whiskers = True, diet = 'carnivore', tail_len = tail_len)\n",
        "    self.number_of_lives = 9\n",
        "\n",
        "  def jump_out_of_the_window(self):\n",
        "    self.number_of_lives -= 1\n",
        "\n",
        "\n"
      ],
      "metadata": {
        "id": "PynCLIgCo9qi"
      },
      "execution_count": null,
      "outputs": []
    },
    {
      "cell_type": "code",
      "source": [
        "# Stwórz klasę Dog która dziedziczy po klasie Animal.\n",
        "# Dodaj do tej klasy atrybut i metodę, która wyróżnia psa."
      ],
      "metadata": {
        "id": "ePjhlxJesXOY"
      },
      "execution_count": null,
      "outputs": []
    },
    {
      "cell_type": "code",
      "source": [
        "class Dog(Animal):\n",
        "  def __init__(self, name, tail_len):\n",
        "    super().__init__(name, has_whiskers = True, diet = 'omnivorous', tail_len = tail_len)\n",
        "    self.number_of_walk_per_day = 0\n",
        "\n",
        "  def walk(self):\n",
        "    self.number_of_walk_per_day += 1\n",
        "\n",
        "  def bark(self):\n",
        "    print('woof woof')\n",
        "\n",
        "  def is_happy(self):\n",
        "    if self.number_of_walk_per_day >2:\n",
        "      print('Piesek sobie szczeka :)')\n",
        "      self.bark()\n",
        "    else:\n",
        "      print(\":(\")"
      ],
      "metadata": {
        "id": "1FXuaq7Csqri"
      },
      "execution_count": null,
      "outputs": []
    },
    {
      "cell_type": "code",
      "source": [
        "piesio = Dog('Pulpet', 40)"
      ],
      "metadata": {
        "id": "WzGMbMYYud95"
      },
      "execution_count": null,
      "outputs": []
    },
    {
      "cell_type": "code",
      "source": [
        "piesio.is_happy()"
      ],
      "metadata": {
        "colab": {
          "base_uri": "https://localhost:8080/"
        },
        "id": "JGlE37PGuofJ",
        "outputId": "475fe75c-1e6b-4c1d-8721-c0bf7bf5eb5b"
      },
      "execution_count": null,
      "outputs": [
        {
          "output_type": "stream",
          "name": "stdout",
          "text": [
            ":(\n"
          ]
        }
      ]
    },
    {
      "cell_type": "code",
      "source": [
        "for i in range (3):\n",
        "  piesio.walk()\n",
        "  piesio.is_happy()"
      ],
      "metadata": {
        "colab": {
          "base_uri": "https://localhost:8080/"
        },
        "id": "3dpKqY0Vuqba",
        "outputId": "5c9a95c7-925f-4841-b2a6-379df562e1fd"
      },
      "execution_count": null,
      "outputs": [
        {
          "output_type": "stream",
          "name": "stdout",
          "text": [
            ":(\n",
            ":(\n",
            "Piesek sobie szczeka :)\n",
            "woof woof\n"
          ]
        }
      ]
    },
    {
      "cell_type": "markdown",
      "source": [
        "# Metody klasowe, statyczne, zwykłe"
      ],
      "metadata": {
        "id": "EY5KjQ3Yu8Qq"
      }
    },
    {
      "cell_type": "code",
      "source": [
        "class BankAccount:\n",
        "### konto z nazwą banku, stanem konta = 0, wplaceniem hajsu i wyplaceniem\n",
        "  def __init__(self, bank_name, balance = 0):\n",
        "    self.bank_name = bank_name\n",
        "    self.balance = balance\n",
        "\n",
        "  def deposit(self, cash_amount):\n",
        "    self.balance += cash_amount\n",
        "\n",
        "  def withdrawal(self, cash_amount):\n",
        "    self.balance -= cash_amount\n",
        "\n",
        "\n",
        "  ### metoda statyczna - nie ma self w argumencie, nie widzi obiektu\n",
        "  ### zazwyczaj jest w klasie bo uzywa sie tej metody w kontekscie tej klasy\n",
        "\n",
        "  @staticmethod ### dekorator\n",
        "  def print_balance(account):\n",
        "    print(account.balance)\n",
        "\n",
        "  @classmethod ### dekorator\n",
        "  def create_promo_account(cls, data_string): ### cls - posługuje się ideą klasy, ale nie wymaga jej istnienia\n",
        "  ### chcemy moc stworzyc klase ze stringa 'Millenium,2000'\n",
        "    bank_name, balance = data_string.split(',') ## stworzy tuple z ('Millenium\",\"2000\")\n",
        "    return cls(bank_name, float(balance))\n"
      ],
      "metadata": {
        "id": "nJWEotCAuxN8"
      },
      "execution_count": null,
      "outputs": []
    },
    {
      "cell_type": "code",
      "source": [
        "konto = BankAccount('Santander')\n",
        "konto.deposit(300)\n",
        "\n",
        "BankAccount.print_balance(konto)"
      ],
      "metadata": {
        "colab": {
          "base_uri": "https://localhost:8080/"
        },
        "id": "H51kvH8ywJRF",
        "outputId": "8c4a7e9a-d35b-42cb-f054-30eb596ab29b"
      },
      "execution_count": null,
      "outputs": [
        {
          "output_type": "stream",
          "name": "stdout",
          "text": [
            "300\n"
          ]
        }
      ]
    },
    {
      "cell_type": "code",
      "source": [
        "info_o_koncie = 'Santander,3000'\n",
        "\n",
        "konto_promo = BankAccount.create_promo_account(info_o_koncie)"
      ],
      "metadata": {
        "id": "6lq1mkkh1U3A"
      },
      "execution_count": null,
      "outputs": []
    },
    {
      "cell_type": "code",
      "source": [
        "konto_promo.balance"
      ],
      "metadata": {
        "colab": {
          "base_uri": "https://localhost:8080/"
        },
        "id": "zvx_KDx314bx",
        "outputId": "ca8513af-a731-41bd-b219-8093bef2b493"
      },
      "execution_count": null,
      "outputs": [
        {
          "output_type": "execute_result",
          "data": {
            "text/plain": [
              "3000.0"
            ]
          },
          "metadata": {},
          "execution_count": 104
        }
      ]
    },
    {
      "cell_type": "markdown",
      "source": [
        "# Obsługa plików"
      ],
      "metadata": {
        "id": "LvF-TPVM2ogq"
      }
    },
    {
      "cell_type": "code",
      "source": [
        "our_file = open('file.txt', 'w')\n",
        "## nazwa pliku, a potem co chcemy z nim robic (flagi)\n",
        "\n",
        "### otworz plik i daj mi mozliwosc edytowania go (w - write)\n",
        "### jeżeli takiego pliku nie ma, to flaga 'w' go stworzy"
      ],
      "metadata": {
        "id": "iJlQQUvE2OW0"
      },
      "execution_count": null,
      "outputs": []
    },
    {
      "cell_type": "code",
      "source": [
        "our_file = open('file.txt') ## domyślnie jest flaga 'r' - read, jest tylko do odczytu\n"
      ],
      "metadata": {
        "id": "Kmon0QX55HFf"
      },
      "execution_count": null,
      "outputs": []
    },
    {
      "cell_type": "code",
      "source": [
        "our_file.write('nowy plik')"
      ],
      "metadata": {
        "colab": {
          "base_uri": "https://localhost:8080/"
        },
        "id": "49upKXBC5fdk",
        "outputId": "92da5b8e-68b3-4300-fb5f-ab0de921d911"
      },
      "execution_count": null,
      "outputs": [
        {
          "output_type": "execute_result",
          "data": {
            "text/plain": [
              "9"
            ]
          },
          "metadata": {},
          "execution_count": 111
        }
      ]
    },
    {
      "cell_type": "code",
      "source": [
        "our_file.close() ### zamyka plik i go zapisuje"
      ],
      "metadata": {
        "id": "PRug62ry55SY"
      },
      "execution_count": null,
      "outputs": []
    },
    {
      "cell_type": "code",
      "source": [
        "### context manager:\n",
        "with open('file.txt', 'w') as file:\n",
        "  file.write('juz nie taki nowy plik')\n",
        "\n",
        "### CM zamyka za was plik\n",
        "### z flagą 'w' plik dostanie nadpisany co do linijki\n"
      ],
      "metadata": {
        "id": "mi5Z7pcg6Nv4"
      },
      "execution_count": null,
      "outputs": []
    },
    {
      "cell_type": "code",
      "source": [
        "list_to_file = ['otworzylismy plik\\n','zamykamy plik'] ### w stringu \\n to przelamanie linii"
      ],
      "metadata": {
        "id": "-jdg2lEx6nII"
      },
      "execution_count": null,
      "outputs": []
    },
    {
      "cell_type": "code",
      "source": [
        "with open('file.txt', 'w') as file:\n",
        "  file.writelines(list_to_file)"
      ],
      "metadata": {
        "id": "SYt0qpPI7URJ"
      },
      "execution_count": null,
      "outputs": []
    },
    {
      "cell_type": "code",
      "source": [
        "# ZADANIE: stwórz plik w którym zapiszesz pierwsze 5 liczb naturalnych"
      ],
      "metadata": {
        "id": "6xg3bArk7dmf"
      },
      "execution_count": null,
      "outputs": []
    },
    {
      "cell_type": "code",
      "source": [
        "file_path = \"pierwsze_5_liczb.txt\"\n",
        "\n",
        "with open(file_path, \"w\") as file:\n",
        "    for number in range(1, 6):\n",
        "        file.write(str(number) + \"\\n\")\n",
        "\n",
        "print(\"Pierwsze 5 liczb naturalnych zostały zapisane do pliku:\", file_path)"
      ],
      "metadata": {
        "colab": {
          "base_uri": "https://localhost:8080/"
        },
        "id": "HMiC72fQ75VH",
        "outputId": "de481fd7-67bf-41bc-aca5-df0a6df52d71"
      },
      "execution_count": null,
      "outputs": [
        {
          "output_type": "stream",
          "name": "stdout",
          "text": [
            "Pierwsze 5 liczb naturalnych zostały zapisane do pliku: pierwsze_5_liczb.txt\n"
          ]
        }
      ]
    },
    {
      "cell_type": "code",
      "source": [
        "### flaga a+ oznacza dodanie do pliku\n",
        "### tekstu bez u\n",
        "with open(file_path, \"a+\") as file:\n",
        "  file.write('powyzej sa liczby')"
      ],
      "metadata": {
        "id": "FGwQuZ_k8L5Q"
      },
      "execution_count": null,
      "outputs": []
    },
    {
      "cell_type": "markdown",
      "source": [
        "# Biblioteki, moduły"
      ],
      "metadata": {
        "id": "ClUDMwGBPAec"
      }
    },
    {
      "cell_type": "code",
      "source": [
        "### moduł - plik w ktorym mamy nasze narzedzia\n",
        "### biblioteka - zbior modulow"
      ],
      "metadata": {
        "id": "wioo5pYd9pwH"
      },
      "execution_count": null,
      "outputs": []
    },
    {
      "cell_type": "code",
      "source": [
        "import matplotlib.pyplot as plt"
      ],
      "metadata": {
        "id": "iPzDNIatPY22"
      },
      "execution_count": null,
      "outputs": []
    },
    {
      "cell_type": "code",
      "source": [
        "import matplotlib.pyplot as plt"
      ],
      "metadata": {
        "id": "WoiTry-4PiZG"
      },
      "execution_count": null,
      "outputs": []
    },
    {
      "cell_type": "code",
      "source": [
        "plt.hist([1,2,3,3,3,4,])"
      ],
      "metadata": {
        "colab": {
          "base_uri": "https://localhost:8080/",
          "height": 482
        },
        "id": "2cJPDzgaPoZY",
        "outputId": "ad587214-4076-4bc0-e72b-ede3d363beb3"
      },
      "execution_count": null,
      "outputs": [
        {
          "output_type": "execute_result",
          "data": {
            "text/plain": [
              "(array([1., 0., 0., 1., 0., 0., 3., 0., 0., 1.]),\n",
              " array([1. , 1.3, 1.6, 1.9, 2.2, 2.5, 2.8, 3.1, 3.4, 3.7, 4. ]),\n",
              " <BarContainer object of 10 artists>)"
            ]
          },
          "metadata": {},
          "execution_count": 10
        },
        {
          "output_type": "display_data",
          "data": {
            "text/plain": [
              "<Figure size 640x480 with 1 Axes>"
            ],
            "image/png": "[encoded data removed]"
          },
          "metadata": {}
        }
      ]
    },
    {
      "cell_type": "code",
      "source": [
        "class DzieleniePrzezZero(Exception):\n",
        "  pass"
      ],
      "metadata": {
        "id": "TYunQKS49xsD"
      },
      "execution_count": null,
      "outputs": []
    },
    {
      "cell_type": "code",
      "source": [
        "#### Zadanie: Napisz funkcję dzielenie(a,b), która podzieli a i b, ale w razie gdy b jest 0, to wyrzuci (raise) blad\n",
        "#### DzieleniePrzezZero jeszcze przed dzieleniem\n",
        "\n",
        "def dzielenie(a, b):\n",
        "    if b == 0:\n",
        "        raise DzieleniePrzezZero('Nie dziel przez zero błagam')\n",
        "    else:\n",
        "        return a/b\n",
        "\n",
        "dzielenie(10,0)"
      ],
      "metadata": {
        "colab": {
          "base_uri": "https://localhost:8080/",
          "height": 322
        },
        "id": "MzuXrhRdP4lu",
        "outputId": "e2a2a8cd-9a90-4a84-80fd-38ad2c7efbff"
      },
      "execution_count": null,
      "outputs": [
        {
          "output_type": "error",
          "ename": "DzieleniePrzezZero",
          "evalue": "ignored",
          "traceback": [
            "\u001b[0;31m---------------------------------------------------------------------------\u001b[0m",
            "\u001b[0;31mDzieleniePrzezZero\u001b[0m                        Traceback (most recent call last)",
            "\u001b[0;32m<ipython-input-18-04b3b8d7aa41>\u001b[0m in \u001b[0;36m<cell line: 10>\u001b[0;34m()\u001b[0m\n\u001b[1;32m      8\u001b[0m         \u001b[0;32mreturn\u001b[0m \u001b[0ma\u001b[0m\u001b[0;34m/\u001b[0m\u001b[0mb\u001b[0m\u001b[0;34m\u001b[0m\u001b[0;34m\u001b[0m\u001b[0m\n\u001b[1;32m      9\u001b[0m \u001b[0;34m\u001b[0m\u001b[0m\n\u001b[0;32m---> 10\u001b[0;31m \u001b[0mdzielenie\u001b[0m\u001b[0;34m(\u001b[0m\u001b[0;36m10\u001b[0m\u001b[0;34m,\u001b[0m\u001b[0;36m0\u001b[0m\u001b[0;34m)\u001b[0m\u001b[0;34m\u001b[0m\u001b[0;34m\u001b[0m\u001b[0m\n\u001b[0m",
            "\u001b[0;32m<ipython-input-18-04b3b8d7aa41>\u001b[0m in \u001b[0;36mdzielenie\u001b[0;34m(a, b)\u001b[0m\n\u001b[1;32m      4\u001b[0m \u001b[0;32mdef\u001b[0m \u001b[0mdzielenie\u001b[0m\u001b[0;34m(\u001b[0m\u001b[0ma\u001b[0m\u001b[0;34m,\u001b[0m \u001b[0mb\u001b[0m\u001b[0;34m)\u001b[0m\u001b[0;34m:\u001b[0m\u001b[0;34m\u001b[0m\u001b[0;34m\u001b[0m\u001b[0m\n\u001b[1;32m      5\u001b[0m     \u001b[0;32mif\u001b[0m \u001b[0mb\u001b[0m \u001b[0;34m==\u001b[0m \u001b[0;36m0\u001b[0m\u001b[0;34m:\u001b[0m\u001b[0;34m\u001b[0m\u001b[0;34m\u001b[0m\u001b[0m\n\u001b[0;32m----> 6\u001b[0;31m         \u001b[0;32mraise\u001b[0m \u001b[0mDzieleniePrzezZero\u001b[0m\u001b[0;34m(\u001b[0m\u001b[0;34m'Nie dziel przez zero błagam'\u001b[0m\u001b[0;34m)\u001b[0m\u001b[0;34m\u001b[0m\u001b[0;34m\u001b[0m\u001b[0m\n\u001b[0m\u001b[1;32m      7\u001b[0m     \u001b[0;32melse\u001b[0m\u001b[0;34m:\u001b[0m\u001b[0;34m\u001b[0m\u001b[0;34m\u001b[0m\u001b[0m\n\u001b[1;32m      8\u001b[0m         \u001b[0;32mreturn\u001b[0m \u001b[0ma\u001b[0m\u001b[0;34m/\u001b[0m\u001b[0mb\u001b[0m\u001b[0;34m\u001b[0m\u001b[0;34m\u001b[0m\u001b[0m\n",
            "\u001b[0;31mDzieleniePrzezZero\u001b[0m: Nie dziel przez zero błagam"
          ]
        }
      ]
    },
    {
      "cell_type": "code",
      "source": [],
      "metadata": {
        "colab": {
          "base_uri": "https://localhost:8080/",
          "height": 166
        },
        "id": "Md8M85Gt9wq-",
        "outputId": "e08bc6b3-cac3-40ad-8bd0-edaa535abff8"
      },
      "execution_count": null,
      "outputs": [
        {
          "output_type": "error",
          "ename": "ZeroDivisionError",
          "evalue": "ignored",
          "traceback": [
            "\u001b[0;31m---------------------------------------------------------------------------\u001b[0m",
            "\u001b[0;31mZeroDivisionError\u001b[0m                         Traceback (most recent call last)",
            "\u001b[0;32m<ipython-input-13-e574edb36883>\u001b[0m in \u001b[0;36m<cell line: 1>\u001b[0;34m()\u001b[0m\n\u001b[0;32m----> 1\u001b[0;31m \u001b[0;36m10\u001b[0m\u001b[0;34m/\u001b[0m\u001b[0;36m0\u001b[0m\u001b[0;34m\u001b[0m\u001b[0;34m\u001b[0m\u001b[0m\n\u001b[0m",
            "\u001b[0;31mZeroDivisionError\u001b[0m: division by zero"
          ]
        }
      ]
    },
    {
      "cell_type": "code",
      "source": [],
      "metadata": {
        "id": "y6HqXCix-2qe"
      },
      "execution_count": null,
      "outputs": []
    }
  ]
}