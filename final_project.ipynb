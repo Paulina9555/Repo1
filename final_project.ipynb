{
  "nbformat": 4,
  "nbformat_minor": 0,
  "metadata": {
    "colab": {
      "provenance": [],
      "collapsed_sections": [
        "qjmaGkzxK2Wt",
        "gHaRMr0hK4uJ",
        "JgPCHnGrZTcR",
        "CkEGbWLNcPB1"
      ],
      "authorship_tag": "ABX9TyNgN9CS9hZ6xX8iqJp2IgvF",
      "include_colab_link": true
    },
    "kernelspec": {
      "name": "python3",
      "display_name": "Python 3"
    },
    "language_info": {
      "name": "python"
    }
  },
  "cells": [
    {
      "cell_type": "markdown",
      "metadata": {
        "id": "view-in-github",
        "colab_type": "text"
      },
      "source": [
        "<a href=\"https://colab.research.google.com/github/Paulina9555/Repo1/blob/master/final_project.ipynb\" target=\"_parent\"><img src=\"https://colab.research.google.com/assets/colab-badge.svg\" alt=\"Open In Colab\"/></a>"
      ]
    },
    {
      "cell_type": "markdown",
      "source": [
        "# Importy"
      ],
      "metadata": {
        "id": "qjmaGkzxK2Wt"
      }
    },
    {
      "cell_type": "code",
      "execution_count": 1,
      "metadata": {
        "id": "MgiXtn4wecST"
      },
      "outputs": [],
      "source": [
        "import pandas as pd\n",
        "import numpy as np\n",
        "from matplotlib import pyplot as plt"
      ]
    },
    {
      "cell_type": "markdown",
      "source": [
        "#Dane"
      ],
      "metadata": {
        "id": "gHaRMr0hK4uJ"
      }
    },
    {
      "cell_type": "code",
      "source": [
        "df = pd.read_excel('BHP_Laboratorium.xlsx')\n",
        "print(df.shape)"
      ],
      "metadata": {
        "colab": {
          "base_uri": "https://localhost:8080/"
        },
        "id": "0ctPamWbgZy_",
        "outputId": "cb8e5c53-570e-45f6-9ecd-158436052fe6"
      },
      "execution_count": 2,
      "outputs": [
        {
          "output_type": "stream",
          "name": "stdout",
          "text": [
            "(74, 32)\n"
          ]
        }
      ]
    },
    {
      "cell_type": "code",
      "source": [
        "df"
      ],
      "metadata": {
        "colab": {
          "base_uri": "https://localhost:8080/",
          "height": 1000
        },
        "id": "e7dLXR1XhQDQ",
        "outputId": "90a1de8e-695f-4ba2-f6ab-9f7275db4af4"
      },
      "execution_count": 7,
      "outputs": [
        {
          "output_type": "execute_result",
          "data": {
            "text/plain": [
              "   Szafa/ociekacz/gaz/paleta/szuflada Oznakowanie  Lp  Numer pozycji  \\\n",
              "0                            ociekacz        brak   1              1   \n",
              "1                            ociekacz        brak   2              2   \n",
              "2                            ociekacz        brak   3              3   \n",
              "3                            ociekacz        brak   4              3   \n",
              "4                                 gaz        brak   5              4   \n",
              "..                                ...         ...  ..            ...   \n",
              "69                           szuflada        brak  70             52   \n",
              "70                           szuflada        brak  71             53   \n",
              "71                           szuflada        brak  72             54   \n",
              "72                               mała           1  73             55   \n",
              "73                               mała           1  74             56   \n",
              "\n",
              "   Data ważności środka                     Opis pozycji Karta aktualna?  \\\n",
              "0   2026-11-26 00:00:00                 STAMP LUBE 65 EV             TAK   \n",
              "1   2026-06-28 00:00:00                 SHELL RIMULA R3+             NIE   \n",
              "2   2026-04-14 00:00:00               AeroShell Fluid 41             TAK   \n",
              "3   2026-05-10 00:00:00               AeroShell Fluid 41             TAK   \n",
              "4                   NaN                PROPAN TECHNICZNY             NIE   \n",
              "..                  ...                              ...             ...   \n",
              "69  2026-06-08 00:00:00  HYDRANAL CRM Water Standard 1.0             TAK   \n",
              "70  2026-06-03 00:00:00             HYDRANAL COULOMAT CG             TAK   \n",
              "71  2026-05-27 00:00:00   HYDRANAL Water Standard 0.1 PC             TAK   \n",
              "72  2024-06-30 00:00:00   KLEJ CYJANOAKR. BONDAN CA 41 C             TAK   \n",
              "73  2024-02-29 00:00:00                 SICOMET DEBONDER             NaN   \n",
              "\n",
              "                    NS Substancja rakotwórcza  !  ...  \\\n",
              "0                  NaN                    NIE  0  ...   \n",
              "1                    x                    NIE  0  ...   \n",
              "2                  NaN                    NIE  1  ...   \n",
              "3                  NaN                    NIE  1  ...   \n",
              "4   GAZ POD CIŚNIENIEM                    NIE  0  ...   \n",
              "..                 ...                    ... ..  ...   \n",
              "69                 NaN                    NIE  0  ...   \n",
              "70                 NaN                    NIE  0  ...   \n",
              "71                 NaN                    NIE  1  ...   \n",
              "72                 NaN                    NIE  1  ...   \n",
              "73                   x                    NIE  0  ...   \n",
              "\n",
              "    Temperatura samozapłonu [°C]  Temp wrzenia [°C]  \\\n",
              "0                            NaN               > 62   \n",
              "1                          > 320              > 280   \n",
              "2                          > 320              > 280   \n",
              "3                          > 320              > 280   \n",
              "4                            NaN                -42   \n",
              "..                           ...                ...   \n",
              "69                           475            153-155   \n",
              "70                           NaN                 63   \n",
              "71                           430                242   \n",
              "72                           NaN               >149   \n",
              "73                           485                208   \n",
              "\n",
              "    Warunki których należy unikać  \\\n",
              "0                               S   \n",
              "1                               S   \n",
              "2                               S   \n",
              "3                               S   \n",
              "4                               S   \n",
              "..                            ...   \n",
              "69                              S   \n",
              "70                              S   \n",
              "71                           brak   \n",
              "72               wilgotność, woda   \n",
              "73                           brak   \n",
              "\n",
              "                                 Materiały niezgodne   Utylizacja  ADR  \\\n",
              "0   silne utleniacze, mocne kwasy, mocne zasady, s...   11 01 13*  NIE   \n",
              "1                                     slne utleniacze   13 02 05*  NIE   \n",
              "2                                     slne utleniacze   13 01 10*  TAK   \n",
              "3                                     slne utleniacze   13 01 10*  TAK   \n",
              "4                                     slne utleniacze         NaN  TAK   \n",
              "..                                                ...         ...  ...   \n",
              "69                                   silne utleniacze   07 01 04*  TAK   \n",
              "70                                         utleniacze   07 01 04*  TAK   \n",
              "71                                  utleniacze, kwasy   07 01 04*  NIE   \n",
              "72                    woda, zasady, utleniacze, aminy    08 04 10  NIE   \n",
              "73                                               brak    08 04 10  NIE   \n",
              "\n",
              "                                             rękawice odzieź ochronna  \\\n",
              "0            > 10 min - klasa 2;\\n> 480 min - klasa 6               S   \n",
              "1   > 480 min - grubość > 0,35 mm wykonane z kaucz...    nie wymagana   \n",
              "2   > 480 min - grubość > 0,35 mm wykonane z kaucz...               S   \n",
              "3   > 480 min - grubość > 0,35 mm wykonane z kaucz...               S   \n",
              "4                                izolowane termicznie    nie wymagana   \n",
              "..                                                ...             ...   \n",
              "69  grubość: 0,7mm\\nczas wytrzymalości: >480min\\nm...               S   \n",
              "70  grubość: 0,7mm\\nczas wytrzymalości: >480min\\nm...               S   \n",
              "71  grubość: 0,65mm\\nczas wytrzymalości: >480min\\n...               S   \n",
              "72  grubość: 0,4mm / 0,7mm / 0,3 mm\\nczas wytrzyma...               S   \n",
              "73  odporne na działanie chemikaliów (EN 374, inde...               S   \n",
              "\n",
              "      ochrona twarzy i oczu                         ochrona układu oddechowego  \n",
              "0   okulary/google ochronne  operowanie goracym produktem - maska z filtrem...  \n",
              "1   okulary/google ochronne  w przypadku tworzenia się par - maska z filtre...  \n",
              "2   okulary/google ochronne  w przypadku tworzenia się par - maska z filtre...  \n",
              "3   okulary/google ochronne  w przypadku tworzenia się par - maska z filtre...  \n",
              "4              nie wymagana                 maska z własnym dopływem powietrza  \n",
              "..                      ...                                                ...  \n",
              "69  okluary/google ochronne  w przypadku tworzenia się par - sprzet filtruj...  \n",
              "70  okluary/google ochronne       w pzypadku tworzenia się par - typ filtra AX  \n",
              "71  okluary/google ochronne                                       nie wymagana  \n",
              "72  okluary/google ochronne  w przypadku tworzenia się par - sprzet filtruj...  \n",
              "73  okluary/google ochronne  w przypadku tworzenia się par - sprzet filtruj...  \n",
              "\n",
              "[74 rows x 32 columns]"
            ],
            "text/html": [
              "\n",
              "  <div id=\"df-b98ca97a-f2a8-4470-9b57-0e05b59c243b\" class=\"colab-df-container\">\n",
              "    <div>\n",
              "<style scoped>\n",
              "    .dataframe tbody tr th:only-of-type {\n",
              "        vertical-align: middle;\n",
              "    }\n",
              "\n",
              "    .dataframe tbody tr th {\n",
              "        vertical-align: top;\n",
              "    }\n",
              "\n",
              "    .dataframe thead th {\n",
              "        text-align: right;\n",
              "    }\n",
              "</style>\n",
              "<table border=\"1\" class=\"dataframe\">\n",
              "  <thead>\n",
              "    <tr style=\"text-align: right;\">\n",
              "      <th></th>\n",
              "      <th>Szafa/ociekacz/gaz/paleta/szuflada</th>\n",
              "      <th>Oznakowanie</th>\n",
              "      <th>Lp</th>\n",
              "      <th>Numer pozycji</th>\n",
              "      <th>Data ważności środka</th>\n",
              "      <th>Opis pozycji</th>\n",
              "      <th>Karta aktualna?</th>\n",
              "      <th>NS</th>\n",
              "      <th>Substancja rakotwórcza</th>\n",
              "      <th>!</th>\n",
              "      <th>...</th>\n",
              "      <th>Temperatura samozapłonu [°C]</th>\n",
              "      <th>Temp wrzenia [°C]</th>\n",
              "      <th>Warunki których należy unikać</th>\n",
              "      <th>Materiały niezgodne</th>\n",
              "      <th>Utylizacja</th>\n",
              "      <th>ADR</th>\n",
              "      <th>rękawice</th>\n",
              "      <th>odzieź ochronna</th>\n",
              "      <th>ochrona twarzy i oczu</th>\n",
              "      <th>ochrona układu oddechowego</th>\n",
              "    </tr>\n",
              "  </thead>\n",
              "  <tbody>\n",
              "    <tr>\n",
              "      <th>0</th>\n",
              "      <td>ociekacz</td>\n",
              "      <td>brak</td>\n",
              "      <td>1</td>\n",
              "      <td>1</td>\n",
              "      <td>2026-11-26 00:00:00</td>\n",
              "      <td>STAMP LUBE 65 EV</td>\n",
              "      <td>TAK</td>\n",
              "      <td>NaN</td>\n",
              "      <td>NIE</td>\n",
              "      <td>0</td>\n",
              "      <td>...</td>\n",
              "      <td>NaN</td>\n",
              "      <td>&gt; 62</td>\n",
              "      <td>S</td>\n",
              "      <td>silne utleniacze, mocne kwasy, mocne zasady, s...</td>\n",
              "      <td>11 01 13*</td>\n",
              "      <td>NIE</td>\n",
              "      <td>&gt; 10 min - klasa 2;\\n&gt; 480 min - klasa 6</td>\n",
              "      <td>S</td>\n",
              "      <td>okulary/google ochronne</td>\n",
              "      <td>operowanie goracym produktem - maska z filtrem...</td>\n",
              "    </tr>\n",
              "    <tr>\n",
              "      <th>1</th>\n",
              "      <td>ociekacz</td>\n",
              "      <td>brak</td>\n",
              "      <td>2</td>\n",
              "      <td>2</td>\n",
              "      <td>2026-06-28 00:00:00</td>\n",
              "      <td>SHELL RIMULA R3+</td>\n",
              "      <td>NIE</td>\n",
              "      <td>x</td>\n",
              "      <td>NIE</td>\n",
              "      <td>0</td>\n",
              "      <td>...</td>\n",
              "      <td>&gt; 320</td>\n",
              "      <td>&gt; 280</td>\n",
              "      <td>S</td>\n",
              "      <td>slne utleniacze</td>\n",
              "      <td>13 02 05*</td>\n",
              "      <td>NIE</td>\n",
              "      <td>&gt; 480 min - grubość &gt; 0,35 mm wykonane z kaucz...</td>\n",
              "      <td>nie wymagana</td>\n",
              "      <td>okulary/google ochronne</td>\n",
              "      <td>w przypadku tworzenia się par - maska z filtre...</td>\n",
              "    </tr>\n",
              "    <tr>\n",
              "      <th>2</th>\n",
              "      <td>ociekacz</td>\n",
              "      <td>brak</td>\n",
              "      <td>3</td>\n",
              "      <td>3</td>\n",
              "      <td>2026-04-14 00:00:00</td>\n",
              "      <td>AeroShell Fluid 41</td>\n",
              "      <td>TAK</td>\n",
              "      <td>NaN</td>\n",
              "      <td>NIE</td>\n",
              "      <td>1</td>\n",
              "      <td>...</td>\n",
              "      <td>&gt; 320</td>\n",
              "      <td>&gt; 280</td>\n",
              "      <td>S</td>\n",
              "      <td>slne utleniacze</td>\n",
              "      <td>13 01 10*</td>\n",
              "      <td>TAK</td>\n",
              "      <td>&gt; 480 min - grubość &gt; 0,35 mm wykonane z kaucz...</td>\n",
              "      <td>S</td>\n",
              "      <td>okulary/google ochronne</td>\n",
              "      <td>w przypadku tworzenia się par - maska z filtre...</td>\n",
              "    </tr>\n",
              "    <tr>\n",
              "      <th>3</th>\n",
              "      <td>ociekacz</td>\n",
              "      <td>brak</td>\n",
              "      <td>4</td>\n",
              "      <td>3</td>\n",
              "      <td>2026-05-10 00:00:00</td>\n",
              "      <td>AeroShell Fluid 41</td>\n",
              "      <td>TAK</td>\n",
              "      <td>NaN</td>\n",
              "      <td>NIE</td>\n",
              "      <td>1</td>\n",
              "      <td>...</td>\n",
              "      <td>&gt; 320</td>\n",
              "      <td>&gt; 280</td>\n",
              "      <td>S</td>\n",
              "      <td>slne utleniacze</td>\n",
              "      <td>13 01 10*</td>\n",
              "      <td>TAK</td>\n",
              "      <td>&gt; 480 min - grubość &gt; 0,35 mm wykonane z kaucz...</td>\n",
              "      <td>S</td>\n",
              "      <td>okulary/google ochronne</td>\n",
              "      <td>w przypadku tworzenia się par - maska z filtre...</td>\n",
              "    </tr>\n",
              "    <tr>\n",
              "      <th>4</th>\n",
              "      <td>gaz</td>\n",
              "      <td>brak</td>\n",
              "      <td>5</td>\n",
              "      <td>4</td>\n",
              "      <td>NaN</td>\n",
              "      <td>PROPAN TECHNICZNY</td>\n",
              "      <td>NIE</td>\n",
              "      <td>GAZ POD CIŚNIENIEM</td>\n",
              "      <td>NIE</td>\n",
              "      <td>0</td>\n",
              "      <td>...</td>\n",
              "      <td>NaN</td>\n",
              "      <td>-42</td>\n",
              "      <td>S</td>\n",
              "      <td>slne utleniacze</td>\n",
              "      <td>NaN</td>\n",
              "      <td>TAK</td>\n",
              "      <td>izolowane termicznie</td>\n",
              "      <td>nie wymagana</td>\n",
              "      <td>nie wymagana</td>\n",
              "      <td>maska z własnym dopływem powietrza</td>\n",
              "    </tr>\n",
              "    <tr>\n",
              "      <th>...</th>\n",
              "      <td>...</td>\n",
              "      <td>...</td>\n",
              "      <td>...</td>\n",
              "      <td>...</td>\n",
              "      <td>...</td>\n",
              "      <td>...</td>\n",
              "      <td>...</td>\n",
              "      <td>...</td>\n",
              "      <td>...</td>\n",
              "      <td>...</td>\n",
              "      <td>...</td>\n",
              "      <td>...</td>\n",
              "      <td>...</td>\n",
              "      <td>...</td>\n",
              "      <td>...</td>\n",
              "      <td>...</td>\n",
              "      <td>...</td>\n",
              "      <td>...</td>\n",
              "      <td>...</td>\n",
              "      <td>...</td>\n",
              "      <td>...</td>\n",
              "    </tr>\n",
              "    <tr>\n",
              "      <th>69</th>\n",
              "      <td>szuflada</td>\n",
              "      <td>brak</td>\n",
              "      <td>70</td>\n",
              "      <td>52</td>\n",
              "      <td>2026-06-08 00:00:00</td>\n",
              "      <td>HYDRANAL CRM Water Standard 1.0</td>\n",
              "      <td>TAK</td>\n",
              "      <td>NaN</td>\n",
              "      <td>NIE</td>\n",
              "      <td>0</td>\n",
              "      <td>...</td>\n",
              "      <td>475</td>\n",
              "      <td>153-155</td>\n",
              "      <td>S</td>\n",
              "      <td>silne utleniacze</td>\n",
              "      <td>07 01 04*</td>\n",
              "      <td>TAK</td>\n",
              "      <td>grubość: 0,7mm\\nczas wytrzymalości: &gt;480min\\nm...</td>\n",
              "      <td>S</td>\n",
              "      <td>okluary/google ochronne</td>\n",
              "      <td>w przypadku tworzenia się par - sprzet filtruj...</td>\n",
              "    </tr>\n",
              "    <tr>\n",
              "      <th>70</th>\n",
              "      <td>szuflada</td>\n",
              "      <td>brak</td>\n",
              "      <td>71</td>\n",
              "      <td>53</td>\n",
              "      <td>2026-06-03 00:00:00</td>\n",
              "      <td>HYDRANAL COULOMAT CG</td>\n",
              "      <td>TAK</td>\n",
              "      <td>NaN</td>\n",
              "      <td>NIE</td>\n",
              "      <td>0</td>\n",
              "      <td>...</td>\n",
              "      <td>NaN</td>\n",
              "      <td>63</td>\n",
              "      <td>S</td>\n",
              "      <td>utleniacze</td>\n",
              "      <td>07 01 04*</td>\n",
              "      <td>TAK</td>\n",
              "      <td>grubość: 0,7mm\\nczas wytrzymalości: &gt;480min\\nm...</td>\n",
              "      <td>S</td>\n",
              "      <td>okluary/google ochronne</td>\n",
              "      <td>w pzypadku tworzenia się par - typ filtra AX</td>\n",
              "    </tr>\n",
              "    <tr>\n",
              "      <th>71</th>\n",
              "      <td>szuflada</td>\n",
              "      <td>brak</td>\n",
              "      <td>72</td>\n",
              "      <td>54</td>\n",
              "      <td>2026-05-27 00:00:00</td>\n",
              "      <td>HYDRANAL Water Standard 0.1 PC</td>\n",
              "      <td>TAK</td>\n",
              "      <td>NaN</td>\n",
              "      <td>NIE</td>\n",
              "      <td>1</td>\n",
              "      <td>...</td>\n",
              "      <td>430</td>\n",
              "      <td>242</td>\n",
              "      <td>brak</td>\n",
              "      <td>utleniacze, kwasy</td>\n",
              "      <td>07 01 04*</td>\n",
              "      <td>NIE</td>\n",
              "      <td>grubość: 0,65mm\\nczas wytrzymalości: &gt;480min\\n...</td>\n",
              "      <td>S</td>\n",
              "      <td>okluary/google ochronne</td>\n",
              "      <td>nie wymagana</td>\n",
              "    </tr>\n",
              "    <tr>\n",
              "      <th>72</th>\n",
              "      <td>mała</td>\n",
              "      <td>1</td>\n",
              "      <td>73</td>\n",
              "      <td>55</td>\n",
              "      <td>2024-06-30 00:00:00</td>\n",
              "      <td>KLEJ CYJANOAKR. BONDAN CA 41 C</td>\n",
              "      <td>TAK</td>\n",
              "      <td>NaN</td>\n",
              "      <td>NIE</td>\n",
              "      <td>1</td>\n",
              "      <td>...</td>\n",
              "      <td>NaN</td>\n",
              "      <td>&gt;149</td>\n",
              "      <td>wilgotność, woda</td>\n",
              "      <td>woda, zasady, utleniacze, aminy</td>\n",
              "      <td>08 04 10</td>\n",
              "      <td>NIE</td>\n",
              "      <td>grubość: 0,4mm / 0,7mm / 0,3 mm\\nczas wytrzyma...</td>\n",
              "      <td>S</td>\n",
              "      <td>okluary/google ochronne</td>\n",
              "      <td>w przypadku tworzenia się par - sprzet filtruj...</td>\n",
              "    </tr>\n",
              "    <tr>\n",
              "      <th>73</th>\n",
              "      <td>mała</td>\n",
              "      <td>1</td>\n",
              "      <td>74</td>\n",
              "      <td>56</td>\n",
              "      <td>2024-02-29 00:00:00</td>\n",
              "      <td>SICOMET DEBONDER</td>\n",
              "      <td>NaN</td>\n",
              "      <td>x</td>\n",
              "      <td>NIE</td>\n",
              "      <td>0</td>\n",
              "      <td>...</td>\n",
              "      <td>485</td>\n",
              "      <td>208</td>\n",
              "      <td>brak</td>\n",
              "      <td>brak</td>\n",
              "      <td>08 04 10</td>\n",
              "      <td>NIE</td>\n",
              "      <td>odporne na działanie chemikaliów (EN 374, inde...</td>\n",
              "      <td>S</td>\n",
              "      <td>okluary/google ochronne</td>\n",
              "      <td>w przypadku tworzenia się par - sprzet filtruj...</td>\n",
              "    </tr>\n",
              "  </tbody>\n",
              "</table>\n",
              "<p>74 rows × 32 columns</p>\n",
              "</div>\n",
              "    <div class=\"colab-df-buttons\">\n",
              "\n",
              "  <div class=\"colab-df-container\">\n",
              "    <button class=\"colab-df-convert\" onclick=\"convertToInteractive('df-b98ca97a-f2a8-4470-9b57-0e05b59c243b')\"\n",
              "            title=\"Convert this dataframe to an interactive table.\"\n",
              "            style=\"display:none;\">\n",
              "\n",
              "  <svg xmlns=\"http://www.w3.org/2000/svg\" height=\"24px\" viewBox=\"0 -960 960 960\">\n",
              "    <path d=\"M120-120v-720h720v720H120Zm60-500h600v-160H180v160Zm220 220h160v-160H400v160Zm0 220h160v-160H400v160ZM180-400h160v-160H180v160Zm440 0h160v-160H620v160ZM180-180h160v-160H180v160Zm440 0h160v-160H620v160Z\"/>\n",
              "  </svg>\n",
              "    </button>\n",
              "\n",
              "  <style>\n",
              "    .colab-df-container {\n",
              "      display:flex;\n",
              "      gap: 12px;\n",
              "    }\n",
              "\n",
              "    .colab-df-convert {\n",
              "      background-color: #E8F0FE;\n",
              "      border: none;\n",
              "      border-radius: 50%;\n",
              "      cursor: pointer;\n",
              "      display: none;\n",
              "      fill: #1967D2;\n",
              "      height: 32px;\n",
              "      padding: 0 0 0 0;\n",
              "      width: 32px;\n",
              "    }\n",
              "\n",
              "    .colab-df-convert:hover {\n",
              "      background-color: #E2EBFA;\n",
              "      box-shadow: 0px 1px 2px rgba(60, 64, 67, 0.3), 0px 1px 3px 1px rgba(60, 64, 67, 0.15);\n",
              "      fill: #174EA6;\n",
              "    }\n",
              "\n",
              "    .colab-df-buttons div {\n",
              "      margin-bottom: 4px;\n",
              "    }\n",
              "\n",
              "    [theme=dark] .colab-df-convert {\n",
              "      background-color: #3B4455;\n",
              "      fill: #D2E3FC;\n",
              "    }\n",
              "\n",
              "    [theme=dark] .colab-df-convert:hover {\n",
              "      background-color: #434B5C;\n",
              "      box-shadow: 0px 1px 3px 1px rgba(0, 0, 0, 0.15);\n",
              "      filter: drop-shadow(0px 1px 2px rgba(0, 0, 0, 0.3));\n",
              "      fill: #FFFFFF;\n",
              "    }\n",
              "  </style>\n",
              "\n",
              "    <script>\n",
              "      const buttonEl =\n",
              "        document.querySelector('#df-b98ca97a-f2a8-4470-9b57-0e05b59c243b button.colab-df-convert');\n",
              "      buttonEl.style.display =\n",
              "        google.colab.kernel.accessAllowed ? 'block' : 'none';\n",
              "\n",
              "      async function convertToInteractive(key) {\n",
              "        const element = document.querySelector('#df-b98ca97a-f2a8-4470-9b57-0e05b59c243b');\n",
              "        const dataTable =\n",
              "          await google.colab.kernel.invokeFunction('convertToInteractive',\n",
              "                                                    [key], {});\n",
              "        if (!dataTable) return;\n",
              "\n",
              "        const docLinkHtml = 'Like what you see? Visit the ' +\n",
              "          '<a target=\"_blank\" href=https://colab.research.google.com/notebooks/data_table.ipynb>data table notebook</a>'\n",
              "          + ' to learn more about interactive tables.';\n",
              "        element.innerHTML = '';\n",
              "        dataTable['output_type'] = 'display_data';\n",
              "        await google.colab.output.renderOutput(dataTable, element);\n",
              "        const docLink = document.createElement('div');\n",
              "        docLink.innerHTML = docLinkHtml;\n",
              "        element.appendChild(docLink);\n",
              "      }\n",
              "    </script>\n",
              "  </div>\n",
              "\n",
              "\n",
              "<div id=\"df-ca0c6e64-3699-4f26-b8c9-899a7135d1cc\">\n",
              "  <button class=\"colab-df-quickchart\" onclick=\"quickchart('df-ca0c6e64-3699-4f26-b8c9-899a7135d1cc')\"\n",
              "            title=\"Suggest charts\"\n",
              "            style=\"display:none;\">\n",
              "\n",
              "<svg xmlns=\"http://www.w3.org/2000/svg\" height=\"24px\"viewBox=\"0 0 24 24\"\n",
              "     width=\"24px\">\n",
              "    <g>\n",
              "        <path d=\"M19 3H5c-1.1 0-2 .9-2 2v14c0 1.1.9 2 2 2h14c1.1 0 2-.9 2-2V5c0-1.1-.9-2-2-2zM9 17H7v-7h2v7zm4 0h-2V7h2v10zm4 0h-2v-4h2v4z\"/>\n",
              "    </g>\n",
              "</svg>\n",
              "  </button>\n",
              "\n",
              "<style>\n",
              "  .colab-df-quickchart {\n",
              "      --bg-color: #E8F0FE;\n",
              "      --fill-color: #1967D2;\n",
              "      --hover-bg-color: #E2EBFA;\n",
              "      --hover-fill-color: #174EA6;\n",
              "      --disabled-fill-color: #AAA;\n",
              "      --disabled-bg-color: #DDD;\n",
              "  }\n",
              "\n",
              "  [theme=dark] .colab-df-quickchart {\n",
              "      --bg-color: #3B4455;\n",
              "      --fill-color: #D2E3FC;\n",
              "      --hover-bg-color: #434B5C;\n",
              "      --hover-fill-color: #FFFFFF;\n",
              "      --disabled-bg-color: #3B4455;\n",
              "      --disabled-fill-color: #666;\n",
              "  }\n",
              "\n",
              "  .colab-df-quickchart {\n",
              "    background-color: var(--bg-color);\n",
              "    border: none;\n",
              "    border-radius: 50%;\n",
              "    cursor: pointer;\n",
              "    display: none;\n",
              "    fill: var(--fill-color);\n",
              "    height: 32px;\n",
              "    padding: 0;\n",
              "    width: 32px;\n",
              "  }\n",
              "\n",
              "  .colab-df-quickchart:hover {\n",
              "    background-color: var(--hover-bg-color);\n",
              "    box-shadow: 0 1px 2px rgba(60, 64, 67, 0.3), 0 1px 3px 1px rgba(60, 64, 67, 0.15);\n",
              "    fill: var(--button-hover-fill-color);\n",
              "  }\n",
              "\n",
              "  .colab-df-quickchart-complete:disabled,\n",
              "  .colab-df-quickchart-complete:disabled:hover {\n",
              "    background-color: var(--disabled-bg-color);\n",
              "    fill: var(--disabled-fill-color);\n",
              "    box-shadow: none;\n",
              "  }\n",
              "\n",
              "  .colab-df-spinner {\n",
              "    border: 2px solid var(--fill-color);\n",
              "    border-color: transparent;\n",
              "    border-bottom-color: var(--fill-color);\n",
              "    animation:\n",
              "      spin 1s steps(1) infinite;\n",
              "  }\n",
              "\n",
              "  @keyframes spin {\n",
              "    0% {\n",
              "      border-color: transparent;\n",
              "      border-bottom-color: var(--fill-color);\n",
              "      border-left-color: var(--fill-color);\n",
              "    }\n",
              "    20% {\n",
              "      border-color: transparent;\n",
              "      border-left-color: var(--fill-color);\n",
              "      border-top-color: var(--fill-color);\n",
              "    }\n",
              "    30% {\n",
              "      border-color: transparent;\n",
              "      border-left-color: var(--fill-color);\n",
              "      border-top-color: var(--fill-color);\n",
              "      border-right-color: var(--fill-color);\n",
              "    }\n",
              "    40% {\n",
              "      border-color: transparent;\n",
              "      border-right-color: var(--fill-color);\n",
              "      border-top-color: var(--fill-color);\n",
              "    }\n",
              "    60% {\n",
              "      border-color: transparent;\n",
              "      border-right-color: var(--fill-color);\n",
              "    }\n",
              "    80% {\n",
              "      border-color: transparent;\n",
              "      border-right-color: var(--fill-color);\n",
              "      border-bottom-color: var(--fill-color);\n",
              "    }\n",
              "    90% {\n",
              "      border-color: transparent;\n",
              "      border-bottom-color: var(--fill-color);\n",
              "    }\n",
              "  }\n",
              "</style>\n",
              "\n",
              "  <script>\n",
              "    async function quickchart(key) {\n",
              "      const quickchartButtonEl =\n",
              "        document.querySelector('#' + key + ' button');\n",
              "      quickchartButtonEl.disabled = true;  // To prevent multiple clicks.\n",
              "      quickchartButtonEl.classList.add('colab-df-spinner');\n",
              "      try {\n",
              "        const charts = await google.colab.kernel.invokeFunction(\n",
              "            'suggestCharts', [key], {});\n",
              "      } catch (error) {\n",
              "        console.error('Error during call to suggestCharts:', error);\n",
              "      }\n",
              "      quickchartButtonEl.classList.remove('colab-df-spinner');\n",
              "      quickchartButtonEl.classList.add('colab-df-quickchart-complete');\n",
              "    }\n",
              "    (() => {\n",
              "      let quickchartButtonEl =\n",
              "        document.querySelector('#df-ca0c6e64-3699-4f26-b8c9-899a7135d1cc button');\n",
              "      quickchartButtonEl.style.display =\n",
              "        google.colab.kernel.accessAllowed ? 'block' : 'none';\n",
              "    })();\n",
              "  </script>\n",
              "</div>\n",
              "    </div>\n",
              "  </div>\n"
            ],
            "application/vnd.google.colaboratory.intrinsic+json": {
              "type": "dataframe",
              "variable_name": "df"
            }
          },
          "metadata": {},
          "execution_count": 7
        }
      ]
    },
    {
      "cell_type": "code",
      "source": [
        "df.describe()"
      ],
      "metadata": {
        "colab": {
          "base_uri": "https://localhost:8080/",
          "height": 300
        },
        "id": "E210XIN5lLew",
        "outputId": "4de0247a-81a9-410e-b2c5-597e1db2e649"
      },
      "execution_count": 99,
      "outputs": [
        {
          "output_type": "execute_result",
          "data": {
            "text/plain": [
              "              Lp  Numer pozycji          !  Łatwopalne  Utleniacze  Toksyczne  \\\n",
              "count  74.000000      74.000000  74.000000   74.000000        74.0  74.000000   \n",
              "mean   37.500000      26.486486   0.351351    0.324324         0.0   0.054054   \n",
              "std    21.505813      16.004488   0.480651    0.471317         0.0   0.227668   \n",
              "min     1.000000       1.000000   0.000000    0.000000         0.0   0.000000   \n",
              "25%    19.250000      13.250000   0.000000    0.000000         0.0   0.000000   \n",
              "50%    37.500000      26.000000   0.000000    0.000000         0.0   0.000000   \n",
              "75%    55.750000      38.750000   1.000000    1.000000         0.0   0.000000   \n",
              "max    74.000000      57.000000   1.000000    1.000000         0.0   1.000000   \n",
              "\n",
              "       Szkodliwe/\\naspiracja  Żrace/\\ndrazniace  Org\\n wodne      Ocena  \n",
              "count              74.000000          74.000000    74.000000  74.000000  \n",
              "mean                0.243243           0.135135     0.094595   0.054054  \n",
              "std                 0.431969           0.344201     0.294652   1.005354  \n",
              "min                 0.000000           0.000000     0.000000  -1.000000  \n",
              "25%                 0.000000           0.000000     0.000000  -1.000000  \n",
              "50%                 0.000000           0.000000     0.000000   1.000000  \n",
              "75%                 0.000000           0.000000     0.000000   1.000000  \n",
              "max                 1.000000           1.000000     1.000000   1.000000  "
            ],
            "text/html": [
              "\n",
              "  <div id=\"df-8bdd33dc-26d6-4a9b-ad1d-9cc0f9a190ec\" class=\"colab-df-container\">\n",
              "    <div>\n",
              "<style scoped>\n",
              "    .dataframe tbody tr th:only-of-type {\n",
              "        vertical-align: middle;\n",
              "    }\n",
              "\n",
              "    .dataframe tbody tr th {\n",
              "        vertical-align: top;\n",
              "    }\n",
              "\n",
              "    .dataframe thead th {\n",
              "        text-align: right;\n",
              "    }\n",
              "</style>\n",
              "<table border=\"1\" class=\"dataframe\">\n",
              "  <thead>\n",
              "    <tr style=\"text-align: right;\">\n",
              "      <th></th>\n",
              "      <th>Lp</th>\n",
              "      <th>Numer pozycji</th>\n",
              "      <th>!</th>\n",
              "      <th>Łatwopalne</th>\n",
              "      <th>Utleniacze</th>\n",
              "      <th>Toksyczne</th>\n",
              "      <th>Szkodliwe/\\naspiracja</th>\n",
              "      <th>Żrace/\\ndrazniace</th>\n",
              "      <th>Org\\n wodne</th>\n",
              "      <th>Ocena</th>\n",
              "    </tr>\n",
              "  </thead>\n",
              "  <tbody>\n",
              "    <tr>\n",
              "      <th>count</th>\n",
              "      <td>74.000000</td>\n",
              "      <td>74.000000</td>\n",
              "      <td>74.000000</td>\n",
              "      <td>74.000000</td>\n",
              "      <td>74.0</td>\n",
              "      <td>74.000000</td>\n",
              "      <td>74.000000</td>\n",
              "      <td>74.000000</td>\n",
              "      <td>74.000000</td>\n",
              "      <td>74.000000</td>\n",
              "    </tr>\n",
              "    <tr>\n",
              "      <th>mean</th>\n",
              "      <td>37.500000</td>\n",
              "      <td>26.486486</td>\n",
              "      <td>0.351351</td>\n",
              "      <td>0.324324</td>\n",
              "      <td>0.0</td>\n",
              "      <td>0.054054</td>\n",
              "      <td>0.243243</td>\n",
              "      <td>0.135135</td>\n",
              "      <td>0.094595</td>\n",
              "      <td>0.054054</td>\n",
              "    </tr>\n",
              "    <tr>\n",
              "      <th>std</th>\n",
              "      <td>21.505813</td>\n",
              "      <td>16.004488</td>\n",
              "      <td>0.480651</td>\n",
              "      <td>0.471317</td>\n",
              "      <td>0.0</td>\n",
              "      <td>0.227668</td>\n",
              "      <td>0.431969</td>\n",
              "      <td>0.344201</td>\n",
              "      <td>0.294652</td>\n",
              "      <td>1.005354</td>\n",
              "    </tr>\n",
              "    <tr>\n",
              "      <th>min</th>\n",
              "      <td>1.000000</td>\n",
              "      <td>1.000000</td>\n",
              "      <td>0.000000</td>\n",
              "      <td>0.000000</td>\n",
              "      <td>0.0</td>\n",
              "      <td>0.000000</td>\n",
              "      <td>0.000000</td>\n",
              "      <td>0.000000</td>\n",
              "      <td>0.000000</td>\n",
              "      <td>-1.000000</td>\n",
              "    </tr>\n",
              "    <tr>\n",
              "      <th>25%</th>\n",
              "      <td>19.250000</td>\n",
              "      <td>13.250000</td>\n",
              "      <td>0.000000</td>\n",
              "      <td>0.000000</td>\n",
              "      <td>0.0</td>\n",
              "      <td>0.000000</td>\n",
              "      <td>0.000000</td>\n",
              "      <td>0.000000</td>\n",
              "      <td>0.000000</td>\n",
              "      <td>-1.000000</td>\n",
              "    </tr>\n",
              "    <tr>\n",
              "      <th>50%</th>\n",
              "      <td>37.500000</td>\n",
              "      <td>26.000000</td>\n",
              "      <td>0.000000</td>\n",
              "      <td>0.000000</td>\n",
              "      <td>0.0</td>\n",
              "      <td>0.000000</td>\n",
              "      <td>0.000000</td>\n",
              "      <td>0.000000</td>\n",
              "      <td>0.000000</td>\n",
              "      <td>1.000000</td>\n",
              "    </tr>\n",
              "    <tr>\n",
              "      <th>75%</th>\n",
              "      <td>55.750000</td>\n",
              "      <td>38.750000</td>\n",
              "      <td>1.000000</td>\n",
              "      <td>1.000000</td>\n",
              "      <td>0.0</td>\n",
              "      <td>0.000000</td>\n",
              "      <td>0.000000</td>\n",
              "      <td>0.000000</td>\n",
              "      <td>0.000000</td>\n",
              "      <td>1.000000</td>\n",
              "    </tr>\n",
              "    <tr>\n",
              "      <th>max</th>\n",
              "      <td>74.000000</td>\n",
              "      <td>57.000000</td>\n",
              "      <td>1.000000</td>\n",
              "      <td>1.000000</td>\n",
              "      <td>0.0</td>\n",
              "      <td>1.000000</td>\n",
              "      <td>1.000000</td>\n",
              "      <td>1.000000</td>\n",
              "      <td>1.000000</td>\n",
              "      <td>1.000000</td>\n",
              "    </tr>\n",
              "  </tbody>\n",
              "</table>\n",
              "</div>\n",
              "    <div class=\"colab-df-buttons\">\n",
              "\n",
              "  <div class=\"colab-df-container\">\n",
              "    <button class=\"colab-df-convert\" onclick=\"convertToInteractive('df-8bdd33dc-26d6-4a9b-ad1d-9cc0f9a190ec')\"\n",
              "            title=\"Convert this dataframe to an interactive table.\"\n",
              "            style=\"display:none;\">\n",
              "\n",
              "  <svg xmlns=\"http://www.w3.org/2000/svg\" height=\"24px\" viewBox=\"0 -960 960 960\">\n",
              "    <path d=\"M120-120v-720h720v720H120Zm60-500h600v-160H180v160Zm220 220h160v-160H400v160Zm0 220h160v-160H400v160ZM180-400h160v-160H180v160Zm440 0h160v-160H620v160ZM180-180h160v-160H180v160Zm440 0h160v-160H620v160Z\"/>\n",
              "  </svg>\n",
              "    </button>\n",
              "\n",
              "  <style>\n",
              "    .colab-df-container {\n",
              "      display:flex;\n",
              "      gap: 12px;\n",
              "    }\n",
              "\n",
              "    .colab-df-convert {\n",
              "      background-color: #E8F0FE;\n",
              "      border: none;\n",
              "      border-radius: 50%;\n",
              "      cursor: pointer;\n",
              "      display: none;\n",
              "      fill: #1967D2;\n",
              "      height: 32px;\n",
              "      padding: 0 0 0 0;\n",
              "      width: 32px;\n",
              "    }\n",
              "\n",
              "    .colab-df-convert:hover {\n",
              "      background-color: #E2EBFA;\n",
              "      box-shadow: 0px 1px 2px rgba(60, 64, 67, 0.3), 0px 1px 3px 1px rgba(60, 64, 67, 0.15);\n",
              "      fill: #174EA6;\n",
              "    }\n",
              "\n",
              "    .colab-df-buttons div {\n",
              "      margin-bottom: 4px;\n",
              "    }\n",
              "\n",
              "    [theme=dark] .colab-df-convert {\n",
              "      background-color: #3B4455;\n",
              "      fill: #D2E3FC;\n",
              "    }\n",
              "\n",
              "    [theme=dark] .colab-df-convert:hover {\n",
              "      background-color: #434B5C;\n",
              "      box-shadow: 0px 1px 3px 1px rgba(0, 0, 0, 0.15);\n",
              "      filter: drop-shadow(0px 1px 2px rgba(0, 0, 0, 0.3));\n",
              "      fill: #FFFFFF;\n",
              "    }\n",
              "  </style>\n",
              "\n",
              "    <script>\n",
              "      const buttonEl =\n",
              "        document.querySelector('#df-8bdd33dc-26d6-4a9b-ad1d-9cc0f9a190ec button.colab-df-convert');\n",
              "      buttonEl.style.display =\n",
              "        google.colab.kernel.accessAllowed ? 'block' : 'none';\n",
              "\n",
              "      async function convertToInteractive(key) {\n",
              "        const element = document.querySelector('#df-8bdd33dc-26d6-4a9b-ad1d-9cc0f9a190ec');\n",
              "        const dataTable =\n",
              "          await google.colab.kernel.invokeFunction('convertToInteractive',\n",
              "                                                    [key], {});\n",
              "        if (!dataTable) return;\n",
              "\n",
              "        const docLinkHtml = 'Like what you see? Visit the ' +\n",
              "          '<a target=\"_blank\" href=https://colab.research.google.com/notebooks/data_table.ipynb>data table notebook</a>'\n",
              "          + ' to learn more about interactive tables.';\n",
              "        element.innerHTML = '';\n",
              "        dataTable['output_type'] = 'display_data';\n",
              "        await google.colab.output.renderOutput(dataTable, element);\n",
              "        const docLink = document.createElement('div');\n",
              "        docLink.innerHTML = docLinkHtml;\n",
              "        element.appendChild(docLink);\n",
              "      }\n",
              "    </script>\n",
              "  </div>\n",
              "\n",
              "\n",
              "<div id=\"df-abb99132-024e-4f74-9e3f-b650aa9612e9\">\n",
              "  <button class=\"colab-df-quickchart\" onclick=\"quickchart('df-abb99132-024e-4f74-9e3f-b650aa9612e9')\"\n",
              "            title=\"Suggest charts\"\n",
              "            style=\"display:none;\">\n",
              "\n",
              "<svg xmlns=\"http://www.w3.org/2000/svg\" height=\"24px\"viewBox=\"0 0 24 24\"\n",
              "     width=\"24px\">\n",
              "    <g>\n",
              "        <path d=\"M19 3H5c-1.1 0-2 .9-2 2v14c0 1.1.9 2 2 2h14c1.1 0 2-.9 2-2V5c0-1.1-.9-2-2-2zM9 17H7v-7h2v7zm4 0h-2V7h2v10zm4 0h-2v-4h2v4z\"/>\n",
              "    </g>\n",
              "</svg>\n",
              "  </button>\n",
              "\n",
              "<style>\n",
              "  .colab-df-quickchart {\n",
              "      --bg-color: #E8F0FE;\n",
              "      --fill-color: #1967D2;\n",
              "      --hover-bg-color: #E2EBFA;\n",
              "      --hover-fill-color: #174EA6;\n",
              "      --disabled-fill-color: #AAA;\n",
              "      --disabled-bg-color: #DDD;\n",
              "  }\n",
              "\n",
              "  [theme=dark] .colab-df-quickchart {\n",
              "      --bg-color: #3B4455;\n",
              "      --fill-color: #D2E3FC;\n",
              "      --hover-bg-color: #434B5C;\n",
              "      --hover-fill-color: #FFFFFF;\n",
              "      --disabled-bg-color: #3B4455;\n",
              "      --disabled-fill-color: #666;\n",
              "  }\n",
              "\n",
              "  .colab-df-quickchart {\n",
              "    background-color: var(--bg-color);\n",
              "    border: none;\n",
              "    border-radius: 50%;\n",
              "    cursor: pointer;\n",
              "    display: none;\n",
              "    fill: var(--fill-color);\n",
              "    height: 32px;\n",
              "    padding: 0;\n",
              "    width: 32px;\n",
              "  }\n",
              "\n",
              "  .colab-df-quickchart:hover {\n",
              "    background-color: var(--hover-bg-color);\n",
              "    box-shadow: 0 1px 2px rgba(60, 64, 67, 0.3), 0 1px 3px 1px rgba(60, 64, 67, 0.15);\n",
              "    fill: var(--button-hover-fill-color);\n",
              "  }\n",
              "\n",
              "  .colab-df-quickchart-complete:disabled,\n",
              "  .colab-df-quickchart-complete:disabled:hover {\n",
              "    background-color: var(--disabled-bg-color);\n",
              "    fill: var(--disabled-fill-color);\n",
              "    box-shadow: none;\n",
              "  }\n",
              "\n",
              "  .colab-df-spinner {\n",
              "    border: 2px solid var(--fill-color);\n",
              "    border-color: transparent;\n",
              "    border-bottom-color: var(--fill-color);\n",
              "    animation:\n",
              "      spin 1s steps(1) infinite;\n",
              "  }\n",
              "\n",
              "  @keyframes spin {\n",
              "    0% {\n",
              "      border-color: transparent;\n",
              "      border-bottom-color: var(--fill-color);\n",
              "      border-left-color: var(--fill-color);\n",
              "    }\n",
              "    20% {\n",
              "      border-color: transparent;\n",
              "      border-left-color: var(--fill-color);\n",
              "      border-top-color: var(--fill-color);\n",
              "    }\n",
              "    30% {\n",
              "      border-color: transparent;\n",
              "      border-left-color: var(--fill-color);\n",
              "      border-top-color: var(--fill-color);\n",
              "      border-right-color: var(--fill-color);\n",
              "    }\n",
              "    40% {\n",
              "      border-color: transparent;\n",
              "      border-right-color: var(--fill-color);\n",
              "      border-top-color: var(--fill-color);\n",
              "    }\n",
              "    60% {\n",
              "      border-color: transparent;\n",
              "      border-right-color: var(--fill-color);\n",
              "    }\n",
              "    80% {\n",
              "      border-color: transparent;\n",
              "      border-right-color: var(--fill-color);\n",
              "      border-bottom-color: var(--fill-color);\n",
              "    }\n",
              "    90% {\n",
              "      border-color: transparent;\n",
              "      border-bottom-color: var(--fill-color);\n",
              "    }\n",
              "  }\n",
              "</style>\n",
              "\n",
              "  <script>\n",
              "    async function quickchart(key) {\n",
              "      const quickchartButtonEl =\n",
              "        document.querySelector('#' + key + ' button');\n",
              "      quickchartButtonEl.disabled = true;  // To prevent multiple clicks.\n",
              "      quickchartButtonEl.classList.add('colab-df-spinner');\n",
              "      try {\n",
              "        const charts = await google.colab.kernel.invokeFunction(\n",
              "            'suggestCharts', [key], {});\n",
              "      } catch (error) {\n",
              "        console.error('Error during call to suggestCharts:', error);\n",
              "      }\n",
              "      quickchartButtonEl.classList.remove('colab-df-spinner');\n",
              "      quickchartButtonEl.classList.add('colab-df-quickchart-complete');\n",
              "    }\n",
              "    (() => {\n",
              "      let quickchartButtonEl =\n",
              "        document.querySelector('#df-abb99132-024e-4f74-9e3f-b650aa9612e9 button');\n",
              "      quickchartButtonEl.style.display =\n",
              "        google.colab.kernel.accessAllowed ? 'block' : 'none';\n",
              "    })();\n",
              "  </script>\n",
              "</div>\n",
              "    </div>\n",
              "  </div>\n"
            ],
            "application/vnd.google.colaboratory.intrinsic+json": {
              "type": "dataframe",
              "summary": "{\n  \"name\": \"df\",\n  \"rows\": 8,\n  \"fields\": [\n    {\n      \"column\": \"Lp\",\n      \"properties\": {\n        \"dtype\": \"number\",\n        \"std\": 26.365908631416463,\n        \"min\": 1.0,\n        \"max\": 74.0,\n        \"num_unique_values\": 6,\n        \"samples\": [\n          74.0,\n          37.5,\n          55.75\n        ],\n        \"semantic_type\": \"\",\n        \"description\": \"\"\n      }\n    },\n    {\n      \"column\": \"Numer pozycji\",\n      \"properties\": {\n        \"dtype\": \"number\",\n        \"std\": 24.106433829827328,\n        \"min\": 1.0,\n        \"max\": 74.0,\n        \"num_unique_values\": 8,\n        \"samples\": [\n          26.486486486486488,\n          26.0,\n          74.0\n        ],\n        \"semantic_type\": \"\",\n        \"description\": \"\"\n      }\n    },\n    {\n      \"column\": \"!\",\n      \"properties\": {\n        \"dtype\": \"number\",\n        \"std\": 26.023231096493703,\n        \"min\": 0.0,\n        \"max\": 74.0,\n        \"num_unique_values\": 5,\n        \"samples\": [\n          0.35135135135135137,\n          1.0,\n          0.4806511688262489\n        ],\n        \"semantic_type\": \"\",\n        \"description\": \"\"\n      }\n    },\n    {\n      \"column\": \"\\u0141atwopalne\",\n      \"properties\": {\n        \"dtype\": \"number\",\n        \"std\": 26.025073090755974,\n        \"min\": 0.0,\n        \"max\": 74.0,\n        \"num_unique_values\": 5,\n        \"samples\": [\n          0.32432432432432434,\n          1.0,\n          0.4713172478992737\n        ],\n        \"semantic_type\": \"\",\n        \"description\": \"\"\n      }\n    },\n    {\n      \"column\": \"Utleniacze\",\n      \"properties\": {\n        \"dtype\": \"number\",\n        \"std\": 26.16295090390226,\n        \"min\": 0.0,\n        \"max\": 74.0,\n        \"num_unique_values\": 2,\n        \"samples\": [\n          0.0,\n          74.0\n        ],\n        \"semantic_type\": \"\",\n        \"description\": \"\"\n      }\n    },\n    {\n      \"column\": \"Toksyczne\",\n      \"properties\": {\n        \"dtype\": \"number\",\n        \"std\": 26.100458528260894,\n        \"min\": 0.0,\n        \"max\": 74.0,\n        \"num_unique_values\": 5,\n        \"samples\": [\n          0.05405405405405406,\n          1.0\n        ],\n        \"semantic_type\": \"\",\n        \"description\": \"\"\n      }\n    },\n    {\n      \"column\": \"Szkodliwe/\\naspiracja\",\n      \"properties\": {\n        \"dtype\": \"number\",\n        \"std\": 26.080653855984853,\n        \"min\": 0.0,\n        \"max\": 74.0,\n        \"num_unique_values\": 5,\n        \"samples\": [\n          0.24324324324324326,\n          1.0\n        ],\n        \"semantic_type\": \"\",\n        \"description\": \"\"\n      }\n    },\n    {\n      \"column\": \"\\u017brace/\\ndrazniace\",\n      \"properties\": {\n        \"dtype\": \"number\",\n        \"std\": 26.09048938571902,\n        \"min\": 0.0,\n        \"max\": 74.0,\n        \"num_unique_values\": 5,\n        \"samples\": [\n          0.13513513513513514,\n          1.0\n        ],\n        \"semantic_type\": \"\",\n        \"description\": \"\"\n      }\n    },\n    {\n      \"column\": \"Org\\n wodne\",\n      \"properties\": {\n        \"dtype\": \"number\",\n        \"std\": 26.095028148287888,\n        \"min\": 0.0,\n        \"max\": 74.0,\n        \"num_unique_values\": 5,\n        \"samples\": [\n          0.0945945945945946,\n          1.0\n        ],\n        \"semantic_type\": \"\",\n        \"description\": \"\"\n      }\n    },\n    {\n      \"column\": \"Ocena\",\n      \"properties\": {\n        \"dtype\": \"number\",\n        \"std\": 26.073753807992222,\n        \"min\": -1.0,\n        \"max\": 74.0,\n        \"num_unique_values\": 5,\n        \"samples\": [\n          0.05405405405405406,\n          1.0\n        ],\n        \"semantic_type\": \"\",\n        \"description\": \"\"\n      }\n    }\n  ]\n}"
            }
          },
          "metadata": {},
          "execution_count": 99
        }
      ]
    },
    {
      "cell_type": "code",
      "source": [
        "df.head()"
      ],
      "metadata": {
        "colab": {
          "base_uri": "https://localhost:8080/",
          "height": 742
        },
        "id": "84jMKdlxnXSN",
        "outputId": "6430ecf0-376a-4729-d62c-9716701b602a"
      },
      "execution_count": 9,
      "outputs": [
        {
          "output_type": "execute_result",
          "data": {
            "text/plain": [
              "  Szafa/ociekacz/gaz/paleta/szuflada Oznakowanie  Lp  Numer pozycji  \\\n",
              "0                           ociekacz        brak   1              1   \n",
              "1                           ociekacz        brak   2              2   \n",
              "2                           ociekacz        brak   3              3   \n",
              "3                           ociekacz        brak   4              3   \n",
              "4                                gaz        brak   5              4   \n",
              "\n",
              "  Data ważności środka        Opis pozycji Karta aktualna?  \\\n",
              "0  2026-11-26 00:00:00    STAMP LUBE 65 EV             TAK   \n",
              "1  2026-06-28 00:00:00    SHELL RIMULA R3+             NIE   \n",
              "2  2026-04-14 00:00:00  AeroShell Fluid 41             TAK   \n",
              "3  2026-05-10 00:00:00  AeroShell Fluid 41             TAK   \n",
              "4                  NaN   PROPAN TECHNICZNY             NIE   \n",
              "\n",
              "                   NS Substancja rakotwórcza  !  ...  \\\n",
              "0                 NaN                    NIE  0  ...   \n",
              "1                   x                    NIE  0  ...   \n",
              "2                 NaN                    NIE  1  ...   \n",
              "3                 NaN                    NIE  1  ...   \n",
              "4  GAZ POD CIŚNIENIEM                    NIE  0  ...   \n",
              "\n",
              "   Temperatura samozapłonu [°C]  Temp wrzenia [°C]  \\\n",
              "0                           NaN               > 62   \n",
              "1                         > 320              > 280   \n",
              "2                         > 320              > 280   \n",
              "3                         > 320              > 280   \n",
              "4                           NaN                -42   \n",
              "\n",
              "   Warunki których należy unikać  \\\n",
              "0                              S   \n",
              "1                              S   \n",
              "2                              S   \n",
              "3                              S   \n",
              "4                              S   \n",
              "\n",
              "                                Materiały niezgodne   Utylizacja  ADR  \\\n",
              "0  silne utleniacze, mocne kwasy, mocne zasady, s...   11 01 13*  NIE   \n",
              "1                                    slne utleniacze   13 02 05*  NIE   \n",
              "2                                    slne utleniacze   13 01 10*  TAK   \n",
              "3                                    slne utleniacze   13 01 10*  TAK   \n",
              "4                                    slne utleniacze         NaN  TAK   \n",
              "\n",
              "                                            rękawice odzieź ochronna  \\\n",
              "0           > 10 min - klasa 2;\\n> 480 min - klasa 6               S   \n",
              "1  > 480 min - grubość > 0,35 mm wykonane z kaucz...    nie wymagana   \n",
              "2  > 480 min - grubość > 0,35 mm wykonane z kaucz...               S   \n",
              "3  > 480 min - grubość > 0,35 mm wykonane z kaucz...               S   \n",
              "4                               izolowane termicznie    nie wymagana   \n",
              "\n",
              "     ochrona twarzy i oczu                         ochrona układu oddechowego  \n",
              "0  okulary/google ochronne  operowanie goracym produktem - maska z filtrem...  \n",
              "1  okulary/google ochronne  w przypadku tworzenia się par - maska z filtre...  \n",
              "2  okulary/google ochronne  w przypadku tworzenia się par - maska z filtre...  \n",
              "3  okulary/google ochronne  w przypadku tworzenia się par - maska z filtre...  \n",
              "4             nie wymagana                 maska z własnym dopływem powietrza  \n",
              "\n",
              "[5 rows x 32 columns]"
            ],
            "text/html": [
              "\n",
              "  <div id=\"df-ba89c896-07de-421d-9309-1ef473a7a0c6\" class=\"colab-df-container\">\n",
              "    <div>\n",
              "<style scoped>\n",
              "    .dataframe tbody tr th:only-of-type {\n",
              "        vertical-align: middle;\n",
              "    }\n",
              "\n",
              "    .dataframe tbody tr th {\n",
              "        vertical-align: top;\n",
              "    }\n",
              "\n",
              "    .dataframe thead th {\n",
              "        text-align: right;\n",
              "    }\n",
              "</style>\n",
              "<table border=\"1\" class=\"dataframe\">\n",
              "  <thead>\n",
              "    <tr style=\"text-align: right;\">\n",
              "      <th></th>\n",
              "      <th>Szafa/ociekacz/gaz/paleta/szuflada</th>\n",
              "      <th>Oznakowanie</th>\n",
              "      <th>Lp</th>\n",
              "      <th>Numer pozycji</th>\n",
              "      <th>Data ważności środka</th>\n",
              "      <th>Opis pozycji</th>\n",
              "      <th>Karta aktualna?</th>\n",
              "      <th>NS</th>\n",
              "      <th>Substancja rakotwórcza</th>\n",
              "      <th>!</th>\n",
              "      <th>...</th>\n",
              "      <th>Temperatura samozapłonu [°C]</th>\n",
              "      <th>Temp wrzenia [°C]</th>\n",
              "      <th>Warunki których należy unikać</th>\n",
              "      <th>Materiały niezgodne</th>\n",
              "      <th>Utylizacja</th>\n",
              "      <th>ADR</th>\n",
              "      <th>rękawice</th>\n",
              "      <th>odzieź ochronna</th>\n",
              "      <th>ochrona twarzy i oczu</th>\n",
              "      <th>ochrona układu oddechowego</th>\n",
              "    </tr>\n",
              "  </thead>\n",
              "  <tbody>\n",
              "    <tr>\n",
              "      <th>0</th>\n",
              "      <td>ociekacz</td>\n",
              "      <td>brak</td>\n",
              "      <td>1</td>\n",
              "      <td>1</td>\n",
              "      <td>2026-11-26 00:00:00</td>\n",
              "      <td>STAMP LUBE 65 EV</td>\n",
              "      <td>TAK</td>\n",
              "      <td>NaN</td>\n",
              "      <td>NIE</td>\n",
              "      <td>0</td>\n",
              "      <td>...</td>\n",
              "      <td>NaN</td>\n",
              "      <td>&gt; 62</td>\n",
              "      <td>S</td>\n",
              "      <td>silne utleniacze, mocne kwasy, mocne zasady, s...</td>\n",
              "      <td>11 01 13*</td>\n",
              "      <td>NIE</td>\n",
              "      <td>&gt; 10 min - klasa 2;\\n&gt; 480 min - klasa 6</td>\n",
              "      <td>S</td>\n",
              "      <td>okulary/google ochronne</td>\n",
              "      <td>operowanie goracym produktem - maska z filtrem...</td>\n",
              "    </tr>\n",
              "    <tr>\n",
              "      <th>1</th>\n",
              "      <td>ociekacz</td>\n",
              "      <td>brak</td>\n",
              "      <td>2</td>\n",
              "      <td>2</td>\n",
              "      <td>2026-06-28 00:00:00</td>\n",
              "      <td>SHELL RIMULA R3+</td>\n",
              "      <td>NIE</td>\n",
              "      <td>x</td>\n",
              "      <td>NIE</td>\n",
              "      <td>0</td>\n",
              "      <td>...</td>\n",
              "      <td>&gt; 320</td>\n",
              "      <td>&gt; 280</td>\n",
              "      <td>S</td>\n",
              "      <td>slne utleniacze</td>\n",
              "      <td>13 02 05*</td>\n",
              "      <td>NIE</td>\n",
              "      <td>&gt; 480 min - grubość &gt; 0,35 mm wykonane z kaucz...</td>\n",
              "      <td>nie wymagana</td>\n",
              "      <td>okulary/google ochronne</td>\n",
              "      <td>w przypadku tworzenia się par - maska z filtre...</td>\n",
              "    </tr>\n",
              "    <tr>\n",
              "      <th>2</th>\n",
              "      <td>ociekacz</td>\n",
              "      <td>brak</td>\n",
              "      <td>3</td>\n",
              "      <td>3</td>\n",
              "      <td>2026-04-14 00:00:00</td>\n",
              "      <td>AeroShell Fluid 41</td>\n",
              "      <td>TAK</td>\n",
              "      <td>NaN</td>\n",
              "      <td>NIE</td>\n",
              "      <td>1</td>\n",
              "      <td>...</td>\n",
              "      <td>&gt; 320</td>\n",
              "      <td>&gt; 280</td>\n",
              "      <td>S</td>\n",
              "      <td>slne utleniacze</td>\n",
              "      <td>13 01 10*</td>\n",
              "      <td>TAK</td>\n",
              "      <td>&gt; 480 min - grubość &gt; 0,35 mm wykonane z kaucz...</td>\n",
              "      <td>S</td>\n",
              "      <td>okulary/google ochronne</td>\n",
              "      <td>w przypadku tworzenia się par - maska z filtre...</td>\n",
              "    </tr>\n",
              "    <tr>\n",
              "      <th>3</th>\n",
              "      <td>ociekacz</td>\n",
              "      <td>brak</td>\n",
              "      <td>4</td>\n",
              "      <td>3</td>\n",
              "      <td>2026-05-10 00:00:00</td>\n",
              "      <td>AeroShell Fluid 41</td>\n",
              "      <td>TAK</td>\n",
              "      <td>NaN</td>\n",
              "      <td>NIE</td>\n",
              "      <td>1</td>\n",
              "      <td>...</td>\n",
              "      <td>&gt; 320</td>\n",
              "      <td>&gt; 280</td>\n",
              "      <td>S</td>\n",
              "      <td>slne utleniacze</td>\n",
              "      <td>13 01 10*</td>\n",
              "      <td>TAK</td>\n",
              "      <td>&gt; 480 min - grubość &gt; 0,35 mm wykonane z kaucz...</td>\n",
              "      <td>S</td>\n",
              "      <td>okulary/google ochronne</td>\n",
              "      <td>w przypadku tworzenia się par - maska z filtre...</td>\n",
              "    </tr>\n",
              "    <tr>\n",
              "      <th>4</th>\n",
              "      <td>gaz</td>\n",
              "      <td>brak</td>\n",
              "      <td>5</td>\n",
              "      <td>4</td>\n",
              "      <td>NaN</td>\n",
              "      <td>PROPAN TECHNICZNY</td>\n",
              "      <td>NIE</td>\n",
              "      <td>GAZ POD CIŚNIENIEM</td>\n",
              "      <td>NIE</td>\n",
              "      <td>0</td>\n",
              "      <td>...</td>\n",
              "      <td>NaN</td>\n",
              "      <td>-42</td>\n",
              "      <td>S</td>\n",
              "      <td>slne utleniacze</td>\n",
              "      <td>NaN</td>\n",
              "      <td>TAK</td>\n",
              "      <td>izolowane termicznie</td>\n",
              "      <td>nie wymagana</td>\n",
              "      <td>nie wymagana</td>\n",
              "      <td>maska z własnym dopływem powietrza</td>\n",
              "    </tr>\n",
              "  </tbody>\n",
              "</table>\n",
              "<p>5 rows × 32 columns</p>\n",
              "</div>\n",
              "    <div class=\"colab-df-buttons\">\n",
              "\n",
              "  <div class=\"colab-df-container\">\n",
              "    <button class=\"colab-df-convert\" onclick=\"convertToInteractive('df-ba89c896-07de-421d-9309-1ef473a7a0c6')\"\n",
              "            title=\"Convert this dataframe to an interactive table.\"\n",
              "            style=\"display:none;\">\n",
              "\n",
              "  <svg xmlns=\"http://www.w3.org/2000/svg\" height=\"24px\" viewBox=\"0 -960 960 960\">\n",
              "    <path d=\"M120-120v-720h720v720H120Zm60-500h600v-160H180v160Zm220 220h160v-160H400v160Zm0 220h160v-160H400v160ZM180-400h160v-160H180v160Zm440 0h160v-160H620v160ZM180-180h160v-160H180v160Zm440 0h160v-160H620v160Z\"/>\n",
              "  </svg>\n",
              "    </button>\n",
              "\n",
              "  <style>\n",
              "    .colab-df-container {\n",
              "      display:flex;\n",
              "      gap: 12px;\n",
              "    }\n",
              "\n",
              "    .colab-df-convert {\n",
              "      background-color: #E8F0FE;\n",
              "      border: none;\n",
              "      border-radius: 50%;\n",
              "      cursor: pointer;\n",
              "      display: none;\n",
              "      fill: #1967D2;\n",
              "      height: 32px;\n",
              "      padding: 0 0 0 0;\n",
              "      width: 32px;\n",
              "    }\n",
              "\n",
              "    .colab-df-convert:hover {\n",
              "      background-color: #E2EBFA;\n",
              "      box-shadow: 0px 1px 2px rgba(60, 64, 67, 0.3), 0px 1px 3px 1px rgba(60, 64, 67, 0.15);\n",
              "      fill: #174EA6;\n",
              "    }\n",
              "\n",
              "    .colab-df-buttons div {\n",
              "      margin-bottom: 4px;\n",
              "    }\n",
              "\n",
              "    [theme=dark] .colab-df-convert {\n",
              "      background-color: #3B4455;\n",
              "      fill: #D2E3FC;\n",
              "    }\n",
              "\n",
              "    [theme=dark] .colab-df-convert:hover {\n",
              "      background-color: #434B5C;\n",
              "      box-shadow: 0px 1px 3px 1px rgba(0, 0, 0, 0.15);\n",
              "      filter: drop-shadow(0px 1px 2px rgba(0, 0, 0, 0.3));\n",
              "      fill: #FFFFFF;\n",
              "    }\n",
              "  </style>\n",
              "\n",
              "    <script>\n",
              "      const buttonEl =\n",
              "        document.querySelector('#df-ba89c896-07de-421d-9309-1ef473a7a0c6 button.colab-df-convert');\n",
              "      buttonEl.style.display =\n",
              "        google.colab.kernel.accessAllowed ? 'block' : 'none';\n",
              "\n",
              "      async function convertToInteractive(key) {\n",
              "        const element = document.querySelector('#df-ba89c896-07de-421d-9309-1ef473a7a0c6');\n",
              "        const dataTable =\n",
              "          await google.colab.kernel.invokeFunction('convertToInteractive',\n",
              "                                                    [key], {});\n",
              "        if (!dataTable) return;\n",
              "\n",
              "        const docLinkHtml = 'Like what you see? Visit the ' +\n",
              "          '<a target=\"_blank\" href=https://colab.research.google.com/notebooks/data_table.ipynb>data table notebook</a>'\n",
              "          + ' to learn more about interactive tables.';\n",
              "        element.innerHTML = '';\n",
              "        dataTable['output_type'] = 'display_data';\n",
              "        await google.colab.output.renderOutput(dataTable, element);\n",
              "        const docLink = document.createElement('div');\n",
              "        docLink.innerHTML = docLinkHtml;\n",
              "        element.appendChild(docLink);\n",
              "      }\n",
              "    </script>\n",
              "  </div>\n",
              "\n",
              "\n",
              "<div id=\"df-663e178f-43b2-4642-a525-81bfa9ec156b\">\n",
              "  <button class=\"colab-df-quickchart\" onclick=\"quickchart('df-663e178f-43b2-4642-a525-81bfa9ec156b')\"\n",
              "            title=\"Suggest charts\"\n",
              "            style=\"display:none;\">\n",
              "\n",
              "<svg xmlns=\"http://www.w3.org/2000/svg\" height=\"24px\"viewBox=\"0 0 24 24\"\n",
              "     width=\"24px\">\n",
              "    <g>\n",
              "        <path d=\"M19 3H5c-1.1 0-2 .9-2 2v14c0 1.1.9 2 2 2h14c1.1 0 2-.9 2-2V5c0-1.1-.9-2-2-2zM9 17H7v-7h2v7zm4 0h-2V7h2v10zm4 0h-2v-4h2v4z\"/>\n",
              "    </g>\n",
              "</svg>\n",
              "  </button>\n",
              "\n",
              "<style>\n",
              "  .colab-df-quickchart {\n",
              "      --bg-color: #E8F0FE;\n",
              "      --fill-color: #1967D2;\n",
              "      --hover-bg-color: #E2EBFA;\n",
              "      --hover-fill-color: #174EA6;\n",
              "      --disabled-fill-color: #AAA;\n",
              "      --disabled-bg-color: #DDD;\n",
              "  }\n",
              "\n",
              "  [theme=dark] .colab-df-quickchart {\n",
              "      --bg-color: #3B4455;\n",
              "      --fill-color: #D2E3FC;\n",
              "      --hover-bg-color: #434B5C;\n",
              "      --hover-fill-color: #FFFFFF;\n",
              "      --disabled-bg-color: #3B4455;\n",
              "      --disabled-fill-color: #666;\n",
              "  }\n",
              "\n",
              "  .colab-df-quickchart {\n",
              "    background-color: var(--bg-color);\n",
              "    border: none;\n",
              "    border-radius: 50%;\n",
              "    cursor: pointer;\n",
              "    display: none;\n",
              "    fill: var(--fill-color);\n",
              "    height: 32px;\n",
              "    padding: 0;\n",
              "    width: 32px;\n",
              "  }\n",
              "\n",
              "  .colab-df-quickchart:hover {\n",
              "    background-color: var(--hover-bg-color);\n",
              "    box-shadow: 0 1px 2px rgba(60, 64, 67, 0.3), 0 1px 3px 1px rgba(60, 64, 67, 0.15);\n",
              "    fill: var(--button-hover-fill-color);\n",
              "  }\n",
              "\n",
              "  .colab-df-quickchart-complete:disabled,\n",
              "  .colab-df-quickchart-complete:disabled:hover {\n",
              "    background-color: var(--disabled-bg-color);\n",
              "    fill: var(--disabled-fill-color);\n",
              "    box-shadow: none;\n",
              "  }\n",
              "\n",
              "  .colab-df-spinner {\n",
              "    border: 2px solid var(--fill-color);\n",
              "    border-color: transparent;\n",
              "    border-bottom-color: var(--fill-color);\n",
              "    animation:\n",
              "      spin 1s steps(1) infinite;\n",
              "  }\n",
              "\n",
              "  @keyframes spin {\n",
              "    0% {\n",
              "      border-color: transparent;\n",
              "      border-bottom-color: var(--fill-color);\n",
              "      border-left-color: var(--fill-color);\n",
              "    }\n",
              "    20% {\n",
              "      border-color: transparent;\n",
              "      border-left-color: var(--fill-color);\n",
              "      border-top-color: var(--fill-color);\n",
              "    }\n",
              "    30% {\n",
              "      border-color: transparent;\n",
              "      border-left-color: var(--fill-color);\n",
              "      border-top-color: var(--fill-color);\n",
              "      border-right-color: var(--fill-color);\n",
              "    }\n",
              "    40% {\n",
              "      border-color: transparent;\n",
              "      border-right-color: var(--fill-color);\n",
              "      border-top-color: var(--fill-color);\n",
              "    }\n",
              "    60% {\n",
              "      border-color: transparent;\n",
              "      border-right-color: var(--fill-color);\n",
              "    }\n",
              "    80% {\n",
              "      border-color: transparent;\n",
              "      border-right-color: var(--fill-color);\n",
              "      border-bottom-color: var(--fill-color);\n",
              "    }\n",
              "    90% {\n",
              "      border-color: transparent;\n",
              "      border-bottom-color: var(--fill-color);\n",
              "    }\n",
              "  }\n",
              "</style>\n",
              "\n",
              "  <script>\n",
              "    async function quickchart(key) {\n",
              "      const quickchartButtonEl =\n",
              "        document.querySelector('#' + key + ' button');\n",
              "      quickchartButtonEl.disabled = true;  // To prevent multiple clicks.\n",
              "      quickchartButtonEl.classList.add('colab-df-spinner');\n",
              "      try {\n",
              "        const charts = await google.colab.kernel.invokeFunction(\n",
              "            'suggestCharts', [key], {});\n",
              "      } catch (error) {\n",
              "        console.error('Error during call to suggestCharts:', error);\n",
              "      }\n",
              "      quickchartButtonEl.classList.remove('colab-df-spinner');\n",
              "      quickchartButtonEl.classList.add('colab-df-quickchart-complete');\n",
              "    }\n",
              "    (() => {\n",
              "      let quickchartButtonEl =\n",
              "        document.querySelector('#df-663e178f-43b2-4642-a525-81bfa9ec156b button');\n",
              "      quickchartButtonEl.style.display =\n",
              "        google.colab.kernel.accessAllowed ? 'block' : 'none';\n",
              "    })();\n",
              "  </script>\n",
              "</div>\n",
              "    </div>\n",
              "  </div>\n"
            ],
            "application/vnd.google.colaboratory.intrinsic+json": {
              "type": "dataframe",
              "variable_name": "df"
            }
          },
          "metadata": {},
          "execution_count": 9
        }
      ]
    },
    {
      "cell_type": "code",
      "source": [
        "df.count()"
      ],
      "metadata": {
        "colab": {
          "base_uri": "https://localhost:8080/"
        },
        "id": "eUU7Rwc0niTB",
        "outputId": "532bbadc-5771-42be-c165-d5d55e2bb6d8"
      },
      "execution_count": 10,
      "outputs": [
        {
          "output_type": "execute_result",
          "data": {
            "text/plain": [
              "Szafa/ociekacz/gaz/paleta/szuflada    74\n",
              "Oznakowanie                           73\n",
              "Lp                                    74\n",
              "Numer pozycji                         74\n",
              "Data ważności środka                  60\n",
              "Opis pozycji                          74\n",
              "Karta aktualna?                       73\n",
              "NS                                    35\n",
              "Substancja rakotwórcza                74\n",
              "!                                     74\n",
              "Łatwopalne                            74\n",
              "Utleniacze                            74\n",
              "Toksyczne                             74\n",
              "Szkodliwe/\\naspiracja                 74\n",
              "Żrace/\\ndrazniace                     74\n",
              "Org\\n wodne                           74\n",
              "Ocena                                 74\n",
              "Opakowanie jednostkowe                74\n",
              "Ilość w opakowaniu jednostkowym       74\n",
              "Warunki magazynowania                 74\n",
              "pH                                    15\n",
              "Temp zapłonu [°C]                     56\n",
              "Temperatura samozapłonu [°C]          35\n",
              "Temp wrzenia [°C]                     52\n",
              "Warunki których należy unikać         74\n",
              "Materiały niezgodne                   74\n",
              "Utylizacja                            71\n",
              "ADR                                   74\n",
              "rękawice                              73\n",
              "odzieź ochronna                       73\n",
              "ochrona twarzy i oczu                 73\n",
              "ochrona układu oddechowego            74\n",
              "dtype: int64"
            ]
          },
          "metadata": {},
          "execution_count": 10
        }
      ]
    },
    {
      "cell_type": "code",
      "source": [
        "df.info()"
      ],
      "metadata": {
        "colab": {
          "base_uri": "https://localhost:8080/"
        },
        "id": "M9K3GlPFCQzl",
        "outputId": "aec66c2e-8b89-4be6-c18a-0885822bca48"
      },
      "execution_count": 11,
      "outputs": [
        {
          "output_type": "stream",
          "name": "stdout",
          "text": [
            "<class 'pandas.core.frame.DataFrame'>\n",
            "RangeIndex: 74 entries, 0 to 73\n",
            "Data columns (total 32 columns):\n",
            " #   Column                              Non-Null Count  Dtype \n",
            "---  ------                              --------------  ----- \n",
            " 0   Szafa/ociekacz/gaz/paleta/szuflada  74 non-null     object\n",
            " 1   Oznakowanie                         73 non-null     object\n",
            " 2   Lp                                  74 non-null     int64 \n",
            " 3   Numer pozycji                       74 non-null     int64 \n",
            " 4   Data ważności środka                60 non-null     object\n",
            " 5   Opis pozycji                        74 non-null     object\n",
            " 6   Karta aktualna?                     73 non-null     object\n",
            " 7   NS                                  35 non-null     object\n",
            " 8   Substancja rakotwórcza              74 non-null     object\n",
            " 9   !                                   74 non-null     int64 \n",
            " 10  Łatwopalne                          74 non-null     int64 \n",
            " 11  Utleniacze                          74 non-null     int64 \n",
            " 12  Toksyczne                           74 non-null     int64 \n",
            " 13  Szkodliwe/\n",
            "aspiracja                74 non-null     int64 \n",
            " 14  Żrace/\n",
            "drazniace                    74 non-null     int64 \n",
            " 15  Org\n",
            " wodne                          74 non-null     int64 \n",
            " 16  Ocena                               74 non-null     int64 \n",
            " 17  Opakowanie jednostkowe              74 non-null     object\n",
            " 18  Ilość w opakowaniu jednostkowym     74 non-null     object\n",
            " 19  Warunki magazynowania               74 non-null     object\n",
            " 20  pH                                  15 non-null     object\n",
            " 21  Temp zapłonu [°C]                   56 non-null     object\n",
            " 22  Temperatura samozapłonu [°C]        35 non-null     object\n",
            " 23  Temp wrzenia [°C]                   52 non-null     object\n",
            " 24  Warunki których należy unikać       74 non-null     object\n",
            " 25  Materiały niezgodne                 74 non-null     object\n",
            " 26  Utylizacja                          71 non-null     object\n",
            " 27  ADR                                 74 non-null     object\n",
            " 28  rękawice                            73 non-null     object\n",
            " 29  odzieź ochronna                     73 non-null     object\n",
            " 30  ochrona twarzy i oczu               73 non-null     object\n",
            " 31  ochrona układu oddechowego          74 non-null     object\n",
            "dtypes: int64(10), object(22)\n",
            "memory usage: 18.6+ KB\n"
          ]
        }
      ]
    },
    {
      "cell_type": "code",
      "source": [
        "X = df[['!','Łatwopalne', 'Toksyczne','Szkodliwe/\\naspiracja', 'Żrace/\\ndrazniace','Org\\n wodne']]\n",
        "y = df[['Ocena']]"
      ],
      "metadata": {
        "id": "wJmhZruQIEzL"
      },
      "execution_count": 90,
      "outputs": []
    },
    {
      "cell_type": "code",
      "source": [
        "print(y)"
      ],
      "metadata": {
        "colab": {
          "base_uri": "https://localhost:8080/"
        },
        "id": "gPWZG7LMyu41",
        "outputId": "ce615331-be85-46a6-c600-da4b5ef58e43"
      },
      "execution_count": 91,
      "outputs": [
        {
          "output_type": "stream",
          "name": "stdout",
          "text": [
            "    Ocena\n",
            "0       1\n",
            "1      -1\n",
            "2       1\n",
            "3       1\n",
            "4       1\n",
            "..    ...\n",
            "69      1\n",
            "70      1\n",
            "71      1\n",
            "72      1\n",
            "73     -1\n",
            "\n",
            "[74 rows x 1 columns]\n"
          ]
        }
      ]
    },
    {
      "cell_type": "code",
      "source": [
        "from sklearn.model_selection import train_test_split"
      ],
      "metadata": {
        "id": "puJSGrjp8AzJ"
      },
      "execution_count": 92,
      "outputs": []
    },
    {
      "cell_type": "code",
      "source": [
        "X_train, X_test, y_train, y_test = train_test_split (X,\n",
        "                                                     y,\n",
        "                                                     test_size = 0.2,\n",
        "                                                     random_state=42,\n",
        "                                                     stratify = y)"
      ],
      "metadata": {
        "id": "wnzHHRc579Go"
      },
      "execution_count": 93,
      "outputs": []
    },
    {
      "cell_type": "code",
      "source": [
        "import seaborn as sns"
      ],
      "metadata": {
        "id": "r-QixOTThjYt"
      },
      "execution_count": 94,
      "outputs": []
    },
    {
      "cell_type": "code",
      "source": [
        "a = df[['!','Łatwopalne', 'Toksyczne','Szkodliwe/\\naspiracja', 'Żrace/\\ndrazniace','Org\\n wodne', 'Ocena']]"
      ],
      "metadata": {
        "id": "7I-8B3Ntjj6d"
      },
      "execution_count": 104,
      "outputs": []
    },
    {
      "cell_type": "code",
      "source": [
        "sns.pairplot(a)"
      ],
      "metadata": {
        "colab": {
          "base_uri": "https://localhost:8080/",
          "height": 1000
        },
        "id": "7SDY9xqUjrls",
        "outputId": "3012e112-1f34-4252-8f02-57c59ddfcbdf"
      },
      "execution_count": 105,
      "outputs": [
        {
          "output_type": "execute_result",
          "data": {
            "text/plain": [
              "<seaborn.axisgrid.PairGrid at 0x7be75e6b37f0>"
            ]
          },
          "metadata": {},
          "execution_count": 105
        },
        {
          "output_type": "display_data",
          "data": {
            "text/plain": [
              "<Figure size 1750x1750 with 56 Axes>"
            ],
            "image/png": "[encoded data removed]"
          },
          "metadata": {}
        }
      ]
    },
    {
      "cell_type": "code",
      "source": [
        "cm = a.corr()\n",
        "sns.heatmap(cm, annot=True)"
      ],
      "metadata": {
        "colab": {
          "base_uri": "https://localhost:8080/",
          "height": 159
        },
        "id": "6i5kxiX5iWKy",
        "outputId": "db1a1862-3b1c-4f3f-f51d-3afe114866bf"
      },
      "execution_count": 118,
      "outputs": [
        {
          "output_type": "error",
          "ename": "AttributeError",
          "evalue": "'int' object has no attribute 'corr'",
          "traceback": [
            "\u001b[0;31m---------------------------------------------------------------------------\u001b[0m",
            "\u001b[0;31mAttributeError\u001b[0m                            Traceback (most recent call last)",
            "\u001b[0;32m<ipython-input-118-fd5abac18075>\u001b[0m in \u001b[0;36m<cell line: 1>\u001b[0;34m()\u001b[0m\n\u001b[0;32m----> 1\u001b[0;31m \u001b[0mcm\u001b[0m \u001b[0;34m=\u001b[0m \u001b[0ma\u001b[0m\u001b[0;34m.\u001b[0m\u001b[0mcorr\u001b[0m\u001b[0;34m(\u001b[0m\u001b[0;34m)\u001b[0m\u001b[0;34m\u001b[0m\u001b[0;34m\u001b[0m\u001b[0m\n\u001b[0m\u001b[1;32m      2\u001b[0m \u001b[0msns\u001b[0m\u001b[0;34m.\u001b[0m\u001b[0mheatmap\u001b[0m\u001b[0;34m(\u001b[0m\u001b[0mcm\u001b[0m\u001b[0;34m,\u001b[0m \u001b[0mannot\u001b[0m\u001b[0;34m=\u001b[0m\u001b[0;32mTrue\u001b[0m\u001b[0;34m)\u001b[0m\u001b[0;34m\u001b[0m\u001b[0;34m\u001b[0m\u001b[0m\n",
            "\u001b[0;31mAttributeError\u001b[0m: 'int' object has no attribute 'corr'"
          ]
        }
      ]
    },
    {
      "cell_type": "markdown",
      "source": [
        "#Klasyfikacja liniowa"
      ],
      "metadata": {
        "id": "JgPCHnGrZTcR"
      }
    },
    {
      "cell_type": "code",
      "source": [
        "from sklearn.linear_model import LinearRegression"
      ],
      "metadata": {
        "id": "mbCNv5wGaKCw"
      },
      "execution_count": 23,
      "outputs": []
    },
    {
      "cell_type": "code",
      "source": [
        "lr = LinearRegression()\n",
        "lr.fit(X_train, y_train)"
      ],
      "metadata": {
        "colab": {
          "base_uri": "https://localhost:8080/",
          "height": 75
        },
        "id": "K54GtpweaVER",
        "outputId": "19ee7028-9bbb-47ba-ae23-19eae26ba48a"
      },
      "execution_count": 24,
      "outputs": [
        {
          "output_type": "execute_result",
          "data": {
            "text/plain": [
              "LinearRegression()"
            ],
            "text/html": [
              "<style>#sk-container-id-2 {color: black;background-color: white;}#sk-container-id-2 pre{padding: 0;}#sk-container-id-2 div.sk-toggleable {background-color: white;}#sk-container-id-2 label.sk-toggleable__label {cursor: pointer;display: block;width: 100%;margin-bottom: 0;padding: 0.3em;box-sizing: border-box;text-align: center;}#sk-container-id-2 label.sk-toggleable__label-arrow:before {content: \"▸\";float: left;margin-right: 0.25em;color: #696969;}#sk-container-id-2 label.sk-toggleable__label-arrow:hover:before {color: black;}#sk-container-id-2 div.sk-estimator:hover label.sk-toggleable__label-arrow:before {color: black;}#sk-container-id-2 div.sk-toggleable__content {max-height: 0;max-width: 0;overflow: hidden;text-align: left;background-color: #f0f8ff;}#sk-container-id-2 div.sk-toggleable__content pre {margin: 0.2em;color: black;border-radius: 0.25em;background-color: #f0f8ff;}#sk-container-id-2 input.sk-toggleable__control:checked~div.sk-toggleable__content {max-height: 200px;max-width: 100%;overflow: auto;}#sk-container-id-2 input.sk-toggleable__control:checked~label.sk-toggleable__label-arrow:before {content: \"▾\";}#sk-container-id-2 div.sk-estimator input.sk-toggleable__control:checked~label.sk-toggleable__label {background-color: #d4ebff;}#sk-container-id-2 div.sk-label input.sk-toggleable__control:checked~label.sk-toggleable__label {background-color: #d4ebff;}#sk-container-id-2 input.sk-hidden--visually {border: 0;clip: rect(1px 1px 1px 1px);clip: rect(1px, 1px, 1px, 1px);height: 1px;margin: -1px;overflow: hidden;padding: 0;position: absolute;width: 1px;}#sk-container-id-2 div.sk-estimator {font-family: monospace;background-color: #f0f8ff;border: 1px dotted black;border-radius: 0.25em;box-sizing: border-box;margin-bottom: 0.5em;}#sk-container-id-2 div.sk-estimator:hover {background-color: #d4ebff;}#sk-container-id-2 div.sk-parallel-item::after {content: \"\";width: 100%;border-bottom: 1px solid gray;flex-grow: 1;}#sk-container-id-2 div.sk-label:hover label.sk-toggleable__label {background-color: #d4ebff;}#sk-container-id-2 div.sk-serial::before {content: \"\";position: absolute;border-left: 1px solid gray;box-sizing: border-box;top: 0;bottom: 0;left: 50%;z-index: 0;}#sk-container-id-2 div.sk-serial {display: flex;flex-direction: column;align-items: center;background-color: white;padding-right: 0.2em;padding-left: 0.2em;position: relative;}#sk-container-id-2 div.sk-item {position: relative;z-index: 1;}#sk-container-id-2 div.sk-parallel {display: flex;align-items: stretch;justify-content: center;background-color: white;position: relative;}#sk-container-id-2 div.sk-item::before, #sk-container-id-2 div.sk-parallel-item::before {content: \"\";position: absolute;border-left: 1px solid gray;box-sizing: border-box;top: 0;bottom: 0;left: 50%;z-index: -1;}#sk-container-id-2 div.sk-parallel-item {display: flex;flex-direction: column;z-index: 1;position: relative;background-color: white;}#sk-container-id-2 div.sk-parallel-item:first-child::after {align-self: flex-end;width: 50%;}#sk-container-id-2 div.sk-parallel-item:last-child::after {align-self: flex-start;width: 50%;}#sk-container-id-2 div.sk-parallel-item:only-child::after {width: 0;}#sk-container-id-2 div.sk-dashed-wrapped {border: 1px dashed gray;margin: 0 0.4em 0.5em 0.4em;box-sizing: border-box;padding-bottom: 0.4em;background-color: white;}#sk-container-id-2 div.sk-label label {font-family: monospace;font-weight: bold;display: inline-block;line-height: 1.2em;}#sk-container-id-2 div.sk-label-container {text-align: center;}#sk-container-id-2 div.sk-container {/* jupyter's `normalize.less` sets `[hidden] { display: none; }` but bootstrap.min.css set `[hidden] { display: none !important; }` so we also need the `!important` here to be able to override the default hidden behavior on the sphinx rendered scikit-learn.org. See: https://github.com/scikit-learn/scikit-learn/issues/21755 */display: inline-block !important;position: relative;}#sk-container-id-2 div.sk-text-repr-fallback {display: none;}</style><div id=\"sk-container-id-2\" class=\"sk-top-container\"><div class=\"sk-text-repr-fallback\"><pre>LinearRegression()</pre><b>In a Jupyter environment, please rerun this cell to show the HTML representation or trust the notebook. <br />On GitHub, the HTML representation is unable to render, please try loading this page with nbviewer.org.</b></div><div class=\"sk-container\" hidden><div class=\"sk-item\"><div class=\"sk-estimator sk-toggleable\"><input class=\"sk-toggleable__control sk-hidden--visually\" id=\"sk-estimator-id-2\" type=\"checkbox\" checked><label for=\"sk-estimator-id-2\" class=\"sk-toggleable__label sk-toggleable__label-arrow\">LinearRegression</label><div class=\"sk-toggleable__content\"><pre>LinearRegression()</pre></div></div></div></div></div>"
            ]
          },
          "metadata": {},
          "execution_count": 24
        }
      ]
    },
    {
      "cell_type": "code",
      "source": [
        "y_train_pred = lr.predict(X_train)"
      ],
      "metadata": {
        "id": "ZjfuolVmap-6"
      },
      "execution_count": 25,
      "outputs": []
    },
    {
      "cell_type": "code",
      "source": [
        "from sklearn.metrics import classification_report\n",
        "from sklearn.metrics import confusion_matrix"
      ],
      "metadata": {
        "id": "Hl0Y3V05a017"
      },
      "execution_count": 26,
      "outputs": []
    },
    {
      "cell_type": "code",
      "source": [
        "lr.score(X_train, y_train)"
      ],
      "metadata": {
        "colab": {
          "base_uri": "https://localhost:8080/"
        },
        "id": "ceG6eGDIa3WV",
        "outputId": "e3358f81-5ea7-4038-9302-cecfd9af1f0a"
      },
      "execution_count": 33,
      "outputs": [
        {
          "output_type": "execute_result",
          "data": {
            "text/plain": [
              "0.734798976884265"
            ]
          },
          "metadata": {},
          "execution_count": 33
        }
      ]
    },
    {
      "cell_type": "code",
      "source": [
        "lr.score(X_train, y_train_pred)"
      ],
      "metadata": {
        "colab": {
          "base_uri": "https://localhost:8080/"
        },
        "id": "bhB2szhFboM_",
        "outputId": "96ea0ed8-f67b-4405-bf91-f969b0686f15"
      },
      "execution_count": 34,
      "outputs": [
        {
          "output_type": "execute_result",
          "data": {
            "text/plain": [
              "1.0"
            ]
          },
          "metadata": {},
          "execution_count": 34
        }
      ]
    },
    {
      "cell_type": "code",
      "source": [
        "y_test_pred = lr.predict(X_test)"
      ],
      "metadata": {
        "id": "Y61rzIwwcBCG"
      },
      "execution_count": 35,
      "outputs": []
    },
    {
      "cell_type": "code",
      "source": [
        "lr.score(X_test, y_test)"
      ],
      "metadata": {
        "colab": {
          "base_uri": "https://localhost:8080/"
        },
        "id": "5Do7RM63cGkv",
        "outputId": "d7381287-ab88-4520-c791-73bc651b8d07"
      },
      "execution_count": 36,
      "outputs": [
        {
          "output_type": "execute_result",
          "data": {
            "text/plain": [
              "0.725703961123165"
            ]
          },
          "metadata": {},
          "execution_count": 36
        }
      ]
    },
    {
      "cell_type": "code",
      "source": [
        "lr.score(X_test, y_test_pred)"
      ],
      "metadata": {
        "colab": {
          "base_uri": "https://localhost:8080/"
        },
        "id": "hPKj7J5lcKxC",
        "outputId": "ea515c77-0936-4544-82b2-b66d035d33d9"
      },
      "execution_count": 37,
      "outputs": [
        {
          "output_type": "execute_result",
          "data": {
            "text/plain": [
              "1.0"
            ]
          },
          "metadata": {},
          "execution_count": 37
        }
      ]
    },
    {
      "cell_type": "markdown",
      "source": [
        "#Regresja logistyczna"
      ],
      "metadata": {
        "id": "CkEGbWLNcPB1"
      }
    },
    {
      "cell_type": "code",
      "source": [
        "from sklearn.linear_model import LogisticRegression"
      ],
      "metadata": {
        "id": "vA4nsU7OcOqd"
      },
      "execution_count": 111,
      "outputs": []
    },
    {
      "cell_type": "code",
      "source": [
        "lr = LogisticRegression()\n",
        "lr.fit(X_train, y_train)"
      ],
      "metadata": {
        "colab": {
          "base_uri": "https://localhost:8080/",
          "height": 144
        },
        "id": "dd6j_Jw9cV2M",
        "outputId": "52d8aab6-d9f0-4465-b5e0-d0ff16216752"
      },
      "execution_count": 112,
      "outputs": [
        {
          "output_type": "stream",
          "name": "stderr",
          "text": [
            "/usr/local/lib/python3.10/dist-packages/sklearn/utils/validation.py:1143: DataConversionWarning:\n",
            "\n",
            "A column-vector y was passed when a 1d array was expected. Please change the shape of y to (n_samples, ), for example using ravel().\n",
            "\n"
          ]
        },
        {
          "output_type": "execute_result",
          "data": {
            "text/plain": [
              "LogisticRegression()"
            ],
            "text/html": [
              "<style>#sk-container-id-8 {color: black;background-color: white;}#sk-container-id-8 pre{padding: 0;}#sk-container-id-8 div.sk-toggleable {background-color: white;}#sk-container-id-8 label.sk-toggleable__label {cursor: pointer;display: block;width: 100%;margin-bottom: 0;padding: 0.3em;box-sizing: border-box;text-align: center;}#sk-container-id-8 label.sk-toggleable__label-arrow:before {content: \"▸\";float: left;margin-right: 0.25em;color: #696969;}#sk-container-id-8 label.sk-toggleable__label-arrow:hover:before {color: black;}#sk-container-id-8 div.sk-estimator:hover label.sk-toggleable__label-arrow:before {color: black;}#sk-container-id-8 div.sk-toggleable__content {max-height: 0;max-width: 0;overflow: hidden;text-align: left;background-color: #f0f8ff;}#sk-container-id-8 div.sk-toggleable__content pre {margin: 0.2em;color: black;border-radius: 0.25em;background-color: #f0f8ff;}#sk-container-id-8 input.sk-toggleable__control:checked~div.sk-toggleable__content {max-height: 200px;max-width: 100%;overflow: auto;}#sk-container-id-8 input.sk-toggleable__control:checked~label.sk-toggleable__label-arrow:before {content: \"▾\";}#sk-container-id-8 div.sk-estimator input.sk-toggleable__control:checked~label.sk-toggleable__label {background-color: #d4ebff;}#sk-container-id-8 div.sk-label input.sk-toggleable__control:checked~label.sk-toggleable__label {background-color: #d4ebff;}#sk-container-id-8 input.sk-hidden--visually {border: 0;clip: rect(1px 1px 1px 1px);clip: rect(1px, 1px, 1px, 1px);height: 1px;margin: -1px;overflow: hidden;padding: 0;position: absolute;width: 1px;}#sk-container-id-8 div.sk-estimator {font-family: monospace;background-color: #f0f8ff;border: 1px dotted black;border-radius: 0.25em;box-sizing: border-box;margin-bottom: 0.5em;}#sk-container-id-8 div.sk-estimator:hover {background-color: #d4ebff;}#sk-container-id-8 div.sk-parallel-item::after {content: \"\";width: 100%;border-bottom: 1px solid gray;flex-grow: 1;}#sk-container-id-8 div.sk-label:hover label.sk-toggleable__label {background-color: #d4ebff;}#sk-container-id-8 div.sk-serial::before {content: \"\";position: absolute;border-left: 1px solid gray;box-sizing: border-box;top: 0;bottom: 0;left: 50%;z-index: 0;}#sk-container-id-8 div.sk-serial {display: flex;flex-direction: column;align-items: center;background-color: white;padding-right: 0.2em;padding-left: 0.2em;position: relative;}#sk-container-id-8 div.sk-item {position: relative;z-index: 1;}#sk-container-id-8 div.sk-parallel {display: flex;align-items: stretch;justify-content: center;background-color: white;position: relative;}#sk-container-id-8 div.sk-item::before, #sk-container-id-8 div.sk-parallel-item::before {content: \"\";position: absolute;border-left: 1px solid gray;box-sizing: border-box;top: 0;bottom: 0;left: 50%;z-index: -1;}#sk-container-id-8 div.sk-parallel-item {display: flex;flex-direction: column;z-index: 1;position: relative;background-color: white;}#sk-container-id-8 div.sk-parallel-item:first-child::after {align-self: flex-end;width: 50%;}#sk-container-id-8 div.sk-parallel-item:last-child::after {align-self: flex-start;width: 50%;}#sk-container-id-8 div.sk-parallel-item:only-child::after {width: 0;}#sk-container-id-8 div.sk-dashed-wrapped {border: 1px dashed gray;margin: 0 0.4em 0.5em 0.4em;box-sizing: border-box;padding-bottom: 0.4em;background-color: white;}#sk-container-id-8 div.sk-label label {font-family: monospace;font-weight: bold;display: inline-block;line-height: 1.2em;}#sk-container-id-8 div.sk-label-container {text-align: center;}#sk-container-id-8 div.sk-container {/* jupyter's `normalize.less` sets `[hidden] { display: none; }` but bootstrap.min.css set `[hidden] { display: none !important; }` so we also need the `!important` here to be able to override the default hidden behavior on the sphinx rendered scikit-learn.org. See: https://github.com/scikit-learn/scikit-learn/issues/21755 */display: inline-block !important;position: relative;}#sk-container-id-8 div.sk-text-repr-fallback {display: none;}</style><div id=\"sk-container-id-8\" class=\"sk-top-container\"><div class=\"sk-text-repr-fallback\"><pre>LogisticRegression()</pre><b>In a Jupyter environment, please rerun this cell to show the HTML representation or trust the notebook. <br />On GitHub, the HTML representation is unable to render, please try loading this page with nbviewer.org.</b></div><div class=\"sk-container\" hidden><div class=\"sk-item\"><div class=\"sk-estimator sk-toggleable\"><input class=\"sk-toggleable__control sk-hidden--visually\" id=\"sk-estimator-id-8\" type=\"checkbox\" checked><label for=\"sk-estimator-id-8\" class=\"sk-toggleable__label sk-toggleable__label-arrow\">LogisticRegression</label><div class=\"sk-toggleable__content\"><pre>LogisticRegression()</pre></div></div></div></div></div>"
            ]
          },
          "metadata": {},
          "execution_count": 112
        }
      ]
    },
    {
      "cell_type": "code",
      "source": [
        "y_train_pred = lr.predict(X_train)"
      ],
      "metadata": {
        "id": "n_5-SyKxcZx-"
      },
      "execution_count": 113,
      "outputs": []
    },
    {
      "cell_type": "code",
      "source": [
        "print(classification_report(y_train, y_train_pred))"
      ],
      "metadata": {
        "colab": {
          "base_uri": "https://localhost:8080/"
        },
        "id": "ftYY99pJcahJ",
        "outputId": "841889fa-20e0-4ad5-bb22-9efe2036b8d9"
      },
      "execution_count": 114,
      "outputs": [
        {
          "output_type": "stream",
          "name": "stdout",
          "text": [
            "              precision    recall  f1-score   support\n",
            "\n",
            "          -1       1.00      0.96      0.98        28\n",
            "           1       0.97      1.00      0.98        31\n",
            "\n",
            "    accuracy                           0.98        59\n",
            "   macro avg       0.98      0.98      0.98        59\n",
            "weighted avg       0.98      0.98      0.98        59\n",
            "\n"
          ]
        }
      ]
    },
    {
      "cell_type": "code",
      "source": [
        "confusion_matrix(y_train, y_train_pred)"
      ],
      "metadata": {
        "colab": {
          "base_uri": "https://localhost:8080/"
        },
        "id": "tNj_F-o2coms",
        "outputId": "22c1dea2-732e-4059-e158-db5ffa32b4ae"
      },
      "execution_count": 115,
      "outputs": [
        {
          "output_type": "execute_result",
          "data": {
            "text/plain": [
              "array([[27,  1],\n",
              "       [ 0, 31]])"
            ]
          },
          "metadata": {},
          "execution_count": 115
        }
      ]
    },
    {
      "cell_type": "code",
      "source": [
        "y_test_pred = lr.predict(X_test)"
      ],
      "metadata": {
        "id": "8UfjxaVxcrOq"
      },
      "execution_count": 45,
      "outputs": []
    },
    {
      "cell_type": "code",
      "source": [
        "print(classification_report(y_test, y_test_pred))"
      ],
      "metadata": {
        "colab": {
          "base_uri": "https://localhost:8080/"
        },
        "id": "QtO-HIFdcuye",
        "outputId": "6074122a-08ce-49b9-c63e-4abd0218c074"
      },
      "execution_count": 46,
      "outputs": [
        {
          "output_type": "stream",
          "name": "stdout",
          "text": [
            "              precision    recall  f1-score   support\n",
            "\n",
            "          -1       1.00      1.00      1.00         7\n",
            "           1       1.00      1.00      1.00         8\n",
            "\n",
            "    accuracy                           1.00        15\n",
            "   macro avg       1.00      1.00      1.00        15\n",
            "weighted avg       1.00      1.00      1.00        15\n",
            "\n"
          ]
        }
      ]
    },
    {
      "cell_type": "code",
      "source": [
        "confusion_matrix(y_test, y_test_pred)"
      ],
      "metadata": {
        "colab": {
          "base_uri": "https://localhost:8080/"
        },
        "id": "qGBDNlo3c0Jk",
        "outputId": "e37eab52-0ac4-4576-ac2b-e3d876e3c02d"
      },
      "execution_count": 48,
      "outputs": [
        {
          "output_type": "execute_result",
          "data": {
            "text/plain": [
              "array([[7, 0],\n",
              "       [0, 8]])"
            ]
          },
          "metadata": {},
          "execution_count": 48
        }
      ]
    },
    {
      "cell_type": "markdown",
      "source": [
        "#Drzewka decyzyjne"
      ],
      "metadata": {
        "id": "ZzL9DpvvLDR4"
      }
    },
    {
      "cell_type": "code",
      "source": [
        "from sklearn.tree import DecisionTreeClassifier"
      ],
      "metadata": {
        "id": "oF17Fa5tnqZt"
      },
      "execution_count": 116,
      "outputs": []
    },
    {
      "cell_type": "code",
      "source": [
        "dtc = DecisionTreeClassifier(max_depth=4)\n",
        "dtc.fit(X_train, y_train)"
      ],
      "metadata": {
        "colab": {
          "base_uri": "https://localhost:8080/",
          "height": 75
        },
        "id": "gDsXbjfooQwo",
        "outputId": "556e611b-d509-4383-cc6f-85a9eae1e38a"
      },
      "execution_count": 120,
      "outputs": [
        {
          "output_type": "execute_result",
          "data": {
            "text/plain": [
              "DecisionTreeClassifier(max_depth=4)"
            ],
            "text/html": [
              "<style>#sk-container-id-10 {color: black;background-color: white;}#sk-container-id-10 pre{padding: 0;}#sk-container-id-10 div.sk-toggleable {background-color: white;}#sk-container-id-10 label.sk-toggleable__label {cursor: pointer;display: block;width: 100%;margin-bottom: 0;padding: 0.3em;box-sizing: border-box;text-align: center;}#sk-container-id-10 label.sk-toggleable__label-arrow:before {content: \"▸\";float: left;margin-right: 0.25em;color: #696969;}#sk-container-id-10 label.sk-toggleable__label-arrow:hover:before {color: black;}#sk-container-id-10 div.sk-estimator:hover label.sk-toggleable__label-arrow:before {color: black;}#sk-container-id-10 div.sk-toggleable__content {max-height: 0;max-width: 0;overflow: hidden;text-align: left;background-color: #f0f8ff;}#sk-container-id-10 div.sk-toggleable__content pre {margin: 0.2em;color: black;border-radius: 0.25em;background-color: #f0f8ff;}#sk-container-id-10 input.sk-toggleable__control:checked~div.sk-toggleable__content {max-height: 200px;max-width: 100%;overflow: auto;}#sk-container-id-10 input.sk-toggleable__control:checked~label.sk-toggleable__label-arrow:before {content: \"▾\";}#sk-container-id-10 div.sk-estimator input.sk-toggleable__control:checked~label.sk-toggleable__label {background-color: #d4ebff;}#sk-container-id-10 div.sk-label input.sk-toggleable__control:checked~label.sk-toggleable__label {background-color: #d4ebff;}#sk-container-id-10 input.sk-hidden--visually {border: 0;clip: rect(1px 1px 1px 1px);clip: rect(1px, 1px, 1px, 1px);height: 1px;margin: -1px;overflow: hidden;padding: 0;position: absolute;width: 1px;}#sk-container-id-10 div.sk-estimator {font-family: monospace;background-color: #f0f8ff;border: 1px dotted black;border-radius: 0.25em;box-sizing: border-box;margin-bottom: 0.5em;}#sk-container-id-10 div.sk-estimator:hover {background-color: #d4ebff;}#sk-container-id-10 div.sk-parallel-item::after {content: \"\";width: 100%;border-bottom: 1px solid gray;flex-grow: 1;}#sk-container-id-10 div.sk-label:hover label.sk-toggleable__label {background-color: #d4ebff;}#sk-container-id-10 div.sk-serial::before {content: \"\";position: absolute;border-left: 1px solid gray;box-sizing: border-box;top: 0;bottom: 0;left: 50%;z-index: 0;}#sk-container-id-10 div.sk-serial {display: flex;flex-direction: column;align-items: center;background-color: white;padding-right: 0.2em;padding-left: 0.2em;position: relative;}#sk-container-id-10 div.sk-item {position: relative;z-index: 1;}#sk-container-id-10 div.sk-parallel {display: flex;align-items: stretch;justify-content: center;background-color: white;position: relative;}#sk-container-id-10 div.sk-item::before, #sk-container-id-10 div.sk-parallel-item::before {content: \"\";position: absolute;border-left: 1px solid gray;box-sizing: border-box;top: 0;bottom: 0;left: 50%;z-index: -1;}#sk-container-id-10 div.sk-parallel-item {display: flex;flex-direction: column;z-index: 1;position: relative;background-color: white;}#sk-container-id-10 div.sk-parallel-item:first-child::after {align-self: flex-end;width: 50%;}#sk-container-id-10 div.sk-parallel-item:last-child::after {align-self: flex-start;width: 50%;}#sk-container-id-10 div.sk-parallel-item:only-child::after {width: 0;}#sk-container-id-10 div.sk-dashed-wrapped {border: 1px dashed gray;margin: 0 0.4em 0.5em 0.4em;box-sizing: border-box;padding-bottom: 0.4em;background-color: white;}#sk-container-id-10 div.sk-label label {font-family: monospace;font-weight: bold;display: inline-block;line-height: 1.2em;}#sk-container-id-10 div.sk-label-container {text-align: center;}#sk-container-id-10 div.sk-container {/* jupyter's `normalize.less` sets `[hidden] { display: none; }` but bootstrap.min.css set `[hidden] { display: none !important; }` so we also need the `!important` here to be able to override the default hidden behavior on the sphinx rendered scikit-learn.org. See: https://github.com/scikit-learn/scikit-learn/issues/21755 */display: inline-block !important;position: relative;}#sk-container-id-10 div.sk-text-repr-fallback {display: none;}</style><div id=\"sk-container-id-10\" class=\"sk-top-container\"><div class=\"sk-text-repr-fallback\"><pre>DecisionTreeClassifier(max_depth=4)</pre><b>In a Jupyter environment, please rerun this cell to show the HTML representation or trust the notebook. <br />On GitHub, the HTML representation is unable to render, please try loading this page with nbviewer.org.</b></div><div class=\"sk-container\" hidden><div class=\"sk-item\"><div class=\"sk-estimator sk-toggleable\"><input class=\"sk-toggleable__control sk-hidden--visually\" id=\"sk-estimator-id-10\" type=\"checkbox\" checked><label for=\"sk-estimator-id-10\" class=\"sk-toggleable__label sk-toggleable__label-arrow\">DecisionTreeClassifier</label><div class=\"sk-toggleable__content\"><pre>DecisionTreeClassifier(max_depth=4)</pre></div></div></div></div></div>"
            ]
          },
          "metadata": {},
          "execution_count": 120
        }
      ]
    },
    {
      "cell_type": "code",
      "source": [
        "from sklearn.tree import plot_tree\n",
        "\n",
        "plt.figure()\n",
        "clf = DecisionTreeClassifier()\n",
        "plot_tree(dtc)\n",
        "plt.show()"
      ],
      "metadata": {
        "colab": {
          "base_uri": "https://localhost:8080/",
          "height": 406
        },
        "id": "i7kg2F_vKsHH",
        "outputId": "763224c4-68f7-45ac-b173-0dc6ec947bd4"
      },
      "execution_count": 121,
      "outputs": [
        {
          "output_type": "display_data",
          "data": {
            "text/plain": [
              "<Figure size 640x480 with 1 Axes>"
            ],
            "image/png": "[encoded data removed]"
          },
          "metadata": {}
        }
      ]
    },
    {
      "cell_type": "code",
      "source": [
        "y_train_pred = dtc.predict(X_train)"
      ],
      "metadata": {
        "id": "e4287rTUAY5O"
      },
      "execution_count": 128,
      "outputs": []
    },
    {
      "cell_type": "code",
      "source": [
        "print(classification_report(y_train, y_train_pred))"
      ],
      "metadata": {
        "id": "CDJaLkClCAea",
        "colab": {
          "base_uri": "https://localhost:8080/"
        },
        "outputId": "4cd43f3a-3ee0-4942-aa3d-d5de99acc600"
      },
      "execution_count": 129,
      "outputs": [
        {
          "output_type": "stream",
          "name": "stdout",
          "text": [
            "              precision    recall  f1-score   support\n",
            "\n",
            "          -1       1.00      0.96      0.98        28\n",
            "           1       0.97      1.00      0.98        31\n",
            "\n",
            "    accuracy                           0.98        59\n",
            "   macro avg       0.98      0.98      0.98        59\n",
            "weighted avg       0.98      0.98      0.98        59\n",
            "\n"
          ]
        }
      ]
    },
    {
      "cell_type": "code",
      "source": [
        "confusion_matrix(y_train, y_train_pred)"
      ],
      "metadata": {
        "colab": {
          "base_uri": "https://localhost:8080/"
        },
        "id": "N3XBcUZLIe2N",
        "outputId": "684eafd7-329e-4942-d018-a50677c56623"
      },
      "execution_count": 130,
      "outputs": [
        {
          "output_type": "execute_result",
          "data": {
            "text/plain": [
              "array([[27,  1],\n",
              "       [ 0, 31]])"
            ]
          },
          "metadata": {},
          "execution_count": 130
        }
      ]
    },
    {
      "cell_type": "code",
      "source": [
        "y_test_pred = dtc.predict(X_test)"
      ],
      "metadata": {
        "id": "ZMh80shC8LsL"
      },
      "execution_count": 131,
      "outputs": []
    },
    {
      "cell_type": "code",
      "source": [
        "print(classification_report(y_test, y_test_pred))"
      ],
      "metadata": {
        "colab": {
          "base_uri": "https://localhost:8080/"
        },
        "id": "2q37LjdBIRks",
        "outputId": "789ed4b2-cb07-4fe2-d649-87b569f7c625"
      },
      "execution_count": 132,
      "outputs": [
        {
          "output_type": "stream",
          "name": "stdout",
          "text": [
            "              precision    recall  f1-score   support\n",
            "\n",
            "          -1       1.00      1.00      1.00         7\n",
            "           1       1.00      1.00      1.00         8\n",
            "\n",
            "    accuracy                           1.00        15\n",
            "   macro avg       1.00      1.00      1.00        15\n",
            "weighted avg       1.00      1.00      1.00        15\n",
            "\n"
          ]
        }
      ]
    },
    {
      "cell_type": "code",
      "source": [
        "confusion_matrix(y_test, y_test_pred)"
      ],
      "metadata": {
        "colab": {
          "base_uri": "https://localhost:8080/"
        },
        "id": "tKuf2KMgE28-",
        "outputId": "86ac9932-f075-44dc-c85c-fc7cafe4ac09"
      },
      "execution_count": 134,
      "outputs": [
        {
          "output_type": "execute_result",
          "data": {
            "text/plain": [
              "array([[7, 0],\n",
              "       [0, 8]])"
            ]
          },
          "metadata": {},
          "execution_count": 134
        }
      ]
    },
    {
      "cell_type": "markdown",
      "source": [
        "#Las losowy"
      ],
      "metadata": {
        "id": "6XoDw2Dpc74h"
      }
    },
    {
      "cell_type": "code",
      "source": [
        "from sklearn.ensemble import RandomForestClassifier"
      ],
      "metadata": {
        "id": "7usMI6AfJ-nf"
      },
      "execution_count": 135,
      "outputs": []
    },
    {
      "cell_type": "code",
      "source": [
        "rfc = RandomForestClassifier()\n",
        "\n",
        "param_grid = {\n",
        "    'max_depth' : np.arange(2,5),\n",
        "    'min_samples_split' : np.arange(2,10),\n",
        "    'min_samples_leaf' : np.arange(2,10),\n",
        "    'n_estimators' : [10,20,30]\n",
        "}"
      ],
      "metadata": {
        "id": "UZS1uWrfFnJy"
      },
      "execution_count": 136,
      "outputs": []
    },
    {
      "cell_type": "code",
      "source": [
        "rfc.fit(X_train, y_train)"
      ],
      "metadata": {
        "colab": {
          "base_uri": "https://localhost:8080/",
          "height": 144
        },
        "id": "YjVuwZ4JdKS5",
        "outputId": "d20accc6-eb9b-4157-afb4-a60fe659eaa3"
      },
      "execution_count": 137,
      "outputs": [
        {
          "output_type": "stream",
          "name": "stderr",
          "text": [
            "<ipython-input-137-823e2bba21ee>:1: DataConversionWarning:\n",
            "\n",
            "A column-vector y was passed when a 1d array was expected. Please change the shape of y to (n_samples,), for example using ravel().\n",
            "\n"
          ]
        },
        {
          "output_type": "execute_result",
          "data": {
            "text/plain": [
              "RandomForestClassifier()"
            ],
            "text/html": [
              "<style>#sk-container-id-11 {color: black;background-color: white;}#sk-container-id-11 pre{padding: 0;}#sk-container-id-11 div.sk-toggleable {background-color: white;}#sk-container-id-11 label.sk-toggleable__label {cursor: pointer;display: block;width: 100%;margin-bottom: 0;padding: 0.3em;box-sizing: border-box;text-align: center;}#sk-container-id-11 label.sk-toggleable__label-arrow:before {content: \"▸\";float: left;margin-right: 0.25em;color: #696969;}#sk-container-id-11 label.sk-toggleable__label-arrow:hover:before {color: black;}#sk-container-id-11 div.sk-estimator:hover label.sk-toggleable__label-arrow:before {color: black;}#sk-container-id-11 div.sk-toggleable__content {max-height: 0;max-width: 0;overflow: hidden;text-align: left;background-color: #f0f8ff;}#sk-container-id-11 div.sk-toggleable__content pre {margin: 0.2em;color: black;border-radius: 0.25em;background-color: #f0f8ff;}#sk-container-id-11 input.sk-toggleable__control:checked~div.sk-toggleable__content {max-height: 200px;max-width: 100%;overflow: auto;}#sk-container-id-11 input.sk-toggleable__control:checked~label.sk-toggleable__label-arrow:before {content: \"▾\";}#sk-container-id-11 div.sk-estimator input.sk-toggleable__control:checked~label.sk-toggleable__label {background-color: #d4ebff;}#sk-container-id-11 div.sk-label input.sk-toggleable__control:checked~label.sk-toggleable__label {background-color: #d4ebff;}#sk-container-id-11 input.sk-hidden--visually {border: 0;clip: rect(1px 1px 1px 1px);clip: rect(1px, 1px, 1px, 1px);height: 1px;margin: -1px;overflow: hidden;padding: 0;position: absolute;width: 1px;}#sk-container-id-11 div.sk-estimator {font-family: monospace;background-color: #f0f8ff;border: 1px dotted black;border-radius: 0.25em;box-sizing: border-box;margin-bottom: 0.5em;}#sk-container-id-11 div.sk-estimator:hover {background-color: #d4ebff;}#sk-container-id-11 div.sk-parallel-item::after {content: \"\";width: 100%;border-bottom: 1px solid gray;flex-grow: 1;}#sk-container-id-11 div.sk-label:hover label.sk-toggleable__label {background-color: #d4ebff;}#sk-container-id-11 div.sk-serial::before {content: \"\";position: absolute;border-left: 1px solid gray;box-sizing: border-box;top: 0;bottom: 0;left: 50%;z-index: 0;}#sk-container-id-11 div.sk-serial {display: flex;flex-direction: column;align-items: center;background-color: white;padding-right: 0.2em;padding-left: 0.2em;position: relative;}#sk-container-id-11 div.sk-item {position: relative;z-index: 1;}#sk-container-id-11 div.sk-parallel {display: flex;align-items: stretch;justify-content: center;background-color: white;position: relative;}#sk-container-id-11 div.sk-item::before, #sk-container-id-11 div.sk-parallel-item::before {content: \"\";position: absolute;border-left: 1px solid gray;box-sizing: border-box;top: 0;bottom: 0;left: 50%;z-index: -1;}#sk-container-id-11 div.sk-parallel-item {display: flex;flex-direction: column;z-index: 1;position: relative;background-color: white;}#sk-container-id-11 div.sk-parallel-item:first-child::after {align-self: flex-end;width: 50%;}#sk-container-id-11 div.sk-parallel-item:last-child::after {align-self: flex-start;width: 50%;}#sk-container-id-11 div.sk-parallel-item:only-child::after {width: 0;}#sk-container-id-11 div.sk-dashed-wrapped {border: 1px dashed gray;margin: 0 0.4em 0.5em 0.4em;box-sizing: border-box;padding-bottom: 0.4em;background-color: white;}#sk-container-id-11 div.sk-label label {font-family: monospace;font-weight: bold;display: inline-block;line-height: 1.2em;}#sk-container-id-11 div.sk-label-container {text-align: center;}#sk-container-id-11 div.sk-container {/* jupyter's `normalize.less` sets `[hidden] { display: none; }` but bootstrap.min.css set `[hidden] { display: none !important; }` so we also need the `!important` here to be able to override the default hidden behavior on the sphinx rendered scikit-learn.org. See: https://github.com/scikit-learn/scikit-learn/issues/21755 */display: inline-block !important;position: relative;}#sk-container-id-11 div.sk-text-repr-fallback {display: none;}</style><div id=\"sk-container-id-11\" class=\"sk-top-container\"><div class=\"sk-text-repr-fallback\"><pre>RandomForestClassifier()</pre><b>In a Jupyter environment, please rerun this cell to show the HTML representation or trust the notebook. <br />On GitHub, the HTML representation is unable to render, please try loading this page with nbviewer.org.</b></div><div class=\"sk-container\" hidden><div class=\"sk-item\"><div class=\"sk-estimator sk-toggleable\"><input class=\"sk-toggleable__control sk-hidden--visually\" id=\"sk-estimator-id-11\" type=\"checkbox\" checked><label for=\"sk-estimator-id-11\" class=\"sk-toggleable__label sk-toggleable__label-arrow\">RandomForestClassifier</label><div class=\"sk-toggleable__content\"><pre>RandomForestClassifier()</pre></div></div></div></div></div>"
            ]
          },
          "metadata": {},
          "execution_count": 137
        }
      ]
    },
    {
      "cell_type": "code",
      "source": [
        "y_train_pred = dtc.predict(X_train)"
      ],
      "metadata": {
        "id": "9QBBtSeydSSQ"
      },
      "execution_count": 138,
      "outputs": []
    },
    {
      "cell_type": "code",
      "source": [
        "print(classification_report(y_train, y_train_pred))"
      ],
      "metadata": {
        "colab": {
          "base_uri": "https://localhost:8080/"
        },
        "id": "JZv_Yls5eh-D",
        "outputId": "3516543c-5c0b-442f-d3df-9a19b31076f6"
      },
      "execution_count": 139,
      "outputs": [
        {
          "output_type": "stream",
          "name": "stdout",
          "text": [
            "              precision    recall  f1-score   support\n",
            "\n",
            "          -1       1.00      0.96      0.98        28\n",
            "           1       0.97      1.00      0.98        31\n",
            "\n",
            "    accuracy                           0.98        59\n",
            "   macro avg       0.98      0.98      0.98        59\n",
            "weighted avg       0.98      0.98      0.98        59\n",
            "\n"
          ]
        }
      ]
    },
    {
      "cell_type": "code",
      "source": [
        "confusion_matrix(y_train, y_train_pred)"
      ],
      "metadata": {
        "colab": {
          "base_uri": "https://localhost:8080/"
        },
        "id": "UvHfhSRog6IJ",
        "outputId": "4124d7f2-fb6a-49d2-e732-22a8e28258f2"
      },
      "execution_count": 140,
      "outputs": [
        {
          "output_type": "execute_result",
          "data": {
            "text/plain": [
              "array([[27,  1],\n",
              "       [ 0, 31]])"
            ]
          },
          "metadata": {},
          "execution_count": 140
        }
      ]
    },
    {
      "cell_type": "code",
      "source": [
        "y_test_pred = dtc.predict(X_test)"
      ],
      "metadata": {
        "id": "dVTtQF1lg8Lq"
      },
      "execution_count": 141,
      "outputs": []
    },
    {
      "cell_type": "code",
      "source": [
        "print(classification_report(y_test, y_test_pred))"
      ],
      "metadata": {
        "colab": {
          "base_uri": "https://localhost:8080/"
        },
        "id": "TQG-g9UHg93t",
        "outputId": "dca2be2b-2845-4b74-eaeb-8bee77ad3a5c"
      },
      "execution_count": 142,
      "outputs": [
        {
          "output_type": "stream",
          "name": "stdout",
          "text": [
            "              precision    recall  f1-score   support\n",
            "\n",
            "          -1       1.00      1.00      1.00         7\n",
            "           1       1.00      1.00      1.00         8\n",
            "\n",
            "    accuracy                           1.00        15\n",
            "   macro avg       1.00      1.00      1.00        15\n",
            "weighted avg       1.00      1.00      1.00        15\n",
            "\n"
          ]
        }
      ]
    },
    {
      "cell_type": "code",
      "source": [
        "confusion_matrix(y_test, y_test_pred)"
      ],
      "metadata": {
        "colab": {
          "base_uri": "https://localhost:8080/"
        },
        "id": "MshDNrxhg_n1",
        "outputId": "57781fc9-2dcd-43b2-d873-fc2c78e0b9d6"
      },
      "execution_count": 143,
      "outputs": [
        {
          "output_type": "execute_result",
          "data": {
            "text/plain": [
              "array([[7, 0],\n",
              "       [0, 8]])"
            ]
          },
          "metadata": {},
          "execution_count": 143
        }
      ]
    }
  ]
}